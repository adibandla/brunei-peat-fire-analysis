{
 "cells": [
  {
   "cell_type": "raw",
   "id": "938e07bd-45c0-4893-97f5-f4cd76f40dde",
   "metadata": {},
   "source": [
    "## start of code run on NSCC (National Super Computing Center, Singapore)\n",
    "## load packages\n",
    "suppressPackageStartupMessages({\n",
    "  library(ape)\n",
    "  library(iCAMP)\n",
    "  library(phyloseq)\n",
    "  library(tidyverse)\n",
    "  library(vegan)\n",
    "})"
   ]
  },
  {
   "cell_type": "raw",
   "id": "b326ddcf-71d9-4ee3-8c05-b45c6973fe9a",
   "metadata": {},
   "source": [
    "## source functions\n",
    "source(\"tools.r\")"
   ]
  },
  {
   "cell_type": "raw",
   "id": "1e62d4d5-c713-4ebb-bf3a-3b8549c86dec",
   "metadata": {},
   "source": [
    "## run Mantel tests\n",
    "btp_turnover_bacteria <- read.csv(\"2020_btp_bacteria_process_importance_each_turnover.csv\")\n",
    "btp_turnover_archaea <- read.csv(\"2020_btp_archaea_process_importance_each_turnover.csv\")\n",
    "treatment <- \"^B_\"\n",
    "turnover <- btp_turnover_archaea"
   ]
  },
  {
   "cell_type": "raw",
   "id": "be2d3544-1700-4435-8e85-d94862eb5c1e",
   "metadata": {},
   "source": [
    "## subset turnovers corresponding to group and process\n",
    "y.3col <- turnover %>%\n",
    "  filter(str_detect(samp1, treatment), str_detect(samp2, treatment)) %>%\n",
    "  select(samp1, samp2, HoS)"
   ]
  },
  {
   "cell_type": "raw",
   "id": "5b1e4123-543e-4c17-a1ac-30a2ae20e476",
   "metadata": {},
   "source": [
    "## import environmental data\n",
    "env <- read.csv(\"2020_btp_depth_env_data.csv\") %>%\n",
    "  select(-one_of(\"psf_type\", \"depth\", \"TDS\", \"salinity\")) %>%\n",
    "  pivot_longer(cols = !contains(\"sample\"), names_to = \"variable\", values_to = \"value\")"
   ]
  },
  {
   "cell_type": "raw",
   "id": "e29db0a7-065a-466b-98a4-2c81db4d2d1d",
   "metadata": {},
   "source": [
    "## log transform all variable except pH\n",
    "env_log <- read.csv(\"2020_btp_depth_env_data.csv\", header = TRUE) %>%\n",
    "  select(-one_of(\"psf_type\", \"depth\", \"salinity\", \"TDS\")) %>%\n",
    "  mutate_at(vars(-pH, -sample), log) %>%\n",
    "  pivot_longer(cols = !contains(\"sample\"), names_to = \"variable\", values_to = \"value\")"
   ]
  },
  {
   "cell_type": "raw",
   "id": "262de0fa-291c-4052-a56e-f2fe09b1f101",
   "metadata": {},
   "source": [
    "## compute variable means for each pair of samples\n",
    "## untransformed data\n",
    "env_mean <- y.3col %>%\n",
    "  select(samp1, samp2) %>%\n",
    "  inner_join(., env, by = c(\"samp1\" = \"sample\"), multiple = \"all\", relationship = \"many-to-many\") %>%\n",
    "  inner_join(., env, by = c(\"samp2\" = \"sample\"), suffix = c(\"_x\", \"_y\"), multiple = \"all\", relationship = \"many-to-many\") %>%\n",
    "  filter(variable_x == variable_y) %>%\n",
    "  group_by(samp1, samp2, variable_x, variable_y) %>%\n",
    "  mutate(mean = mean(c(value_x, value_y))) %>%\n",
    "  ungroup %>%\n",
    "  select(samp1, samp2, variable_x, mean) %>%\n",
    "  mutate(variable_x = paste0(\"m_\", variable_x)) %>%\n",
    "  pivot_wider(names_from = \"variable_x\", values_from = mean)"
   ]
  },
  {
   "cell_type": "raw",
   "id": "caf673e8-77ef-42d7-92f6-344bced90e4c",
   "metadata": {},
   "source": [
    "## log transformed data\n",
    "env_log_mean <- y.3col %>%\n",
    "  select(samp1, samp2) %>%\n",
    "  inner_join(., env, by = c(\"samp1\" = \"sample\"), multiple = \"all\", relationship = \"many-to-many\") %>%\n",
    "  inner_join(., env, by = c(\"samp2\" = \"sample\"), suffix = c(\"_x\", \"_y\"), multiple = \"all\", relationship = \"many-to-many\") %>%\n",
    "  filter(variable_x == variable_y) %>%\n",
    "  group_by(samp1, samp2, variable_x, variable_y) %>%\n",
    "  mutate(mean = mean(c(value_x, value_y))) %>%\n",
    "  ungroup %>%\n",
    "  select(samp1, samp2, variable_x, mean) %>%\n",
    "  mutate(variable_x = paste0(\"m_\", variable_x)) %>%\n",
    "  pivot_wider(names_from = \"variable_x\", values_from = mean)"
   ]
  },
  {
   "cell_type": "raw",
   "id": "8cfd9e88-e498-4357-a2c3-3e4d7f3ba1f9",
   "metadata": {},
   "source": [
    "## compute variable differences for each pair of samples\n",
    "## untransformed data\n",
    "env_diff <-  y.3col %>%\n",
    "  select(samp1, samp2) %>%\n",
    "  inner_join(., env, by = c(\"samp1\" = \"sample\"), multiple = \"all\", relationship = \"many-to-many\") %>%\n",
    "  inner_join(., env, by = c(\"samp2\" = \"sample\"), suffix = c(\"_x\", \"_y\"), multiple = \"all\", relationship = \"many-to-many\") %>%\n",
    "  filter(variable_x == variable_y) %>%\n",
    "  group_by(samp1, samp2, variable_x, variable_y) %>%\n",
    "  mutate(difference = abs(value_x - value_y)) %>%\n",
    "  ungroup %>%\n",
    "  select(samp1, samp2, variable_x, difference) %>%\n",
    "  mutate(variable_x = paste0(\"d_\", variable_x)) %>%\n",
    "  pivot_wider(names_from = \"variable_x\", values_from = difference)"
   ]
  },
  {
   "cell_type": "raw",
   "id": "f714ddbf-e726-4850-9991-65e31c41152f",
   "metadata": {},
   "source": [
    "## log transformed data\n",
    "env_log_diff <-  y.3col %>%\n",
    "  select(samp1, samp2) %>%\n",
    "  inner_join(., env, by = c(\"samp1\" = \"sample\"), multiple = \"all\", relationship = \"many-to-many\") %>%\n",
    "  inner_join(., env, by = c(\"samp2\" = \"sample\"), suffix = c(\"_x\", \"_y\"), multiple = \"all\", relationship = \"many-to-many\") %>%\n",
    "  filter(variable_x == variable_y) %>%\n",
    "  group_by(samp1, samp2, variable_x, variable_y) %>%\n",
    "  mutate(difference = abs(value_x - value_y)) %>%\n",
    "  ungroup %>%\n",
    "  select(samp1, samp2, variable_x, difference) %>%\n",
    "  mutate(variable_x = paste0(\"d_\", variable_x)) %>%\n",
    "  pivot_wider(names_from = \"variable_x\", values_from = difference)"
   ]
  },
  {
   "cell_type": "raw",
   "id": "9231c498-e182-419e-bf02-ed425ffa63c8",
   "metadata": {},
   "source": [
    "## combine tables \n",
    "mdenv <- inner_join(env_mean, env_diff)\n",
    "mdenv_log <- inner_join(env_log_mean, env_log_diff)"
   ]
  },
  {
   "cell_type": "raw",
   "id": "7744806d-2f6d-4d81-a0ef-c56bb5045fb8",
   "metadata": {},
   "source": [
    "## cycle through depth-wise\n",
    "y.3col.A <- y.3col %>%\n",
    "  filter(str_detect(samp1, paste0(treatment, \"A_\")), str_detect(samp2, paste0(treatment, \"A_\")))"
   ]
  },
  {
   "cell_type": "raw",
   "id": "8486cdab-3dbd-43ed-a9f5-080938cc832d",
   "metadata": {},
   "source": [
    "## cycle through depth-wise\n",
    "y.3col.P <- y.3col %>%\n",
    "  filter(str_detect(samp1, paste0(treatment, \"P_\")), str_detect(samp2, paste0(treatment, \"P_\")))"
   ]
  },
  {
   "cell_type": "raw",
   "id": "9d7e84c0-d561-4551-9c67-fb4ce55bd75a",
   "metadata": {},
   "source": [
    "## cycle through depth-wise\n",
    "y.3col.B <- y.3col %>%\n",
    "  filter(str_detect(samp1, paste0(treatment, \"B_\")), str_detect(samp2, paste0(treatment, \"B_\")))"
   ]
  },
  {
   "cell_type": "raw",
   "id": "34263fb8-f0ea-431c-8b84-6ae839fac50b",
   "metadata": {},
   "source": [
    "## cycle through depth-wise\n",
    "mdenv.A <- mdenv %>% filter(str_detect(samp1, paste0(treatment, \"A_\")), str_detect(samp2, paste0(treatment, \"A_\")))\n",
    "mdenv.log.A <- mdenv_log %>% filter(str_detect(samp1, paste0(treatment, \"A_\")), str_detect(samp2, paste0(treatment, \"A_\")))"
   ]
  },
  {
   "cell_type": "raw",
   "id": "79e22ea3-6e17-4998-9668-fcaffac9b69c",
   "metadata": {},
   "source": [
    "## cycle through depth-wise\n",
    "mdenv.P <- mdenv %>% filter(str_detect(samp1, paste0(treatment, \"P_\")), str_detect(samp2, paste0(treatment, \"P_\")))\n",
    "mdenv.log.P <- mdenv_log %>% filter(str_detect(samp1, paste0(treatment, \"P_\")), str_detect(samp2, paste0(treatment, \"P_\")))"
   ]
  },
  {
   "cell_type": "raw",
   "id": "2648e970-2748-4d39-9d77-7d25e47e8b7e",
   "metadata": {},
   "source": [
    "## cycle through depth-wise\n",
    "mdenv.B <- mdenv %>% filter(str_detect(samp1, paste0(treatment, \"B_\")), str_detect(samp2, paste0(treatment, \"B_\")))\n",
    "mdenv.log.B <- mdenv_log %>% filter(str_detect(samp1, paste0(treatment, \"B_\")), str_detect(samp2, paste0(treatment, \"B_\")))"
   ]
  },
  {
   "cell_type": "raw",
   "id": "29a17047-6893-4fc0-8064-ea17a3316569",
   "metadata": {},
   "source": [
    "## run Mantel test\n",
    "mdenv_X <- mdenv\n",
    "y.3col_X <- y.3col\n",
    "\n",
    "mcm <- t(sapply(\n",
    "  3:ncol(mdenv_X),\n",
    "  function(i) {\n",
    "    x.3col <- mdenv_X[, c(1, 2, i)]\n",
    "    mci <- mcMantel(\n",
    "      y.3col = y.3col_X, \n",
    "      y.ids = NULL,\n",
    "      x.3col = x.3col, \n",
    "      grp.rand = NULL,\n",
    "      grp.const = NULL, \n",
    "      try.time = 5,\n",
    "      method = \"pearson\", \n",
    "      permutations = 999\n",
    "    )\n",
    "    outi <- c(r = mci$statistic, p = mci$signif)\n",
    "  }\n",
    "))\n",
    "\n",
    "rownames(mcm) = colnames(mdenv)[3:ncol(mdenv)]\n",
    "colnames(mcm) = c(\"r\",\"P\")"
   ]
  }
 ],
 "metadata": {
  "kernelspec": {
   "display_name": "R",
   "language": "R",
   "name": "ir"
  },
  "language_info": {
   "codemirror_mode": "r",
   "file_extension": ".r",
   "mimetype": "text/x-r-source",
   "name": "R",
   "pygments_lexer": "r",
   "version": "4.2.2"
  }
 },
 "nbformat": 4,
 "nbformat_minor": 5
}
