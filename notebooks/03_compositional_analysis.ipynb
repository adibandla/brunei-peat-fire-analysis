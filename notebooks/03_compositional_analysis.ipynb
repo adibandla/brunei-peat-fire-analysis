<!DOCTYPE html>

<html lang="en">
<head><meta charset="utf-8"/>
<meta content="width=device-width, initial-scale=1.0" name="viewport"/>
<title>3_btp_composition</title><script src="https://cdnjs.cloudflare.com/ajax/libs/require.js/2.1.10/require.min.js"></script>
<style type="text/css">
    pre { line-height: 125%; }
td.linenos .normal { color: inherit; background-color: transparent; padding-left: 5px; padding-right: 5px; }
span.linenos { color: inherit; background-color: transparent; padding-left: 5px; padding-right: 5px; }
td.linenos .special { color: #000000; background-color: #ffffc0; padding-left: 5px; padding-right: 5px; }
span.linenos.special { color: #000000; background-color: #ffffc0; padding-left: 5px; padding-right: 5px; }
.highlight .hll { background-color: var(--jp-cell-editor-active-background) }
.highlight { background: var(--jp-cell-editor-background); color: var(--jp-mirror-editor-variable-color) }
.highlight .c { color: var(--jp-mirror-editor-comment-color); font-style: italic } /* Comment */
.highlight .err { color: var(--jp-mirror-editor-error-color) } /* Error */
.highlight .k { color: var(--jp-mirror-editor-keyword-color); font-weight: bold } /* Keyword */
.highlight .o { color: var(--jp-mirror-editor-operator-color); font-weight: bold } /* Operator */
.highlight .p { color: var(--jp-mirror-editor-punctuation-color) } /* Punctuation */
.highlight .ch { color: var(--jp-mirror-editor-comment-color); font-style: italic } /* Comment.Hashbang */
.highlight .cm { color: var(--jp-mirror-editor-comment-color); font-style: italic } /* Comment.Multiline */
.highlight .cp { color: var(--jp-mirror-editor-comment-color); font-style: italic } /* Comment.Preproc */
.highlight .cpf { color: var(--jp-mirror-editor-comment-color); font-style: italic } /* Comment.PreprocFile */
.highlight .c1 { color: var(--jp-mirror-editor-comment-color); font-style: italic } /* Comment.Single */
.highlight .cs { color: var(--jp-mirror-editor-comment-color); font-style: italic } /* Comment.Special */
.highlight .kc { color: var(--jp-mirror-editor-keyword-color); font-weight: bold } /* Keyword.Constant */
.highlight .kd { color: var(--jp-mirror-editor-keyword-color); font-weight: bold } /* Keyword.Declaration */
.highlight .kn { color: var(--jp-mirror-editor-keyword-color); font-weight: bold } /* Keyword.Namespace */
.highlight .kp { color: var(--jp-mirror-editor-keyword-color); font-weight: bold } /* Keyword.Pseudo */
.highlight .kr { color: var(--jp-mirror-editor-keyword-color); font-weight: bold } /* Keyword.Reserved */
.highlight .kt { color: var(--jp-mirror-editor-keyword-color); font-weight: bold } /* Keyword.Type */
.highlight .m { color: var(--jp-mirror-editor-number-color) } /* Literal.Number */
.highlight .s { color: var(--jp-mirror-editor-string-color) } /* Literal.String */
.highlight .ow { color: var(--jp-mirror-editor-operator-color); font-weight: bold } /* Operator.Word */
.highlight .pm { color: var(--jp-mirror-editor-punctuation-color) } /* Punctuation.Marker */
.highlight .w { color: var(--jp-mirror-editor-variable-color) } /* Text.Whitespace */
.highlight .mb { color: var(--jp-mirror-editor-number-color) } /* Literal.Number.Bin */
.highlight .mf { color: var(--jp-mirror-editor-number-color) } /* Literal.Number.Float */
.highlight .mh { color: var(--jp-mirror-editor-number-color) } /* Literal.Number.Hex */
.highlight .mi { color: var(--jp-mirror-editor-number-color) } /* Literal.Number.Integer */
.highlight .mo { color: var(--jp-mirror-editor-number-color) } /* Literal.Number.Oct */
.highlight .sa { color: var(--jp-mirror-editor-string-color) } /* Literal.String.Affix */
.highlight .sb { color: var(--jp-mirror-editor-string-color) } /* Literal.String.Backtick */
.highlight .sc { color: var(--jp-mirror-editor-string-color) } /* Literal.String.Char */
.highlight .dl { color: var(--jp-mirror-editor-string-color) } /* Literal.String.Delimiter */
.highlight .sd { color: var(--jp-mirror-editor-string-color) } /* Literal.String.Doc */
.highlight .s2 { color: var(--jp-mirror-editor-string-color) } /* Literal.String.Double */
.highlight .se { color: var(--jp-mirror-editor-string-color) } /* Literal.String.Escape */
.highlight .sh { color: var(--jp-mirror-editor-string-color) } /* Literal.String.Heredoc */
.highlight .si { color: var(--jp-mirror-editor-string-color) } /* Literal.String.Interpol */
.highlight .sx { color: var(--jp-mirror-editor-string-color) } /* Literal.String.Other */
.highlight .sr { color: var(--jp-mirror-editor-string-color) } /* Literal.String.Regex */
.highlight .s1 { color: var(--jp-mirror-editor-string-color) } /* Literal.String.Single */
.highlight .ss { color: var(--jp-mirror-editor-string-color) } /* Literal.String.Symbol */
.highlight .il { color: var(--jp-mirror-editor-number-color) } /* Literal.Number.Integer.Long */
  </style>
<style type="text/css">
/*-----------------------------------------------------------------------------
| Copyright (c) Jupyter Development Team.
| Distributed under the terms of the Modified BSD License.
|----------------------------------------------------------------------------*/

/*
 * Mozilla scrollbar styling
 */

/* use standard opaque scrollbars for most nodes */
[data-jp-theme-scrollbars='true'] {
  scrollbar-color: rgb(var(--jp-scrollbar-thumb-color))
    var(--jp-scrollbar-background-color);
}

/* for code nodes, use a transparent style of scrollbar. These selectors
 * will match lower in the tree, and so will override the above */
[data-jp-theme-scrollbars='true'] .CodeMirror-hscrollbar,
[data-jp-theme-scrollbars='true'] .CodeMirror-vscrollbar {
  scrollbar-color: rgba(var(--jp-scrollbar-thumb-color), 0.5) transparent;
}

/* tiny scrollbar */

.jp-scrollbar-tiny {
  scrollbar-color: rgba(var(--jp-scrollbar-thumb-color), 0.5) transparent;
  scrollbar-width: thin;
}

/* tiny scrollbar */

.jp-scrollbar-tiny::-webkit-scrollbar,
.jp-scrollbar-tiny::-webkit-scrollbar-corner {
  background-color: transparent;
  height: 4px;
  width: 4px;
}

.jp-scrollbar-tiny::-webkit-scrollbar-thumb {
  background: rgba(var(--jp-scrollbar-thumb-color), 0.5);
}

.jp-scrollbar-tiny::-webkit-scrollbar-track:horizontal {
  border-left: 0 solid transparent;
  border-right: 0 solid transparent;
}

.jp-scrollbar-tiny::-webkit-scrollbar-track:vertical {
  border-top: 0 solid transparent;
  border-bottom: 0 solid transparent;
}

/*
 * Lumino
 */

.lm-ScrollBar[data-orientation='horizontal'] {
  min-height: 16px;
  max-height: 16px;
  min-width: 45px;
  border-top: 1px solid #a0a0a0;
}

.lm-ScrollBar[data-orientation='vertical'] {
  min-width: 16px;
  max-width: 16px;
  min-height: 45px;
  border-left: 1px solid #a0a0a0;
}

.lm-ScrollBar-button {
  background-color: #f0f0f0;
  background-position: center center;
  min-height: 15px;
  max-height: 15px;
  min-width: 15px;
  max-width: 15px;
}

.lm-ScrollBar-button:hover {
  background-color: #dadada;
}

.lm-ScrollBar-button.lm-mod-active {
  background-color: #cdcdcd;
}

.lm-ScrollBar-track {
  background: #f0f0f0;
}

.lm-ScrollBar-thumb {
  background: #cdcdcd;
}

.lm-ScrollBar-thumb:hover {
  background: #bababa;
}

.lm-ScrollBar-thumb.lm-mod-active {
  background: #a0a0a0;
}

.lm-ScrollBar[data-orientation='horizontal'] .lm-ScrollBar-thumb {
  height: 100%;
  min-width: 15px;
  border-left: 1px solid #a0a0a0;
  border-right: 1px solid #a0a0a0;
}

.lm-ScrollBar[data-orientation='vertical'] .lm-ScrollBar-thumb {
  width: 100%;
  min-height: 15px;
  border-top: 1px solid #a0a0a0;
  border-bottom: 1px solid #a0a0a0;
}

.lm-ScrollBar[data-orientation='horizontal']
  .lm-ScrollBar-button[data-action='decrement'] {
  background-image: var(--jp-icon-caret-left);
  background-size: 17px;
}

.lm-ScrollBar[data-orientation='horizontal']
  .lm-ScrollBar-button[data-action='increment'] {
  background-image: var(--jp-icon-caret-right);
  background-size: 17px;
}

.lm-ScrollBar[data-orientation='vertical']
  .lm-ScrollBar-button[data-action='decrement'] {
  background-image: var(--jp-icon-caret-up);
  background-size: 17px;
}

.lm-ScrollBar[data-orientation='vertical']
  .lm-ScrollBar-button[data-action='increment'] {
  background-image: var(--jp-icon-caret-down);
  background-size: 17px;
}

/*
 * Copyright (c) Jupyter Development Team.
 * Distributed under the terms of the Modified BSD License.
 */

/*-----------------------------------------------------------------------------
| Copyright (c) Jupyter Development Team.
| Copyright (c) 2014-2017, PhosphorJS Contributors
|
| Distributed under the terms of the BSD 3-Clause License.
|
| The full license is in the file LICENSE, distributed with this software.
|----------------------------------------------------------------------------*/

.lm-Widget {
  box-sizing: border-box;
  position: relative;
  overflow: hidden;
}

.lm-Widget.lm-mod-hidden {
  display: none !important;
}

/*
 * Copyright (c) Jupyter Development Team.
 * Distributed under the terms of the Modified BSD License.
 */

.lm-AccordionPanel[data-orientation='horizontal'] > .lm-AccordionPanel-title {
  /* Title is rotated for horizontal accordion panel using CSS */
  display: block;
  transform-origin: top left;
  transform: rotate(-90deg) translate(-100%);
}

/*
 * Copyright (c) Jupyter Development Team.
 * Distributed under the terms of the Modified BSD License.
 */

/*-----------------------------------------------------------------------------
| Copyright (c) Jupyter Development Team.
| Copyright (c) 2014-2017, PhosphorJS Contributors
|
| Distributed under the terms of the BSD 3-Clause License.
|
| The full license is in the file LICENSE, distributed with this software.
|----------------------------------------------------------------------------*/

.lm-CommandPalette {
  display: flex;
  flex-direction: column;
  -webkit-user-select: none;
  -moz-user-select: none;
  -ms-user-select: none;
  user-select: none;
}

.lm-CommandPalette-search {
  flex: 0 0 auto;
}

.lm-CommandPalette-content {
  flex: 1 1 auto;
  margin: 0;
  padding: 0;
  min-height: 0;
  overflow: auto;
  list-style-type: none;
}

.lm-CommandPalette-header {
  overflow: hidden;
  white-space: nowrap;
  text-overflow: ellipsis;
}

.lm-CommandPalette-item {
  display: flex;
  flex-direction: row;
}

.lm-CommandPalette-itemIcon {
  flex: 0 0 auto;
}

.lm-CommandPalette-itemContent {
  flex: 1 1 auto;
  overflow: hidden;
}

.lm-CommandPalette-itemShortcut {
  flex: 0 0 auto;
}

.lm-CommandPalette-itemLabel {
  overflow: hidden;
  white-space: nowrap;
  text-overflow: ellipsis;
}

.lm-close-icon {
  border: 1px solid transparent;
  background-color: transparent;
  position: absolute;
  z-index: 1;
  right: 3%;
  top: 0;
  bottom: 0;
  margin: auto;
  padding: 7px 0;
  display: none;
  vertical-align: middle;
  outline: 0;
  cursor: pointer;
}
.lm-close-icon:after {
  content: 'X';
  display: block;
  width: 15px;
  height: 15px;
  text-align: center;
  color: #000;
  font-weight: normal;
  font-size: 12px;
  cursor: pointer;
}

/*
 * Copyright (c) Jupyter Development Team.
 * Distributed under the terms of the Modified BSD License.
 */

/*-----------------------------------------------------------------------------
| Copyright (c) Jupyter Development Team.
| Copyright (c) 2014-2017, PhosphorJS Contributors
|
| Distributed under the terms of the BSD 3-Clause License.
|
| The full license is in the file LICENSE, distributed with this software.
|----------------------------------------------------------------------------*/

.lm-DockPanel {
  z-index: 0;
}

.lm-DockPanel-widget {
  z-index: 0;
}

.lm-DockPanel-tabBar {
  z-index: 1;
}

.lm-DockPanel-handle {
  z-index: 2;
}

.lm-DockPanel-handle.lm-mod-hidden {
  display: none !important;
}

.lm-DockPanel-handle:after {
  position: absolute;
  top: 0;
  left: 0;
  width: 100%;
  height: 100%;
  content: '';
}

.lm-DockPanel-handle[data-orientation='horizontal'] {
  cursor: ew-resize;
}

.lm-DockPanel-handle[data-orientation='vertical'] {
  cursor: ns-resize;
}

.lm-DockPanel-handle[data-orientation='horizontal']:after {
  left: 50%;
  min-width: 8px;
  transform: translateX(-50%);
}

.lm-DockPanel-handle[data-orientation='vertical']:after {
  top: 50%;
  min-height: 8px;
  transform: translateY(-50%);
}

.lm-DockPanel-overlay {
  z-index: 3;
  box-sizing: border-box;
  pointer-events: none;
}

.lm-DockPanel-overlay.lm-mod-hidden {
  display: none !important;
}

/*
 * Copyright (c) Jupyter Development Team.
 * Distributed under the terms of the Modified BSD License.
 */

/*-----------------------------------------------------------------------------
| Copyright (c) Jupyter Development Team.
| Copyright (c) 2014-2017, PhosphorJS Contributors
|
| Distributed under the terms of the BSD 3-Clause License.
|
| The full license is in the file LICENSE, distributed with this software.
|----------------------------------------------------------------------------*/

.lm-Menu {
  z-index: 10000;
  position: absolute;
  white-space: nowrap;
  overflow-x: hidden;
  overflow-y: auto;
  outline: none;
  -webkit-user-select: none;
  -moz-user-select: none;
  -ms-user-select: none;
  user-select: none;
}

.lm-Menu-content {
  margin: 0;
  padding: 0;
  display: table;
  list-style-type: none;
}

.lm-Menu-item {
  display: table-row;
}

.lm-Menu-item.lm-mod-hidden,
.lm-Menu-item.lm-mod-collapsed {
  display: none !important;
}

.lm-Menu-itemIcon,
.lm-Menu-itemSubmenuIcon {
  display: table-cell;
  text-align: center;
}

.lm-Menu-itemLabel {
  display: table-cell;
  text-align: left;
}

.lm-Menu-itemShortcut {
  display: table-cell;
  text-align: right;
}

/*
 * Copyright (c) Jupyter Development Team.
 * Distributed under the terms of the Modified BSD License.
 */

/*-----------------------------------------------------------------------------
| Copyright (c) Jupyter Development Team.
| Copyright (c) 2014-2017, PhosphorJS Contributors
|
| Distributed under the terms of the BSD 3-Clause License.
|
| The full license is in the file LICENSE, distributed with this software.
|----------------------------------------------------------------------------*/

.lm-MenuBar {
  outline: none;
  -webkit-user-select: none;
  -moz-user-select: none;
  -ms-user-select: none;
  user-select: none;
}

.lm-MenuBar-content {
  margin: 0;
  padding: 0;
  display: flex;
  flex-direction: row;
  list-style-type: none;
}

.lm-MenuBar-item {
  box-sizing: border-box;
}

.lm-MenuBar-itemIcon,
.lm-MenuBar-itemLabel {
  display: inline-block;
}

/*
 * Copyright (c) Jupyter Development Team.
 * Distributed under the terms of the Modified BSD License.
 */

/*-----------------------------------------------------------------------------
| Copyright (c) Jupyter Development Team.
| Copyright (c) 2014-2017, PhosphorJS Contributors
|
| Distributed under the terms of the BSD 3-Clause License.
|
| The full license is in the file LICENSE, distributed with this software.
|----------------------------------------------------------------------------*/

.lm-ScrollBar {
  display: flex;
  -webkit-user-select: none;
  -moz-user-select: none;
  -ms-user-select: none;
  user-select: none;
}

.lm-ScrollBar[data-orientation='horizontal'] {
  flex-direction: row;
}

.lm-ScrollBar[data-orientation='vertical'] {
  flex-direction: column;
}

.lm-ScrollBar-button {
  box-sizing: border-box;
  flex: 0 0 auto;
}

.lm-ScrollBar-track {
  box-sizing: border-box;
  position: relative;
  overflow: hidden;
  flex: 1 1 auto;
}

.lm-ScrollBar-thumb {
  box-sizing: border-box;
  position: absolute;
}

/*
 * Copyright (c) Jupyter Development Team.
 * Distributed under the terms of the Modified BSD License.
 */

/*-----------------------------------------------------------------------------
| Copyright (c) Jupyter Development Team.
| Copyright (c) 2014-2017, PhosphorJS Contributors
|
| Distributed under the terms of the BSD 3-Clause License.
|
| The full license is in the file LICENSE, distributed with this software.
|----------------------------------------------------------------------------*/

.lm-SplitPanel-child {
  z-index: 0;
}

.lm-SplitPanel-handle {
  z-index: 1;
}

.lm-SplitPanel-handle.lm-mod-hidden {
  display: none !important;
}

.lm-SplitPanel-handle:after {
  position: absolute;
  top: 0;
  left: 0;
  width: 100%;
  height: 100%;
  content: '';
}

.lm-SplitPanel[data-orientation='horizontal'] > .lm-SplitPanel-handle {
  cursor: ew-resize;
}

.lm-SplitPanel[data-orientation='vertical'] > .lm-SplitPanel-handle {
  cursor: ns-resize;
}

.lm-SplitPanel[data-orientation='horizontal'] > .lm-SplitPanel-handle:after {
  left: 50%;
  min-width: 8px;
  transform: translateX(-50%);
}

.lm-SplitPanel[data-orientation='vertical'] > .lm-SplitPanel-handle:after {
  top: 50%;
  min-height: 8px;
  transform: translateY(-50%);
}

/*
 * Copyright (c) Jupyter Development Team.
 * Distributed under the terms of the Modified BSD License.
 */

/*-----------------------------------------------------------------------------
| Copyright (c) Jupyter Development Team.
| Copyright (c) 2014-2017, PhosphorJS Contributors
|
| Distributed under the terms of the BSD 3-Clause License.
|
| The full license is in the file LICENSE, distributed with this software.
|----------------------------------------------------------------------------*/

.lm-TabBar {
  display: flex;
  -webkit-user-select: none;
  -moz-user-select: none;
  -ms-user-select: none;
  user-select: none;
}

.lm-TabBar[data-orientation='horizontal'] {
  flex-direction: row;
  align-items: flex-end;
}

.lm-TabBar[data-orientation='vertical'] {
  flex-direction: column;
  align-items: flex-end;
}

.lm-TabBar-content {
  margin: 0;
  padding: 0;
  display: flex;
  flex: 1 1 auto;
  list-style-type: none;
}

.lm-TabBar[data-orientation='horizontal'] > .lm-TabBar-content {
  flex-direction: row;
}

.lm-TabBar[data-orientation='vertical'] > .lm-TabBar-content {
  flex-direction: column;
}

.lm-TabBar-tab {
  display: flex;
  flex-direction: row;
  box-sizing: border-box;
  overflow: hidden;
  touch-action: none; /* Disable native Drag/Drop */
}

.lm-TabBar-tabIcon,
.lm-TabBar-tabCloseIcon {
  flex: 0 0 auto;
}

.lm-TabBar-tabLabel {
  flex: 1 1 auto;
  overflow: hidden;
  white-space: nowrap;
}

.lm-TabBar-tabInput {
  user-select: all;
  width: 100%;
  box-sizing: border-box;
}

.lm-TabBar-tab.lm-mod-hidden {
  display: none !important;
}

.lm-TabBar-addButton.lm-mod-hidden {
  display: none !important;
}

.lm-TabBar.lm-mod-dragging .lm-TabBar-tab {
  position: relative;
}

.lm-TabBar.lm-mod-dragging[data-orientation='horizontal'] .lm-TabBar-tab {
  left: 0;
  transition: left 150ms ease;
}

.lm-TabBar.lm-mod-dragging[data-orientation='vertical'] .lm-TabBar-tab {
  top: 0;
  transition: top 150ms ease;
}

.lm-TabBar.lm-mod-dragging .lm-TabBar-tab.lm-mod-dragging {
  transition: none;
}

.lm-TabBar-tabLabel .lm-TabBar-tabInput {
  user-select: all;
  width: 100%;
  box-sizing: border-box;
  background: inherit;
}

/*
 * Copyright (c) Jupyter Development Team.
 * Distributed under the terms of the Modified BSD License.
 */

/*-----------------------------------------------------------------------------
| Copyright (c) Jupyter Development Team.
| Copyright (c) 2014-2017, PhosphorJS Contributors
|
| Distributed under the terms of the BSD 3-Clause License.
|
| The full license is in the file LICENSE, distributed with this software.
|----------------------------------------------------------------------------*/

.lm-TabPanel-tabBar {
  z-index: 1;
}

.lm-TabPanel-stackedPanel {
  z-index: 0;
}

/*
 * Copyright (c) Jupyter Development Team.
 * Distributed under the terms of the Modified BSD License.
 */

/*-----------------------------------------------------------------------------
| Copyright (c) Jupyter Development Team.
| Copyright (c) 2014-2017, PhosphorJS Contributors
|
| Distributed under the terms of the BSD 3-Clause License.
|
| The full license is in the file LICENSE, distributed with this software.
|----------------------------------------------------------------------------*/

/*-----------------------------------------------------------------------------
| Copyright (c) Jupyter Development Team.
| Distributed under the terms of the Modified BSD License.
|----------------------------------------------------------------------------*/

.jp-Collapse {
  display: flex;
  flex-direction: column;
  align-items: stretch;
}

.jp-Collapse-header {
  padding: 1px 12px;
  background-color: var(--jp-layout-color1);
  border-bottom: solid var(--jp-border-width) var(--jp-border-color2);
  color: var(--jp-ui-font-color1);
  cursor: pointer;
  display: flex;
  align-items: center;
  font-size: var(--jp-ui-font-size0);
  font-weight: 600;
  text-transform: uppercase;
  user-select: none;
}

.jp-Collapser-icon {
  height: 16px;
}

.jp-Collapse-header-collapsed .jp-Collapser-icon {
  transform: rotate(-90deg);
  margin: auto 0;
}

.jp-Collapser-title {
  line-height: 25px;
}

.jp-Collapse-contents {
  padding: 0 12px;
  background-color: var(--jp-layout-color1);
  color: var(--jp-ui-font-color1);
  overflow: auto;
}

/*-----------------------------------------------------------------------------
| Copyright (c) Jupyter Development Team.
| Distributed under the terms of the Modified BSD License.
|----------------------------------------------------------------------------*/

/* This file was auto-generated by ensureUiComponents() in @jupyterlab/buildutils */

/**
 * (DEPRECATED) Support for consuming icons as CSS background images
 */

/* Icons urls */

:root {
  --jp-icon-add-above: url(data:image/svg+xml;base64,PHN2ZyB3aWR0aD0iMTQiIGhlaWdodD0iMTQiIHZpZXdCb3g9IjAgMCAxNCAxNCIgZmlsbD0ibm9uZSIgeG1sbnM9Imh0dHA6Ly93d3cudzMub3JnLzIwMDAvc3ZnIj4KPGcgY2xpcC1wYXRoPSJ1cmwoI2NsaXAwXzEzN18xOTQ5MikiPgo8cGF0aCBjbGFzcz0ianAtaWNvbjMiIGQ9Ik00Ljc1IDQuOTMwNjZINi42MjVWNi44MDU2NkM2LjYyNSA3LjAxMTkxIDYuNzkzNzUgNy4xODA2NiA3IDcuMTgwNjZDNy4yMDYyNSA3LjE4MDY2IDcuMzc1IDcuMDExOTEgNy4zNzUgNi44MDU2NlY0LjkzMDY2SDkuMjVDOS40NTYyNSA0LjkzMDY2IDkuNjI1IDQuNzYxOTEgOS42MjUgNC41NTU2NkM5LjYyNSA0LjM0OTQxIDkuNDU2MjUgNC4xODA2NiA5LjI1IDQuMTgwNjZINy4zNzVWMi4zMDU2NkM3LjM3NSAyLjA5OTQxIDcuMjA2MjUgMS45MzA2NiA3IDEuOTMwNjZDNi43OTM3NSAxLjkzMDY2IDYuNjI1IDIuMDk5NDEgNi42MjUgMi4zMDU2NlY0LjE4MDY2SDQuNzVDNC41NDM3NSA0LjE4MDY2IDQuMzc1IDQuMzQ5NDEgNC4zNzUgNC41NTU2NkM0LjM3NSA0Ljc2MTkxIDQuNTQzNzUgNC45MzA2NiA0Ljc1IDQuOTMwNjZaIiBmaWxsPSIjNjE2MTYxIiBzdHJva2U9IiM2MTYxNjEiIHN0cm9rZS13aWR0aD0iMC43Ii8+CjwvZz4KPHBhdGggY2xhc3M9ImpwLWljb24zIiBmaWxsLXJ1bGU9ImV2ZW5vZGQiIGNsaXAtcnVsZT0iZXZlbm9kZCIgZD0iTTExLjUgOS41VjExLjVMMi41IDExLjVWOS41TDExLjUgOS41Wk0xMiA4QzEyLjU1MjMgOCAxMyA4LjQ0NzcyIDEzIDlWMTJDMTMgMTIuNTUyMyAxMi41NTIzIDEzIDEyIDEzTDIgMTNDMS40NDc3MiAxMyAxIDEyLjU1MjMgMSAxMlY5QzEgOC40NDc3MiAxLjQ0NzcxIDggMiA4TDEyIDhaIiBmaWxsPSIjNjE2MTYxIi8+CjxkZWZzPgo8Y2xpcFBhdGggaWQ9ImNsaXAwXzEzN18xOTQ5MiI+CjxyZWN0IGNsYXNzPSJqcC1pY29uMyIgd2lkdGg9IjYiIGhlaWdodD0iNiIgZmlsbD0id2hpdGUiIHRyYW5zZm9ybT0ibWF0cml4KC0xIDAgMCAxIDEwIDEuNTU1NjYpIi8+CjwvY2xpcFBhdGg+CjwvZGVmcz4KPC9zdmc+Cg==);
  --jp-icon-add-below: url(data:image/svg+xml;base64,PHN2ZyB3aWR0aD0iMTQiIGhlaWdodD0iMTQiIHZpZXdCb3g9IjAgMCAxNCAxNCIgZmlsbD0ibm9uZSIgeG1sbnM9Imh0dHA6Ly93d3cudzMub3JnLzIwMDAvc3ZnIj4KPGcgY2xpcC1wYXRoPSJ1cmwoI2NsaXAwXzEzN18xOTQ5OCkiPgo8cGF0aCBjbGFzcz0ianAtaWNvbjMiIGQ9Ik05LjI1IDEwLjA2OTNMNy4zNzUgMTAuMDY5M0w3LjM3NSA4LjE5NDM0QzcuMzc1IDcuOTg4MDkgNy4yMDYyNSA3LjgxOTM0IDcgNy44MTkzNEM2Ljc5Mzc1IDcuODE5MzQgNi42MjUgNy45ODgwOSA2LjYyNSA4LjE5NDM0TDYuNjI1IDEwLjA2OTNMNC43NSAxMC4wNjkzQzQuNTQzNzUgMTAuMDY5MyA0LjM3NSAxMC4yMzgxIDQuMzc1IDEwLjQ0NDNDNC4zNzUgMTAuNjUwNiA0LjU0Mzc1IDEwLjgxOTMgNC43NSAxMC44MTkzTDYuNjI1IDEwLjgxOTNMNi42MjUgMTIuNjk0M0M2LjYyNSAxMi45MDA2IDYuNzkzNzUgMTMuMDY5MyA3IDEzLjA2OTNDNy4yMDYyNSAxMy4wNjkzIDcuMzc1IDEyLjkwMDYgNy4zNzUgMTIuNjk0M0w3LjM3NSAxMC44MTkzTDkuMjUgMTAuODE5M0M5LjQ1NjI1IDEwLjgxOTMgOS42MjUgMTAuNjUwNiA5LjYyNSAxMC40NDQzQzkuNjI1IDEwLjIzODEgOS40NTYyNSAxMC4wNjkzIDkuMjUgMTAuMDY5M1oiIGZpbGw9IiM2MTYxNjEiIHN0cm9rZT0iIzYxNjE2MSIgc3Ryb2tlLXdpZHRoPSIwLjciLz4KPC9nPgo8cGF0aCBjbGFzcz0ianAtaWNvbjMiIGZpbGwtcnVsZT0iZXZlbm9kZCIgY2xpcC1ydWxlPSJldmVub2RkIiBkPSJNMi41IDUuNUwyLjUgMy41TDExLjUgMy41TDExLjUgNS41TDIuNSA1LjVaTTIgN0MxLjQ0NzcyIDcgMSA2LjU1MjI4IDEgNkwxIDNDMSAyLjQ0NzcyIDEuNDQ3NzIgMiAyIDJMMTIgMkMxMi41NTIzIDIgMTMgMi40NDc3MiAxMyAzTDEzIDZDMTMgNi41NTIyOSAxMi41NTIzIDcgMTIgN0wyIDdaIiBmaWxsPSIjNjE2MTYxIi8+CjxkZWZzPgo8Y2xpcFBhdGggaWQ9ImNsaXAwXzEzN18xOTQ5OCI+CjxyZWN0IGNsYXNzPSJqcC1pY29uMyIgd2lkdGg9IjYiIGhlaWdodD0iNiIgZmlsbD0id2hpdGUiIHRyYW5zZm9ybT0ibWF0cml4KDEgMS43NDg0NmUtMDcgMS43NDg0NmUtMDcgLTEgNCAxMy40NDQzKSIvPgo8L2NsaXBQYXRoPgo8L2RlZnM+Cjwvc3ZnPgo=);
  --jp-icon-add: url(data:image/svg+xml;base64,PHN2ZyB4bWxucz0iaHR0cDovL3d3dy53My5vcmcvMjAwMC9zdmciIHdpZHRoPSIxNiIgdmlld0JveD0iMCAwIDI0IDI0Ij4KICA8ZyBjbGFzcz0ianAtaWNvbjMiIGZpbGw9IiM2MTYxNjEiPgogICAgPHBhdGggZD0iTTE5IDEzaC02djZoLTJ2LTZINXYtMmg2VjVoMnY2aDZ2MnoiLz4KICA8L2c+Cjwvc3ZnPgo=);
  --jp-icon-bell: url(data:image/svg+xml;base64,PHN2ZyB4bWxucz0iaHR0cDovL3d3dy53My5vcmcvMjAwMC9zdmciIHdpZHRoPSIxNiIgdmlld0JveD0iMCAwIDE2IDE2IiB2ZXJzaW9uPSIxLjEiPgogICA8cGF0aCBjbGFzcz0ianAtaWNvbjIganAtaWNvbi1zZWxlY3RhYmxlIiBmaWxsPSIjMzMzMzMzIgogICAgICBkPSJtOCAwLjI5Yy0xLjQgMC0yLjcgMC43My0zLjYgMS44LTEuMiAxLjUtMS40IDMuNC0xLjUgNS4yLTAuMTggMi4yLTAuNDQgNC0yLjMgNS4zbDAuMjggMS4zaDVjMC4wMjYgMC42NiAwLjMyIDEuMSAwLjcxIDEuNSAwLjg0IDAuNjEgMiAwLjYxIDIuOCAwIDAuNTItMC40IDAuNi0xIDAuNzEtMS41aDVsMC4yOC0xLjNjLTEuOS0wLjk3LTIuMi0zLjMtMi4zLTUuMy0wLjEzLTEuOC0wLjI2LTMuNy0xLjUtNS4yLTAuODUtMS0yLjItMS44LTMuNi0xLjh6bTAgMS40YzAuODggMCAxLjkgMC41NSAyLjUgMS4zIDAuODggMS4xIDEuMSAyLjcgMS4yIDQuNCAwLjEzIDEuNyAwLjIzIDMuNiAxLjMgNS4yaC0xMGMxLjEtMS42IDEuMi0zLjQgMS4zLTUuMiAwLjEzLTEuNyAwLjMtMy4zIDEuMi00LjQgMC41OS0wLjcyIDEuNi0xLjMgMi41LTEuM3ptLTAuNzQgMTJoMS41Yy0wLjAwMTUgMC4yOCAwLjAxNSAwLjc5LTAuNzQgMC43OS0wLjczIDAuMDAxNi0wLjcyLTAuNTMtMC43NC0wLjc5eiIgLz4KPC9zdmc+Cg==);
  --jp-icon-bug-dot: url(data:image/svg+xml;base64,PHN2ZyB3aWR0aD0iMjQiIGhlaWdodD0iMjQiIHZpZXdCb3g9IjAgMCAyNCAyNCIgZmlsbD0ibm9uZSIgeG1sbnM9Imh0dHA6Ly93d3cudzMub3JnLzIwMDAvc3ZnIj4KICAgIDxnIGNsYXNzPSJqcC1pY29uMyBqcC1pY29uLXNlbGVjdGFibGUiIGZpbGw9IiM2MTYxNjEiPgogICAgICAgIDxwYXRoIGZpbGwtcnVsZT0iZXZlbm9kZCIgY2xpcC1ydWxlPSJldmVub2RkIiBkPSJNMTcuMTkgOEgyMFYxMEgxNy45MUMxNy45NiAxMC4zMyAxOCAxMC42NiAxOCAxMVYxMkgyMFYxNEgxOC41SDE4VjE0LjAyNzVDMTUuNzUgMTQuMjc2MiAxNCAxNi4xODM3IDE0IDE4LjVDMTQgMTkuMjA4IDE0LjE2MzUgMTkuODc3OSAxNC40NTQ5IDIwLjQ3MzlDMTMuNzA2MyAyMC44MTE3IDEyLjg3NTcgMjEgMTIgMjFDOS43OCAyMSA3Ljg1IDE5Ljc5IDYuODEgMThINFYxNkg2LjA5QzYuMDQgMTUuNjcgNiAxNS4zNCA2IDE1VjE0SDRWMTJINlYxMUM2IDEwLjY2IDYuMDQgMTAuMzMgNi4wOSAxMEg0VjhINi44MUM3LjI2IDcuMjIgNy44OCA2LjU1IDguNjIgNi4wNEw3IDQuNDFMOC40MSAzTDEwLjU5IDUuMTdDMTEuMDQgNS4wNiAxMS41MSA1IDEyIDVDMTIuNDkgNSAxMi45NiA1LjA2IDEzLjQyIDUuMTdMMTUuNTkgM0wxNyA0LjQxTDE1LjM3IDYuMDRDMTYuMTIgNi41NSAxNi43NCA3LjIyIDE3LjE5IDhaTTEwIDE2SDE0VjE0SDEwVjE2Wk0xMCAxMkgxNFYxMEgxMFYxMloiIGZpbGw9IiM2MTYxNjEiLz4KICAgICAgICA8cGF0aCBkPSJNMjIgMTguNUMyMiAyMC40MzMgMjAuNDMzIDIyIDE4LjUgMjJDMTYuNTY3IDIyIDE1IDIwLjQzMyAxNSAxOC41QzE1IDE2LjU2NyAxNi41NjcgMTUgMTguNSAxNUMyMC40MzMgMTUgMjIgMTYuNTY3IDIyIDE4LjVaIiBmaWxsPSIjNjE2MTYxIi8+CiAgICA8L2c+Cjwvc3ZnPgo=);
  --jp-icon-bug: url(data:image/svg+xml;base64,PHN2ZyB2aWV3Qm94PSIwIDAgMjQgMjQiIHdpZHRoPSIxNiIgeG1sbnM9Imh0dHA6Ly93d3cudzMub3JnLzIwMDAvc3ZnIj4KICA8ZyBjbGFzcz0ianAtaWNvbjMganAtaWNvbi1zZWxlY3RhYmxlIiBmaWxsPSIjNjE2MTYxIj4KICAgIDxwYXRoIGQ9Ik0yMCA4aC0yLjgxYy0uNDUtLjc4LTEuMDctMS40NS0xLjgyLTEuOTZMMTcgNC40MSAxNS41OSAzbC0yLjE3IDIuMTdDMTIuOTYgNS4wNiAxMi40OSA1IDEyIDVjLS40OSAwLS45Ni4wNi0xLjQxLjE3TDguNDEgMyA3IDQuNDFsMS42MiAxLjYzQzcuODggNi41NSA3LjI2IDcuMjIgNi44MSA4SDR2MmgyLjA5Yy0uMDUuMzMtLjA5LjY2LS4wOSAxdjFINHYyaDJ2MWMwIC4zNC4wNC42Ny4wOSAxSDR2MmgyLjgxYzEuMDQgMS43OSAyLjk3IDMgNS4xOSAzczQuMTUtMS4yMSA1LjE5LTNIMjB2LTJoLTIuMDljLjA1LS4zMy4wOS0uNjYuMDktMXYtMWgydi0yaC0ydi0xYzAtLjM0LS4wNC0uNjctLjA5LTFIMjBWOHptLTYgOGgtNHYtMmg0djJ6bTAtNGgtNHYtMmg0djJ6Ii8+CiAgPC9nPgo8L3N2Zz4K);
  --jp-icon-build: url(data:image/svg+xml;base64,PHN2ZyB3aWR0aD0iMTYiIHZpZXdCb3g9IjAgMCAyNCAyNCIgeG1sbnM9Imh0dHA6Ly93d3cudzMub3JnLzIwMDAvc3ZnIj4KICA8ZyBjbGFzcz0ianAtaWNvbjMiIGZpbGw9IiM2MTYxNjEiPgogICAgPHBhdGggZD0iTTE0LjkgMTcuNDVDMTYuMjUgMTcuNDUgMTcuMzUgMTYuMzUgMTcuMzUgMTVDMTcuMzUgMTMuNjUgMTYuMjUgMTIuNTUgMTQuOSAxMi41NUMxMy41NCAxMi41NSAxMi40NSAxMy42NSAxMi40NSAxNUMxMi40NSAxNi4zNSAxMy41NCAxNy40NSAxNC45IDE3LjQ1Wk0yMC4xIDE1LjY4TDIxLjU4IDE2Ljg0QzIxLjcxIDE2Ljk1IDIxLjc1IDE3LjEzIDIxLjY2IDE3LjI5TDIwLjI2IDE5LjcxQzIwLjE3IDE5Ljg2IDIwIDE5LjkyIDE5LjgzIDE5Ljg2TDE4LjA5IDE5LjE2QzE3LjczIDE5LjQ0IDE3LjMzIDE5LjY3IDE2LjkxIDE5Ljg1TDE2LjY0IDIxLjdDMTYuNjIgMjEuODcgMTYuNDcgMjIgMTYuMyAyMkgxMy41QzEzLjMyIDIyIDEzLjE4IDIxLjg3IDEzLjE1IDIxLjdMMTIuODkgMTkuODVDMTIuNDYgMTkuNjcgMTIuMDcgMTkuNDQgMTEuNzEgMTkuMTZMOS45NjAwMiAxOS44NkM5LjgxMDAyIDE5LjkyIDkuNjIwMDIgMTkuODYgOS41NDAwMiAxOS43MUw4LjE0MDAyIDE3LjI5QzguMDUwMDIgMTcuMTMgOC4wOTAwMiAxNi45NSA4LjIyMDAyIDE2Ljg0TDkuNzAwMDIgMTUuNjhMOS42NTAwMSAxNUw5LjcwMDAyIDE0LjMxTDguMjIwMDIgMTMuMTZDOC4wOTAwMiAxMy4wNSA4LjA1MDAyIDEyLjg2IDguMTQwMDIgMTIuNzFMOS41NDAwMiAxMC4yOUM5LjYyMDAyIDEwLjEzIDkuODEwMDIgMTAuMDcgOS45NjAwMiAxMC4xM0wxMS43MSAxMC44NEMxMi4wNyAxMC41NiAxMi40NiAxMC4zMiAxMi44OSAxMC4xNUwxMy4xNSA4LjI4OTk4QzEzLjE4IDguMTI5OTggMTMuMzIgNy45OTk5OCAxMy41IDcuOTk5OThIMTYuM0MxNi40NyA3Ljk5OTk4IDE2LjYyIDguMTI5OTggMTYuNjQgOC4yODk5OEwxNi45MSAxMC4xNUMxNy4zMyAxMC4zMiAxNy43MyAxMC41NiAxOC4wOSAxMC44NEwxOS44MyAxMC4xM0MyMCAxMC4wNyAyMC4xNyAxMC4xMyAyMC4yNiAxMC4yOUwyMS42NiAxMi43MUMyMS43NSAxMi44NiAyMS43MSAxMy4wNSAyMS41OCAxMy4xNkwyMC4xIDE0LjMxTDIwLjE1IDE1TDIwLjEgMTUuNjhaIi8+CiAgICA8cGF0aCBkPSJNNy4zMjk2NiA3LjQ0NDU0QzguMDgzMSA3LjAwOTU0IDguMzM5MzIgNi4wNTMzMiA3LjkwNDMyIDUuMjk5ODhDNy40NjkzMiA0LjU0NjQzIDYuNTA4MSA0LjI4MTU2IDUuNzU0NjYgNC43MTY1NkM1LjM5MTc2IDQuOTI2MDggNS4xMjY5NSA1LjI3MTE4IDUuMDE4NDkgNS42NzU5NEM0LjkxMDA0IDYuMDgwNzEgNC45NjY4MiA2LjUxMTk4IDUuMTc2MzQgNi44NzQ4OEM1LjYxMTM0IDcuNjI4MzIgNi41NzYyMiA3Ljg3OTU0IDcuMzI5NjYgNy40NDQ1NFpNOS42NTcxOCA0Ljc5NTkzTDEwLjg2NzIgNC45NTE3OUMxMC45NjI4IDQuOTc3NDEgMTEuMDQwMiA1LjA3MTMzIDExLjAzODIgNS4xODc5M0wxMS4wMzg4IDYuOTg4OTNDMTEuMDQ1NSA3LjEwMDU0IDEwLjk2MTYgNy4xOTUxOCAxMC44NTUgNy4yMTA1NEw5LjY2MDAxIDcuMzgwODNMOS4yMzkxNSA4LjEzMTg4TDkuNjY5NjEgOS4yNTc0NUM5LjcwNzI5IDkuMzYyNzEgOS42NjkzNCA5LjQ3Njk5IDkuNTc0MDggOS41MzE5OUw4LjAxNTIzIDEwLjQzMkM3LjkxMTMxIDEwLjQ5MiA3Ljc5MzM3IDEwLjQ2NzcgNy43MjEwNSAxMC4zODI0TDYuOTg3NDggOS40MzE4OEw2LjEwOTMxIDkuNDMwODNMNS4zNDcwNCAxMC4zOTA1QzUuMjg5MDkgMTAuNDcwMiA1LjE3MzgzIDEwLjQ5MDUgNS4wNzE4NyAxMC40MzM5TDMuNTEyNDUgOS41MzI5M0MzLjQxMDQ5IDkuNDc2MzMgMy4zNzY0NyA5LjM1NzQxIDMuNDEwNzUgOS4yNTY3OUwzLjg2MzQ3IDguMTQwOTNMMy42MTc0OSA3Ljc3NDg4TDMuNDIzNDcgNy4zNzg4M0wyLjIzMDc1IDcuMjEyOTdDMi4xMjY0NyA3LjE5MjM1IDIuMDQwNDkgNy4xMDM0MiAyLjA0MjQ1IDYuOTg2ODJMMi4wNDE4NyA1LjE4NTgyQzIuMDQzODMgNS4wNjkyMiAyLjExOTA5IDQuOTc5NTggMi4yMTcwNCA0Ljk2OTIyTDMuNDIwNjUgNC43OTM5M0wzLjg2NzQ5IDQuMDI3ODhMMy40MTEwNSAyLjkxNzMxQzMuMzczMzcgMi44MTIwNCAzLjQxMTMxIDIuNjk3NzYgMy41MTUyMyAyLjYzNzc2TDUuMDc0MDggMS43Mzc3NkM1LjE2OTM0IDEuNjgyNzYgNS4yODcyOSAxLjcwNzA0IDUuMzU5NjEgMS43OTIzMUw2LjExOTE1IDIuNzI3ODhMNi45ODAwMSAyLjczODkzTDcuNzI0OTYgMS43ODkyMkM3Ljc5MTU2IDEuNzA0NTggNy45MTU0OCAxLjY3OTIyIDguMDA4NzkgMS43NDA4Mkw5LjU2ODIxIDIuNjQxODJDOS42NzAxNyAyLjY5ODQyIDkuNzEyODUgMi44MTIzNCA5LjY4NzIzIDIuOTA3OTdMOS4yMTcxOCA0LjAzMzgzTDkuNDYzMTYgNC4zOTk4OEw5LjY1NzE4IDQuNzk1OTNaIi8+CiAgPC9nPgo8L3N2Zz4K);
  --jp-icon-caret-down-empty-thin: url(data:image/svg+xml;base64,PHN2ZyB4bWxucz0iaHR0cDovL3d3dy53My5vcmcvMjAwMC9zdmciIHdpZHRoPSIxNiIgdmlld0JveD0iMCAwIDIwIDIwIj4KCTxnIGNsYXNzPSJqcC1pY29uMyIgZmlsbD0iIzYxNjE2MSIgc2hhcGUtcmVuZGVyaW5nPSJnZW9tZXRyaWNQcmVjaXNpb24iPgoJCTxwb2x5Z29uIGNsYXNzPSJzdDEiIHBvaW50cz0iOS45LDEzLjYgMy42LDcuNCA0LjQsNi42IDkuOSwxMi4yIDE1LjQsNi43IDE2LjEsNy40ICIvPgoJPC9nPgo8L3N2Zz4K);
  --jp-icon-caret-down-empty: url(data:image/svg+xml;base64,PHN2ZyB4bWxucz0iaHR0cDovL3d3dy53My5vcmcvMjAwMC9zdmciIHdpZHRoPSIxNiIgdmlld0JveD0iMCAwIDE4IDE4Ij4KICA8ZyBjbGFzcz0ianAtaWNvbjMiIGZpbGw9IiM2MTYxNjEiIHNoYXBlLXJlbmRlcmluZz0iZ2VvbWV0cmljUHJlY2lzaW9uIj4KICAgIDxwYXRoIGQ9Ik01LjIsNS45TDksOS43bDMuOC0zLjhsMS4yLDEuMmwtNC45LDVsLTQuOS01TDUuMiw1Ljl6Ii8+CiAgPC9nPgo8L3N2Zz4K);
  --jp-icon-caret-down: url(data:image/svg+xml;base64,PHN2ZyB4bWxucz0iaHR0cDovL3d3dy53My5vcmcvMjAwMC9zdmciIHdpZHRoPSIxNiIgdmlld0JveD0iMCAwIDE4IDE4Ij4KICA8ZyBjbGFzcz0ianAtaWNvbjMiIGZpbGw9IiM2MTYxNjEiIHNoYXBlLXJlbmRlcmluZz0iZ2VvbWV0cmljUHJlY2lzaW9uIj4KICAgIDxwYXRoIGQ9Ik01LjIsNy41TDksMTEuMmwzLjgtMy44SDUuMnoiLz4KICA8L2c+Cjwvc3ZnPgo=);
  --jp-icon-caret-left: url(data:image/svg+xml;base64,PHN2ZyB4bWxucz0iaHR0cDovL3d3dy53My5vcmcvMjAwMC9zdmciIHdpZHRoPSIxNiIgdmlld0JveD0iMCAwIDE4IDE4Ij4KCTxnIGNsYXNzPSJqcC1pY29uMyIgZmlsbD0iIzYxNjE2MSIgc2hhcGUtcmVuZGVyaW5nPSJnZW9tZXRyaWNQcmVjaXNpb24iPgoJCTxwYXRoIGQ9Ik0xMC44LDEyLjhMNy4xLDlsMy44LTMuOGwwLDcuNkgxMC44eiIvPgogIDwvZz4KPC9zdmc+Cg==);
  --jp-icon-caret-right: url(data:image/svg+xml;base64,PHN2ZyB4bWxucz0iaHR0cDovL3d3dy53My5vcmcvMjAwMC9zdmciIHdpZHRoPSIxNiIgdmlld0JveD0iMCAwIDE4IDE4Ij4KICA8ZyBjbGFzcz0ianAtaWNvbjMiIGZpbGw9IiM2MTYxNjEiIHNoYXBlLXJlbmRlcmluZz0iZ2VvbWV0cmljUHJlY2lzaW9uIj4KICAgIDxwYXRoIGQ9Ik03LjIsNS4yTDEwLjksOWwtMy44LDMuOFY1LjJINy4yeiIvPgogIDwvZz4KPC9zdmc+Cg==);
  --jp-icon-caret-up-empty-thin: url(data:image/svg+xml;base64,PHN2ZyB4bWxucz0iaHR0cDovL3d3dy53My5vcmcvMjAwMC9zdmciIHdpZHRoPSIxNiIgdmlld0JveD0iMCAwIDIwIDIwIj4KCTxnIGNsYXNzPSJqcC1pY29uMyIgZmlsbD0iIzYxNjE2MSIgc2hhcGUtcmVuZGVyaW5nPSJnZW9tZXRyaWNQcmVjaXNpb24iPgoJCTxwb2x5Z29uIGNsYXNzPSJzdDEiIHBvaW50cz0iMTUuNCwxMy4zIDkuOSw3LjcgNC40LDEzLjIgMy42LDEyLjUgOS45LDYuMyAxNi4xLDEyLjYgIi8+Cgk8L2c+Cjwvc3ZnPgo=);
  --jp-icon-caret-up: url(data:image/svg+xml;base64,PHN2ZyB4bWxucz0iaHR0cDovL3d3dy53My5vcmcvMjAwMC9zdmciIHdpZHRoPSIxNiIgdmlld0JveD0iMCAwIDE4IDE4Ij4KCTxnIGNsYXNzPSJqcC1pY29uMyIgZmlsbD0iIzYxNjE2MSIgc2hhcGUtcmVuZGVyaW5nPSJnZW9tZXRyaWNQcmVjaXNpb24iPgoJCTxwYXRoIGQ9Ik01LjIsMTAuNUw5LDYuOGwzLjgsMy44SDUuMnoiLz4KICA8L2c+Cjwvc3ZnPgo=);
  --jp-icon-case-sensitive: url(data:image/svg+xml;base64,PHN2ZyB4bWxucz0iaHR0cDovL3d3dy53My5vcmcvMjAwMC9zdmciIHdpZHRoPSIxNiIgdmlld0JveD0iMCAwIDIwIDIwIj4KICA8ZyBjbGFzcz0ianAtaWNvbjIiIGZpbGw9IiM0MTQxNDEiPgogICAgPHJlY3QgeD0iMiIgeT0iMiIgd2lkdGg9IjE2IiBoZWlnaHQ9IjE2Ii8+CiAgPC9nPgogIDxnIGNsYXNzPSJqcC1pY29uLWFjY2VudDIiIGZpbGw9IiNGRkYiPgogICAgPHBhdGggZD0iTTcuNiw4aDAuOWwzLjUsOGgtMS4xTDEwLDE0SDZsLTAuOSwySDRMNy42LDh6IE04LDkuMUw2LjQsMTNoMy4yTDgsOS4xeiIvPgogICAgPHBhdGggZD0iTTE2LjYsOS44Yy0wLjIsMC4xLTAuNCwwLjEtMC43LDAuMWMtMC4yLDAtMC40LTAuMS0wLjYtMC4yYy0wLjEtMC4xLTAuMi0wLjQtMC4yLTAuNyBjLTAuMywwLjMtMC42LDAuNS0wLjksMC43Yy0wLjMsMC4xLTAuNywwLjItMS4xLDAuMmMtMC4zLDAtMC41LDAtMC43LTAuMWMtMC4yLTAuMS0wLjQtMC4yLTAuNi0wLjNjLTAuMi0wLjEtMC4zLTAuMy0wLjQtMC41IGMtMC4xLTAuMi0wLjEtMC40LTAuMS0wLjdjMC0wLjMsMC4xLTAuNiwwLjItMC44YzAuMS0wLjIsMC4zLTAuNCwwLjQtMC41QzEyLDcsMTIuMiw2LjksMTIuNSw2LjhjMC4yLTAuMSwwLjUtMC4xLDAuNy0wLjIgYzAuMy0wLjEsMC41LTAuMSwwLjctMC4xYzAuMiwwLDAuNC0wLjEsMC42LTAuMWMwLjIsMCwwLjMtMC4xLDAuNC0wLjJjMC4xLTAuMSwwLjItMC4yLDAuMi0wLjRjMC0xLTEuMS0xLTEuMy0xIGMtMC40LDAtMS40LDAtMS40LDEuMmgtMC45YzAtMC40LDAuMS0wLjcsMC4yLTFjMC4xLTAuMiwwLjMtMC40LDAuNS0wLjZjMC4yLTAuMiwwLjUtMC4zLDAuOC0wLjNDMTMuMyw0LDEzLjYsNCwxMy45LDQgYzAuMywwLDAuNSwwLDAuOCwwLjFjMC4zLDAsMC41LDAuMSwwLjcsMC4yYzAuMiwwLjEsMC40LDAuMywwLjUsMC41QzE2LDUsMTYsNS4yLDE2LDUuNnYyLjljMCwwLjIsMCwwLjQsMCwwLjUgYzAsMC4xLDAuMSwwLjIsMC4zLDAuMmMwLjEsMCwwLjIsMCwwLjMsMFY5Ljh6IE0xNS4yLDYuOWMtMS4yLDAuNi0zLjEsMC4yLTMuMSwxLjRjMCwxLjQsMy4xLDEsMy4xLTAuNVY2Ljl6Ii8+CiAgPC9nPgo8L3N2Zz4K);
  --jp-icon-check: url(data:image/svg+xml;base64,PHN2ZyB4bWxucz0iaHR0cDovL3d3dy53My5vcmcvMjAwMC9zdmciIHdpZHRoPSIxNiIgdmlld0JveD0iMCAwIDI0IDI0Ij4KICA8ZyBjbGFzcz0ianAtaWNvbjMganAtaWNvbi1zZWxlY3RhYmxlIiBmaWxsPSIjNjE2MTYxIj4KICAgIDxwYXRoIGQ9Ik05IDE2LjE3TDQuODMgMTJsLTEuNDIgMS40MUw5IDE5IDIxIDdsLTEuNDEtMS40MXoiLz4KICA8L2c+Cjwvc3ZnPgo=);
  --jp-icon-circle-empty: url(data:image/svg+xml;base64,PHN2ZyB4bWxucz0iaHR0cDovL3d3dy53My5vcmcvMjAwMC9zdmciIHdpZHRoPSIxNiIgdmlld0JveD0iMCAwIDI0IDI0Ij4KICA8ZyBjbGFzcz0ianAtaWNvbjMiIGZpbGw9IiM2MTYxNjEiPgogICAgPHBhdGggZD0iTTEyIDJDNi40NyAyIDIgNi40NyAyIDEyczQuNDcgMTAgMTAgMTAgMTAtNC40NyAxMC0xMFMxNy41MyAyIDEyIDJ6bTAgMThjLTQuNDEgMC04LTMuNTktOC04czMuNTktOCA4LTggOCAzLjU5IDggOC0zLjU5IDgtOCA4eiIvPgogIDwvZz4KPC9zdmc+Cg==);
  --jp-icon-circle: url(data:image/svg+xml;base64,PHN2ZyB2aWV3Qm94PSIwIDAgMTggMTgiIHdpZHRoPSIxNiIgeG1sbnM9Imh0dHA6Ly93d3cudzMub3JnLzIwMDAvc3ZnIj4KICA8ZyBjbGFzcz0ianAtaWNvbjMiIGZpbGw9IiM2MTYxNjEiPgogICAgPGNpcmNsZSBjeD0iOSIgY3k9IjkiIHI9IjgiLz4KICA8L2c+Cjwvc3ZnPgo=);
  --jp-icon-clear: url(data:image/svg+xml;base64,PHN2ZyB4bWxucz0iaHR0cDovL3d3dy53My5vcmcvMjAwMC9zdmciIHdpZHRoPSIxNiIgdmlld0JveD0iMCAwIDI0IDI0Ij4KICA8bWFzayBpZD0iZG9udXRIb2xlIj4KICAgIDxyZWN0IHdpZHRoPSIyNCIgaGVpZ2h0PSIyNCIgZmlsbD0id2hpdGUiIC8+CiAgICA8Y2lyY2xlIGN4PSIxMiIgY3k9IjEyIiByPSI4IiBmaWxsPSJibGFjayIvPgogIDwvbWFzaz4KCiAgPGcgY2xhc3M9ImpwLWljb24zIiBmaWxsPSIjNjE2MTYxIj4KICAgIDxyZWN0IGhlaWdodD0iMTgiIHdpZHRoPSIyIiB4PSIxMSIgeT0iMyIgdHJhbnNmb3JtPSJyb3RhdGUoMzE1LCAxMiwgMTIpIi8+CiAgICA8Y2lyY2xlIGN4PSIxMiIgY3k9IjEyIiByPSIxMCIgbWFzaz0idXJsKCNkb251dEhvbGUpIi8+CiAgPC9nPgo8L3N2Zz4K);
  --jp-icon-close: url(data:image/svg+xml;base64,PHN2ZyB2aWV3Qm94PSIwIDAgMjQgMjQiIHdpZHRoPSIxNiIgeG1sbnM9Imh0dHA6Ly93d3cudzMub3JnLzIwMDAvc3ZnIj4KICA8ZyBjbGFzcz0ianAtaWNvbi1ub25lIGpwLWljb24tc2VsZWN0YWJsZS1pbnZlcnNlIGpwLWljb24zLWhvdmVyIiBmaWxsPSJub25lIj4KICAgIDxjaXJjbGUgY3g9IjEyIiBjeT0iMTIiIHI9IjExIi8+CiAgPC9nPgoKICA8ZyBjbGFzcz0ianAtaWNvbjMganAtaWNvbi1zZWxlY3RhYmxlIGpwLWljb24tYWNjZW50Mi1ob3ZlciIgZmlsbD0iIzYxNjE2MSI+CiAgICA8cGF0aCBkPSJNMTkgNi40MUwxNy41OSA1IDEyIDEwLjU5IDYuNDEgNSA1IDYuNDEgMTAuNTkgMTIgNSAxNy41OSA2LjQxIDE5IDEyIDEzLjQxIDE3LjU5IDE5IDE5IDE3LjU5IDEzLjQxIDEyeiIvPgogIDwvZz4KCiAgPGcgY2xhc3M9ImpwLWljb24tbm9uZSBqcC1pY29uLWJ1c3kiIGZpbGw9Im5vbmUiPgogICAgPGNpcmNsZSBjeD0iMTIiIGN5PSIxMiIgcj0iNyIvPgogIDwvZz4KPC9zdmc+Cg==);
  --jp-icon-code-check: url(data:image/svg+xml;base64,PHN2ZyB4bWxucz0iaHR0cDovL3d3dy53My5vcmcvMjAwMC9zdmciIHdpZHRoPSIyNCIgdmlld0JveD0iMCAwIDI0IDI0Ij4KICA8ZyBjbGFzcz0ianAtaWNvbjMganAtaWNvbi1zZWxlY3RhYmxlIiBmaWxsPSIjNjE2MTYxIiBzaGFwZS1yZW5kZXJpbmc9Imdlb21ldHJpY1ByZWNpc2lvbiI+CiAgICA8cGF0aCBkPSJNNi41OSwzLjQxTDIsOEw2LjU5LDEyLjZMOCwxMS4xOEw0LjgyLDhMOCw0LjgyTDYuNTksMy40MU0xMi40MSwzLjQxTDExLDQuODJMMTQuMTgsOEwxMSwxMS4xOEwxMi40MSwxMi42TDE3LDhMMTIuNDEsMy40MU0yMS41OSwxMS41OUwxMy41LDE5LjY4TDkuODMsMTZMOC40MiwxNy40MUwxMy41LDIyLjVMMjMsMTNMMjEuNTksMTEuNTlaIiAvPgogIDwvZz4KPC9zdmc+Cg==);
  --jp-icon-code: url(data:image/svg+xml;base64,PHN2ZyB3aWR0aD0iMjIiIGhlaWdodD0iMjIiIHZpZXdCb3g9IjAgMCAyOCAyOCIgeG1sbnM9Imh0dHA6Ly93d3cudzMub3JnLzIwMDAvc3ZnIj4KCTxnIGNsYXNzPSJqcC1pY29uMyIgZmlsbD0iIzYxNjE2MSI+CgkJPHBhdGggZD0iTTExLjQgMTguNkw2LjggMTRMMTEuNCA5LjRMMTAgOEw0IDE0TDEwIDIwTDExLjQgMTguNlpNMTYuNiAxOC42TDIxLjIgMTRMMTYuNiA5LjRMMTggOEwyNCAxNEwxOCAyMEwxNi42IDE4LjZWMTguNloiLz4KCTwvZz4KPC9zdmc+Cg==);
  --jp-icon-collapse-all: url(data:image/svg+xml;base64,PHN2ZyB4bWxucz0iaHR0cDovL3d3dy53My5vcmcvMjAwMC9zdmciIHdpZHRoPSIxNiIgdmlld0JveD0iMCAwIDI0IDI0Ij4KICAgIDxnIGNsYXNzPSJqcC1pY29uMyIgZmlsbD0iIzYxNjE2MSI+CiAgICAgICAgPHBhdGgKICAgICAgICAgICAgZD0iTTggMmMxIDAgMTEgMCAxMiAwczIgMSAyIDJjMCAxIDAgMTEgMCAxMnMwIDItMiAyQzIwIDE0IDIwIDQgMjAgNFMxMCA0IDYgNGMwLTIgMS0yIDItMnoiIC8+CiAgICAgICAgPHBhdGgKICAgICAgICAgICAgZD0iTTE4IDhjMC0xLTEtMi0yLTJTNSA2IDQgNnMtMiAxLTIgMmMwIDEgMCAxMSAwIDEyczEgMiAyIDJjMSAwIDExIDAgMTIgMHMyLTEgMi0yYzAtMSAwLTExIDAtMTJ6bS0yIDB2MTJINFY4eiIgLz4KICAgICAgICA8cGF0aCBkPSJNNiAxM3YyaDh2LTJ6IiAvPgogICAgPC9nPgo8L3N2Zz4K);
  --jp-icon-console: url(data:image/svg+xml;base64,PHN2ZyB4bWxucz0iaHR0cDovL3d3dy53My5vcmcvMjAwMC9zdmciIHdpZHRoPSIxNiIgdmlld0JveD0iMCAwIDIwMCAyMDAiPgogIDxnIGNsYXNzPSJqcC1jb25zb2xlLWljb24tYmFja2dyb3VuZC1jb2xvciBqcC1pY29uLXNlbGVjdGFibGUiIGZpbGw9IiMwMjg4RDEiPgogICAgPHBhdGggZD0iTTIwIDE5LjhoMTYwdjE1OS45SDIweiIvPgogIDwvZz4KICA8ZyBjbGFzcz0ianAtY29uc29sZS1pY29uLWNvbG9yIGpwLWljb24tc2VsZWN0YWJsZS1pbnZlcnNlIiBmaWxsPSIjZmZmIj4KICAgIDxwYXRoIGQ9Ik0xMDUgMTI3LjNoNDB2MTIuOGgtNDB6TTUxLjEgNzdMNzQgOTkuOWwtMjMuMyAyMy4zIDEwLjUgMTAuNSAyMy4zLTIzLjNMOTUgOTkuOSA4NC41IDg5LjQgNjEuNiA2Ni41eiIvPgogIDwvZz4KPC9zdmc+Cg==);
  --jp-icon-copy: url(data:image/svg+xml;base64,PHN2ZyB2aWV3Qm94PSIwIDAgMTggMTgiIHdpZHRoPSIxNiIgeG1sbnM9Imh0dHA6Ly93d3cudzMub3JnLzIwMDAvc3ZnIj4KICA8ZyBjbGFzcz0ianAtaWNvbjMiIGZpbGw9IiM2MTYxNjEiPgogICAgPHBhdGggZD0iTTExLjksMUgzLjJDMi40LDEsMS43LDEuNywxLjcsMi41djEwLjJoMS41VjIuNWg4LjdWMXogTTE0LjEsMy45aC04Yy0wLjgsMC0xLjUsMC43LTEuNSwxLjV2MTAuMmMwLDAuOCwwLjcsMS41LDEuNSwxLjVoOCBjMC44LDAsMS41LTAuNywxLjUtMS41VjUuNEMxNS41LDQuNiwxNC45LDMuOSwxNC4xLDMuOXogTTE0LjEsMTUuNWgtOFY1LjRoOFYxNS41eiIvPgogIDwvZz4KPC9zdmc+Cg==);
  --jp-icon-copyright: url(data:image/svg+xml;base64,PHN2ZyB4bWxucz0iaHR0cDovL3d3dy53My5vcmcvMjAwMC9zdmciIGVuYWJsZS1iYWNrZ3JvdW5kPSJuZXcgMCAwIDI0IDI0IiBoZWlnaHQ9IjI0IiB2aWV3Qm94PSIwIDAgMjQgMjQiIHdpZHRoPSIyNCI+CiAgPGcgY2xhc3M9ImpwLWljb24zIiBmaWxsPSIjNjE2MTYxIj4KICAgIDxwYXRoIGQ9Ik0xMS44OCw5LjE0YzEuMjgsMC4wNiwxLjYxLDEuMTUsMS42MywxLjY2aDEuNzljLTAuMDgtMS45OC0xLjQ5LTMuMTktMy40NS0zLjE5QzkuNjQsNy42MSw4LDksOCwxMi4xNCBjMCwxLjk0LDAuOTMsNC4yNCwzLjg0LDQuMjRjMi4yMiwwLDMuNDEtMS42NSwzLjQ0LTIuOTVoLTEuNzljLTAuMDMsMC41OS0wLjQ1LDEuMzgtMS42MywxLjQ0QzEwLjU1LDE0LjgzLDEwLDEzLjgxLDEwLDEyLjE0IEMxMCw5LjI1LDExLjI4LDkuMTYsMTEuODgsOS4xNHogTTEyLDJDNi40OCwyLDIsNi40OCwyLDEyczQuNDgsMTAsMTAsMTBzMTAtNC40OCwxMC0xMFMxNy41MiwyLDEyLDJ6IE0xMiwyMGMtNC40MSwwLTgtMy41OS04LTggczMuNTktOCw4LThzOCwzLjU5LDgsOFMxNi40MSwyMCwxMiwyMHoiLz4KICA8L2c+Cjwvc3ZnPgo=);
  --jp-icon-cut: url(data:image/svg+xml;base64,PHN2ZyB2aWV3Qm94PSIwIDAgMjQgMjQiIHdpZHRoPSIxNiIgeG1sbnM9Imh0dHA6Ly93d3cudzMub3JnLzIwMDAvc3ZnIj4KICA8ZyBjbGFzcz0ianAtaWNvbjMiIGZpbGw9IiM2MTYxNjEiPgogICAgPHBhdGggZD0iTTkuNjQgNy42NGMuMjMtLjUuMzYtMS4wNS4zNi0xLjY0IDAtMi4yMS0xLjc5LTQtNC00UzIgMy43OSAyIDZzMS43OSA0IDQgNGMuNTkgMCAxLjE0LS4xMyAxLjY0LS4zNkwxMCAxMmwtMi4zNiAyLjM2QzcuMTQgMTQuMTMgNi41OSAxNCA2IDE0Yy0yLjIxIDAtNCAxLjc5LTQgNHMxLjc5IDQgNCA0IDQtMS43OSA0LTRjMC0uNTktLjEzLTEuMTQtLjM2LTEuNjRMMTIgMTRsNyA3aDN2LTFMOS42NCA3LjY0ek02IDhjLTEuMSAwLTItLjg5LTItMnMuOS0yIDItMiAyIC44OSAyIDItLjkgMi0yIDJ6bTAgMTJjLTEuMSAwLTItLjg5LTItMnMuOS0yIDItMiAyIC44OSAyIDItLjkgMi0yIDJ6bTYtNy41Yy0uMjggMC0uNS0uMjItLjUtLjVzLjIyLS41LjUtLjUuNS4yMi41LjUtLjIyLjUtLjUuNXpNMTkgM2wtNiA2IDIgMiA3LTdWM3oiLz4KICA8L2c+Cjwvc3ZnPgo=);
  --jp-icon-delete: url(data:image/svg+xml;base64,PHN2ZyB4bWxucz0iaHR0cDovL3d3dy53My5vcmcvMjAwMC9zdmciIHZpZXdCb3g9IjAgMCAyNCAyNCIgd2lkdGg9IjE2cHgiIGhlaWdodD0iMTZweCI+CiAgICA8cGF0aCBkPSJNMCAwaDI0djI0SDB6IiBmaWxsPSJub25lIiAvPgogICAgPHBhdGggY2xhc3M9ImpwLWljb24zIiBmaWxsPSIjNjI2MjYyIiBkPSJNNiAxOWMwIDEuMS45IDIgMiAyaDhjMS4xIDAgMi0uOSAyLTJWN0g2djEyek0xOSA0aC0zLjVsLTEtMWgtNWwtMSAxSDV2MmgxNFY0eiIgLz4KPC9zdmc+Cg==);
  --jp-icon-download: url(data:image/svg+xml;base64,PHN2ZyB2aWV3Qm94PSIwIDAgMjQgMjQiIHdpZHRoPSIxNiIgeG1sbnM9Imh0dHA6Ly93d3cudzMub3JnLzIwMDAvc3ZnIj4KICA8ZyBjbGFzcz0ianAtaWNvbjMiIGZpbGw9IiM2MTYxNjEiPgogICAgPHBhdGggZD0iTTE5IDloLTRWM0g5djZINWw3IDcgNy03ek01IDE4djJoMTR2LTJINXoiLz4KICA8L2c+Cjwvc3ZnPgo=);
  --jp-icon-duplicate: url(data:image/svg+xml;base64,PHN2ZyB3aWR0aD0iMTQiIGhlaWdodD0iMTQiIHZpZXdCb3g9IjAgMCAxNCAxNCIgZmlsbD0ibm9uZSIgeG1sbnM9Imh0dHA6Ly93d3cudzMub3JnLzIwMDAvc3ZnIj4KPHBhdGggY2xhc3M9ImpwLWljb24zIiBmaWxsLXJ1bGU9ImV2ZW5vZGQiIGNsaXAtcnVsZT0iZXZlbm9kZCIgZD0iTTIuNzk5OTggMC44NzVIOC44OTU4MkM5LjIwMDYxIDAuODc1IDkuNDQ5OTggMS4xMzkxNCA5LjQ0OTk4IDEuNDYxOThDOS40NDk5OCAxLjc4NDgyIDkuMjAwNjEgMi4wNDg5NiA4Ljg5NTgyIDIuMDQ4OTZIMy4zNTQxNUMzLjA0OTM2IDIuMDQ4OTYgMi43OTk5OCAyLjMxMzEgMi43OTk5OCAyLjYzNTk0VjkuNjc5NjlDMi43OTk5OCAxMC4wMDI1IDIuNTUwNjEgMTAuMjY2NyAyLjI0NTgyIDEwLjI2NjdDMS45NDEwMyAxMC4yNjY3IDEuNjkxNjUgMTAuMDAyNSAxLjY5MTY1IDkuNjc5NjlWMi4wNDg5NkMxLjY5MTY1IDEuNDAzMjggMi4xOTA0IDAuODc1IDIuNzk5OTggMC44NzVaTTUuMzY2NjUgMTEuOVY0LjU1SDExLjA4MzNWMTEuOUg1LjM2NjY1Wk00LjE0MTY1IDQuMTQxNjdDNC4xNDE2NSAzLjY5MDYzIDQuNTA3MjggMy4zMjUgNC45NTgzMiAzLjMyNUgxMS40OTE3QzExLjk0MjcgMy4zMjUgMTIuMzA4MyAzLjY5MDYzIDEyLjMwODMgNC4xNDE2N1YxMi4zMDgzQzEyLjMwODMgMTIuNzU5NCAxMS45NDI3IDEzLjEyNSAxMS40OTE3IDEzLjEyNUg0Ljk1ODMyQzQuNTA3MjggMTMuMTI1IDQuMTQxNjUgMTIuNzU5NCA0LjE0MTY1IDEyLjMwODNWNC4xNDE2N1oiIGZpbGw9IiM2MTYxNjEiLz4KPHBhdGggY2xhc3M9ImpwLWljb24zIiBkPSJNOS40MzU3NCA4LjI2NTA3SDguMzY0MzFWOS4zMzY1QzguMzY0MzEgOS40NTQzNSA4LjI2Nzg4IDkuNTUwNzggOC4xNTAwMiA5LjU1MDc4QzguMDMyMTcgOS41NTA3OCA3LjkzNTc0IDkuNDU0MzUgNy45MzU3NCA5LjMzNjVWOC4yNjUwN0g2Ljg2NDMxQzYuNzQ2NDUgOC4yNjUwNyA2LjY1MDAyIDguMTY4NjQgNi42NTAwMiA4LjA1MDc4QzYuNjUwMDIgNy45MzI5MiA2Ljc0NjQ1IDcuODM2NSA2Ljg2NDMxIDcuODM2NUg3LjkzNTc0VjYuNzY1MDdDNy45MzU3NCA2LjY0NzIxIDguMDMyMTcgNi41NTA3OCA4LjE1MDAyIDYuNTUwNzhDOC4yNjc4OCA2LjU1MDc4IDguMzY0MzEgNi42NDcyMSA4LjM2NDMxIDYuNzY1MDdWNy44MzY1SDkuNDM1NzRDOS41NTM2IDcuODM2NSA5LjY1MDAyIDcuOTMyOTIgOS42NTAwMiA4LjA1MDc4QzkuNjUwMDIgOC4xNjg2NCA5LjU1MzYgOC4yNjUwNyA5LjQzNTc0IDguMjY1MDdaIiBmaWxsPSIjNjE2MTYxIiBzdHJva2U9IiM2MTYxNjEiIHN0cm9rZS13aWR0aD0iMC41Ii8+Cjwvc3ZnPgo=);
  --jp-icon-edit: url(data:image/svg+xml;base64,PHN2ZyB2aWV3Qm94PSIwIDAgMjQgMjQiIHdpZHRoPSIxNiIgeG1sbnM9Imh0dHA6Ly93d3cudzMub3JnLzIwMDAvc3ZnIj4KICA8ZyBjbGFzcz0ianAtaWNvbjMiIGZpbGw9IiM2MTYxNjEiPgogICAgPHBhdGggZD0iTTMgMTcuMjVWMjFoMy43NUwxNy44MSA5Ljk0bC0zLjc1LTMuNzVMMyAxNy4yNXpNMjAuNzEgNy4wNGMuMzktLjM5LjM5LTEuMDIgMC0xLjQxbC0yLjM0LTIuMzRjLS4zOS0uMzktMS4wMi0uMzktMS40MSAwbC0xLjgzIDEuODMgMy43NSAzLjc1IDEuODMtMS44M3oiLz4KICA8L2c+Cjwvc3ZnPgo=);
  --jp-icon-ellipses: url(data:image/svg+xml;base64,PHN2ZyB2aWV3Qm94PSIwIDAgMjQgMjQiIHdpZHRoPSIxNiIgeG1sbnM9Imh0dHA6Ly93d3cudzMub3JnLzIwMDAvc3ZnIj4KICA8ZyBjbGFzcz0ianAtaWNvbjMiIGZpbGw9IiM2MTYxNjEiPgogICAgPGNpcmNsZSBjeD0iNSIgY3k9IjEyIiByPSIyIi8+CiAgICA8Y2lyY2xlIGN4PSIxMiIgY3k9IjEyIiByPSIyIi8+CiAgICA8Y2lyY2xlIGN4PSIxOSIgY3k9IjEyIiByPSIyIi8+CiAgPC9nPgo8L3N2Zz4K);
  --jp-icon-error: url(data:image/svg+xml;base64,PHN2ZyB4bWxucz0iaHR0cDovL3d3dy53My5vcmcvMjAwMC9zdmciIHdpZHRoPSIxNiIgdmlld0JveD0iMCAwIDI0IDI0Ij4KPGcgY2xhc3M9ImpwLWljb24zIiBmaWxsPSIjNjE2MTYxIj48Y2lyY2xlIGN4PSIxMiIgY3k9IjE5IiByPSIyIi8+PHBhdGggZD0iTTEwIDNoNHYxMmgtNHoiLz48L2c+CjxwYXRoIGZpbGw9Im5vbmUiIGQ9Ik0wIDBoMjR2MjRIMHoiLz4KPC9zdmc+Cg==);
  --jp-icon-expand-all: url(data:image/svg+xml;base64,PHN2ZyB4bWxucz0iaHR0cDovL3d3dy53My5vcmcvMjAwMC9zdmciIHdpZHRoPSIxNiIgdmlld0JveD0iMCAwIDI0IDI0Ij4KICAgIDxnIGNsYXNzPSJqcC1pY29uMyIgZmlsbD0iIzYxNjE2MSI+CiAgICAgICAgPHBhdGgKICAgICAgICAgICAgZD0iTTggMmMxIDAgMTEgMCAxMiAwczIgMSAyIDJjMCAxIDAgMTEgMCAxMnMwIDItMiAyQzIwIDE0IDIwIDQgMjAgNFMxMCA0IDYgNGMwLTIgMS0yIDItMnoiIC8+CiAgICAgICAgPHBhdGgKICAgICAgICAgICAgZD0iTTE4IDhjMC0xLTEtMi0yLTJTNSA2IDQgNnMtMiAxLTIgMmMwIDEgMCAxMSAwIDEyczEgMiAyIDJjMSAwIDExIDAgMTIgMHMyLTEgMi0yYzAtMSAwLTExIDAtMTJ6bS0yIDB2MTJINFY4eiIgLz4KICAgICAgICA8cGF0aCBkPSJNMTEgMTBIOXYzSDZ2MmgzdjNoMnYtM2gzdi0yaC0zeiIgLz4KICAgIDwvZz4KPC9zdmc+Cg==);
  --jp-icon-extension: url(data:image/svg+xml;base64,PHN2ZyB4bWxucz0iaHR0cDovL3d3dy53My5vcmcvMjAwMC9zdmciIHdpZHRoPSIxNiIgdmlld0JveD0iMCAwIDI0IDI0Ij4KICA8ZyBjbGFzcz0ianAtaWNvbjMiIGZpbGw9IiM2MTYxNjEiPgogICAgPHBhdGggZD0iTTIwLjUgMTFIMTlWN2MwLTEuMS0uOS0yLTItMmgtNFYzLjVDMTMgMi4xMiAxMS44OCAxIDEwLjUgMVM4IDIuMTIgOCAzLjVWNUg0Yy0xLjEgMC0xLjk5LjktMS45OSAydjMuOEgzLjVjMS40OSAwIDIuNyAxLjIxIDIuNyAyLjdzLTEuMjEgMi43LTIuNyAyLjdIMlYyMGMwIDEuMS45IDIgMiAyaDMuOHYtMS41YzAtMS40OSAxLjIxLTIuNyAyLjctMi43IDEuNDkgMCAyLjcgMS4yMSAyLjcgMi43VjIySDE3YzEuMSAwIDItLjkgMi0ydi00aDEuNWMxLjM4IDAgMi41LTEuMTIgMi41LTIuNVMyMS44OCAxMSAyMC41IDExeiIvPgogIDwvZz4KPC9zdmc+Cg==);
  --jp-icon-fast-forward: url(data:image/svg+xml;base64,PHN2ZyB4bWxucz0iaHR0cDovL3d3dy53My5vcmcvMjAwMC9zdmciIHdpZHRoPSIyNCIgaGVpZ2h0PSIyNCIgdmlld0JveD0iMCAwIDI0IDI0Ij4KICAgIDxnIGNsYXNzPSJqcC1pY29uMyIgZmlsbD0iIzYxNjE2MSI+CiAgICAgICAgPHBhdGggZD0iTTQgMThsOC41LTZMNCA2djEyem05LTEydjEybDguNS02TDEzIDZ6Ii8+CiAgICA8L2c+Cjwvc3ZnPgo=);
  --jp-icon-file-upload: url(data:image/svg+xml;base64,PHN2ZyB4bWxucz0iaHR0cDovL3d3dy53My5vcmcvMjAwMC9zdmciIHdpZHRoPSIxNiIgdmlld0JveD0iMCAwIDI0IDI0Ij4KICA8ZyBjbGFzcz0ianAtaWNvbjMiIGZpbGw9IiM2MTYxNjEiPgogICAgPHBhdGggZD0iTTkgMTZoNnYtNmg0bC03LTctNyA3aDR6bS00IDJoMTR2Mkg1eiIvPgogIDwvZz4KPC9zdmc+Cg==);
  --jp-icon-file: url(data:image/svg+xml;base64,PHN2ZyB4bWxucz0iaHR0cDovL3d3dy53My5vcmcvMjAwMC9zdmciIHdpZHRoPSIxNiIgdmlld0JveD0iMCAwIDIyIDIyIj4KICA8cGF0aCBjbGFzcz0ianAtaWNvbjMganAtaWNvbi1zZWxlY3RhYmxlIiBmaWxsPSIjNjE2MTYxIiBkPSJNMTkuMyA4LjJsLTUuNS01LjVjLS4zLS4zLS43LS41LTEuMi0uNUgzLjljLS44LjEtMS42LjktMS42IDEuOHYxNC4xYzAgLjkuNyAxLjYgMS42IDEuNmgxNC4yYy45IDAgMS42LS43IDEuNi0xLjZWOS40Yy4xLS41LS4xLS45LS40LTEuMnptLTUuOC0zLjNsMy40IDMuNmgtMy40VjQuOXptMy45IDEyLjdINC43Yy0uMSAwLS4yIDAtLjItLjJWNC43YzAtLjIuMS0uMy4yLS4zaDcuMnY0LjRzMCAuOC4zIDEuMWMuMy4zIDEuMS4zIDEuMS4zaDQuM3Y3LjJzLS4xLjItLjIuMnoiLz4KPC9zdmc+Cg==);
  --jp-icon-filter-dot: url(data:image/svg+xml;base64,PHN2ZyB4bWxucz0iaHR0cDovL3d3dy53My5vcmcvMjAwMC9zdmciIHdpZHRoPSIxNiIgdmlld0JveD0iMCAwIDI0IDI0Ij4KICA8ZyBjbGFzcz0ianAtaWNvbjMiIGZpbGw9IiNGRkYiPgogICAgPHBhdGggZD0iTTE0LDEyVjE5Ljg4QzE0LjA0LDIwLjE4IDEzLjk0LDIwLjUgMTMuNzEsMjAuNzFDMTMuMzIsMjEuMSAxMi42OSwyMS4xIDEyLjMsMjAuNzFMMTAuMjksMTguN0MxMC4wNiwxOC40NyA5Ljk2LDE4LjE2IDEwLDE3Ljg3VjEySDkuOTdMNC4yMSw0LjYyQzMuODcsNC4xOSAzLjk1LDMuNTYgNC4zOCwzLjIyQzQuNTcsMy4wOCA0Ljc4LDMgNSwzVjNIMTlWM0MxOS4yMiwzIDE5LjQzLDMuMDggMTkuNjIsMy4yMkMyMC4wNSwzLjU2IDIwLjEzLDQuMTkgMTkuNzksNC42MkwxNC4wMywxMkgxNFoiIC8+CiAgPC9nPgogIDxnIGNsYXNzPSJqcC1pY29uLWRvdCIgZmlsbD0iI0ZGRiI+CiAgICA8Y2lyY2xlIGN4PSIxOCIgY3k9IjE3IiByPSIzIj48L2NpcmNsZT4KICA8L2c+Cjwvc3ZnPgo=);
  --jp-icon-filter-list: url(data:image/svg+xml;base64,PHN2ZyB4bWxucz0iaHR0cDovL3d3dy53My5vcmcvMjAwMC9zdmciIHdpZHRoPSIxNiIgdmlld0JveD0iMCAwIDI0IDI0Ij4KICA8ZyBjbGFzcz0ianAtaWNvbjMiIGZpbGw9IiM2MTYxNjEiPgogICAgPHBhdGggZD0iTTEwIDE4aDR2LTJoLTR2MnpNMyA2djJoMThWNkgzem0zIDdoMTJ2LTJINnYyeiIvPgogIDwvZz4KPC9zdmc+Cg==);
  --jp-icon-filter: url(data:image/svg+xml;base64,PHN2ZyB4bWxucz0iaHR0cDovL3d3dy53My5vcmcvMjAwMC9zdmciIHdpZHRoPSIxNiIgdmlld0JveD0iMCAwIDI0IDI0Ij4KICA8ZyBjbGFzcz0ianAtaWNvbjMiIGZpbGw9IiNGRkYiPgogICAgPHBhdGggZD0iTTE0LDEyVjE5Ljg4QzE0LjA0LDIwLjE4IDEzLjk0LDIwLjUgMTMuNzEsMjAuNzFDMTMuMzIsMjEuMSAxMi42OSwyMS4xIDEyLjMsMjAuNzFMMTAuMjksMTguN0MxMC4wNiwxOC40NyA5Ljk2LDE4LjE2IDEwLDE3Ljg3VjEySDkuOTdMNC4yMSw0LjYyQzMuODcsNC4xOSAzLjk1LDMuNTYgNC4zOCwzLjIyQzQuNTcsMy4wOCA0Ljc4LDMgNSwzVjNIMTlWM0MxOS4yMiwzIDE5LjQzLDMuMDggMTkuNjIsMy4yMkMyMC4wNSwzLjU2IDIwLjEzLDQuMTkgMTkuNzksNC42MkwxNC4wMywxMkgxNFoiIC8+CiAgPC9nPgo8L3N2Zz4K);
  --jp-icon-folder-favorite: url(data:image/svg+xml;base64,PHN2ZyB4bWxucz0iaHR0cDovL3d3dy53My5vcmcvMjAwMC9zdmciIGhlaWdodD0iMjRweCIgdmlld0JveD0iMCAwIDI0IDI0IiB3aWR0aD0iMjRweCIgZmlsbD0iIzAwMDAwMCI+CiAgPHBhdGggZD0iTTAgMGgyNHYyNEgwVjB6IiBmaWxsPSJub25lIi8+PHBhdGggY2xhc3M9ImpwLWljb24zIGpwLWljb24tc2VsZWN0YWJsZSIgZmlsbD0iIzYxNjE2MSIgZD0iTTIwIDZoLThsLTItMkg0Yy0xLjEgMC0yIC45LTIgMnYxMmMwIDEuMS45IDIgMiAyaDE2YzEuMSAwIDItLjkgMi0yVjhjMC0xLjEtLjktMi0yLTJ6bS0yLjA2IDExTDE1IDE1LjI4IDEyLjA2IDE3bC43OC0zLjMzLTIuNTktMi4yNCAzLjQxLS4yOUwxNSA4bDEuMzQgMy4xNCAzLjQxLjI5LTIuNTkgMi4yNC43OCAzLjMzeiIvPgo8L3N2Zz4K);
  --jp-icon-folder: url(data:image/svg+xml;base64,PHN2ZyB4bWxucz0iaHR0cDovL3d3dy53My5vcmcvMjAwMC9zdmciIHdpZHRoPSIxNiIgdmlld0JveD0iMCAwIDI0IDI0Ij4KICA8cGF0aCBjbGFzcz0ianAtaWNvbjMganAtaWNvbi1zZWxlY3RhYmxlIiBmaWxsPSIjNjE2MTYxIiBkPSJNMTAgNEg0Yy0xLjEgMC0xLjk5LjktMS45OSAyTDIgMThjMCAxLjEuOSAyIDIgMmgxNmMxLjEgMCAyLS45IDItMlY4YzAtMS4xLS45LTItMi0yaC04bC0yLTJ6Ii8+Cjwvc3ZnPgo=);
  --jp-icon-home: url(data:image/svg+xml;base64,PHN2ZyB4bWxucz0iaHR0cDovL3d3dy53My5vcmcvMjAwMC9zdmciIGhlaWdodD0iMjRweCIgdmlld0JveD0iMCAwIDI0IDI0IiB3aWR0aD0iMjRweCIgZmlsbD0iIzAwMDAwMCI+CiAgPHBhdGggZD0iTTAgMGgyNHYyNEgweiIgZmlsbD0ibm9uZSIvPjxwYXRoIGNsYXNzPSJqcC1pY29uMyBqcC1pY29uLXNlbGVjdGFibGUiIGZpbGw9IiM2MTYxNjEiIGQ9Ik0xMCAyMHYtNmg0djZoNXYtOGgzTDEyIDMgMiAxMmgzdjh6Ii8+Cjwvc3ZnPgo=);
  --jp-icon-html5: url(data:image/svg+xml;base64,PHN2ZyB4bWxucz0iaHR0cDovL3d3dy53My5vcmcvMjAwMC9zdmciIHdpZHRoPSIxNiIgdmlld0JveD0iMCAwIDUxMiA1MTIiPgogIDxwYXRoIGNsYXNzPSJqcC1pY29uMCBqcC1pY29uLXNlbGVjdGFibGUiIGZpbGw9IiMwMDAiIGQ9Ik0xMDguNCAwaDIzdjIyLjhoMjEuMlYwaDIzdjY5aC0yM1Y0NmgtMjF2MjNoLTIzLjJNMjA2IDIzaC0yMC4zVjBoNjMuN3YyM0gyMjl2NDZoLTIzbTUzLjUtNjloMjQuMWwxNC44IDI0LjNMMzEzLjIgMGgyNC4xdjY5aC0yM1YzNC44bC0xNi4xIDI0LjgtMTYuMS0yNC44VjY5aC0yMi42bTg5LjItNjloMjN2NDYuMmgzMi42VjY5aC01NS42Ii8+CiAgPHBhdGggY2xhc3M9ImpwLWljb24tc2VsZWN0YWJsZSIgZmlsbD0iI2U0NGQyNiIgZD0iTTEwNy42IDQ3MWwtMzMtMzcwLjRoMzYyLjhsLTMzIDM3MC4yTDI1NS43IDUxMiIvPgogIDxwYXRoIGNsYXNzPSJqcC1pY29uLXNlbGVjdGFibGUiIGZpbGw9IiNmMTY1MjkiIGQ9Ik0yNTYgNDgwLjVWMTMxaDE0OC4zTDM3NiA0NDciLz4KICA8cGF0aCBjbGFzcz0ianAtaWNvbi1zZWxlY3RhYmxlLWludmVyc2UiIGZpbGw9IiNlYmViZWIiIGQ9Ik0xNDIgMTc2LjNoMTE0djQ1LjRoLTY0LjJsNC4yIDQ2LjVoNjB2NDUuM0gxNTQuNG0yIDIyLjhIMjAybDMuMiAzNi4zIDUwLjggMTMuNnY0Ny40bC05My4yLTI2Ii8+CiAgPHBhdGggY2xhc3M9ImpwLWljb24tc2VsZWN0YWJsZS1pbnZlcnNlIiBmaWxsPSIjZmZmIiBkPSJNMzY5LjYgMTc2LjNIMjU1Ljh2NDUuNGgxMDkuNm0tNC4xIDQ2LjVIMjU1Ljh2NDUuNGg1NmwtNS4zIDU5LTUwLjcgMTMuNnY0Ny4ybDkzLTI1LjgiLz4KPC9zdmc+Cg==);
  --jp-icon-image: url(data:image/svg+xml;base64,PHN2ZyB4bWxucz0iaHR0cDovL3d3dy53My5vcmcvMjAwMC9zdmciIHdpZHRoPSIxNiIgdmlld0JveD0iMCAwIDIyIDIyIj4KICA8cGF0aCBjbGFzcz0ianAtaWNvbi1icmFuZDQganAtaWNvbi1zZWxlY3RhYmxlLWludmVyc2UiIGZpbGw9IiNGRkYiIGQ9Ik0yLjIgMi4yaDE3LjV2MTcuNUgyLjJ6Ii8+CiAgPHBhdGggY2xhc3M9ImpwLWljb24tYnJhbmQwIGpwLWljb24tc2VsZWN0YWJsZSIgZmlsbD0iIzNGNTFCNSIgZD0iTTIuMiAyLjJ2MTcuNWgxNy41bC4xLTE3LjVIMi4yem0xMi4xIDIuMmMxLjIgMCAyLjIgMSAyLjIgMi4ycy0xIDIuMi0yLjIgMi4yLTIuMi0xLTIuMi0yLjIgMS0yLjIgMi4yLTIuMnpNNC40IDE3LjZsMy4zLTguOCAzLjMgNi42IDIuMi0zLjIgNC40IDUuNEg0LjR6Ii8+Cjwvc3ZnPgo=);
  --jp-icon-info: url(data:image/svg+xml;base64,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);
  --jp-icon-inspector: url(data:image/svg+xml;base64,PHN2ZyB4bWxucz0iaHR0cDovL3d3dy53My5vcmcvMjAwMC9zdmciIHdpZHRoPSIxNiIgdmlld0JveD0iMCAwIDI0IDI0Ij4KICA8cGF0aCBjbGFzcz0ianAtaW5zcGVjdG9yLWljb24tY29sb3IganAtaWNvbi1zZWxlY3RhYmxlIiBmaWxsPSIjNjE2MTYxIiBkPSJNMjAgNEg0Yy0xLjEgMC0xLjk5LjktMS45OSAyTDIgMThjMCAxLjEuOSAyIDIgMmgxNmMxLjEgMCAyLS45IDItMlY2YzAtMS4xLS45LTItMi0yem0tNSAxNEg0di00aDExdjR6bTAtNUg0VjloMTF2NHptNSA1aC00VjloNHY5eiIvPgo8L3N2Zz4K);
  --jp-icon-json: url(data:image/svg+xml;base64,PHN2ZyB4bWxucz0iaHR0cDovL3d3dy53My5vcmcvMjAwMC9zdmciIHdpZHRoPSIxNiIgdmlld0JveD0iMCAwIDIyIDIyIj4KICA8ZyBjbGFzcz0ianAtanNvbi1pY29uLWNvbG9yIGpwLWljb24tc2VsZWN0YWJsZSIgZmlsbD0iI0Y5QTgyNSI+CiAgICA8cGF0aCBkPSJNMjAuMiAxMS44Yy0xLjYgMC0xLjcuNS0xLjcgMSAwIC40LjEuOS4xIDEuMy4xLjUuMS45LjEgMS4zIDAgMS43LTEuNCAyLjMtMy41IDIuM2gtLjl2LTEuOWguNWMxLjEgMCAxLjQgMCAxLjQtLjggMC0uMyAwLS42LS4xLTEgMC0uNC0uMS0uOC0uMS0xLjIgMC0xLjMgMC0xLjggMS4zLTItMS4zLS4yLTEuMy0uNy0xLjMtMiAwLS40LjEtLjguMS0xLjIuMS0uNC4xLS43LjEtMSAwLS44LS40LS43LTEuNC0uOGgtLjVWNC4xaC45YzIuMiAwIDMuNS43IDMuNSAyLjMgMCAuNC0uMS45LS4xIDEuMy0uMS41LS4xLjktLjEgMS4zIDAgLjUuMiAxIDEuNyAxdjEuOHpNMS44IDEwLjFjMS42IDAgMS43LS41IDEuNy0xIDAtLjQtLjEtLjktLjEtMS4zLS4xLS41LS4xLS45LS4xLTEuMyAwLTEuNiAxLjQtMi4zIDMuNS0yLjNoLjl2MS45aC0uNWMtMSAwLTEuNCAwLTEuNC44IDAgLjMgMCAuNi4xIDEgMCAuMi4xLjYuMSAxIDAgMS4zIDAgMS44LTEuMyAyQzYgMTEuMiA2IDExLjcgNiAxM2MwIC40LS4xLjgtLjEgMS4yLS4xLjMtLjEuNy0uMSAxIDAgLjguMy44IDEuNC44aC41djEuOWgtLjljLTIuMSAwLTMuNS0uNi0zLjUtMi4zIDAtLjQuMS0uOS4xLTEuMy4xLS41LjEtLjkuMS0xLjMgMC0uNS0uMi0xLTEuNy0xdi0xLjl6Ii8+CiAgICA8Y2lyY2xlIGN4PSIxMSIgY3k9IjEzLjgiIHI9IjIuMSIvPgogICAgPGNpcmNsZSBjeD0iMTEiIGN5PSI4LjIiIHI9IjIuMSIvPgogIDwvZz4KPC9zdmc+Cg==);
  --jp-icon-julia: url(data:image/svg+xml;base64,PHN2ZyB4bWxucz0iaHR0cDovL3d3dy53My5vcmcvMjAwMC9zdmciIHdpZHRoPSIxNiIgdmlld0JveD0iMCAwIDMyNSAzMDAiPgogIDxnIGNsYXNzPSJqcC1icmFuZDAganAtaWNvbi1zZWxlY3RhYmxlIiBmaWxsPSIjY2IzYzMzIj4KICAgIDxwYXRoIGQ9Ik0gMTUwLjg5ODQzOCAyMjUgQyAxNTAuODk4NDM4IDI2Ni40MjE4NzUgMTE3LjMyMDMxMiAzMDAgNzUuODk4NDM4IDMwMCBDIDM0LjQ3NjU2MiAzMDAgMC44OTg0MzggMjY2LjQyMTg3NSAwLjg5ODQzOCAyMjUgQyAwLjg5ODQzOCAxODMuNTc4MTI1IDM0LjQ3NjU2MiAxNTAgNzUuODk4NDM4IDE1MCBDIDExNy4zMjAzMTIgMTUwIDE1MC44OTg0MzggMTgzLjU3ODEyNSAxNTAuODk4NDM4IDIyNSIvPgogIDwvZz4KICA8ZyBjbGFzcz0ianAtYnJhbmQwIGpwLWljb24tc2VsZWN0YWJsZSIgZmlsbD0iIzM4OTgyNiI+CiAgICA8cGF0aCBkPSJNIDIzNy41IDc1IEMgMjM3LjUgMTE2LjQyMTg3NSAyMDMuOTIxODc1IDE1MCAxNjIuNSAxNTAgQyAxMjEuMDc4MTI1IDE1MCA4Ny41IDExNi40MjE4NzUgODcuNSA3NSBDIDg3LjUgMzMuNTc4MTI1IDEyMS4wNzgxMjUgMCAxNjIuNSAwIEMgMjAzLjkyMTg3NSAwIDIzNy41IDMzLjU3ODEyNSAyMzcuNSA3NSIvPgogIDwvZz4KICA8ZyBjbGFzcz0ianAtYnJhbmQwIGpwLWljb24tc2VsZWN0YWJsZSIgZmlsbD0iIzk1NThiMiI+CiAgICA8cGF0aCBkPSJNIDMyNC4xMDE1NjIgMjI1IEMgMzI0LjEwMTU2MiAyNjYuNDIxODc1IDI5MC41MjM0MzggMzAwIDI0OS4xMDE1NjIgMzAwIEMgMjA3LjY3OTY4OCAzMDAgMTc0LjEwMTU2MiAyNjYuNDIxODc1IDE3NC4xMDE1NjIgMjI1IEMgMTc0LjEwMTU2MiAxODMuNTc4MTI1IDIwNy42Nzk2ODggMTUwIDI0OS4xMDE1NjIgMTUwIEMgMjkwLjUyMzQzOCAxNTAgMzI0LjEwMTU2MiAxODMuNTc4MTI1IDMyNC4xMDE1NjIgMjI1Ii8+CiAgPC9nPgo8L3N2Zz4K);
  --jp-icon-jupyter-favicon: url(data:image/svg+xml;base64,PHN2ZyB3aWR0aD0iMTUyIiBoZWlnaHQ9IjE2NSIgdmlld0JveD0iMCAwIDE1MiAxNjUiIHZlcnNpb249IjEuMSIgeG1sbnM9Imh0dHA6Ly93d3cudzMub3JnLzIwMDAvc3ZnIj4KICAgPGcgY2xhc3M9ImpwLWp1cHl0ZXItaWNvbi1jb2xvciIgZmlsbD0iI0YzNzcyNiI+CiAgICA8cGF0aCB0cmFuc2Zvcm09InRyYW5zbGF0ZSgwLjA3ODk0NywgMTEwLjU4MjkyNykiIGQ9Ik03NS45NDIyODQyLDI5LjU4MDQ1NjEgQzQzLjMwMjM5NDcsMjkuNTgwNDU2MSAxNC43OTY3ODMyLDE3LjY1MzQ2MzQgMCwwIEM1LjUxMDgzMjExLDE1Ljg0MDY4MjkgMTUuNzgxNTM4OSwyOS41NjY3NzMyIDI5LjM5MDQ5NDcsMzkuMjc4NDE3MSBDNDIuOTk5Nyw0OC45ODk4NTM3IDU5LjI3MzcsNTQuMjA2NzgwNSA3NS45NjA1Nzg5LDU0LjIwNjc4MDUgQzkyLjY0NzQ1NzksNTQuMjA2NzgwNSAxMDguOTIxNDU4LDQ4Ljk4OTg1MzcgMTIyLjUzMDY2MywzOS4yNzg0MTcxIEMxMzYuMTM5NDUzLDI5LjU2Njc3MzIgMTQ2LjQxMDI4NCwxNS44NDA2ODI5IDE1MS45MjExNTgsMCBDMTM3LjA4Nzg2OCwxNy42NTM0NjM0IDEwOC41ODI1ODksMjkuNTgwNDU2MSA3NS45NDIyODQyLDI5LjU4MDQ1NjEgTDc1Ljk0MjI4NDIsMjkuNTgwNDU2MSBaIiAvPgogICAgPHBhdGggdHJhbnNmb3JtPSJ0cmFuc2xhdGUoMC4wMzczNjgsIDAuNzA0ODc4KSIgZD0iTTc1Ljk3ODQ1NzksMjQuNjI2NDA3MyBDMTA4LjYxODc2MywyNC42MjY0MDczIDEzNy4xMjQ0NTgsMzYuNTUzNDQxNSAxNTEuOTIxMTU4LDU0LjIwNjc4MDUgQzE0Ni40MTAyODQsMzguMzY2MjIyIDEzNi4xMzk0NTMsMjQuNjQwMTMxNyAxMjIuNTMwNjYzLDE0LjkyODQ4NzggQzEwOC45MjE0NTgsNS4yMTY4NDM5IDkyLjY0NzQ1NzksMCA3NS45NjA1Nzg5LDAgQzU5LjI3MzcsMCA0Mi45OTk3LDUuMjE2ODQzOSAyOS4zOTA0OTQ3LDE0LjkyODQ4NzggQzE1Ljc4MTUzODksMjQuNjQwMTMxNyA1LjUxMDgzMjExLDM4LjM2NjIyMiAwLDU0LjIwNjc4MDUgQzE0LjgzMzA4MTYsMzYuNTg5OTI5MyA0My4zMzg1Njg0LDI0LjYyNjQwNzMgNzUuOTc4NDU3OSwyNC42MjY0MDczIEw3NS45Nzg0NTc5LDI0LjYyNjQwNzMgWiIgLz4KICA8L2c+Cjwvc3ZnPgo=);
  --jp-icon-jupyter: url(data:image/svg+xml;base64,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);
  --jp-icon-jupyterlab-wordmark: url(data:image/svg+xml;base64,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);
  --jp-icon-kernel: url(data:image/svg+xml;base64,PHN2ZyB4bWxucz0iaHR0cDovL3d3dy53My5vcmcvMjAwMC9zdmciIHdpZHRoPSIxNiIgdmlld0JveD0iMCAwIDI0IDI0Ij4KICAgIDxwYXRoIGNsYXNzPSJqcC1pY29uMiIgZmlsbD0iIzYxNjE2MSIgZD0iTTE1IDlIOXY2aDZWOXptLTIgNGgtMnYtMmgydjJ6bTgtMlY5aC0yVjdjMC0xLjEtLjktMi0yLTJoLTJWM2gtMnYyaC0yVjNIOXYySDdjLTEuMSAwLTIgLjktMiAydjJIM3YyaDJ2MkgzdjJoMnYyYzAgMS4xLjkgMiAyIDJoMnYyaDJ2LTJoMnYyaDJ2LTJoMmMxLjEgMCAyLS45IDItMnYtMmgydi0yaC0ydi0yaDJ6bS00IDZIN1Y3aDEwdjEweiIvPgo8L3N2Zz4K);
  --jp-icon-keyboard: url(data:image/svg+xml;base64,PHN2ZyB4bWxucz0iaHR0cDovL3d3dy53My5vcmcvMjAwMC9zdmciIHdpZHRoPSIxNiIgdmlld0JveD0iMCAwIDI0IDI0Ij4KICA8cGF0aCBjbGFzcz0ianAtaWNvbjMganAtaWNvbi1zZWxlY3RhYmxlIiBmaWxsPSIjNjE2MTYxIiBkPSJNMjAgNUg0Yy0xLjEgMC0xLjk5LjktMS45OSAyTDIgMTdjMCAxLjEuOSAyIDIgMmgxNmMxLjEgMCAyLS45IDItMlY3YzAtMS4xLS45LTItMi0yem0tOSAzaDJ2MmgtMlY4em0wIDNoMnYyaC0ydi0yek04IDhoMnYySDhWOHptMCAzaDJ2Mkg4di0yem0tMSAySDV2LTJoMnYyem0wLTNINVY4aDJ2MnptOSA3SDh2LTJoOHYyem0wLTRoLTJ2LTJoMnYyem0wLTNoLTJWOGgydjJ6bTMgM2gtMnYtMmgydjJ6bTAtM2gtMlY4aDJ2MnoiLz4KPC9zdmc+Cg==);
  --jp-icon-launch: url(data:image/svg+xml;base64,PHN2ZyB2aWV3Qm94PSIwIDAgMzIgMzIiIHdpZHRoPSIzMiIgeG1sbnM9Imh0dHA6Ly93d3cudzMub3JnLzIwMDAvc3ZnIj4KICA8ZyBjbGFzcz0ianAtaWNvbjMganAtaWNvbi1zZWxlY3RhYmxlIiBmaWxsPSIjNjE2MTYxIj4KICAgIDxwYXRoIGQ9Ik0yNiwyOEg2YTIuMDAyNywyLjAwMjcsMCwwLDEtMi0yVjZBMi4wMDI3LDIuMDAyNywwLDAsMSw2LDRIMTZWNkg2VjI2SDI2VjE2aDJWMjZBMi4wMDI3LDIuMDAyNywwLDAsMSwyNiwyOFoiLz4KICAgIDxwb2x5Z29uIHBvaW50cz0iMjAgMiAyMCA0IDI2LjU4NiA0IDE4IDEyLjU4NiAxOS40MTQgMTQgMjggNS40MTQgMjggMTIgMzAgMTIgMzAgMiAyMCAyIi8+CiAgPC9nPgo8L3N2Zz4K);
  --jp-icon-launcher: url(data:image/svg+xml;base64,PHN2ZyB4bWxucz0iaHR0cDovL3d3dy53My5vcmcvMjAwMC9zdmciIHdpZHRoPSIxNiIgdmlld0JveD0iMCAwIDI0IDI0Ij4KICA8cGF0aCBjbGFzcz0ianAtaWNvbjMganAtaWNvbi1zZWxlY3RhYmxlIiBmaWxsPSIjNjE2MTYxIiBkPSJNMTkgMTlINVY1aDdWM0g1YTIgMiAwIDAwLTIgMnYxNGEyIDIgMCAwMDIgMmgxNGMxLjEgMCAyLS45IDItMnYtN2gtMnY3ek0xNCAzdjJoMy41OWwtOS44MyA5LjgzIDEuNDEgMS40MUwxOSA2LjQxVjEwaDJWM2gtN3oiLz4KPC9zdmc+Cg==);
  --jp-icon-line-form: url(data:image/svg+xml;base64,PHN2ZyB4bWxucz0iaHR0cDovL3d3dy53My5vcmcvMjAwMC9zdmciIHdpZHRoPSIxNiIgdmlld0JveD0iMCAwIDI0IDI0Ij4KICAgIDxwYXRoIGZpbGw9IndoaXRlIiBkPSJNNS44OCA0LjEyTDEzLjc2IDEybC03Ljg4IDcuODhMOCAyMmwxMC0xMEw4IDJ6Ii8+Cjwvc3ZnPgo=);
  --jp-icon-link: url(data:image/svg+xml;base64,PHN2ZyB2aWV3Qm94PSIwIDAgMjQgMjQiIHdpZHRoPSIxNiIgeG1sbnM9Imh0dHA6Ly93d3cudzMub3JnLzIwMDAvc3ZnIj4KICA8ZyBjbGFzcz0ianAtaWNvbjMiIGZpbGw9IiM2MTYxNjEiPgogICAgPHBhdGggZD0iTTMuOSAxMmMwLTEuNzEgMS4zOS0zLjEgMy4xLTMuMWg0VjdIN2MtMi43NiAwLTUgMi4yNC01IDVzMi4yNCA1IDUgNWg0di0xLjlIN2MtMS43MSAwLTMuMS0xLjM5LTMuMS0zLjF6TTggMTNoOHYtMkg4djJ6bTktNmgtNHYxLjloNGMxLjcxIDAgMy4xIDEuMzkgMy4xIDMuMXMtMS4zOSAzLjEtMy4xIDMuMWgtNFYxN2g0YzIuNzYgMCA1LTIuMjQgNS01cy0yLjI0LTUtNS01eiIvPgogIDwvZz4KPC9zdmc+Cg==);
  --jp-icon-list: url(data:image/svg+xml;base64,PHN2ZyB4bWxucz0iaHR0cDovL3d3dy53My5vcmcvMjAwMC9zdmciIHdpZHRoPSIxNiIgdmlld0JveD0iMCAwIDI0IDI0Ij4KICAgIDxwYXRoIGNsYXNzPSJqcC1pY29uMiBqcC1pY29uLXNlbGVjdGFibGUiIGZpbGw9IiM2MTYxNjEiIGQ9Ik0xOSA1djE0SDVWNWgxNG0xLjEtMkgzLjljLS41IDAtLjkuNC0uOS45djE2LjJjMCAuNC40LjkuOS45aDE2LjJjLjQgMCAuOS0uNS45LS45VjMuOWMwLS41LS41LS45LS45LS45ek0xMSA3aDZ2MmgtNlY3em0wIDRoNnYyaC02di0yem0wIDRoNnYyaC02ek03IDdoMnYySDd6bTAgNGgydjJIN3ptMCA0aDJ2Mkg3eiIvPgo8L3N2Zz4K);
  --jp-icon-markdown: url(data:image/svg+xml;base64,PHN2ZyB4bWxucz0iaHR0cDovL3d3dy53My5vcmcvMjAwMC9zdmciIHdpZHRoPSIxNiIgdmlld0JveD0iMCAwIDIyIDIyIj4KICA8cGF0aCBjbGFzcz0ianAtaWNvbi1jb250cmFzdDAganAtaWNvbi1zZWxlY3RhYmxlIiBmaWxsPSIjN0IxRkEyIiBkPSJNNSAxNC45aDEybC02LjEgNnptOS40LTYuOGMwLTEuMy0uMS0yLjktLjEtNC41LS40IDEuNC0uOSAyLjktMS4zIDQuM2wtMS4zIDQuM2gtMkw4LjUgNy45Yy0uNC0xLjMtLjctMi45LTEtNC4zLS4xIDEuNi0uMSAzLjItLjIgNC42TDcgMTIuNEg0LjhsLjctMTFoMy4zTDEwIDVjLjQgMS4yLjcgMi43IDEgMy45LjMtMS4yLjctMi42IDEtMy45bDEuMi0zLjdoMy4zbC42IDExaC0yLjRsLS4zLTQuMnoiLz4KPC9zdmc+Cg==);
  --jp-icon-move-down: url(data:image/svg+xml;base64,PHN2ZyB3aWR0aD0iMTQiIGhlaWdodD0iMTQiIHZpZXdCb3g9IjAgMCAxNCAxNCIgZmlsbD0ibm9uZSIgeG1sbnM9Imh0dHA6Ly93d3cudzMub3JnLzIwMDAvc3ZnIj4KPHBhdGggY2xhc3M9ImpwLWljb24zIiBkPSJNMTIuNDcxIDcuNTI4OTlDMTIuNzYzMiA3LjIzNjg0IDEyLjc2MzIgNi43NjMxNiAxMi40NzEgNi40NzEwMVY2LjQ3MTAxQzEyLjE3OSA2LjE3OTA1IDExLjcwNTcgNi4xNzg4NCAxMS40MTM1IDYuNDcwNTRMNy43NSAxMC4xMjc1VjEuNzVDNy43NSAxLjMzNTc5IDcuNDE0MjEgMSA3IDFWMUM2LjU4NTc5IDEgNi4yNSAxLjMzNTc5IDYuMjUgMS43NVYxMC4xMjc1TDIuNTk3MjYgNi40NjgyMkMyLjMwMzM4IDYuMTczODEgMS44MjY0MSA2LjE3MzU5IDEuNTMyMjYgNi40Njc3NFY2LjQ2Nzc0QzEuMjM4MyA2Ljc2MTcgMS4yMzgzIDcuMjM4MyAxLjUzMjI2IDcuNTMyMjZMNi4yOTI4OSAxMi4yOTI5QzYuNjgzNDIgMTIuNjgzNCA3LjMxNjU4IDEyLjY4MzQgNy43MDcxMSAxMi4yOTI5TDEyLjQ3MSA3LjUyODk5WiIgZmlsbD0iIzYxNjE2MSIvPgo8L3N2Zz4K);
  --jp-icon-move-up: url(data:image/svg+xml;base64,PHN2ZyB3aWR0aD0iMTQiIGhlaWdodD0iMTQiIHZpZXdCb3g9IjAgMCAxNCAxNCIgZmlsbD0ibm9uZSIgeG1sbnM9Imh0dHA6Ly93d3cudzMub3JnLzIwMDAvc3ZnIj4KPHBhdGggY2xhc3M9ImpwLWljb24zIiBkPSJNMS41Mjg5OSA2LjQ3MTAxQzEuMjM2ODQgNi43NjMxNiAxLjIzNjg0IDcuMjM2ODQgMS41Mjg5OSA3LjUyODk5VjcuNTI4OTlDMS44MjA5NSA3LjgyMDk1IDIuMjk0MjYgNy44MjExNiAyLjU4NjQ5IDcuNTI5NDZMNi4yNSAzLjg3MjVWMTIuMjVDNi4yNSAxMi42NjQyIDYuNTg1NzkgMTMgNyAxM1YxM0M3LjQxNDIxIDEzIDcuNzUgMTIuNjY0MiA3Ljc1IDEyLjI1VjMuODcyNUwxMS40MDI3IDcuNTMxNzhDMTEuNjk2NiA3LjgyNjE5IDEyLjE3MzYgNy44MjY0MSAxMi40Njc3IDcuNTMyMjZWNy41MzIyNkMxMi43NjE3IDcuMjM4MyAxMi43NjE3IDYuNzYxNyAxMi40Njc3IDYuNDY3NzRMNy43MDcxMSAxLjcwNzExQzcuMzE2NTggMS4zMTY1OCA2LjY4MzQyIDEuMzE2NTggNi4yOTI4OSAxLjcwNzExTDEuNTI4OTkgNi40NzEwMVoiIGZpbGw9IiM2MTYxNjEiLz4KPC9zdmc+Cg==);
  --jp-icon-new-folder: url(data:image/svg+xml;base64,PHN2ZyB4bWxucz0iaHR0cDovL3d3dy53My5vcmcvMjAwMC9zdmciIHdpZHRoPSIxNiIgdmlld0JveD0iMCAwIDI0IDI0Ij4KICA8ZyBjbGFzcz0ianAtaWNvbjMiIGZpbGw9IiM2MTYxNjEiPgogICAgPHBhdGggZD0iTTIwIDZoLThsLTItMkg0Yy0xLjExIDAtMS45OS44OS0xLjk5IDJMMiAxOGMwIDEuMTEuODkgMiAyIDJoMTZjMS4xMSAwIDItLjg5IDItMlY4YzAtMS4xMS0uODktMi0yLTJ6bS0xIDhoLTN2M2gtMnYtM2gtM3YtMmgzVjloMnYzaDN2MnoiLz4KICA8L2c+Cjwvc3ZnPgo=);
  --jp-icon-not-trusted: url(data:image/svg+xml;base64,PHN2ZyBmaWxsPSJub25lIiB4bWxucz0iaHR0cDovL3d3dy53My5vcmcvMjAwMC9zdmciIHdpZHRoPSIxNiIgdmlld0JveD0iMCAwIDI1IDI1Ij4KICAgIDxwYXRoIGNsYXNzPSJqcC1pY29uMiIgc3Ryb2tlPSIjMzMzMzMzIiBzdHJva2Utd2lkdGg9IjIiIHRyYW5zZm9ybT0idHJhbnNsYXRlKDMgMykiIGQ9Ik0xLjg2MDk0IDExLjQ0MDlDMC44MjY0NDggOC43NzAyNyAwLjg2Mzc3OSA2LjA1NzY0IDEuMjQ5MDcgNC4xOTkzMkMyLjQ4MjA2IDMuOTMzNDcgNC4wODA2OCAzLjQwMzQ3IDUuNjAxMDIgMi44NDQ5QzcuMjM1NDkgMi4yNDQ0IDguODU2NjYgMS41ODE1IDkuOTg3NiAxLjA5NTM5QzExLjA1OTcgMS41ODM0MSAxMi42MDk0IDIuMjQ0NCAxNC4yMTggMi44NDMzOUMxNS43NTAzIDMuNDEzOTQgMTcuMzk5NSAzLjk1MjU4IDE4Ljc1MzkgNC4yMTM4NUMxOS4xMzY0IDYuMDcxNzcgMTkuMTcwOSA4Ljc3NzIyIDE4LjEzOSAxMS40NDA5QzE3LjAzMDMgMTQuMzAzMiAxNC42NjY4IDE3LjE4NDQgOS45OTk5OSAxOC45MzU0QzUuMzMzMTkgMTcuMTg0NCAyLjk2OTY4IDE0LjMwMzIgMS44NjA5NCAxMS40NDA5WiIvPgogICAgPHBhdGggY2xhc3M9ImpwLWljb24yIiBzdHJva2U9IiMzMzMzMzMiIHN0cm9rZS13aWR0aD0iMiIgdHJhbnNmb3JtPSJ0cmFuc2xhdGUoOS4zMTU5MiA5LjMyMDMxKSIgZD0iTTcuMzY4NDIgMEwwIDcuMzY0NzkiLz4KICAgIDxwYXRoIGNsYXNzPSJqcC1pY29uMiIgc3Ryb2tlPSIjMzMzMzMzIiBzdHJva2Utd2lkdGg9IjIiIHRyYW5zZm9ybT0idHJhbnNsYXRlKDkuMzE1OTIgMTYuNjgzNikgc2NhbGUoMSAtMSkiIGQ9Ik03LjM2ODQyIDBMMCA3LjM2NDc5Ii8+Cjwvc3ZnPgo=);
  --jp-icon-notebook: url(data:image/svg+xml;base64,PHN2ZyB4bWxucz0iaHR0cDovL3d3dy53My5vcmcvMjAwMC9zdmciIHdpZHRoPSIxNiIgdmlld0JveD0iMCAwIDIyIDIyIj4KICA8ZyBjbGFzcz0ianAtbm90ZWJvb2staWNvbi1jb2xvciBqcC1pY29uLXNlbGVjdGFibGUiIGZpbGw9IiNFRjZDMDAiPgogICAgPHBhdGggZD0iTTE4LjcgMy4zdjE1LjRIMy4zVjMuM2gxNS40bTEuNS0xLjVIMS44djE4LjNoMTguM2wuMS0xOC4zeiIvPgogICAgPHBhdGggZD0iTTE2LjUgMTYuNWwtNS40LTQuMy01LjYgNC4zdi0xMWgxMXoiLz4KICA8L2c+Cjwvc3ZnPgo=);
  --jp-icon-numbering: url(data:image/svg+xml;base64,PHN2ZyB3aWR0aD0iMjIiIGhlaWdodD0iMjIiIHZpZXdCb3g9IjAgMCAyOCAyOCIgeG1sbnM9Imh0dHA6Ly93d3cudzMub3JnLzIwMDAvc3ZnIj4KCTxnIGNsYXNzPSJqcC1pY29uMyIgZmlsbD0iIzYxNjE2MSI+CgkJPHBhdGggZD0iTTQgMTlINlYxOS41SDVWMjAuNUg2VjIxSDRWMjJIN1YxOEg0VjE5Wk01IDEwSDZWNkg0VjdINVYxMFpNNCAxM0g1LjhMNCAxNS4xVjE2SDdWMTVINS4yTDcgMTIuOVYxMkg0VjEzWk05IDdWOUgyM1Y3SDlaTTkgMjFIMjNWMTlIOVYyMVpNOSAxNUgyM1YxM0g5VjE1WiIvPgoJPC9nPgo8L3N2Zz4K);
  --jp-icon-offline-bolt: url(data:image/svg+xml;base64,PHN2ZyB4bWxucz0iaHR0cDovL3d3dy53My5vcmcvMjAwMC9zdmciIHZpZXdCb3g9IjAgMCAyNCAyNCIgd2lkdGg9IjE2Ij4KICA8ZyBjbGFzcz0ianAtaWNvbjMiIGZpbGw9IiM2MTYxNjEiPgogICAgPHBhdGggZD0iTTEyIDIuMDJjLTUuNTEgMC05Ljk4IDQuNDctOS45OCA5Ljk4czQuNDcgOS45OCA5Ljk4IDkuOTggOS45OC00LjQ3IDkuOTgtOS45OFMxNy41MSAyLjAyIDEyIDIuMDJ6TTExLjQ4IDIwdi02LjI2SDhMMTMgNHY2LjI2aDMuMzVMMTEuNDggMjB6Ii8+CiAgPC9nPgo8L3N2Zz4K);
  --jp-icon-palette: url(data:image/svg+xml;base64,PHN2ZyB4bWxucz0iaHR0cDovL3d3dy53My5vcmcvMjAwMC9zdmciIHdpZHRoPSIxNiIgdmlld0JveD0iMCAwIDI0IDI0Ij4KICA8ZyBjbGFzcz0ianAtaWNvbjMiIGZpbGw9IiM2MTYxNjEiPgogICAgPHBhdGggZD0iTTE4IDEzVjIwSDRWNkg5LjAyQzkuMDcgNS4yOSA5LjI0IDQuNjIgOS41IDRINEMyLjkgNCAyIDQuOSAyIDZWMjBDMiAyMS4xIDIuOSAyMiA0IDIySDE4QzE5LjEgMjIgMjAgMjEuMSAyMCAyMFYxNUwxOCAxM1pNMTkuMyA4Ljg5QzE5Ljc0IDguMTkgMjAgNy4zOCAyMCA2LjVDMjAgNC4wMSAxNy45OSAyIDE1LjUgMkMxMy4wMSAyIDExIDQuMDEgMTEgNi41QzExIDguOTkgMTMuMDEgMTEgMTUuNDkgMTFDMTYuMzcgMTEgMTcuMTkgMTAuNzQgMTcuODggMTAuM0wyMSAxMy40MkwyMi40MiAxMkwxOS4zIDguODlaTTE1LjUgOUMxNC4xMiA5IDEzIDcuODggMTMgNi41QzEzIDUuMTIgMTQuMTIgNCAxNS41IDRDMTYuODggNCAxOCA1LjEyIDE4IDYuNUMxOCA3Ljg4IDE2Ljg4IDkgMTUuNSA5WiIvPgogICAgPHBhdGggZmlsbC1ydWxlPSJldmVub2RkIiBjbGlwLXJ1bGU9ImV2ZW5vZGQiIGQ9Ik00IDZIOS4wMTg5NEM5LjAwNjM5IDYuMTY1MDIgOSA2LjMzMTc2IDkgNi41QzkgOC44MTU3NyAxMC4yMTEgMTAuODQ4NyAxMi4wMzQzIDEySDlWMTRIMTZWMTIuOTgxMUMxNi41NzAzIDEyLjkzNzcgMTcuMTIgMTIuODIwNyAxNy42Mzk2IDEyLjYzOTZMMTggMTNWMjBINFY2Wk04IDhINlYxMEg4VjhaTTYgMTJIOFYxNEg2VjEyWk04IDE2SDZWMThIOFYxNlpNOSAxNkgxNlYxOEg5VjE2WiIvPgogIDwvZz4KPC9zdmc+Cg==);
  --jp-icon-paste: url(data:image/svg+xml;base64,PHN2ZyBoZWlnaHQ9IjI0IiB2aWV3Qm94PSIwIDAgMjQgMjQiIHdpZHRoPSIyNCIgeG1sbnM9Imh0dHA6Ly93d3cudzMub3JnLzIwMDAvc3ZnIj4KICAgIDxnIGNsYXNzPSJqcC1pY29uMyIgZmlsbD0iIzYxNjE2MSI+CiAgICAgICAgPHBhdGggZD0iTTE5IDJoLTQuMThDMTQuNC44NCAxMy4zIDAgMTIgMGMtMS4zIDAtMi40Ljg0LTIuODIgMkg1Yy0xLjEgMC0yIC45LTIgMnYxNmMwIDEuMS45IDIgMiAyaDE0YzEuMSAwIDItLjkgMi0yVjRjMC0xLjEtLjktMi0yLTJ6bS03IDBjLjU1IDAgMSAuNDUgMSAxcy0uNDUgMS0xIDEtMS0uNDUtMS0xIC40NS0xIDEtMXptNyAxOEg1VjRoMnYzaDEwVjRoMnYxNnoiLz4KICAgIDwvZz4KPC9zdmc+Cg==);
  --jp-icon-pdf: url(data:image/svg+xml;base64,PHN2ZwogICB4bWxucz0iaHR0cDovL3d3dy53My5vcmcvMjAwMC9zdmciIHZpZXdCb3g9IjAgMCAyMiAyMiIgd2lkdGg9IjE2Ij4KICAgIDxwYXRoIHRyYW5zZm9ybT0icm90YXRlKDQ1KSIgY2xhc3M9ImpwLWljb24tc2VsZWN0YWJsZSIgZmlsbD0iI0ZGMkEyQSIKICAgICAgIGQ9Im0gMjIuMzQ0MzY5LC0zLjAxNjM2NDIgaCA1LjYzODYwNCB2IDEuNTc5MjQzMyBoIC0zLjU0OTIyNyB2IDEuNTA4NjkyOTkgaCAzLjMzNzU3NiBWIDEuNjUwODE1NCBoIC0zLjMzNzU3NiB2IDMuNDM1MjYxMyBoIC0yLjA4OTM3NyB6IG0gLTcuMTM2NDQ0LDEuNTc5MjQzMyB2IDQuOTQzOTU0MyBoIDAuNzQ4OTIgcSAxLjI4MDc2MSwwIDEuOTUzNzAzLC0wLjYzNDk1MzUgMC42NzgzNjksLTAuNjM0OTUzNSAwLjY3ODM2OSwtMS44NDUxNjQxIDAsLTEuMjA0NzgzNTUgLTAuNjcyOTQyLC0xLjgzNDMxMDExIC0wLjY3Mjk0MiwtMC42Mjk1MjY1OSAtMS45NTkxMywtMC42Mjk1MjY1OSB6IG0gLTIuMDg5Mzc3LC0xLjU3OTI0MzMgaCAyLjIwMzM0MyBxIDEuODQ1MTY0LDAgMi43NDYwMzksMC4yNjU5MjA3IDAuOTA2MzAxLDAuMjYwNDkzNyAxLjU1MjEwOCwwLjg5MDAyMDMgMC41Njk4MywwLjU0ODEyMjMgMC44NDY2MDUsMS4yNjQ0ODAwNiAwLjI3Njc3NCwwLjcxNjM1NzgxIDAuMjc2Nzc0LDEuNjIyNjU4OTQgMCwwLjkxNzE1NTEgLTAuMjc2Nzc0LDEuNjM4OTM5OSAtMC4yNzY3NzUsMC43MTYzNTc4IC0wLjg0NjYwNSwxLjI2NDQ4IC0wLjY1MTIzNCwwLjYyOTUyNjYgLTEuNTYyOTYyLDAuODk1NDQ3MyAtMC45MTE3MjgsMC4yNjA0OTM3IC0yLjczNTE4NSwwLjI2MDQ5MzcgaCAtMi4yMDMzNDMgeiBtIC04LjE0NTg1NjUsMCBoIDMuNDY3ODIzIHEgMS41NDY2ODE2LDAgMi4zNzE1Nzg1LDAuNjg5MjIzIDAuODMwMzI0LDAuNjgzNzk2MSAwLjgzMDMyNCwxLjk1MzcwMzE0IDAsMS4yNzUzMzM5NyAtMC44MzAzMjQsMS45NjQ1NTcwNiBRIDkuOTg3MTk2MSwyLjI3NDkxNSA4LjQ0MDUxNDUsMi4yNzQ5MTUgSCA3LjA2MjA2ODQgViA1LjA4NjA3NjcgSCA0Ljk3MjY5MTUgWiBtIDIuMDg5Mzc2OSwxLjUxNDExOTkgdiAyLjI2MzAzOTQzIGggMS4xNTU5NDEgcSAwLjYwNzgxODgsMCAwLjkzODg2MjksLTAuMjkzMDU1NDcgMC4zMzEwNDQxLC0wLjI5ODQ4MjQxIDAuMzMxMDQ0MSwtMC44NDExNzc3MiAwLC0wLjU0MjY5NTMxIC0wLjMzMTA0NDEsLTAuODM1NzUwNzQgLTAuMzMxMDQ0MSwtMC4yOTMwNTU1IC0wLjkzODg2MjksLTAuMjkzMDU1NSB6IgovPgo8L3N2Zz4K);
  --jp-icon-python: url(data:image/svg+xml;base64,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);
  --jp-icon-r-kernel: url(data:image/svg+xml;base64,PHN2ZyB4bWxucz0iaHR0cDovL3d3dy53My5vcmcvMjAwMC9zdmciIHdpZHRoPSIxNiIgdmlld0JveD0iMCAwIDIyIDIyIj4KICA8cGF0aCBjbGFzcz0ianAtaWNvbi1jb250cmFzdDMganAtaWNvbi1zZWxlY3RhYmxlIiBmaWxsPSIjMjE5NkYzIiBkPSJNNC40IDIuNWMxLjItLjEgMi45LS4zIDQuOS0uMyAyLjUgMCA0LjEuNCA1LjIgMS4zIDEgLjcgMS41IDEuOSAxLjUgMy41IDAgMi0xLjQgMy41LTIuOSA0LjEgMS4yLjQgMS43IDEuNiAyLjIgMyAuNiAxLjkgMSAzLjkgMS4zIDQuNmgtMy44Yy0uMy0uNC0uOC0xLjctMS4yLTMuN3MtMS4yLTIuNi0yLjYtMi42aC0uOXY2LjRINC40VjIuNXptMy43IDYuOWgxLjRjMS45IDAgMi45LS45IDIuOS0yLjNzLTEtMi4zLTIuOC0yLjNjLS43IDAtMS4zIDAtMS42LjJ2NC41aC4xdi0uMXoiLz4KPC9zdmc+Cg==);
  --jp-icon-react: url(data:image/svg+xml;base64,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);
  --jp-icon-redo: url(data:image/svg+xml;base64,PHN2ZyB4bWxucz0iaHR0cDovL3d3dy53My5vcmcvMjAwMC9zdmciIGhlaWdodD0iMjQiIHZpZXdCb3g9IjAgMCAyNCAyNCIgd2lkdGg9IjE2Ij4KICA8ZyBjbGFzcz0ianAtaWNvbjMiIGZpbGw9IiM2MTYxNjEiPgogICAgICA8cGF0aCBkPSJNMCAwaDI0djI0SDB6IiBmaWxsPSJub25lIi8+PHBhdGggZD0iTTE4LjQgMTAuNkMxNi41NSA4Ljk5IDE0LjE1IDggMTEuNSA4Yy00LjY1IDAtOC41OCAzLjAzLTkuOTYgNy4yMkwzLjkgMTZjMS4wNS0zLjE5IDQuMDUtNS41IDcuNi01LjUgMS45NSAwIDMuNzMuNzIgNS4xMiAxLjg4TDEzIDE2aDlWN2wtMy42IDMuNnoiLz4KICA8L2c+Cjwvc3ZnPgo=);
  --jp-icon-refresh: url(data:image/svg+xml;base64,PHN2ZyB4bWxucz0iaHR0cDovL3d3dy53My5vcmcvMjAwMC9zdmciIHdpZHRoPSIxNiIgdmlld0JveD0iMCAwIDE4IDE4Ij4KICAgIDxnIGNsYXNzPSJqcC1pY29uMyIgZmlsbD0iIzYxNjE2MSI+CiAgICAgICAgPHBhdGggZD0iTTkgMTMuNWMtMi40OSAwLTQuNS0yLjAxLTQuNS00LjVTNi41MSA0LjUgOSA0LjVjMS4yNCAwIDIuMzYuNTIgMy4xNyAxLjMzTDEwIDhoNVYzbC0xLjc2IDEuNzZDMTIuMTUgMy42OCAxMC42NiAzIDkgMyA1LjY5IDMgMy4wMSA1LjY5IDMuMDEgOVM1LjY5IDE1IDkgMTVjMi45NyAwIDUuNDMtMi4xNiA1LjktNWgtMS41MmMtLjQ2IDItMi4yNCAzLjUtNC4zOCAzLjV6Ii8+CiAgICA8L2c+Cjwvc3ZnPgo=);
  --jp-icon-regex: url(data:image/svg+xml;base64,PHN2ZyB4bWxucz0iaHR0cDovL3d3dy53My5vcmcvMjAwMC9zdmciIHdpZHRoPSIxNiIgdmlld0JveD0iMCAwIDIwIDIwIj4KICA8ZyBjbGFzcz0ianAtaWNvbjIiIGZpbGw9IiM0MTQxNDEiPgogICAgPHJlY3QgeD0iMiIgeT0iMiIgd2lkdGg9IjE2IiBoZWlnaHQ9IjE2Ii8+CiAgPC9nPgoKICA8ZyBjbGFzcz0ianAtaWNvbi1hY2NlbnQyIiBmaWxsPSIjRkZGIj4KICAgIDxjaXJjbGUgY2xhc3M9InN0MiIgY3g9IjUuNSIgY3k9IjE0LjUiIHI9IjEuNSIvPgogICAgPHJlY3QgeD0iMTIiIHk9IjQiIGNsYXNzPSJzdDIiIHdpZHRoPSIxIiBoZWlnaHQ9IjgiLz4KICAgIDxyZWN0IHg9IjguNSIgeT0iNy41IiB0cmFuc2Zvcm09Im1hdHJpeCgwLjg2NiAtMC41IDAuNSAwLjg2NiAtMi4zMjU1IDcuMzIxOSkiIGNsYXNzPSJzdDIiIHdpZHRoPSI4IiBoZWlnaHQ9IjEiLz4KICAgIDxyZWN0IHg9IjEyIiB5PSI0IiB0cmFuc2Zvcm09Im1hdHJpeCgwLjUgLTAuODY2IDAuODY2IDAuNSAtMC42Nzc5IDE0LjgyNTIpIiBjbGFzcz0ic3QyIiB3aWR0aD0iMSIgaGVpZ2h0PSI4Ii8+CiAgPC9nPgo8L3N2Zz4K);
  --jp-icon-run: url(data:image/svg+xml;base64,PHN2ZyBoZWlnaHQ9IjI0IiB2aWV3Qm94PSIwIDAgMjQgMjQiIHdpZHRoPSIyNCIgeG1sbnM9Imh0dHA6Ly93d3cudzMub3JnLzIwMDAvc3ZnIj4KICAgIDxnIGNsYXNzPSJqcC1pY29uMyIgZmlsbD0iIzYxNjE2MSI+CiAgICAgICAgPHBhdGggZD0iTTggNXYxNGwxMS03eiIvPgogICAgPC9nPgo8L3N2Zz4K);
  --jp-icon-running: url(data:image/svg+xml;base64,PHN2ZyB4bWxucz0iaHR0cDovL3d3dy53My5vcmcvMjAwMC9zdmciIHdpZHRoPSIxNiIgdmlld0JveD0iMCAwIDUxMiA1MTIiPgogIDxnIGNsYXNzPSJqcC1pY29uMyIgZmlsbD0iIzYxNjE2MSI+CiAgICA8cGF0aCBkPSJNMjU2IDhDMTE5IDggOCAxMTkgOCAyNTZzMTExIDI0OCAyNDggMjQ4IDI0OC0xMTEgMjQ4LTI0OFMzOTMgOCAyNTYgOHptOTYgMzI4YzAgOC44LTcuMiAxNi0xNiAxNkgxNzZjLTguOCAwLTE2LTcuMi0xNi0xNlYxNzZjMC04LjggNy4yLTE2IDE2LTE2aDE2MGM4LjggMCAxNiA3LjIgMTYgMTZ2MTYweiIvPgogIDwvZz4KPC9zdmc+Cg==);
  --jp-icon-save: url(data:image/svg+xml;base64,PHN2ZyBoZWlnaHQ9IjI0IiB2aWV3Qm94PSIwIDAgMjQgMjQiIHdpZHRoPSIyNCIgeG1sbnM9Imh0dHA6Ly93d3cudzMub3JnLzIwMDAvc3ZnIj4KICAgIDxnIGNsYXNzPSJqcC1pY29uMyIgZmlsbD0iIzYxNjE2MSI+CiAgICAgICAgPHBhdGggZD0iTTE3IDNINWMtMS4xMSAwLTIgLjktMiAydjE0YzAgMS4xLjg5IDIgMiAyaDE0YzEuMSAwIDItLjkgMi0yVjdsLTQtNHptLTUgMTZjLTEuNjYgMC0zLTEuMzQtMy0zczEuMzQtMyAzLTMgMyAxLjM0IDMgMy0xLjM0IDMtMyAzem0zLTEwSDVWNWgxMHY0eiIvPgogICAgPC9nPgo8L3N2Zz4K);
  --jp-icon-search: url(data:image/svg+xml;base64,PHN2ZyB2aWV3Qm94PSIwIDAgMTggMTgiIHdpZHRoPSIxNiIgeG1sbnM9Imh0dHA6Ly93d3cudzMub3JnLzIwMDAvc3ZnIj4KICA8ZyBjbGFzcz0ianAtaWNvbjMiIGZpbGw9IiM2MTYxNjEiPgogICAgPHBhdGggZD0iTTEyLjEsMTAuOWgtMC43bC0wLjItMC4yYzAuOC0wLjksMS4zLTIuMiwxLjMtMy41YzAtMy0yLjQtNS40LTUuNC01LjRTMS44LDQuMiwxLjgsNy4xczIuNCw1LjQsNS40LDUuNCBjMS4zLDAsMi41LTAuNSwzLjUtMS4zbDAuMiwwLjJ2MC43bDQuMSw0LjFsMS4yLTEuMkwxMi4xLDEwLjl6IE03LjEsMTAuOWMtMi4xLDAtMy43LTEuNy0zLjctMy43czEuNy0zLjcsMy43LTMuN3MzLjcsMS43LDMuNywzLjcgUzkuMiwxMC45LDcuMSwxMC45eiIvPgogIDwvZz4KPC9zdmc+Cg==);
  --jp-icon-settings: url(data:image/svg+xml;base64,PHN2ZyB4bWxucz0iaHR0cDovL3d3dy53My5vcmcvMjAwMC9zdmciIHdpZHRoPSIxNiIgdmlld0JveD0iMCAwIDI0IDI0Ij4KICA8cGF0aCBjbGFzcz0ianAtaWNvbjMganAtaWNvbi1zZWxlY3RhYmxlIiBmaWxsPSIjNjE2MTYxIiBkPSJNMTkuNDMgMTIuOThjLjA0LS4zMi4wNy0uNjQuMDctLjk4cy0uMDMtLjY2LS4wNy0uOThsMi4xMS0xLjY1Yy4xOS0uMTUuMjQtLjQyLjEyLS42NGwtMi0zLjQ2Yy0uMTItLjIyLS4zOS0uMy0uNjEtLjIybC0yLjQ5IDFjLS41Mi0uNC0xLjA4LS43My0xLjY5LS45OGwtLjM4LTIuNjVBLjQ4OC40ODggMCAwMDE0IDJoLTRjLS4yNSAwLS40Ni4xOC0uNDkuNDJsLS4zOCAyLjY1Yy0uNjEuMjUtMS4xNy41OS0xLjY5Ljk4bC0yLjQ5LTFjLS4yMy0uMDktLjQ5IDAtLjYxLjIybC0yIDMuNDZjLS4xMy4yMi0uMDcuNDkuMTIuNjRsMi4xMSAxLjY1Yy0uMDQuMzItLjA3LjY1LS4wNy45OHMuMDMuNjYuMDcuOThsLTIuMTEgMS42NWMtLjE5LjE1LS4yNC40Mi0uMTIuNjRsMiAzLjQ2Yy4xMi4yMi4zOS4zLjYxLjIybDIuNDktMWMuNTIuNCAxLjA4LjczIDEuNjkuOThsLjM4IDIuNjVjLjAzLjI0LjI0LjQyLjQ5LjQyaDRjLjI1IDAgLjQ2LS4xOC40OS0uNDJsLjM4LTIuNjVjLjYxLS4yNSAxLjE3LS41OSAxLjY5LS45OGwyLjQ5IDFjLjIzLjA5LjQ5IDAgLjYxLS4yMmwyLTMuNDZjLjEyLS4yMi4wNy0uNDktLjEyLS42NGwtMi4xMS0xLjY1ek0xMiAxNS41Yy0xLjkzIDAtMy41LTEuNTctMy41LTMuNXMxLjU3LTMuNSAzLjUtMy41IDMuNSAxLjU3IDMuNSAzLjUtMS41NyAzLjUtMy41IDMuNXoiLz4KPC9zdmc+Cg==);
  --jp-icon-share: url(data:image/svg+xml;base64,PHN2ZyB3aWR0aD0iMTYiIHZpZXdCb3g9IjAgMCAyNCAyNCIgeG1sbnM9Imh0dHA6Ly93d3cudzMub3JnLzIwMDAvc3ZnIj4KICA8ZyBjbGFzcz0ianAtaWNvbjMiIGZpbGw9IiM2MTYxNjEiPgogICAgPHBhdGggZD0iTSAxOCAyIEMgMTYuMzU0OTkgMiAxNSAzLjM1NDk5MDQgMTUgNSBDIDE1IDUuMTkwOTUyOSAxNS4wMjE3OTEgNS4zNzcxMjI0IDE1LjA1NjY0MSA1LjU1ODU5MzggTCA3LjkyMTg3NSA5LjcyMDcwMzEgQyA3LjM5ODUzOTkgOS4yNzc4NTM5IDYuNzMyMDc3MSA5IDYgOSBDIDQuMzU0OTkwNCA5IDMgMTAuMzU0OTkgMyAxMiBDIDMgMTMuNjQ1MDEgNC4zNTQ5OTA0IDE1IDYgMTUgQyA2LjczMjA3NzEgMTUgNy4zOTg1Mzk5IDE0LjcyMjE0NiA3LjkyMTg3NSAxNC4yNzkyOTcgTCAxNS4wNTY2NDEgMTguNDM5NDUzIEMgMTUuMDIxNTU1IDE4LjYyMTUxNCAxNSAxOC44MDgzODYgMTUgMTkgQyAxNSAyMC42NDUwMSAxNi4zNTQ5OSAyMiAxOCAyMiBDIDE5LjY0NTAxIDIyIDIxIDIwLjY0NTAxIDIxIDE5IEMgMjEgMTcuMzU0OTkgMTkuNjQ1MDEgMTYgMTggMTYgQyAxNy4yNjc0OCAxNiAxNi42MDE1OTMgMTYuMjc5MzI4IDE2LjA3ODEyNSAxNi43MjI2NTYgTCA4Ljk0MzM1OTQgMTIuNTU4NTk0IEMgOC45NzgyMDk1IDEyLjM3NzEyMiA5IDEyLjE5MDk1MyA5IDEyIEMgOSAxMS44MDkwNDcgOC45NzgyMDk1IDExLjYyMjg3OCA4Ljk0MzM1OTQgMTEuNDQxNDA2IEwgMTYuMDc4MTI1IDcuMjc5Mjk2OSBDIDE2LjYwMTQ2IDcuNzIyMTQ2MSAxNy4yNjc5MjMgOCAxOCA4IEMgMTkuNjQ1MDEgOCAyMSA2LjY0NTAwOTYgMjEgNSBDIDIxIDMuMzU0OTkwNCAxOS42NDUwMSAyIDE4IDIgeiBNIDE4IDQgQyAxOC41NjQxMjkgNCAxOSA0LjQzNTg3MDYgMTkgNSBDIDE5IDUuNTY0MTI5NCAxOC41NjQxMjkgNiAxOCA2IEMgMTcuNDM1ODcxIDYgMTcgNS41NjQxMjk0IDE3IDUgQyAxNyA0LjQzNTg3MDYgMTcuNDM1ODcxIDQgMTggNCB6IE0gNiAxMSBDIDYuNTY0MTI5NCAxMSA3IDExLjQzNTg3MSA3IDEyIEMgNyAxMi41NjQxMjkgNi41NjQxMjk0IDEzIDYgMTMgQyA1LjQzNTg3MDYgMTMgNSAxMi41NjQxMjkgNSAxMiBDIDUgMTEuNDM1ODcxIDUuNDM1ODcwNiAxMSA2IDExIHogTSAxOCAxOCBDIDE4LjU2NDEyOSAxOCAxOSAxOC40MzU4NzEgMTkgMTkgQyAxOSAxOS41NjQxMjkgMTguNTY0MTI5IDIwIDE4IDIwIEMgMTcuNDM1ODcxIDIwIDE3IDE5LjU2NDEyOSAxNyAxOSBDIDE3IDE4LjQzNTg3MSAxNy40MzU4NzEgMTggMTggMTggeiIvPgogIDwvZz4KPC9zdmc+Cg==);
  --jp-icon-spreadsheet: url(data:image/svg+xml;base64,PHN2ZyB4bWxucz0iaHR0cDovL3d3dy53My5vcmcvMjAwMC9zdmciIHdpZHRoPSIxNiIgdmlld0JveD0iMCAwIDIyIDIyIj4KICA8cGF0aCBjbGFzcz0ianAtaWNvbi1jb250cmFzdDEganAtaWNvbi1zZWxlY3RhYmxlIiBmaWxsPSIjNENBRjUwIiBkPSJNMi4yIDIuMnYxNy42aDE3LjZWMi4ySDIuMnptMTUuNCA3LjdoLTUuNVY0LjRoNS41djUuNXpNOS45IDQuNHY1LjVINC40VjQuNGg1LjV6bS01LjUgNy43aDUuNXY1LjVINC40di01LjV6bTcuNyA1LjV2LTUuNWg1LjV2NS41aC01LjV6Ii8+Cjwvc3ZnPgo=);
  --jp-icon-stop: url(data:image/svg+xml;base64,PHN2ZyBoZWlnaHQ9IjI0IiB2aWV3Qm94PSIwIDAgMjQgMjQiIHdpZHRoPSIyNCIgeG1sbnM9Imh0dHA6Ly93d3cudzMub3JnLzIwMDAvc3ZnIj4KICAgIDxnIGNsYXNzPSJqcC1pY29uMyIgZmlsbD0iIzYxNjE2MSI+CiAgICAgICAgPHBhdGggZD0iTTAgMGgyNHYyNEgweiIgZmlsbD0ibm9uZSIvPgogICAgICAgIDxwYXRoIGQ9Ik02IDZoMTJ2MTJINnoiLz4KICAgIDwvZz4KPC9zdmc+Cg==);
  --jp-icon-tab: url(data:image/svg+xml;base64,PHN2ZyB4bWxucz0iaHR0cDovL3d3dy53My5vcmcvMjAwMC9zdmciIHdpZHRoPSIxNiIgdmlld0JveD0iMCAwIDI0IDI0Ij4KICA8ZyBjbGFzcz0ianAtaWNvbjMiIGZpbGw9IiM2MTYxNjEiPgogICAgPHBhdGggZD0iTTIxIDNIM2MtMS4xIDAtMiAuOS0yIDJ2MTRjMCAxLjEuOSAyIDIgMmgxOGMxLjEgMCAyLS45IDItMlY1YzAtMS4xLS45LTItMi0yem0wIDE2SDNWNWgxMHY0aDh2MTB6Ii8+CiAgPC9nPgo8L3N2Zz4K);
  --jp-icon-table-rows: url(data:image/svg+xml;base64,PHN2ZyBoZWlnaHQ9IjI0IiB2aWV3Qm94PSIwIDAgMjQgMjQiIHdpZHRoPSIyNCIgeG1sbnM9Imh0dHA6Ly93d3cudzMub3JnLzIwMDAvc3ZnIj4KICAgIDxnIGNsYXNzPSJqcC1pY29uMyIgZmlsbD0iIzYxNjE2MSI+CiAgICAgICAgPHBhdGggZD0iTTAgMGgyNHYyNEgweiIgZmlsbD0ibm9uZSIvPgogICAgICAgIDxwYXRoIGQ9Ik0yMSw4SDNWNGgxOFY4eiBNMjEsMTBIM3Y0aDE4VjEweiBNMjEsMTZIM3Y0aDE4VjE2eiIvPgogICAgPC9nPgo8L3N2Zz4K);
  --jp-icon-tag: url(data:image/svg+xml;base64,PHN2ZyB3aWR0aD0iMjgiIGhlaWdodD0iMjgiIHZpZXdCb3g9IjAgMCA0MyAyOCIgeG1sbnM9Imh0dHA6Ly93d3cudzMub3JnLzIwMDAvc3ZnIj4KCTxnIGNsYXNzPSJqcC1pY29uMyIgZmlsbD0iIzYxNjE2MSI+CgkJPHBhdGggZD0iTTI4LjgzMzIgMTIuMzM0TDMyLjk5OTggMTYuNTAwN0wzNy4xNjY1IDEyLjMzNEgyOC44MzMyWiIvPgoJCTxwYXRoIGQ9Ik0xNi4yMDk1IDIxLjYxMDRDMTUuNjg3MyAyMi4xMjk5IDE0Ljg0NDMgMjIuMTI5OSAxNC4zMjQ4IDIxLjYxMDRMNi45ODI5IDE0LjcyNDVDNi41NzI0IDE0LjMzOTQgNi4wODMxMyAxMy42MDk4IDYuMDQ3ODYgMTMuMDQ4MkM1Ljk1MzQ3IDExLjUyODggNi4wMjAwMiA4LjYxOTQ0IDYuMDY2MjEgNy4wNzY5NUM2LjA4MjgxIDYuNTE0NzcgNi41NTU0OCA2LjA0MzQ3IDcuMTE4MDQgNi4wMzA1NUM5LjA4ODYzIDUuOTg0NzMgMTMuMjYzOCA1LjkzNTc5IDEzLjY1MTggNi4zMjQyNUwyMS43MzY5IDEzLjYzOUMyMi4yNTYgMTQuMTU4NSAyMS43ODUxIDE1LjQ3MjQgMjEuMjYyIDE1Ljk5NDZMMTYuMjA5NSAyMS42MTA0Wk05Ljc3NTg1IDguMjY1QzkuMzM1NTEgNy44MjU2NiA4LjYyMzUxIDcuODI1NjYgOC4xODI4IDguMjY1QzcuNzQzNDYgOC43MDU3MSA3Ljc0MzQ2IDkuNDE3MzMgOC4xODI4IDkuODU2NjdDOC42MjM4MiAxMC4yOTY0IDkuMzM1ODIgMTAuMjk2NCA5Ljc3NTg1IDkuODU2NjdDMTAuMjE1NiA5LjQxNzMzIDEwLjIxNTYgOC43MDUzMyA5Ljc3NTg1IDguMjY1WiIvPgoJPC9nPgo8L3N2Zz4K);
  --jp-icon-terminal: url(data:image/svg+xml;base64,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);
  --jp-icon-text-editor: url(data:image/svg+xml;base64,PHN2ZyB4bWxucz0iaHR0cDovL3d3dy53My5vcmcvMjAwMC9zdmciIHdpZHRoPSIxNiIgdmlld0JveD0iMCAwIDI0IDI0Ij4KICA8cGF0aCBjbGFzcz0ianAtdGV4dC1lZGl0b3ItaWNvbi1jb2xvciBqcC1pY29uLXNlbGVjdGFibGUiIGZpbGw9IiM2MTYxNjEiIGQ9Ik0xNSAxNUgzdjJoMTJ2LTJ6bTAtOEgzdjJoMTJWN3pNMyAxM2gxOHYtMkgzdjJ6bTAgOGgxOHYtMkgzdjJ6TTMgM3YyaDE4VjNIM3oiLz4KPC9zdmc+Cg==);
  --jp-icon-toc: url(data:image/svg+xml;base64,PHN2ZyB4bWxucz0iaHR0cDovL3d3dy53My5vcmcvMjAwMC9zdmciIHdpZHRoPSIyNCIgaGVpZ2h0PSIyNCIgdmlld0JveD0iMCAwIDI0IDI0Ij4KICA8ZyBjbGFzcz0ianAtaWNvbjMganAtaWNvbi1zZWxlY3RhYmxlIiBmaWxsPSIjNjE2MTYxIj4KICAgIDxwYXRoIGQ9Ik03LDVIMjFWN0g3VjVNNywxM1YxMUgyMVYxM0g3TTQsNC41QTEuNSwxLjUgMCAwLDEgNS41LDZBMS41LDEuNSAwIDAsMSA0LDcuNUExLjUsMS41IDAgMCwxIDIuNSw2QTEuNSwxLjUgMCAwLDEgNCw0LjVNNCwxMC41QTEuNSwxLjUgMCAwLDEgNS41LDEyQTEuNSwxLjUgMCAwLDEgNCwxMy41QTEuNSwxLjUgMCAwLDEgMi41LDEyQTEuNSwxLjUgMCAwLDEgNCwxMC41TTcsMTlWMTdIMjFWMTlIN000LDE2LjVBMS41LDEuNSAwIDAsMSA1LjUsMThBMS41LDEuNSAwIDAsMSA0LDE5LjVBMS41LDEuNSAwIDAsMSAyLjUsMThBMS41LDEuNSAwIDAsMSA0LDE2LjVaIiAvPgogIDwvZz4KPC9zdmc+Cg==);
  --jp-icon-tree-view: url(data:image/svg+xml;base64,PHN2ZyBoZWlnaHQ9IjI0IiB2aWV3Qm94PSIwIDAgMjQgMjQiIHdpZHRoPSIyNCIgeG1sbnM9Imh0dHA6Ly93d3cudzMub3JnLzIwMDAvc3ZnIj4KICAgIDxnIGNsYXNzPSJqcC1pY29uMyIgZmlsbD0iIzYxNjE2MSI+CiAgICAgICAgPHBhdGggZD0iTTAgMGgyNHYyNEgweiIgZmlsbD0ibm9uZSIvPgogICAgICAgIDxwYXRoIGQ9Ik0yMiAxMVYzaC03djNIOVYzSDJ2OGg3VjhoMnYxMGg0djNoN3YtOGgtN3YzaC0yVjhoMnYzeiIvPgogICAgPC9nPgo8L3N2Zz4K);
  --jp-icon-trusted: url(data:image/svg+xml;base64,PHN2ZyBmaWxsPSJub25lIiB4bWxucz0iaHR0cDovL3d3dy53My5vcmcvMjAwMC9zdmciIHdpZHRoPSIxNiIgdmlld0JveD0iMCAwIDI0IDI1Ij4KICAgIDxwYXRoIGNsYXNzPSJqcC1pY29uMiIgc3Ryb2tlPSIjMzMzMzMzIiBzdHJva2Utd2lkdGg9IjIiIHRyYW5zZm9ybT0idHJhbnNsYXRlKDIgMykiIGQ9Ik0xLjg2MDk0IDExLjQ0MDlDMC44MjY0NDggOC43NzAyNyAwLjg2Mzc3OSA2LjA1NzY0IDEuMjQ5MDcgNC4xOTkzMkMyLjQ4MjA2IDMuOTMzNDcgNC4wODA2OCAzLjQwMzQ3IDUuNjAxMDIgMi44NDQ5QzcuMjM1NDkgMi4yNDQ0IDguODU2NjYgMS41ODE1IDkuOTg3NiAxLjA5NTM5QzExLjA1OTcgMS41ODM0MSAxMi42MDk0IDIuMjQ0NCAxNC4yMTggMi44NDMzOUMxNS43NTAzIDMuNDEzOTQgMTcuMzk5NSAzLjk1MjU4IDE4Ljc1MzkgNC4yMTM4NUMxOS4xMzY0IDYuMDcxNzcgMTkuMTcwOSA4Ljc3NzIyIDE4LjEzOSAxMS40NDA5QzE3LjAzMDMgMTQuMzAzMiAxNC42NjY4IDE3LjE4NDQgOS45OTk5OSAxOC45MzU0QzUuMzMzMiAxNy4xODQ0IDIuOTY5NjggMTQuMzAzMiAxLjg2MDk0IDExLjQ0MDlaIi8+CiAgICA8cGF0aCBjbGFzcz0ianAtaWNvbjIiIGZpbGw9IiMzMzMzMzMiIHN0cm9rZT0iIzMzMzMzMyIgdHJhbnNmb3JtPSJ0cmFuc2xhdGUoOCA5Ljg2NzE5KSIgZD0iTTIuODYwMTUgNC44NjUzNUwwLjcyNjU0OSAyLjk5OTU5TDAgMy42MzA0NUwyLjg2MDE1IDYuMTMxNTdMOCAwLjYzMDg3Mkw3LjI3ODU3IDBMMi44NjAxNSA0Ljg2NTM1WiIvPgo8L3N2Zz4K);
  --jp-icon-undo: url(data:image/svg+xml;base64,PHN2ZyB2aWV3Qm94PSIwIDAgMjQgMjQiIHdpZHRoPSIxNiIgeG1sbnM9Imh0dHA6Ly93d3cudzMub3JnLzIwMDAvc3ZnIj4KICA8ZyBjbGFzcz0ianAtaWNvbjMiIGZpbGw9IiM2MTYxNjEiPgogICAgPHBhdGggZD0iTTEyLjUgOGMtMi42NSAwLTUuMDUuOTktNi45IDIuNkwyIDd2OWg5bC0zLjYyLTMuNjJjMS4zOS0xLjE2IDMuMTYtMS44OCA1LjEyLTEuODggMy41NCAwIDYuNTUgMi4zMSA3LjYgNS41bDIuMzctLjc4QzIxLjA4IDExLjAzIDE3LjE1IDggMTIuNSA4eiIvPgogIDwvZz4KPC9zdmc+Cg==);
  --jp-icon-user: url(data:image/svg+xml;base64,PHN2ZyB3aWR0aD0iMTYiIHZpZXdCb3g9IjAgMCAyNCAyNCIgeG1sbnM9Imh0dHA6Ly93d3cudzMub3JnLzIwMDAvc3ZnIj4KICA8ZyBjbGFzcz0ianAtaWNvbjMiIGZpbGw9IiM2MTYxNjEiPgogICAgPHBhdGggZD0iTTE2IDdhNCA0IDAgMTEtOCAwIDQgNCAwIDAxOCAwek0xMiAxNGE3IDcgMCAwMC03IDdoMTRhNyA3IDAgMDAtNy03eiIvPgogIDwvZz4KPC9zdmc+Cg==);
  --jp-icon-users: url(data:image/svg+xml;base64,PHN2ZyB3aWR0aD0iMjQiIGhlaWdodD0iMjQiIHZlcnNpb249IjEuMSIgdmlld0JveD0iMCAwIDM2IDI0IiB4bWxucz0iaHR0cDovL3d3dy53My5vcmcvMjAwMC9zdmciPgogPGcgY2xhc3M9ImpwLWljb24zIiB0cmFuc2Zvcm09Im1hdHJpeCgxLjczMjcgMCAwIDEuNzMyNyAtMy42MjgyIC4wOTk1NzcpIiBmaWxsPSIjNjE2MTYxIj4KICA8cGF0aCB0cmFuc2Zvcm09Im1hdHJpeCgxLjUsMCwwLDEuNSwwLC02KSIgZD0ibTEyLjE4NiA3LjUwOThjLTEuMDUzNSAwLTEuOTc1NyAwLjU2NjUtMi40Nzg1IDEuNDEwMiAwLjc1MDYxIDAuMzEyNzcgMS4zOTc0IDAuODI2NDggMS44NzMgMS40NzI3aDMuNDg2M2MwLTEuNTkyLTEuMjg4OS0yLjg4MjgtMi44ODA5LTIuODgyOHoiLz4KICA8cGF0aCBkPSJtMjAuNDY1IDIuMzg5NWEyLjE4ODUgMi4xODg1IDAgMCAxLTIuMTg4NCAyLjE4ODUgMi4xODg1IDIuMTg4NSAwIDAgMS0yLjE4ODUtMi4xODg1IDIuMTg4NSAyLjE4ODUgMCAwIDEgMi4xODg1LTIuMTg4NSAyLjE4ODUgMi4xODg1IDAgMCAxIDIuMTg4NCAyLjE4ODV6Ii8+CiAgPHBhdGggdHJhbnNmb3JtPSJtYXRyaXgoMS41LDAsMCwxLjUsMCwtNikiIGQ9Im0zLjU4OTggOC40MjE5Yy0xLjExMjYgMC0yLjAxMzcgMC45MDExMS0yLjAxMzcgMi4wMTM3aDIuODE0NWMwLjI2Nzk3LTAuMzczMDkgMC41OTA3LTAuNzA0MzUgMC45NTg5OC0wLjk3ODUyLTAuMzQ0MzMtMC42MTY4OC0xLjAwMzEtMS4wMzUyLTEuNzU5OC0xLjAzNTJ6Ii8+CiAgPHBhdGggZD0ibTYuOTE1NCA0LjYyM2ExLjUyOTQgMS41Mjk0IDAgMCAxLTEuNTI5NCAxLjUyOTQgMS41Mjk0IDEuNTI5NCAwIDAgMS0xLjUyOTQtMS41Mjk0IDEuNTI5NCAxLjUyOTQgMCAwIDEgMS41Mjk0LTEuNTI5NCAxLjUyOTQgMS41Mjk0IDAgMCAxIDEuNTI5NCAxLjUyOTR6Ii8+CiAgPHBhdGggZD0ibTYuMTM1IDEzLjUzNWMwLTMuMjM5MiAyLjYyNTktNS44NjUgNS44NjUtNS44NjUgMy4yMzkyIDAgNS44NjUgMi42MjU5IDUuODY1IDUuODY1eiIvPgogIDxjaXJjbGUgY3g9IjEyIiBjeT0iMy43Njg1IiByPSIyLjk2ODUiLz4KIDwvZz4KPC9zdmc+Cg==);
  --jp-icon-vega: url(data:image/svg+xml;base64,PHN2ZyB4bWxucz0iaHR0cDovL3d3dy53My5vcmcvMjAwMC9zdmciIHdpZHRoPSIxNiIgdmlld0JveD0iMCAwIDIyIDIyIj4KICA8ZyBjbGFzcz0ianAtaWNvbjEganAtaWNvbi1zZWxlY3RhYmxlIiBmaWxsPSIjMjEyMTIxIj4KICAgIDxwYXRoIGQ9Ik0xMC42IDUuNGwyLjItMy4ySDIuMnY3LjNsNC02LjZ6Ii8+CiAgICA8cGF0aCBkPSJNMTUuOCAyLjJsLTQuNCA2LjZMNyA2LjNsLTQuOCA4djUuNWgxNy42VjIuMmgtNHptLTcgMTUuNEg1LjV2LTQuNGgzLjN2NC40em00LjQgMEg5LjhWOS44aDMuNHY3Ljh6bTQuNCAwaC0zLjRWNi41aDMuNHYxMS4xeiIvPgogIDwvZz4KPC9zdmc+Cg==);
  --jp-icon-word: url(data:image/svg+xml;base64,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);
  --jp-icon-yaml: url(data:image/svg+xml;base64,PHN2ZyB4bWxucz0iaHR0cDovL3d3dy53My5vcmcvMjAwMC9zdmciIHdpZHRoPSIxNiIgdmlld0JveD0iMCAwIDIyIDIyIj4KICA8ZyBjbGFzcz0ianAtaWNvbi1jb250cmFzdDIganAtaWNvbi1zZWxlY3RhYmxlIiBmaWxsPSIjRDgxQjYwIj4KICAgIDxwYXRoIGQ9Ik03LjIgMTguNnYtNS40TDMgNS42aDMuM2wxLjQgMy4xYy4zLjkuNiAxLjYgMSAyLjUuMy0uOC42LTEuNiAxLTIuNWwxLjQtMy4xaDMuNGwtNC40IDcuNnY1LjVsLTIuOS0uMXoiLz4KICAgIDxjaXJjbGUgY2xhc3M9InN0MCIgY3g9IjE3LjYiIGN5PSIxNi41IiByPSIyLjEiLz4KICAgIDxjaXJjbGUgY2xhc3M9InN0MCIgY3g9IjE3LjYiIGN5PSIxMSIgcj0iMi4xIi8+CiAgPC9nPgo8L3N2Zz4K);
}

/* Icon CSS class declarations */

.jp-AddAboveIcon {
  background-image: var(--jp-icon-add-above);
}

.jp-AddBelowIcon {
  background-image: var(--jp-icon-add-below);
}

.jp-AddIcon {
  background-image: var(--jp-icon-add);
}

.jp-BellIcon {
  background-image: var(--jp-icon-bell);
}

.jp-BugDotIcon {
  background-image: var(--jp-icon-bug-dot);
}

.jp-BugIcon {
  background-image: var(--jp-icon-bug);
}

.jp-BuildIcon {
  background-image: var(--jp-icon-build);
}

.jp-CaretDownEmptyIcon {
  background-image: var(--jp-icon-caret-down-empty);
}

.jp-CaretDownEmptyThinIcon {
  background-image: var(--jp-icon-caret-down-empty-thin);
}

.jp-CaretDownIcon {
  background-image: var(--jp-icon-caret-down);
}

.jp-CaretLeftIcon {
  background-image: var(--jp-icon-caret-left);
}

.jp-CaretRightIcon {
  background-image: var(--jp-icon-caret-right);
}

.jp-CaretUpEmptyThinIcon {
  background-image: var(--jp-icon-caret-up-empty-thin);
}

.jp-CaretUpIcon {
  background-image: var(--jp-icon-caret-up);
}

.jp-CaseSensitiveIcon {
  background-image: var(--jp-icon-case-sensitive);
}

.jp-CheckIcon {
  background-image: var(--jp-icon-check);
}

.jp-CircleEmptyIcon {
  background-image: var(--jp-icon-circle-empty);
}

.jp-CircleIcon {
  background-image: var(--jp-icon-circle);
}

.jp-ClearIcon {
  background-image: var(--jp-icon-clear);
}

.jp-CloseIcon {
  background-image: var(--jp-icon-close);
}

.jp-CodeCheckIcon {
  background-image: var(--jp-icon-code-check);
}

.jp-CodeIcon {
  background-image: var(--jp-icon-code);
}

.jp-CollapseAllIcon {
  background-image: var(--jp-icon-collapse-all);
}

.jp-ConsoleIcon {
  background-image: var(--jp-icon-console);
}

.jp-CopyIcon {
  background-image: var(--jp-icon-copy);
}

.jp-CopyrightIcon {
  background-image: var(--jp-icon-copyright);
}

.jp-CutIcon {
  background-image: var(--jp-icon-cut);
}

.jp-DeleteIcon {
  background-image: var(--jp-icon-delete);
}

.jp-DownloadIcon {
  background-image: var(--jp-icon-download);
}

.jp-DuplicateIcon {
  background-image: var(--jp-icon-duplicate);
}

.jp-EditIcon {
  background-image: var(--jp-icon-edit);
}

.jp-EllipsesIcon {
  background-image: var(--jp-icon-ellipses);
}

.jp-ErrorIcon {
  background-image: var(--jp-icon-error);
}

.jp-ExpandAllIcon {
  background-image: var(--jp-icon-expand-all);
}

.jp-ExtensionIcon {
  background-image: var(--jp-icon-extension);
}

.jp-FastForwardIcon {
  background-image: var(--jp-icon-fast-forward);
}

.jp-FileIcon {
  background-image: var(--jp-icon-file);
}

.jp-FileUploadIcon {
  background-image: var(--jp-icon-file-upload);
}

.jp-FilterDotIcon {
  background-image: var(--jp-icon-filter-dot);
}

.jp-FilterIcon {
  background-image: var(--jp-icon-filter);
}

.jp-FilterListIcon {
  background-image: var(--jp-icon-filter-list);
}

.jp-FolderFavoriteIcon {
  background-image: var(--jp-icon-folder-favorite);
}

.jp-FolderIcon {
  background-image: var(--jp-icon-folder);
}

.jp-HomeIcon {
  background-image: var(--jp-icon-home);
}

.jp-Html5Icon {
  background-image: var(--jp-icon-html5);
}

.jp-ImageIcon {
  background-image: var(--jp-icon-image);
}

.jp-InfoIcon {
  background-image: var(--jp-icon-info);
}

.jp-InspectorIcon {
  background-image: var(--jp-icon-inspector);
}

.jp-JsonIcon {
  background-image: var(--jp-icon-json);
}

.jp-JuliaIcon {
  background-image: var(--jp-icon-julia);
}

.jp-JupyterFaviconIcon {
  background-image: var(--jp-icon-jupyter-favicon);
}

.jp-JupyterIcon {
  background-image: var(--jp-icon-jupyter);
}

.jp-JupyterlabWordmarkIcon {
  background-image: var(--jp-icon-jupyterlab-wordmark);
}

.jp-KernelIcon {
  background-image: var(--jp-icon-kernel);
}

.jp-KeyboardIcon {
  background-image: var(--jp-icon-keyboard);
}

.jp-LaunchIcon {
  background-image: var(--jp-icon-launch);
}

.jp-LauncherIcon {
  background-image: var(--jp-icon-launcher);
}

.jp-LineFormIcon {
  background-image: var(--jp-icon-line-form);
}

.jp-LinkIcon {
  background-image: var(--jp-icon-link);
}

.jp-ListIcon {
  background-image: var(--jp-icon-list);
}

.jp-MarkdownIcon {
  background-image: var(--jp-icon-markdown);
}

.jp-MoveDownIcon {
  background-image: var(--jp-icon-move-down);
}

.jp-MoveUpIcon {
  background-image: var(--jp-icon-move-up);
}

.jp-NewFolderIcon {
  background-image: var(--jp-icon-new-folder);
}

.jp-NotTrustedIcon {
  background-image: var(--jp-icon-not-trusted);
}

.jp-NotebookIcon {
  background-image: var(--jp-icon-notebook);
}

.jp-NumberingIcon {
  background-image: var(--jp-icon-numbering);
}

.jp-OfflineBoltIcon {
  background-image: var(--jp-icon-offline-bolt);
}

.jp-PaletteIcon {
  background-image: var(--jp-icon-palette);
}

.jp-PasteIcon {
  background-image: var(--jp-icon-paste);
}

.jp-PdfIcon {
  background-image: var(--jp-icon-pdf);
}

.jp-PythonIcon {
  background-image: var(--jp-icon-python);
}

.jp-RKernelIcon {
  background-image: var(--jp-icon-r-kernel);
}

.jp-ReactIcon {
  background-image: var(--jp-icon-react);
}

.jp-RedoIcon {
  background-image: var(--jp-icon-redo);
}

.jp-RefreshIcon {
  background-image: var(--jp-icon-refresh);
}

.jp-RegexIcon {
  background-image: var(--jp-icon-regex);
}

.jp-RunIcon {
  background-image: var(--jp-icon-run);
}

.jp-RunningIcon {
  background-image: var(--jp-icon-running);
}

.jp-SaveIcon {
  background-image: var(--jp-icon-save);
}

.jp-SearchIcon {
  background-image: var(--jp-icon-search);
}

.jp-SettingsIcon {
  background-image: var(--jp-icon-settings);
}

.jp-ShareIcon {
  background-image: var(--jp-icon-share);
}

.jp-SpreadsheetIcon {
  background-image: var(--jp-icon-spreadsheet);
}

.jp-StopIcon {
  background-image: var(--jp-icon-stop);
}

.jp-TabIcon {
  background-image: var(--jp-icon-tab);
}

.jp-TableRowsIcon {
  background-image: var(--jp-icon-table-rows);
}

.jp-TagIcon {
  background-image: var(--jp-icon-tag);
}

.jp-TerminalIcon {
  background-image: var(--jp-icon-terminal);
}

.jp-TextEditorIcon {
  background-image: var(--jp-icon-text-editor);
}

.jp-TocIcon {
  background-image: var(--jp-icon-toc);
}

.jp-TreeViewIcon {
  background-image: var(--jp-icon-tree-view);
}

.jp-TrustedIcon {
  background-image: var(--jp-icon-trusted);
}

.jp-UndoIcon {
  background-image: var(--jp-icon-undo);
}

.jp-UserIcon {
  background-image: var(--jp-icon-user);
}

.jp-UsersIcon {
  background-image: var(--jp-icon-users);
}

.jp-VegaIcon {
  background-image: var(--jp-icon-vega);
}

.jp-WordIcon {
  background-image: var(--jp-icon-word);
}

.jp-YamlIcon {
  background-image: var(--jp-icon-yaml);
}

/*-----------------------------------------------------------------------------
| Copyright (c) Jupyter Development Team.
| Distributed under the terms of the Modified BSD License.
|----------------------------------------------------------------------------*/

/**
 * (DEPRECATED) Support for consuming icons as CSS background images
 */

.jp-Icon,
.jp-MaterialIcon {
  background-position: center;
  background-repeat: no-repeat;
  background-size: 16px;
  min-width: 16px;
  min-height: 16px;
}

.jp-Icon-cover {
  background-position: center;
  background-repeat: no-repeat;
  background-size: cover;
}

/**
 * (DEPRECATED) Support for specific CSS icon sizes
 */

.jp-Icon-16 {
  background-size: 16px;
  min-width: 16px;
  min-height: 16px;
}

.jp-Icon-18 {
  background-size: 18px;
  min-width: 18px;
  min-height: 18px;
}

.jp-Icon-20 {
  background-size: 20px;
  min-width: 20px;
  min-height: 20px;
}

/*-----------------------------------------------------------------------------
| Copyright (c) Jupyter Development Team.
| Distributed under the terms of the Modified BSD License.
|----------------------------------------------------------------------------*/

.lm-TabBar .lm-TabBar-addButton {
  align-items: center;
  display: flex;
  padding: 4px;
  padding-bottom: 5px;
  margin-right: 1px;
  background-color: var(--jp-layout-color2);
}

.lm-TabBar .lm-TabBar-addButton:hover {
  background-color: var(--jp-layout-color1);
}

.lm-DockPanel-tabBar .lm-TabBar-tab {
  width: var(--jp-private-horizontal-tab-width);
}

.lm-DockPanel-tabBar .lm-TabBar-content {
  flex: unset;
}

.lm-DockPanel-tabBar[data-orientation='horizontal'] {
  flex: 1 1 auto;
}

/*-----------------------------------------------------------------------------
| Copyright (c) Jupyter Development Team.
| Distributed under the terms of the Modified BSD License.
|----------------------------------------------------------------------------*/

/**
 * Support for icons as inline SVG HTMLElements
 */

/* recolor the primary elements of an icon */
.jp-icon0[fill] {
  fill: var(--jp-inverse-layout-color0);
}

.jp-icon1[fill] {
  fill: var(--jp-inverse-layout-color1);
}

.jp-icon2[fill] {
  fill: var(--jp-inverse-layout-color2);
}

.jp-icon3[fill] {
  fill: var(--jp-inverse-layout-color3);
}

.jp-icon4[fill] {
  fill: var(--jp-inverse-layout-color4);
}

.jp-icon0[stroke] {
  stroke: var(--jp-inverse-layout-color0);
}

.jp-icon1[stroke] {
  stroke: var(--jp-inverse-layout-color1);
}

.jp-icon2[stroke] {
  stroke: var(--jp-inverse-layout-color2);
}

.jp-icon3[stroke] {
  stroke: var(--jp-inverse-layout-color3);
}

.jp-icon4[stroke] {
  stroke: var(--jp-inverse-layout-color4);
}

/* recolor the accent elements of an icon */
.jp-icon-accent0[fill] {
  fill: var(--jp-layout-color0);
}

.jp-icon-accent1[fill] {
  fill: var(--jp-layout-color1);
}

.jp-icon-accent2[fill] {
  fill: var(--jp-layout-color2);
}

.jp-icon-accent3[fill] {
  fill: var(--jp-layout-color3);
}

.jp-icon-accent4[fill] {
  fill: var(--jp-layout-color4);
}

.jp-icon-accent0[stroke] {
  stroke: var(--jp-layout-color0);
}

.jp-icon-accent1[stroke] {
  stroke: var(--jp-layout-color1);
}

.jp-icon-accent2[stroke] {
  stroke: var(--jp-layout-color2);
}

.jp-icon-accent3[stroke] {
  stroke: var(--jp-layout-color3);
}

.jp-icon-accent4[stroke] {
  stroke: var(--jp-layout-color4);
}

/* set the color of an icon to transparent */
.jp-icon-none[fill] {
  fill: none;
}

.jp-icon-none[stroke] {
  stroke: none;
}

/* brand icon colors. Same for light and dark */
.jp-icon-brand0[fill] {
  fill: var(--jp-brand-color0);
}

.jp-icon-brand1[fill] {
  fill: var(--jp-brand-color1);
}

.jp-icon-brand2[fill] {
  fill: var(--jp-brand-color2);
}

.jp-icon-brand3[fill] {
  fill: var(--jp-brand-color3);
}

.jp-icon-brand4[fill] {
  fill: var(--jp-brand-color4);
}

.jp-icon-brand0[stroke] {
  stroke: var(--jp-brand-color0);
}

.jp-icon-brand1[stroke] {
  stroke: var(--jp-brand-color1);
}

.jp-icon-brand2[stroke] {
  stroke: var(--jp-brand-color2);
}

.jp-icon-brand3[stroke] {
  stroke: var(--jp-brand-color3);
}

.jp-icon-brand4[stroke] {
  stroke: var(--jp-brand-color4);
}

/* warn icon colors. Same for light and dark */
.jp-icon-warn0[fill] {
  fill: var(--jp-warn-color0);
}

.jp-icon-warn1[fill] {
  fill: var(--jp-warn-color1);
}

.jp-icon-warn2[fill] {
  fill: var(--jp-warn-color2);
}

.jp-icon-warn3[fill] {
  fill: var(--jp-warn-color3);
}

.jp-icon-warn0[stroke] {
  stroke: var(--jp-warn-color0);
}

.jp-icon-warn1[stroke] {
  stroke: var(--jp-warn-color1);
}

.jp-icon-warn2[stroke] {
  stroke: var(--jp-warn-color2);
}

.jp-icon-warn3[stroke] {
  stroke: var(--jp-warn-color3);
}

/* icon colors that contrast well with each other and most backgrounds */
.jp-icon-contrast0[fill] {
  fill: var(--jp-icon-contrast-color0);
}

.jp-icon-contrast1[fill] {
  fill: var(--jp-icon-contrast-color1);
}

.jp-icon-contrast2[fill] {
  fill: var(--jp-icon-contrast-color2);
}

.jp-icon-contrast3[fill] {
  fill: var(--jp-icon-contrast-color3);
}

.jp-icon-contrast0[stroke] {
  stroke: var(--jp-icon-contrast-color0);
}

.jp-icon-contrast1[stroke] {
  stroke: var(--jp-icon-contrast-color1);
}

.jp-icon-contrast2[stroke] {
  stroke: var(--jp-icon-contrast-color2);
}

.jp-icon-contrast3[stroke] {
  stroke: var(--jp-icon-contrast-color3);
}

.jp-icon-dot[fill] {
  fill: var(--jp-warn-color0);
}

.jp-jupyter-icon-color[fill] {
  fill: var(--jp-jupyter-icon-color, var(--jp-warn-color0));
}

.jp-notebook-icon-color[fill] {
  fill: var(--jp-notebook-icon-color, var(--jp-warn-color0));
}

.jp-json-icon-color[fill] {
  fill: var(--jp-json-icon-color, var(--jp-warn-color1));
}

.jp-console-icon-color[fill] {
  fill: var(--jp-console-icon-color, white);
}

.jp-console-icon-background-color[fill] {
  fill: var(--jp-console-icon-background-color, var(--jp-brand-color1));
}

.jp-terminal-icon-color[fill] {
  fill: var(--jp-terminal-icon-color, var(--jp-layout-color2));
}

.jp-terminal-icon-background-color[fill] {
  fill: var(
    --jp-terminal-icon-background-color,
    var(--jp-inverse-layout-color2)
  );
}

.jp-text-editor-icon-color[fill] {
  fill: var(--jp-text-editor-icon-color, var(--jp-inverse-layout-color3));
}

.jp-inspector-icon-color[fill] {
  fill: var(--jp-inspector-icon-color, var(--jp-inverse-layout-color3));
}

/* CSS for icons in selected filebrowser listing items */
.jp-DirListing-item.jp-mod-selected .jp-icon-selectable[fill] {
  fill: #fff;
}

.jp-DirListing-item.jp-mod-selected .jp-icon-selectable-inverse[fill] {
  fill: var(--jp-brand-color1);
}

/* stylelint-disable selector-max-class, selector-max-compound-selectors */

/**
* TODO: come up with non css-hack solution for showing the busy icon on top
*  of the close icon
* CSS for complex behavior of close icon of tabs in the main area tabbar
*/
.lm-DockPanel-tabBar
  .lm-TabBar-tab.lm-mod-closable.jp-mod-dirty
  > .lm-TabBar-tabCloseIcon
  > :not(:hover)
  > .jp-icon3[fill] {
  fill: none;
}

.lm-DockPanel-tabBar
  .lm-TabBar-tab.lm-mod-closable.jp-mod-dirty
  > .lm-TabBar-tabCloseIcon
  > :not(:hover)
  > .jp-icon-busy[fill] {
  fill: var(--jp-inverse-layout-color3);
}

/* stylelint-enable selector-max-class, selector-max-compound-selectors */

/* CSS for icons in status bar */
#jp-main-statusbar .jp-mod-selected .jp-icon-selectable[fill] {
  fill: #fff;
}

#jp-main-statusbar .jp-mod-selected .jp-icon-selectable-inverse[fill] {
  fill: var(--jp-brand-color1);
}

/* special handling for splash icon CSS. While the theme CSS reloads during
   splash, the splash icon can loose theming. To prevent that, we set a
   default for its color variable */
:root {
  --jp-warn-color0: var(--md-orange-700);
}

/* not sure what to do with this one, used in filebrowser listing */
.jp-DragIcon {
  margin-right: 4px;
}

/*-----------------------------------------------------------------------------
| Copyright (c) Jupyter Development Team.
| Distributed under the terms of the Modified BSD License.
|----------------------------------------------------------------------------*/

/**
 * Support for alt colors for icons as inline SVG HTMLElements
 */

/* alt recolor the primary elements of an icon */
.jp-icon-alt .jp-icon0[fill] {
  fill: var(--jp-layout-color0);
}

.jp-icon-alt .jp-icon1[fill] {
  fill: var(--jp-layout-color1);
}

.jp-icon-alt .jp-icon2[fill] {
  fill: var(--jp-layout-color2);
}

.jp-icon-alt .jp-icon3[fill] {
  fill: var(--jp-layout-color3);
}

.jp-icon-alt .jp-icon4[fill] {
  fill: var(--jp-layout-color4);
}

.jp-icon-alt .jp-icon0[stroke] {
  stroke: var(--jp-layout-color0);
}

.jp-icon-alt .jp-icon1[stroke] {
  stroke: var(--jp-layout-color1);
}

.jp-icon-alt .jp-icon2[stroke] {
  stroke: var(--jp-layout-color2);
}

.jp-icon-alt .jp-icon3[stroke] {
  stroke: var(--jp-layout-color3);
}

.jp-icon-alt .jp-icon4[stroke] {
  stroke: var(--jp-layout-color4);
}

/* alt recolor the accent elements of an icon */
.jp-icon-alt .jp-icon-accent0[fill] {
  fill: var(--jp-inverse-layout-color0);
}

.jp-icon-alt .jp-icon-accent1[fill] {
  fill: var(--jp-inverse-layout-color1);
}

.jp-icon-alt .jp-icon-accent2[fill] {
  fill: var(--jp-inverse-layout-color2);
}

.jp-icon-alt .jp-icon-accent3[fill] {
  fill: var(--jp-inverse-layout-color3);
}

.jp-icon-alt .jp-icon-accent4[fill] {
  fill: var(--jp-inverse-layout-color4);
}

.jp-icon-alt .jp-icon-accent0[stroke] {
  stroke: var(--jp-inverse-layout-color0);
}

.jp-icon-alt .jp-icon-accent1[stroke] {
  stroke: var(--jp-inverse-layout-color1);
}

.jp-icon-alt .jp-icon-accent2[stroke] {
  stroke: var(--jp-inverse-layout-color2);
}

.jp-icon-alt .jp-icon-accent3[stroke] {
  stroke: var(--jp-inverse-layout-color3);
}

.jp-icon-alt .jp-icon-accent4[stroke] {
  stroke: var(--jp-inverse-layout-color4);
}

/*-----------------------------------------------------------------------------
| Copyright (c) Jupyter Development Team.
| Distributed under the terms of the Modified BSD License.
|----------------------------------------------------------------------------*/

.jp-icon-hoverShow:not(:hover) .jp-icon-hoverShow-content {
  display: none !important;
}

/**
 * Support for hover colors for icons as inline SVG HTMLElements
 */

/**
 * regular colors
 */

/* recolor the primary elements of an icon */
.jp-icon-hover :hover .jp-icon0-hover[fill] {
  fill: var(--jp-inverse-layout-color0);
}

.jp-icon-hover :hover .jp-icon1-hover[fill] {
  fill: var(--jp-inverse-layout-color1);
}

.jp-icon-hover :hover .jp-icon2-hover[fill] {
  fill: var(--jp-inverse-layout-color2);
}

.jp-icon-hover :hover .jp-icon3-hover[fill] {
  fill: var(--jp-inverse-layout-color3);
}

.jp-icon-hover :hover .jp-icon4-hover[fill] {
  fill: var(--jp-inverse-layout-color4);
}

.jp-icon-hover :hover .jp-icon0-hover[stroke] {
  stroke: var(--jp-inverse-layout-color0);
}

.jp-icon-hover :hover .jp-icon1-hover[stroke] {
  stroke: var(--jp-inverse-layout-color1);
}

.jp-icon-hover :hover .jp-icon2-hover[stroke] {
  stroke: var(--jp-inverse-layout-color2);
}

.jp-icon-hover :hover .jp-icon3-hover[stroke] {
  stroke: var(--jp-inverse-layout-color3);
}

.jp-icon-hover :hover .jp-icon4-hover[stroke] {
  stroke: var(--jp-inverse-layout-color4);
}

/* recolor the accent elements of an icon */
.jp-icon-hover :hover .jp-icon-accent0-hover[fill] {
  fill: var(--jp-layout-color0);
}

.jp-icon-hover :hover .jp-icon-accent1-hover[fill] {
  fill: var(--jp-layout-color1);
}

.jp-icon-hover :hover .jp-icon-accent2-hover[fill] {
  fill: var(--jp-layout-color2);
}

.jp-icon-hover :hover .jp-icon-accent3-hover[fill] {
  fill: var(--jp-layout-color3);
}

.jp-icon-hover :hover .jp-icon-accent4-hover[fill] {
  fill: var(--jp-layout-color4);
}

.jp-icon-hover :hover .jp-icon-accent0-hover[stroke] {
  stroke: var(--jp-layout-color0);
}

.jp-icon-hover :hover .jp-icon-accent1-hover[stroke] {
  stroke: var(--jp-layout-color1);
}

.jp-icon-hover :hover .jp-icon-accent2-hover[stroke] {
  stroke: var(--jp-layout-color2);
}

.jp-icon-hover :hover .jp-icon-accent3-hover[stroke] {
  stroke: var(--jp-layout-color3);
}

.jp-icon-hover :hover .jp-icon-accent4-hover[stroke] {
  stroke: var(--jp-layout-color4);
}

/* set the color of an icon to transparent */
.jp-icon-hover :hover .jp-icon-none-hover[fill] {
  fill: none;
}

.jp-icon-hover :hover .jp-icon-none-hover[stroke] {
  stroke: none;
}

/**
 * inverse colors
 */

/* inverse recolor the primary elements of an icon */
.jp-icon-hover.jp-icon-alt :hover .jp-icon0-hover[fill] {
  fill: var(--jp-layout-color0);
}

.jp-icon-hover.jp-icon-alt :hover .jp-icon1-hover[fill] {
  fill: var(--jp-layout-color1);
}

.jp-icon-hover.jp-icon-alt :hover .jp-icon2-hover[fill] {
  fill: var(--jp-layout-color2);
}

.jp-icon-hover.jp-icon-alt :hover .jp-icon3-hover[fill] {
  fill: var(--jp-layout-color3);
}

.jp-icon-hover.jp-icon-alt :hover .jp-icon4-hover[fill] {
  fill: var(--jp-layout-color4);
}

.jp-icon-hover.jp-icon-alt :hover .jp-icon0-hover[stroke] {
  stroke: var(--jp-layout-color0);
}

.jp-icon-hover.jp-icon-alt :hover .jp-icon1-hover[stroke] {
  stroke: var(--jp-layout-color1);
}

.jp-icon-hover.jp-icon-alt :hover .jp-icon2-hover[stroke] {
  stroke: var(--jp-layout-color2);
}

.jp-icon-hover.jp-icon-alt :hover .jp-icon3-hover[stroke] {
  stroke: var(--jp-layout-color3);
}

.jp-icon-hover.jp-icon-alt :hover .jp-icon4-hover[stroke] {
  stroke: var(--jp-layout-color4);
}

/* inverse recolor the accent elements of an icon */
.jp-icon-hover.jp-icon-alt :hover .jp-icon-accent0-hover[fill] {
  fill: var(--jp-inverse-layout-color0);
}

.jp-icon-hover.jp-icon-alt :hover .jp-icon-accent1-hover[fill] {
  fill: var(--jp-inverse-layout-color1);
}

.jp-icon-hover.jp-icon-alt :hover .jp-icon-accent2-hover[fill] {
  fill: var(--jp-inverse-layout-color2);
}

.jp-icon-hover.jp-icon-alt :hover .jp-icon-accent3-hover[fill] {
  fill: var(--jp-inverse-layout-color3);
}

.jp-icon-hover.jp-icon-alt :hover .jp-icon-accent4-hover[fill] {
  fill: var(--jp-inverse-layout-color4);
}

.jp-icon-hover.jp-icon-alt :hover .jp-icon-accent0-hover[stroke] {
  stroke: var(--jp-inverse-layout-color0);
}

.jp-icon-hover.jp-icon-alt :hover .jp-icon-accent1-hover[stroke] {
  stroke: var(--jp-inverse-layout-color1);
}

.jp-icon-hover.jp-icon-alt :hover .jp-icon-accent2-hover[stroke] {
  stroke: var(--jp-inverse-layout-color2);
}

.jp-icon-hover.jp-icon-alt :hover .jp-icon-accent3-hover[stroke] {
  stroke: var(--jp-inverse-layout-color3);
}

.jp-icon-hover.jp-icon-alt :hover .jp-icon-accent4-hover[stroke] {
  stroke: var(--jp-inverse-layout-color4);
}

/*-----------------------------------------------------------------------------
| Copyright (c) Jupyter Development Team.
| Distributed under the terms of the Modified BSD License.
|----------------------------------------------------------------------------*/

.jp-IFrame {
  width: 100%;
  height: 100%;
}

.jp-IFrame > iframe {
  border: none;
}

/*
When drag events occur, `lm-mod-override-cursor` is added to the body.
Because iframes steal all cursor events, the following two rules are necessary
to suppress pointer events while resize drags are occurring. There may be a
better solution to this problem.
*/
body.lm-mod-override-cursor .jp-IFrame {
  position: relative;
}

body.lm-mod-override-cursor .jp-IFrame::before {
  content: '';
  position: absolute;
  top: 0;
  left: 0;
  right: 0;
  bottom: 0;
  background: transparent;
}

/*-----------------------------------------------------------------------------
| Copyright (c) 2014-2016, Jupyter Development Team.
|
| Distributed under the terms of the Modified BSD License.
|----------------------------------------------------------------------------*/

.jp-HoverBox {
  position: fixed;
}

/*-----------------------------------------------------------------------------
| Copyright (c) Jupyter Development Team.
| Distributed under the terms of the Modified BSD License.
|----------------------------------------------------------------------------*/

.jp-FormGroup-content fieldset {
  border: none;
  padding: 0;
  min-width: 0;
  width: 100%;
}

/* stylelint-disable selector-max-type */

.jp-FormGroup-content fieldset .jp-inputFieldWrapper input,
.jp-FormGroup-content fieldset .jp-inputFieldWrapper select,
.jp-FormGroup-content fieldset .jp-inputFieldWrapper textarea {
  font-size: var(--jp-content-font-size2);
  border-color: var(--jp-input-border-color);
  border-style: solid;
  border-radius: var(--jp-border-radius);
  border-width: 1px;
  padding: 6px 8px;
  background: none;
  color: var(--jp-ui-font-color0);
  height: inherit;
}

.jp-FormGroup-content fieldset input[type='checkbox'] {
  position: relative;
  top: 2px;
  margin-left: 0;
}

.jp-FormGroup-content button.jp-mod-styled {
  cursor: pointer;
}

.jp-FormGroup-content .checkbox label {
  cursor: pointer;
  font-size: var(--jp-content-font-size1);
}

.jp-FormGroup-content .jp-root > fieldset > legend {
  display: none;
}

.jp-FormGroup-content .jp-root > fieldset > p {
  display: none;
}

/** copy of `input.jp-mod-styled:focus` style */
.jp-FormGroup-content fieldset input:focus,
.jp-FormGroup-content fieldset select:focus {
  -moz-outline-radius: unset;
  outline: var(--jp-border-width) solid var(--md-blue-500);
  outline-offset: -1px;
  box-shadow: inset 0 0 4px var(--md-blue-300);
}

.jp-FormGroup-content fieldset input:hover:not(:focus),
.jp-FormGroup-content fieldset select:hover:not(:focus) {
  background-color: var(--jp-border-color2);
}

/* stylelint-enable selector-max-type */

.jp-FormGroup-content .checkbox .field-description {
  /* Disable default description field for checkbox:
   because other widgets do not have description fields,
   we add descriptions to each widget on the field level.
  */
  display: none;
}

.jp-FormGroup-content #root__description {
  display: none;
}

.jp-FormGroup-content .jp-modifiedIndicator {
  width: 5px;
  background-color: var(--jp-brand-color2);
  margin-top: 0;
  margin-left: calc(var(--jp-private-settingeditor-modifier-indent) * -1);
  flex-shrink: 0;
}

.jp-FormGroup-content .jp-modifiedIndicator.jp-errorIndicator {
  background-color: var(--jp-error-color0);
  margin-right: 0.5em;
}

/* RJSF ARRAY style */

.jp-arrayFieldWrapper legend {
  font-size: var(--jp-content-font-size2);
  color: var(--jp-ui-font-color0);
  flex-basis: 100%;
  padding: 4px 0;
  font-weight: var(--jp-content-heading-font-weight);
  border-bottom: 1px solid var(--jp-border-color2);
}

.jp-arrayFieldWrapper .field-description {
  padding: 4px 0;
  white-space: pre-wrap;
}

.jp-arrayFieldWrapper .array-item {
  width: 100%;
  border: 1px solid var(--jp-border-color2);
  border-radius: 4px;
  margin: 4px;
}

.jp-ArrayOperations {
  display: flex;
  margin-left: 8px;
}

.jp-ArrayOperationsButton {
  margin: 2px;
}

.jp-ArrayOperationsButton .jp-icon3[fill] {
  fill: var(--jp-ui-font-color0);
}

button.jp-ArrayOperationsButton.jp-mod-styled:disabled {
  cursor: not-allowed;
  opacity: 0.5;
}

/* RJSF form validation error */

.jp-FormGroup-content .validationErrors {
  color: var(--jp-error-color0);
}

/* Hide panel level error as duplicated the field level error */
.jp-FormGroup-content .panel.errors {
  display: none;
}

/* RJSF normal content (settings-editor) */

.jp-FormGroup-contentNormal {
  display: flex;
  align-items: center;
  flex-wrap: wrap;
}

.jp-FormGroup-contentNormal .jp-FormGroup-contentItem {
  margin-left: 7px;
  color: var(--jp-ui-font-color0);
}

.jp-FormGroup-contentNormal .jp-FormGroup-description {
  flex-basis: 100%;
  padding: 4px 7px;
}

.jp-FormGroup-contentNormal .jp-FormGroup-default {
  flex-basis: 100%;
  padding: 4px 7px;
}

.jp-FormGroup-contentNormal .jp-FormGroup-fieldLabel {
  font-size: var(--jp-content-font-size1);
  font-weight: normal;
  min-width: 120px;
}

.jp-FormGroup-contentNormal fieldset:not(:first-child) {
  margin-left: 7px;
}

.jp-FormGroup-contentNormal .field-array-of-string .array-item {
  /* Display `jp-ArrayOperations` buttons side-by-side with content except
    for small screens where flex-wrap will place them one below the other.
  */
  display: flex;
  align-items: center;
  flex-wrap: wrap;
}

.jp-FormGroup-contentNormal .jp-objectFieldWrapper .form-group {
  padding: 2px 8px 2px var(--jp-private-settingeditor-modifier-indent);
  margin-top: 2px;
}

/* RJSF compact content (metadata-form) */

.jp-FormGroup-content.jp-FormGroup-contentCompact {
  width: 100%;
}

.jp-FormGroup-contentCompact .form-group {
  display: flex;
  padding: 0.5em 0.2em 0.5em 0;
}

.jp-FormGroup-contentCompact
  .jp-FormGroup-compactTitle
  .jp-FormGroup-description {
  font-size: var(--jp-ui-font-size1);
  color: var(--jp-ui-font-color2);
}

.jp-FormGroup-contentCompact .jp-FormGroup-fieldLabel {
  padding-bottom: 0.3em;
}

.jp-FormGroup-contentCompact .jp-inputFieldWrapper .form-control {
  width: 100%;
  box-sizing: border-box;
}

.jp-FormGroup-contentCompact .jp-arrayFieldWrapper .jp-FormGroup-compactTitle {
  padding-bottom: 7px;
}

.jp-FormGroup-contentCompact
  .jp-objectFieldWrapper
  .jp-objectFieldWrapper
  .form-group {
  padding: 2px 8px 2px var(--jp-private-settingeditor-modifier-indent);
  margin-top: 2px;
}

.jp-FormGroup-contentCompact ul.error-detail {
  margin-block-start: 0.5em;
  margin-block-end: 0.5em;
  padding-inline-start: 1em;
}

/*
 * Copyright (c) Jupyter Development Team.
 * Distributed under the terms of the Modified BSD License.
 */

.jp-SidePanel {
  display: flex;
  flex-direction: column;
  min-width: var(--jp-sidebar-min-width);
  overflow-y: auto;
  color: var(--jp-ui-font-color1);
  background: var(--jp-layout-color1);
  font-size: var(--jp-ui-font-size1);
}

.jp-SidePanel-header {
  flex: 0 0 auto;
  display: flex;
  border-bottom: var(--jp-border-width) solid var(--jp-border-color2);
  font-size: var(--jp-ui-font-size0);
  font-weight: 600;
  letter-spacing: 1px;
  margin: 0;
  padding: 2px;
  text-transform: uppercase;
}

.jp-SidePanel-toolbar {
  flex: 0 0 auto;
}

.jp-SidePanel-content {
  flex: 1 1 auto;
}

.jp-SidePanel-toolbar,
.jp-AccordionPanel-toolbar {
  height: var(--jp-private-toolbar-height);
}

.jp-SidePanel-toolbar.jp-Toolbar-micro {
  display: none;
}

.lm-AccordionPanel .jp-AccordionPanel-title {
  box-sizing: border-box;
  line-height: 25px;
  margin: 0;
  display: flex;
  align-items: center;
  background: var(--jp-layout-color1);
  color: var(--jp-ui-font-color1);
  border-bottom: var(--jp-border-width) solid var(--jp-toolbar-border-color);
  box-shadow: var(--jp-toolbar-box-shadow);
  font-size: var(--jp-ui-font-size0);
}

.jp-AccordionPanel-title {
  cursor: pointer;
  user-select: none;
  -moz-user-select: none;
  -webkit-user-select: none;
  text-transform: uppercase;
}

.lm-AccordionPanel[data-orientation='horizontal'] > .jp-AccordionPanel-title {
  /* Title is rotated for horizontal accordion panel using CSS */
  display: block;
  transform-origin: top left;
  transform: rotate(-90deg) translate(-100%);
}

.jp-AccordionPanel-title .lm-AccordionPanel-titleLabel {
  user-select: none;
  text-overflow: ellipsis;
  white-space: nowrap;
  overflow: hidden;
}

.jp-AccordionPanel-title .lm-AccordionPanel-titleCollapser {
  transform: rotate(-90deg);
  margin: auto 0;
  height: 16px;
}

.jp-AccordionPanel-title.lm-mod-expanded .lm-AccordionPanel-titleCollapser {
  transform: rotate(0deg);
}

.lm-AccordionPanel .jp-AccordionPanel-toolbar {
  background: none;
  box-shadow: none;
  border: none;
  margin-left: auto;
}

.lm-AccordionPanel .lm-SplitPanel-handle:hover {
  background: var(--jp-layout-color3);
}

.jp-text-truncated {
  overflow: hidden;
  text-overflow: ellipsis;
  white-space: nowrap;
}

/*-----------------------------------------------------------------------------
| Copyright (c) 2017, Jupyter Development Team.
|
| Distributed under the terms of the Modified BSD License.
|----------------------------------------------------------------------------*/

.jp-Spinner {
  position: absolute;
  display: flex;
  justify-content: center;
  align-items: center;
  z-index: 10;
  left: 0;
  top: 0;
  width: 100%;
  height: 100%;
  background: var(--jp-layout-color0);
  outline: none;
}

.jp-SpinnerContent {
  font-size: 10px;
  margin: 50px auto;
  text-indent: -9999em;
  width: 3em;
  height: 3em;
  border-radius: 50%;
  background: var(--jp-brand-color3);
  background: linear-gradient(
    to right,
    #f37626 10%,
    rgba(255, 255, 255, 0) 42%
  );
  position: relative;
  animation: load3 1s infinite linear, fadeIn 1s;
}

.jp-SpinnerContent::before {
  width: 50%;
  height: 50%;
  background: #f37626;
  border-radius: 100% 0 0;
  position: absolute;
  top: 0;
  left: 0;
  content: '';
}

.jp-SpinnerContent::after {
  background: var(--jp-layout-color0);
  width: 75%;
  height: 75%;
  border-radius: 50%;
  content: '';
  margin: auto;
  position: absolute;
  top: 0;
  left: 0;
  bottom: 0;
  right: 0;
}

@keyframes fadeIn {
  0% {
    opacity: 0;
  }

  100% {
    opacity: 1;
  }
}

@keyframes load3 {
  0% {
    transform: rotate(0deg);
  }

  100% {
    transform: rotate(360deg);
  }
}

/*-----------------------------------------------------------------------------
| Copyright (c) 2014-2017, Jupyter Development Team.
|
| Distributed under the terms of the Modified BSD License.
|----------------------------------------------------------------------------*/

button.jp-mod-styled {
  font-size: var(--jp-ui-font-size1);
  color: var(--jp-ui-font-color0);
  border: none;
  box-sizing: border-box;
  text-align: center;
  line-height: 32px;
  height: 32px;
  padding: 0 12px;
  letter-spacing: 0.8px;
  outline: none;
  appearance: none;
  -webkit-appearance: none;
  -moz-appearance: none;
}

input.jp-mod-styled {
  background: var(--jp-input-background);
  height: 28px;
  box-sizing: border-box;
  border: var(--jp-border-width) solid var(--jp-border-color1);
  padding-left: 7px;
  padding-right: 7px;
  font-size: var(--jp-ui-font-size2);
  color: var(--jp-ui-font-color0);
  outline: none;
  appearance: none;
  -webkit-appearance: none;
  -moz-appearance: none;
}

input[type='checkbox'].jp-mod-styled {
  appearance: checkbox;
  -webkit-appearance: checkbox;
  -moz-appearance: checkbox;
  height: auto;
}

input.jp-mod-styled:focus {
  border: var(--jp-border-width) solid var(--md-blue-500);
  box-shadow: inset 0 0 4px var(--md-blue-300);
}

.jp-select-wrapper {
  display: flex;
  position: relative;
  flex-direction: column;
  padding: 1px;
  background-color: var(--jp-layout-color1);
  box-sizing: border-box;
  margin-bottom: 12px;
}

.jp-select-wrapper:not(.multiple) {
  height: 28px;
}

.jp-select-wrapper.jp-mod-focused select.jp-mod-styled {
  border: var(--jp-border-width) solid var(--jp-input-active-border-color);
  box-shadow: var(--jp-input-box-shadow);
  background-color: var(--jp-input-active-background);
}

select.jp-mod-styled:hover {
  cursor: pointer;
  color: var(--jp-ui-font-color0);
  background-color: var(--jp-input-hover-background);
  box-shadow: inset 0 0 1px rgba(0, 0, 0, 0.5);
}

select.jp-mod-styled {
  flex: 1 1 auto;
  width: 100%;
  font-size: var(--jp-ui-font-size2);
  background: var(--jp-input-background);
  color: var(--jp-ui-font-color0);
  padding: 0 25px 0 8px;
  border: var(--jp-border-width) solid var(--jp-input-border-color);
  border-radius: 0;
  outline: none;
  appearance: none;
  -webkit-appearance: none;
  -moz-appearance: none;
}

select.jp-mod-styled:not([multiple]) {
  height: 32px;
}

select.jp-mod-styled[multiple] {
  max-height: 200px;
  overflow-y: auto;
}

/*-----------------------------------------------------------------------------
| Copyright (c) Jupyter Development Team.
| Distributed under the terms of the Modified BSD License.
|----------------------------------------------------------------------------*/

.jp-switch {
  display: flex;
  align-items: center;
  padding-left: 4px;
  padding-right: 4px;
  font-size: var(--jp-ui-font-size1);
  background-color: transparent;
  color: var(--jp-ui-font-color1);
  border: none;
  height: 20px;
}

.jp-switch:hover {
  background-color: var(--jp-layout-color2);
}

.jp-switch-label {
  margin-right: 5px;
  font-family: var(--jp-ui-font-family);
}

.jp-switch-track {
  cursor: pointer;
  background-color: var(--jp-switch-color, var(--jp-border-color1));
  -webkit-transition: 0.4s;
  transition: 0.4s;
  border-radius: 34px;
  height: 16px;
  width: 35px;
  position: relative;
}

.jp-switch-track::before {
  content: '';
  position: absolute;
  height: 10px;
  width: 10px;
  margin: 3px;
  left: 0;
  background-color: var(--jp-ui-inverse-font-color1);
  -webkit-transition: 0.4s;
  transition: 0.4s;
  border-radius: 50%;
}

.jp-switch[aria-checked='true'] .jp-switch-track {
  background-color: var(--jp-switch-true-position-color, var(--jp-warn-color0));
}

.jp-switch[aria-checked='true'] .jp-switch-track::before {
  /* track width (35) - margins (3 + 3) - thumb width (10) */
  left: 19px;
}

/*-----------------------------------------------------------------------------
| Copyright (c) 2014-2016, Jupyter Development Team.
|
| Distributed under the terms of the Modified BSD License.
|----------------------------------------------------------------------------*/

:root {
  --jp-private-toolbar-height: calc(
    28px + var(--jp-border-width)
  ); /* leave 28px for content */
}

.jp-Toolbar {
  color: var(--jp-ui-font-color1);
  flex: 0 0 auto;
  display: flex;
  flex-direction: row;
  border-bottom: var(--jp-border-width) solid var(--jp-toolbar-border-color);
  box-shadow: var(--jp-toolbar-box-shadow);
  background: var(--jp-toolbar-background);
  min-height: var(--jp-toolbar-micro-height);
  padding: 2px;
  z-index: 8;
  overflow-x: hidden;
}

/* Toolbar items */

.jp-Toolbar > .jp-Toolbar-item.jp-Toolbar-spacer {
  flex-grow: 1;
  flex-shrink: 1;
}

.jp-Toolbar-item.jp-Toolbar-kernelStatus {
  display: inline-block;
  width: 32px;
  background-repeat: no-repeat;
  background-position: center;
  background-size: 16px;
}

.jp-Toolbar > .jp-Toolbar-item {
  flex: 0 0 auto;
  display: flex;
  padding-left: 1px;
  padding-right: 1px;
  font-size: var(--jp-ui-font-size1);
  line-height: var(--jp-private-toolbar-height);
  height: 100%;
}

/* Toolbar buttons */

/* This is the div we use to wrap the react component into a Widget */
div.jp-ToolbarButton {
  color: transparent;
  border: none;
  box-sizing: border-box;
  outline: none;
  appearance: none;
  -webkit-appearance: none;
  -moz-appearance: none;
  padding: 0;
  margin: 0;
}

button.jp-ToolbarButtonComponent {
  background: var(--jp-layout-color1);
  border: none;
  box-sizing: border-box;
  outline: none;
  appearance: none;
  -webkit-appearance: none;
  -moz-appearance: none;
  padding: 0 6px;
  margin: 0;
  height: 24px;
  border-radius: var(--jp-border-radius);
  display: flex;
  align-items: center;
  text-align: center;
  font-size: 14px;
  min-width: unset;
  min-height: unset;
}

button.jp-ToolbarButtonComponent:disabled {
  opacity: 0.4;
}

button.jp-ToolbarButtonComponent > span {
  padding: 0;
  flex: 0 0 auto;
}

button.jp-ToolbarButtonComponent .jp-ToolbarButtonComponent-label {
  font-size: var(--jp-ui-font-size1);
  line-height: 100%;
  padding-left: 2px;
  color: var(--jp-ui-font-color1);
  font-family: var(--jp-ui-font-family);
}

#jp-main-dock-panel[data-mode='single-document']
  .jp-MainAreaWidget
  > .jp-Toolbar.jp-Toolbar-micro {
  padding: 0;
  min-height: 0;
}

#jp-main-dock-panel[data-mode='single-document']
  .jp-MainAreaWidget
  > .jp-Toolbar {
  border: none;
  box-shadow: none;
}

/*
 * Copyright (c) Jupyter Development Team.
 * Distributed under the terms of the Modified BSD License.
 */

.jp-WindowedPanel-outer {
  position: relative;
  overflow-y: auto;
}

.jp-WindowedPanel-inner {
  position: relative;
}

.jp-WindowedPanel-window {
  position: absolute;
  left: 0;
  right: 0;
  overflow: visible;
}

/*-----------------------------------------------------------------------------
| Copyright (c) Jupyter Development Team.
| Distributed under the terms of the Modified BSD License.
|----------------------------------------------------------------------------*/

/* Sibling imports */

body {
  color: var(--jp-ui-font-color1);
  font-size: var(--jp-ui-font-size1);
}

/* Disable native link decoration styles everywhere outside of dialog boxes */
a {
  text-decoration: unset;
  color: unset;
}

a:hover {
  text-decoration: unset;
  color: unset;
}

/* Accessibility for links inside dialog box text */
.jp-Dialog-content a {
  text-decoration: revert;
  color: var(--jp-content-link-color);
}

.jp-Dialog-content a:hover {
  text-decoration: revert;
}

/* Styles for ui-components */
.jp-Button {
  color: var(--jp-ui-font-color2);
  border-radius: var(--jp-border-radius);
  padding: 0 12px;
  font-size: var(--jp-ui-font-size1);

  /* Copy from blueprint 3 */
  display: inline-flex;
  flex-direction: row;
  border: none;
  cursor: pointer;
  align-items: center;
  justify-content: center;
  text-align: left;
  vertical-align: middle;
  min-height: 30px;
  min-width: 30px;
}

.jp-Button:disabled {
  cursor: not-allowed;
}

.jp-Button:empty {
  padding: 0 !important;
}

.jp-Button.jp-mod-small {
  min-height: 24px;
  min-width: 24px;
  font-size: 12px;
  padding: 0 7px;
}

/* Use our own theme for hover styles */
.jp-Button.jp-mod-minimal:hover {
  background-color: var(--jp-layout-color2);
}

.jp-Button.jp-mod-minimal {
  background: none;
}

.jp-InputGroup {
  display: block;
  position: relative;
}

.jp-InputGroup input {
  box-sizing: border-box;
  border: none;
  border-radius: 0;
  background-color: transparent;
  color: var(--jp-ui-font-color0);
  box-shadow: inset 0 0 0 var(--jp-border-width) var(--jp-input-border-color);
  padding-bottom: 0;
  padding-top: 0;
  padding-left: 10px;
  padding-right: 28px;
  position: relative;
  width: 100%;
  -webkit-appearance: none;
  -moz-appearance: none;
  appearance: none;
  font-size: 14px;
  font-weight: 400;
  height: 30px;
  line-height: 30px;
  outline: none;
  vertical-align: middle;
}

.jp-InputGroup input:focus {
  box-shadow: inset 0 0 0 var(--jp-border-width)
      var(--jp-input-active-box-shadow-color),
    inset 0 0 0 3px var(--jp-input-active-box-shadow-color);
}

.jp-InputGroup input:disabled {
  cursor: not-allowed;
  resize: block;
  background-color: var(--jp-layout-color2);
  color: var(--jp-ui-font-color2);
}

.jp-InputGroup input:disabled ~ span {
  cursor: not-allowed;
  color: var(--jp-ui-font-color2);
}

.jp-InputGroup input::placeholder,
input::placeholder {
  color: var(--jp-ui-font-color2);
}

.jp-InputGroupAction {
  position: absolute;
  bottom: 1px;
  right: 0;
  padding: 6px;
}

.jp-HTMLSelect.jp-DefaultStyle select {
  background-color: initial;
  border: none;
  border-radius: 0;
  box-shadow: none;
  color: var(--jp-ui-font-color0);
  display: block;
  font-size: var(--jp-ui-font-size1);
  font-family: var(--jp-ui-font-family);
  height: 24px;
  line-height: 14px;
  padding: 0 25px 0 10px;
  text-align: left;
  -moz-appearance: none;
  -webkit-appearance: none;
}

.jp-HTMLSelect.jp-DefaultStyle select:disabled {
  background-color: var(--jp-layout-color2);
  color: var(--jp-ui-font-color2);
  cursor: not-allowed;
  resize: block;
}

.jp-HTMLSelect.jp-DefaultStyle select:disabled ~ span {
  cursor: not-allowed;
}

/* Use our own theme for hover and option styles */
/* stylelint-disable-next-line selector-max-type */
.jp-HTMLSelect.jp-DefaultStyle select:hover,
.jp-HTMLSelect.jp-DefaultStyle select > option {
  background-color: var(--jp-layout-color2);
  color: var(--jp-ui-font-color0);
}

select {
  box-sizing: border-box;
}

/*-----------------------------------------------------------------------------
| Copyright (c) Jupyter Development Team.
| Distributed under the terms of the Modified BSD License.
|----------------------------------------------------------------------------*/

/*-----------------------------------------------------------------------------
| Styles
|----------------------------------------------------------------------------*/

.jp-StatusBar-Widget {
  display: flex;
  align-items: center;
  background: var(--jp-layout-color2);
  min-height: var(--jp-statusbar-height);
  justify-content: space-between;
  padding: 0 10px;
}

.jp-StatusBar-Left {
  display: flex;
  align-items: center;
  flex-direction: row;
}

.jp-StatusBar-Middle {
  display: flex;
  align-items: center;
}

.jp-StatusBar-Right {
  display: flex;
  align-items: center;
  flex-direction: row-reverse;
}

.jp-StatusBar-Item {
  max-height: var(--jp-statusbar-height);
  margin: 0 2px;
  height: var(--jp-statusbar-height);
  white-space: nowrap;
  text-overflow: ellipsis;
  color: var(--jp-ui-font-color1);
  padding: 0 6px;
}

.jp-mod-highlighted:hover {
  background-color: var(--jp-layout-color3);
}

.jp-mod-clicked {
  background-color: var(--jp-brand-color1);
}

.jp-mod-clicked:hover {
  background-color: var(--jp-brand-color0);
}

.jp-mod-clicked .jp-StatusBar-TextItem {
  color: var(--jp-ui-inverse-font-color1);
}

.jp-StatusBar-HoverItem {
  box-shadow: '0px 4px 4px rgba(0, 0, 0, 0.25)';
}

.jp-StatusBar-TextItem {
  font-size: var(--jp-ui-font-size1);
  font-family: var(--jp-ui-font-family);
  line-height: 24px;
  color: var(--jp-ui-font-color1);
}

.jp-StatusBar-GroupItem {
  display: flex;
  align-items: center;
  flex-direction: row;
}

.jp-Statusbar-ProgressCircle svg {
  display: block;
  margin: 0 auto;
  width: 16px;
  height: 24px;
  align-self: normal;
}

.jp-Statusbar-ProgressCircle path {
  fill: var(--jp-inverse-layout-color3);
}

.jp-Statusbar-ProgressBar-progress-bar {
  height: 10px;
  width: 100px;
  border: solid 0.25px var(--jp-brand-color2);
  border-radius: 3px;
  overflow: hidden;
  align-self: center;
}

.jp-Statusbar-ProgressBar-progress-bar > div {
  background-color: var(--jp-brand-color2);
  background-image: linear-gradient(
    -45deg,
    rgba(255, 255, 255, 0.2) 25%,
    transparent 25%,
    transparent 50%,
    rgba(255, 255, 255, 0.2) 50%,
    rgba(255, 255, 255, 0.2) 75%,
    transparent 75%,
    transparent
  );
  background-size: 40px 40px;
  float: left;
  width: 0%;
  height: 100%;
  font-size: 12px;
  line-height: 14px;
  color: #fff;
  text-align: center;
  animation: jp-Statusbar-ExecutionTime-progress-bar 2s linear infinite;
}

.jp-Statusbar-ProgressBar-progress-bar p {
  color: var(--jp-ui-font-color1);
  font-family: var(--jp-ui-font-family);
  font-size: var(--jp-ui-font-size1);
  line-height: 10px;
  width: 100px;
}

@keyframes jp-Statusbar-ExecutionTime-progress-bar {
  0% {
    background-position: 0 0;
  }

  100% {
    background-position: 40px 40px;
  }
}

/*-----------------------------------------------------------------------------
| Copyright (c) Jupyter Development Team.
| Distributed under the terms of the Modified BSD License.
|----------------------------------------------------------------------------*/

/*-----------------------------------------------------------------------------
| Variables
|----------------------------------------------------------------------------*/

:root {
  --jp-private-commandpalette-search-height: 28px;
}

/*-----------------------------------------------------------------------------
| Overall styles
|----------------------------------------------------------------------------*/

.lm-CommandPalette {
  padding-bottom: 0;
  color: var(--jp-ui-font-color1);
  background: var(--jp-layout-color1);

  /* This is needed so that all font sizing of children done in ems is
   * relative to this base size */
  font-size: var(--jp-ui-font-size1);
}

/*-----------------------------------------------------------------------------
| Modal variant
|----------------------------------------------------------------------------*/

.jp-ModalCommandPalette {
  position: absolute;
  z-index: 10000;
  top: 38px;
  left: 30%;
  margin: 0;
  padding: 4px;
  width: 40%;
  box-shadow: var(--jp-elevation-z4);
  border-radius: 4px;
  background: var(--jp-layout-color0);
}

.jp-ModalCommandPalette .lm-CommandPalette {
  max-height: 40vh;
}

.jp-ModalCommandPalette .lm-CommandPalette .lm-close-icon::after {
  display: none;
}

.jp-ModalCommandPalette .lm-CommandPalette .lm-CommandPalette-header {
  display: none;
}

.jp-ModalCommandPalette .lm-CommandPalette .lm-CommandPalette-item {
  margin-left: 4px;
  margin-right: 4px;
}

.jp-ModalCommandPalette
  .lm-CommandPalette
  .lm-CommandPalette-item.lm-mod-disabled {
  display: none;
}

/*-----------------------------------------------------------------------------
| Search
|----------------------------------------------------------------------------*/

.lm-CommandPalette-search {
  padding: 4px;
  background-color: var(--jp-layout-color1);
  z-index: 2;
}

.lm-CommandPalette-wrapper {
  overflow: overlay;
  padding: 0 9px;
  background-color: var(--jp-input-active-background);
  height: 30px;
  box-shadow: inset 0 0 0 var(--jp-border-width) var(--jp-input-border-color);
}

.lm-CommandPalette.lm-mod-focused .lm-CommandPalette-wrapper {
  box-shadow: inset 0 0 0 1px var(--jp-input-active-box-shadow-color),
    inset 0 0 0 3px var(--jp-input-active-box-shadow-color);
}

.jp-SearchIconGroup {
  color: white;
  background-color: var(--jp-brand-color1);
  position: absolute;
  top: 4px;
  right: 4px;
  padding: 5px 5px 1px;
}

.jp-SearchIconGroup svg {
  height: 20px;
  width: 20px;
}

.jp-SearchIconGroup .jp-icon3[fill] {
  fill: var(--jp-layout-color0);
}

.lm-CommandPalette-input {
  background: transparent;
  width: calc(100% - 18px);
  float: left;
  border: none;
  outline: none;
  font-size: var(--jp-ui-font-size1);
  color: var(--jp-ui-font-color0);
  line-height: var(--jp-private-commandpalette-search-height);
}

.lm-CommandPalette-input::-webkit-input-placeholder,
.lm-CommandPalette-input::-moz-placeholder,
.lm-CommandPalette-input:-ms-input-placeholder {
  color: var(--jp-ui-font-color2);
  font-size: var(--jp-ui-font-size1);
}

/*-----------------------------------------------------------------------------
| Results
|----------------------------------------------------------------------------*/

.lm-CommandPalette-header:first-child {
  margin-top: 0;
}

.lm-CommandPalette-header {
  border-bottom: solid var(--jp-border-width) var(--jp-border-color2);
  color: var(--jp-ui-font-color1);
  cursor: pointer;
  display: flex;
  font-size: var(--jp-ui-font-size0);
  font-weight: 600;
  letter-spacing: 1px;
  margin-top: 8px;
  padding: 8px 0 8px 12px;
  text-transform: uppercase;
}

.lm-CommandPalette-header.lm-mod-active {
  background: var(--jp-layout-color2);
}

.lm-CommandPalette-header > mark {
  background-color: transparent;
  font-weight: bold;
  color: var(--jp-ui-font-color1);
}

.lm-CommandPalette-item {
  padding: 4px 12px 4px 4px;
  color: var(--jp-ui-font-color1);
  font-size: var(--jp-ui-font-size1);
  font-weight: 400;
  display: flex;
}

.lm-CommandPalette-item.lm-mod-disabled {
  color: var(--jp-ui-font-color2);
}

.lm-CommandPalette-item.lm-mod-active {
  color: var(--jp-ui-inverse-font-color1);
  background: var(--jp-brand-color1);
}

.lm-CommandPalette-item.lm-mod-active .lm-CommandPalette-itemLabel > mark {
  color: var(--jp-ui-inverse-font-color0);
}

.lm-CommandPalette-item.lm-mod-active .jp-icon-selectable[fill] {
  fill: var(--jp-layout-color0);
}

.lm-CommandPalette-item.lm-mod-active:hover:not(.lm-mod-disabled) {
  color: var(--jp-ui-inverse-font-color1);
  background: var(--jp-brand-color1);
}

.lm-CommandPalette-item:hover:not(.lm-mod-active):not(.lm-mod-disabled) {
  background: var(--jp-layout-color2);
}

.lm-CommandPalette-itemContent {
  overflow: hidden;
}

.lm-CommandPalette-itemLabel > mark {
  color: var(--jp-ui-font-color0);
  background-color: transparent;
  font-weight: bold;
}

.lm-CommandPalette-item.lm-mod-disabled mark {
  color: var(--jp-ui-font-color2);
}

.lm-CommandPalette-item .lm-CommandPalette-itemIcon {
  margin: 0 4px 0 0;
  position: relative;
  width: 16px;
  top: 2px;
  flex: 0 0 auto;
}

.lm-CommandPalette-item.lm-mod-disabled .lm-CommandPalette-itemIcon {
  opacity: 0.6;
}

.lm-CommandPalette-item .lm-CommandPalette-itemShortcut {
  flex: 0 0 auto;
}

.lm-CommandPalette-itemCaption {
  display: none;
}

.lm-CommandPalette-content {
  background-color: var(--jp-layout-color1);
}

.lm-CommandPalette-content:empty::after {
  content: 'No results';
  margin: auto;
  margin-top: 20px;
  width: 100px;
  display: block;
  font-size: var(--jp-ui-font-size2);
  font-family: var(--jp-ui-font-family);
  font-weight: lighter;
}

.lm-CommandPalette-emptyMessage {
  text-align: center;
  margin-top: 24px;
  line-height: 1.32;
  padding: 0 8px;
  color: var(--jp-content-font-color3);
}

/*-----------------------------------------------------------------------------
| Copyright (c) 2014-2017, Jupyter Development Team.
|
| Distributed under the terms of the Modified BSD License.
|----------------------------------------------------------------------------*/

.jp-Dialog {
  position: absolute;
  z-index: 10000;
  display: flex;
  flex-direction: column;
  align-items: center;
  justify-content: center;
  top: 0;
  left: 0;
  margin: 0;
  padding: 0;
  width: 100%;
  height: 100%;
  background: var(--jp-dialog-background);
}

.jp-Dialog-content {
  display: flex;
  flex-direction: column;
  margin-left: auto;
  margin-right: auto;
  background: var(--jp-layout-color1);
  padding: 24px 24px 12px;
  min-width: 300px;
  min-height: 150px;
  max-width: 1000px;
  max-height: 500px;
  box-sizing: border-box;
  box-shadow: var(--jp-elevation-z20);
  word-wrap: break-word;
  border-radius: var(--jp-border-radius);

  /* This is needed so that all font sizing of children done in ems is
   * relative to this base size */
  font-size: var(--jp-ui-font-size1);
  color: var(--jp-ui-font-color1);
  resize: both;
}

.jp-Dialog-content.jp-Dialog-content-small {
  max-width: 500px;
}

.jp-Dialog-button {
  overflow: visible;
}

button.jp-Dialog-button:focus {
  outline: 1px solid var(--jp-brand-color1);
  outline-offset: 4px;
  -moz-outline-radius: 0;
}

button.jp-Dialog-button:focus::-moz-focus-inner {
  border: 0;
}

button.jp-Dialog-button.jp-mod-styled.jp-mod-accept:focus,
button.jp-Dialog-button.jp-mod-styled.jp-mod-warn:focus,
button.jp-Dialog-button.jp-mod-styled.jp-mod-reject:focus {
  outline-offset: 4px;
  -moz-outline-radius: 0;
}

button.jp-Dialog-button.jp-mod-styled.jp-mod-accept:focus {
  outline: 1px solid var(--jp-accept-color-normal, var(--jp-brand-color1));
}

button.jp-Dialog-button.jp-mod-styled.jp-mod-warn:focus {
  outline: 1px solid var(--jp-warn-color-normal, var(--jp-error-color1));
}

button.jp-Dialog-button.jp-mod-styled.jp-mod-reject:focus {
  outline: 1px solid var(--jp-reject-color-normal, var(--md-grey-600));
}

button.jp-Dialog-close-button {
  padding: 0;
  height: 100%;
  min-width: unset;
  min-height: unset;
}

.jp-Dialog-header {
  display: flex;
  justify-content: space-between;
  flex: 0 0 auto;
  padding-bottom: 12px;
  font-size: var(--jp-ui-font-size3);
  font-weight: 400;
  color: var(--jp-ui-font-color1);
}

.jp-Dialog-body {
  display: flex;
  flex-direction: column;
  flex: 1 1 auto;
  font-size: var(--jp-ui-font-size1);
  background: var(--jp-layout-color1);
  color: var(--jp-ui-font-color1);
  overflow: auto;
}

.jp-Dialog-footer {
  display: flex;
  flex-direction: row;
  justify-content: flex-end;
  align-items: center;
  flex: 0 0 auto;
  margin-left: -12px;
  margin-right: -12px;
  padding: 12px;
}

.jp-Dialog-checkbox {
  padding-right: 5px;
}

.jp-Dialog-checkbox > input:focus-visible {
  outline: 1px solid var(--jp-input-active-border-color);
  outline-offset: 1px;
}

.jp-Dialog-spacer {
  flex: 1 1 auto;
}

.jp-Dialog-title {
  overflow: hidden;
  white-space: nowrap;
  text-overflow: ellipsis;
}

.jp-Dialog-body > .jp-select-wrapper {
  width: 100%;
}

.jp-Dialog-body > button {
  padding: 0 16px;
}

.jp-Dialog-body > label {
  line-height: 1.4;
  color: var(--jp-ui-font-color0);
}

.jp-Dialog-button.jp-mod-styled:not(:last-child) {
  margin-right: 12px;
}

/*
 * Copyright (c) Jupyter Development Team.
 * Distributed under the terms of the Modified BSD License.
 */

.jp-Input-Boolean-Dialog {
  flex-direction: row-reverse;
  align-items: end;
  width: 100%;
}

.jp-Input-Boolean-Dialog > label {
  flex: 1 1 auto;
}

/*-----------------------------------------------------------------------------
| Copyright (c) 2014-2016, Jupyter Development Team.
|
| Distributed under the terms of the Modified BSD License.
|----------------------------------------------------------------------------*/

.jp-MainAreaWidget > :focus {
  outline: none;
}

.jp-MainAreaWidget .jp-MainAreaWidget-error {
  padding: 6px;
}

.jp-MainAreaWidget .jp-MainAreaWidget-error > pre {
  width: auto;
  padding: 10px;
  background: var(--jp-error-color3);
  border: var(--jp-border-width) solid var(--jp-error-color1);
  border-radius: var(--jp-border-radius);
  color: var(--jp-ui-font-color1);
  font-size: var(--jp-ui-font-size1);
  white-space: pre-wrap;
  word-wrap: break-word;
}

/*
 * Copyright (c) Jupyter Development Team.
 * Distributed under the terms of the Modified BSD License.
 */

/**
 * google-material-color v1.2.6
 * https://github.com/danlevan/google-material-color
 */
:root {
  --md-red-50: #ffebee;
  --md-red-100: #ffcdd2;
  --md-red-200: #ef9a9a;
  --md-red-300: #e57373;
  --md-red-400: #ef5350;
  --md-red-500: #f44336;
  --md-red-600: #e53935;
  --md-red-700: #d32f2f;
  --md-red-800: #c62828;
  --md-red-900: #b71c1c;
  --md-red-A100: #ff8a80;
  --md-red-A200: #ff5252;
  --md-red-A400: #ff1744;
  --md-red-A700: #d50000;
  --md-pink-50: #fce4ec;
  --md-pink-100: #f8bbd0;
  --md-pink-200: #f48fb1;
  --md-pink-300: #f06292;
  --md-pink-400: #ec407a;
  --md-pink-500: #e91e63;
  --md-pink-600: #d81b60;
  --md-pink-700: #c2185b;
  --md-pink-800: #ad1457;
  --md-pink-900: #880e4f;
  --md-pink-A100: #ff80ab;
  --md-pink-A200: #ff4081;
  --md-pink-A400: #f50057;
  --md-pink-A700: #c51162;
  --md-purple-50: #f3e5f5;
  --md-purple-100: #e1bee7;
  --md-purple-200: #ce93d8;
  --md-purple-300: #ba68c8;
  --md-purple-400: #ab47bc;
  --md-purple-500: #9c27b0;
  --md-purple-600: #8e24aa;
  --md-purple-700: #7b1fa2;
  --md-purple-800: #6a1b9a;
  --md-purple-900: #4a148c;
  --md-purple-A100: #ea80fc;
  --md-purple-A200: #e040fb;
  --md-purple-A400: #d500f9;
  --md-purple-A700: #a0f;
  --md-deep-purple-50: #ede7f6;
  --md-deep-purple-100: #d1c4e9;
  --md-deep-purple-200: #b39ddb;
  --md-deep-purple-300: #9575cd;
  --md-deep-purple-400: #7e57c2;
  --md-deep-purple-500: #673ab7;
  --md-deep-purple-600: #5e35b1;
  --md-deep-purple-700: #512da8;
  --md-deep-purple-800: #4527a0;
  --md-deep-purple-900: #311b92;
  --md-deep-purple-A100: #b388ff;
  --md-deep-purple-A200: #7c4dff;
  --md-deep-purple-A400: #651fff;
  --md-deep-purple-A700: #6200ea;
  --md-indigo-50: #e8eaf6;
  --md-indigo-100: #c5cae9;
  --md-indigo-200: #9fa8da;
  --md-indigo-300: #7986cb;
  --md-indigo-400: #5c6bc0;
  --md-indigo-500: #3f51b5;
  --md-indigo-600: #3949ab;
  --md-indigo-700: #303f9f;
  --md-indigo-800: #283593;
  --md-indigo-900: #1a237e;
  --md-indigo-A100: #8c9eff;
  --md-indigo-A200: #536dfe;
  --md-indigo-A400: #3d5afe;
  --md-indigo-A700: #304ffe;
  --md-blue-50: #e3f2fd;
  --md-blue-100: #bbdefb;
  --md-blue-200: #90caf9;
  --md-blue-300: #64b5f6;
  --md-blue-400: #42a5f5;
  --md-blue-500: #2196f3;
  --md-blue-600: #1e88e5;
  --md-blue-700: #1976d2;
  --md-blue-800: #1565c0;
  --md-blue-900: #0d47a1;
  --md-blue-A100: #82b1ff;
  --md-blue-A200: #448aff;
  --md-blue-A400: #2979ff;
  --md-blue-A700: #2962ff;
  --md-light-blue-50: #e1f5fe;
  --md-light-blue-100: #b3e5fc;
  --md-light-blue-200: #81d4fa;
  --md-light-blue-300: #4fc3f7;
  --md-light-blue-400: #29b6f6;
  --md-light-blue-500: #03a9f4;
  --md-light-blue-600: #039be5;
  --md-light-blue-700: #0288d1;
  --md-light-blue-800: #0277bd;
  --md-light-blue-900: #01579b;
  --md-light-blue-A100: #80d8ff;
  --md-light-blue-A200: #40c4ff;
  --md-light-blue-A400: #00b0ff;
  --md-light-blue-A700: #0091ea;
  --md-cyan-50: #e0f7fa;
  --md-cyan-100: #b2ebf2;
  --md-cyan-200: #80deea;
  --md-cyan-300: #4dd0e1;
  --md-cyan-400: #26c6da;
  --md-cyan-500: #00bcd4;
  --md-cyan-600: #00acc1;
  --md-cyan-700: #0097a7;
  --md-cyan-800: #00838f;
  --md-cyan-900: #006064;
  --md-cyan-A100: #84ffff;
  --md-cyan-A200: #18ffff;
  --md-cyan-A400: #00e5ff;
  --md-cyan-A700: #00b8d4;
  --md-teal-50: #e0f2f1;
  --md-teal-100: #b2dfdb;
  --md-teal-200: #80cbc4;
  --md-teal-300: #4db6ac;
  --md-teal-400: #26a69a;
  --md-teal-500: #009688;
  --md-teal-600: #00897b;
  --md-teal-700: #00796b;
  --md-teal-800: #00695c;
  --md-teal-900: #004d40;
  --md-teal-A100: #a7ffeb;
  --md-teal-A200: #64ffda;
  --md-teal-A400: #1de9b6;
  --md-teal-A700: #00bfa5;
  --md-green-50: #e8f5e9;
  --md-green-100: #c8e6c9;
  --md-green-200: #a5d6a7;
  --md-green-300: #81c784;
  --md-green-400: #66bb6a;
  --md-green-500: #4caf50;
  --md-green-600: #43a047;
  --md-green-700: #388e3c;
  --md-green-800: #2e7d32;
  --md-green-900: #1b5e20;
  --md-green-A100: #b9f6ca;
  --md-green-A200: #69f0ae;
  --md-green-A400: #00e676;
  --md-green-A700: #00c853;
  --md-light-green-50: #f1f8e9;
  --md-light-green-100: #dcedc8;
  --md-light-green-200: #c5e1a5;
  --md-light-green-300: #aed581;
  --md-light-green-400: #9ccc65;
  --md-light-green-500: #8bc34a;
  --md-light-green-600: #7cb342;
  --md-light-green-700: #689f38;
  --md-light-green-800: #558b2f;
  --md-light-green-900: #33691e;
  --md-light-green-A100: #ccff90;
  --md-light-green-A200: #b2ff59;
  --md-light-green-A400: #76ff03;
  --md-light-green-A700: #64dd17;
  --md-lime-50: #f9fbe7;
  --md-lime-100: #f0f4c3;
  --md-lime-200: #e6ee9c;
  --md-lime-300: #dce775;
  --md-lime-400: #d4e157;
  --md-lime-500: #cddc39;
  --md-lime-600: #c0ca33;
  --md-lime-700: #afb42b;
  --md-lime-800: #9e9d24;
  --md-lime-900: #827717;
  --md-lime-A100: #f4ff81;
  --md-lime-A200: #eeff41;
  --md-lime-A400: #c6ff00;
  --md-lime-A700: #aeea00;
  --md-yellow-50: #fffde7;
  --md-yellow-100: #fff9c4;
  --md-yellow-200: #fff59d;
  --md-yellow-300: #fff176;
  --md-yellow-400: #ffee58;
  --md-yellow-500: #ffeb3b;
  --md-yellow-600: #fdd835;
  --md-yellow-700: #fbc02d;
  --md-yellow-800: #f9a825;
  --md-yellow-900: #f57f17;
  --md-yellow-A100: #ffff8d;
  --md-yellow-A200: #ff0;
  --md-yellow-A400: #ffea00;
  --md-yellow-A700: #ffd600;
  --md-amber-50: #fff8e1;
  --md-amber-100: #ffecb3;
  --md-amber-200: #ffe082;
  --md-amber-300: #ffd54f;
  --md-amber-400: #ffca28;
  --md-amber-500: #ffc107;
  --md-amber-600: #ffb300;
  --md-amber-700: #ffa000;
  --md-amber-800: #ff8f00;
  --md-amber-900: #ff6f00;
  --md-amber-A100: #ffe57f;
  --md-amber-A200: #ffd740;
  --md-amber-A400: #ffc400;
  --md-amber-A700: #ffab00;
  --md-orange-50: #fff3e0;
  --md-orange-100: #ffe0b2;
  --md-orange-200: #ffcc80;
  --md-orange-300: #ffb74d;
  --md-orange-400: #ffa726;
  --md-orange-500: #ff9800;
  --md-orange-600: #fb8c00;
  --md-orange-700: #f57c00;
  --md-orange-800: #ef6c00;
  --md-orange-900: #e65100;
  --md-orange-A100: #ffd180;
  --md-orange-A200: #ffab40;
  --md-orange-A400: #ff9100;
  --md-orange-A700: #ff6d00;
  --md-deep-orange-50: #fbe9e7;
  --md-deep-orange-100: #ffccbc;
  --md-deep-orange-200: #ffab91;
  --md-deep-orange-300: #ff8a65;
  --md-deep-orange-400: #ff7043;
  --md-deep-orange-500: #ff5722;
  --md-deep-orange-600: #f4511e;
  --md-deep-orange-700: #e64a19;
  --md-deep-orange-800: #d84315;
  --md-deep-orange-900: #bf360c;
  --md-deep-orange-A100: #ff9e80;
  --md-deep-orange-A200: #ff6e40;
  --md-deep-orange-A400: #ff3d00;
  --md-deep-orange-A700: #dd2c00;
  --md-brown-50: #efebe9;
  --md-brown-100: #d7ccc8;
  --md-brown-200: #bcaaa4;
  --md-brown-300: #a1887f;
  --md-brown-400: #8d6e63;
  --md-brown-500: #795548;
  --md-brown-600: #6d4c41;
  --md-brown-700: #5d4037;
  --md-brown-800: #4e342e;
  --md-brown-900: #3e2723;
  --md-grey-50: #fafafa;
  --md-grey-100: #f5f5f5;
  --md-grey-200: #eee;
  --md-grey-300: #e0e0e0;
  --md-grey-400: #bdbdbd;
  --md-grey-500: #9e9e9e;
  --md-grey-600: #757575;
  --md-grey-700: #616161;
  --md-grey-800: #424242;
  --md-grey-900: #212121;
  --md-blue-grey-50: #eceff1;
  --md-blue-grey-100: #cfd8dc;
  --md-blue-grey-200: #b0bec5;
  --md-blue-grey-300: #90a4ae;
  --md-blue-grey-400: #78909c;
  --md-blue-grey-500: #607d8b;
  --md-blue-grey-600: #546e7a;
  --md-blue-grey-700: #455a64;
  --md-blue-grey-800: #37474f;
  --md-blue-grey-900: #263238;
}

/*-----------------------------------------------------------------------------
| Copyright (c) 2014-2017, Jupyter Development Team.
|
| Distributed under the terms of the Modified BSD License.
|----------------------------------------------------------------------------*/

/*-----------------------------------------------------------------------------
| Copyright (c) Jupyter Development Team.
| Distributed under the terms of the Modified BSD License.
|----------------------------------------------------------------------------*/

/*-----------------------------------------------------------------------------
| RenderedText
|----------------------------------------------------------------------------*/

:root {
  /* This is the padding value to fill the gaps between lines containing spans with background color. */
  --jp-private-code-span-padding: calc(
    (var(--jp-code-line-height) - 1) * var(--jp-code-font-size) / 2
  );
}

.jp-RenderedText {
  text-align: left;
  padding-left: var(--jp-code-padding);
  line-height: var(--jp-code-line-height);
  font-family: var(--jp-code-font-family);
}

.jp-RenderedText pre,
.jp-RenderedJavaScript pre,
.jp-RenderedHTMLCommon pre {
  color: var(--jp-content-font-color1);
  font-size: var(--jp-code-font-size);
  border: none;
  margin: 0;
  padding: 0;
}

.jp-RenderedText pre a:link {
  text-decoration: none;
  color: var(--jp-content-link-color);
}

.jp-RenderedText pre a:hover {
  text-decoration: underline;
  color: var(--jp-content-link-color);
}

.jp-RenderedText pre a:visited {
  text-decoration: none;
  color: var(--jp-content-link-color);
}

/* console foregrounds and backgrounds */
.jp-RenderedText pre .ansi-black-fg {
  color: #3e424d;
}

.jp-RenderedText pre .ansi-red-fg {
  color: #e75c58;
}

.jp-RenderedText pre .ansi-green-fg {
  color: #00a250;
}

.jp-RenderedText pre .ansi-yellow-fg {
  color: #ddb62b;
}

.jp-RenderedText pre .ansi-blue-fg {
  color: #208ffb;
}

.jp-RenderedText pre .ansi-magenta-fg {
  color: #d160c4;
}

.jp-RenderedText pre .ansi-cyan-fg {
  color: #60c6c8;
}

.jp-RenderedText pre .ansi-white-fg {
  color: #c5c1b4;
}

.jp-RenderedText pre .ansi-black-bg {
  background-color: #3e424d;
  padding: var(--jp-private-code-span-padding) 0;
}

.jp-RenderedText pre .ansi-red-bg {
  background-color: #e75c58;
  padding: var(--jp-private-code-span-padding) 0;
}

.jp-RenderedText pre .ansi-green-bg {
  background-color: #00a250;
  padding: var(--jp-private-code-span-padding) 0;
}

.jp-RenderedText pre .ansi-yellow-bg {
  background-color: #ddb62b;
  padding: var(--jp-private-code-span-padding) 0;
}

.jp-RenderedText pre .ansi-blue-bg {
  background-color: #208ffb;
  padding: var(--jp-private-code-span-padding) 0;
}

.jp-RenderedText pre .ansi-magenta-bg {
  background-color: #d160c4;
  padding: var(--jp-private-code-span-padding) 0;
}

.jp-RenderedText pre .ansi-cyan-bg {
  background-color: #60c6c8;
  padding: var(--jp-private-code-span-padding) 0;
}

.jp-RenderedText pre .ansi-white-bg {
  background-color: #c5c1b4;
  padding: var(--jp-private-code-span-padding) 0;
}

.jp-RenderedText pre .ansi-black-intense-fg {
  color: #282c36;
}

.jp-RenderedText pre .ansi-red-intense-fg {
  color: #b22b31;
}

.jp-RenderedText pre .ansi-green-intense-fg {
  color: #007427;
}

.jp-RenderedText pre .ansi-yellow-intense-fg {
  color: #b27d12;
}

.jp-RenderedText pre .ansi-blue-intense-fg {
  color: #0065ca;
}

.jp-RenderedText pre .ansi-magenta-intense-fg {
  color: #a03196;
}

.jp-RenderedText pre .ansi-cyan-intense-fg {
  color: #258f8f;
}

.jp-RenderedText pre .ansi-white-intense-fg {
  color: #a1a6b2;
}

.jp-RenderedText pre .ansi-black-intense-bg {
  background-color: #282c36;
  padding: var(--jp-private-code-span-padding) 0;
}

.jp-RenderedText pre .ansi-red-intense-bg {
  background-color: #b22b31;
  padding: var(--jp-private-code-span-padding) 0;
}

.jp-RenderedText pre .ansi-green-intense-bg {
  background-color: #007427;
  padding: var(--jp-private-code-span-padding) 0;
}

.jp-RenderedText pre .ansi-yellow-intense-bg {
  background-color: #b27d12;
  padding: var(--jp-private-code-span-padding) 0;
}

.jp-RenderedText pre .ansi-blue-intense-bg {
  background-color: #0065ca;
  padding: var(--jp-private-code-span-padding) 0;
}

.jp-RenderedText pre .ansi-magenta-intense-bg {
  background-color: #a03196;
  padding: var(--jp-private-code-span-padding) 0;
}

.jp-RenderedText pre .ansi-cyan-intense-bg {
  background-color: #258f8f;
  padding: var(--jp-private-code-span-padding) 0;
}

.jp-RenderedText pre .ansi-white-intense-bg {
  background-color: #a1a6b2;
  padding: var(--jp-private-code-span-padding) 0;
}

.jp-RenderedText pre .ansi-default-inverse-fg {
  color: var(--jp-ui-inverse-font-color0);
}

.jp-RenderedText pre .ansi-default-inverse-bg {
  background-color: var(--jp-inverse-layout-color0);
  padding: var(--jp-private-code-span-padding) 0;
}

.jp-RenderedText pre .ansi-bold {
  font-weight: bold;
}

.jp-RenderedText pre .ansi-underline {
  text-decoration: underline;
}

.jp-RenderedText[data-mime-type='application/vnd.jupyter.stderr'] {
  background: var(--jp-rendermime-error-background);
  padding-top: var(--jp-code-padding);
}

/*-----------------------------------------------------------------------------
| RenderedLatex
|----------------------------------------------------------------------------*/

.jp-RenderedLatex {
  color: var(--jp-content-font-color1);
  font-size: var(--jp-content-font-size1);
  line-height: var(--jp-content-line-height);
}

/* Left-justify outputs.*/
.jp-OutputArea-output.jp-RenderedLatex {
  padding: var(--jp-code-padding);
  text-align: left;
}

/*-----------------------------------------------------------------------------
| RenderedHTML
|----------------------------------------------------------------------------*/

.jp-RenderedHTMLCommon {
  color: var(--jp-content-font-color1);
  font-family: var(--jp-content-font-family);
  font-size: var(--jp-content-font-size1);
  line-height: var(--jp-content-line-height);

  /* Give a bit more R padding on Markdown text to keep line lengths reasonable */
  padding-right: 20px;
}

.jp-RenderedHTMLCommon em {
  font-style: italic;
}

.jp-RenderedHTMLCommon strong {
  font-weight: bold;
}

.jp-RenderedHTMLCommon u {
  text-decoration: underline;
}

.jp-RenderedHTMLCommon a:link {
  text-decoration: none;
  color: var(--jp-content-link-color);
}

.jp-RenderedHTMLCommon a:hover {
  text-decoration: underline;
  color: var(--jp-content-link-color);
}

.jp-RenderedHTMLCommon a:visited {
  text-decoration: none;
  color: var(--jp-content-link-color);
}

/* Headings */

.jp-RenderedHTMLCommon h1,
.jp-RenderedHTMLCommon h2,
.jp-RenderedHTMLCommon h3,
.jp-RenderedHTMLCommon h4,
.jp-RenderedHTMLCommon h5,
.jp-RenderedHTMLCommon h6 {
  line-height: var(--jp-content-heading-line-height);
  font-weight: var(--jp-content-heading-font-weight);
  font-style: normal;
  margin: var(--jp-content-heading-margin-top) 0
    var(--jp-content-heading-margin-bottom) 0;
}

.jp-RenderedHTMLCommon h1:first-child,
.jp-RenderedHTMLCommon h2:first-child,
.jp-RenderedHTMLCommon h3:first-child,
.jp-RenderedHTMLCommon h4:first-child,
.jp-RenderedHTMLCommon h5:first-child,
.jp-RenderedHTMLCommon h6:first-child {
  margin-top: calc(0.5 * var(--jp-content-heading-margin-top));
}

.jp-RenderedHTMLCommon h1:last-child,
.jp-RenderedHTMLCommon h2:last-child,
.jp-RenderedHTMLCommon h3:last-child,
.jp-RenderedHTMLCommon h4:last-child,
.jp-RenderedHTMLCommon h5:last-child,
.jp-RenderedHTMLCommon h6:last-child {
  margin-bottom: calc(0.5 * var(--jp-content-heading-margin-bottom));
}

.jp-RenderedHTMLCommon h1 {
  font-size: var(--jp-content-font-size5);
}

.jp-RenderedHTMLCommon h2 {
  font-size: var(--jp-content-font-size4);
}

.jp-RenderedHTMLCommon h3 {
  font-size: var(--jp-content-font-size3);
}

.jp-RenderedHTMLCommon h4 {
  font-size: var(--jp-content-font-size2);
}

.jp-RenderedHTMLCommon h5 {
  font-size: var(--jp-content-font-size1);
}

.jp-RenderedHTMLCommon h6 {
  font-size: var(--jp-content-font-size0);
}

/* Lists */

/* stylelint-disable selector-max-type, selector-max-compound-selectors */

.jp-RenderedHTMLCommon ul:not(.list-inline),
.jp-RenderedHTMLCommon ol:not(.list-inline) {
  padding-left: 2em;
}

.jp-RenderedHTMLCommon ul {
  list-style: disc;
}

.jp-RenderedHTMLCommon ul ul {
  list-style: square;
}

.jp-RenderedHTMLCommon ul ul ul {
  list-style: circle;
}

.jp-RenderedHTMLCommon ol {
  list-style: decimal;
}

.jp-RenderedHTMLCommon ol ol {
  list-style: upper-alpha;
}

.jp-RenderedHTMLCommon ol ol ol {
  list-style: lower-alpha;
}

.jp-RenderedHTMLCommon ol ol ol ol {
  list-style: lower-roman;
}

.jp-RenderedHTMLCommon ol ol ol ol ol {
  list-style: decimal;
}

.jp-RenderedHTMLCommon ol,
.jp-RenderedHTMLCommon ul {
  margin-bottom: 1em;
}

.jp-RenderedHTMLCommon ul ul,
.jp-RenderedHTMLCommon ul ol,
.jp-RenderedHTMLCommon ol ul,
.jp-RenderedHTMLCommon ol ol {
  margin-bottom: 0;
}

/* stylelint-enable selector-max-type, selector-max-compound-selectors */

.jp-RenderedHTMLCommon hr {
  color: var(--jp-border-color2);
  background-color: var(--jp-border-color1);
  margin-top: 1em;
  margin-bottom: 1em;
}

.jp-RenderedHTMLCommon > pre {
  margin: 1.5em 2em;
}

.jp-RenderedHTMLCommon pre,
.jp-RenderedHTMLCommon code {
  border: 0;
  background-color: var(--jp-layout-color0);
  color: var(--jp-content-font-color1);
  font-family: var(--jp-code-font-family);
  font-size: inherit;
  line-height: var(--jp-code-line-height);
  padding: 0;
  white-space: pre-wrap;
}

.jp-RenderedHTMLCommon :not(pre) > code {
  background-color: var(--jp-layout-color2);
  padding: 1px 5px;
}

/* Tables */

.jp-RenderedHTMLCommon table {
  border-collapse: collapse;
  border-spacing: 0;
  border: none;
  color: var(--jp-ui-font-color1);
  font-size: var(--jp-ui-font-size1);
  table-layout: fixed;
  margin-left: auto;
  margin-bottom: 1em;
  margin-right: auto;
}

.jp-RenderedHTMLCommon thead {
  border-bottom: var(--jp-border-width) solid var(--jp-border-color1);
  vertical-align: bottom;
}

.jp-RenderedHTMLCommon td,
.jp-RenderedHTMLCommon th,
.jp-RenderedHTMLCommon tr {
  vertical-align: middle;
  padding: 0.5em;
  line-height: normal;
  white-space: normal;
  max-width: none;
  border: none;
}

.jp-RenderedMarkdown.jp-RenderedHTMLCommon td,
.jp-RenderedMarkdown.jp-RenderedHTMLCommon th {
  max-width: none;
}

:not(.jp-RenderedMarkdown).jp-RenderedHTMLCommon td,
:not(.jp-RenderedMarkdown).jp-RenderedHTMLCommon th,
:not(.jp-RenderedMarkdown).jp-RenderedHTMLCommon tr {
  text-align: right;
}

.jp-RenderedHTMLCommon th {
  font-weight: bold;
}

.jp-RenderedHTMLCommon tbody tr:nth-child(odd) {
  background: var(--jp-layout-color0);
}

.jp-RenderedHTMLCommon tbody tr:nth-child(even) {
  background: var(--jp-rendermime-table-row-background);
}

.jp-RenderedHTMLCommon tbody tr:hover {
  background: var(--jp-rendermime-table-row-hover-background);
}

.jp-RenderedHTMLCommon p {
  text-align: left;
  margin: 0;
  margin-bottom: 1em;
}

.jp-RenderedHTMLCommon img {
  -moz-force-broken-image-icon: 1;
}

/* Restrict to direct children as other images could be nested in other content. */
.jp-RenderedHTMLCommon > img {
  display: block;
  margin-left: 0;
  margin-right: 0;
  margin-bottom: 1em;
}

/* Change color behind transparent images if they need it... */
[data-jp-theme-light='false'] .jp-RenderedImage img.jp-needs-light-background {
  background-color: var(--jp-inverse-layout-color1);
}

[data-jp-theme-light='true'] .jp-RenderedImage img.jp-needs-dark-background {
  background-color: var(--jp-inverse-layout-color1);
}

.jp-RenderedHTMLCommon img,
.jp-RenderedImage img,
.jp-RenderedHTMLCommon svg,
.jp-RenderedSVG svg {
  max-width: 100%;
  height: auto;
}

.jp-RenderedHTMLCommon img.jp-mod-unconfined,
.jp-RenderedImage img.jp-mod-unconfined,
.jp-RenderedHTMLCommon svg.jp-mod-unconfined,
.jp-RenderedSVG svg.jp-mod-unconfined {
  max-width: none;
}

.jp-RenderedHTMLCommon .alert {
  padding: var(--jp-notebook-padding);
  border: var(--jp-border-width) solid transparent;
  border-radius: var(--jp-border-radius);
  margin-bottom: 1em;
}

.jp-RenderedHTMLCommon .alert-info {
  color: var(--jp-info-color0);
  background-color: var(--jp-info-color3);
  border-color: var(--jp-info-color2);
}

.jp-RenderedHTMLCommon .alert-info hr {
  border-color: var(--jp-info-color3);
}

.jp-RenderedHTMLCommon .alert-info > p:last-child,
.jp-RenderedHTMLCommon .alert-info > ul:last-child {
  margin-bottom: 0;
}

.jp-RenderedHTMLCommon .alert-warning {
  color: var(--jp-warn-color0);
  background-color: var(--jp-warn-color3);
  border-color: var(--jp-warn-color2);
}

.jp-RenderedHTMLCommon .alert-warning hr {
  border-color: var(--jp-warn-color3);
}

.jp-RenderedHTMLCommon .alert-warning > p:last-child,
.jp-RenderedHTMLCommon .alert-warning > ul:last-child {
  margin-bottom: 0;
}

.jp-RenderedHTMLCommon .alert-success {
  color: var(--jp-success-color0);
  background-color: var(--jp-success-color3);
  border-color: var(--jp-success-color2);
}

.jp-RenderedHTMLCommon .alert-success hr {
  border-color: var(--jp-success-color3);
}

.jp-RenderedHTMLCommon .alert-success > p:last-child,
.jp-RenderedHTMLCommon .alert-success > ul:last-child {
  margin-bottom: 0;
}

.jp-RenderedHTMLCommon .alert-danger {
  color: var(--jp-error-color0);
  background-color: var(--jp-error-color3);
  border-color: var(--jp-error-color2);
}

.jp-RenderedHTMLCommon .alert-danger hr {
  border-color: var(--jp-error-color3);
}

.jp-RenderedHTMLCommon .alert-danger > p:last-child,
.jp-RenderedHTMLCommon .alert-danger > ul:last-child {
  margin-bottom: 0;
}

.jp-RenderedHTMLCommon blockquote {
  margin: 1em 2em;
  padding: 0 1em;
  border-left: 5px solid var(--jp-border-color2);
}

a.jp-InternalAnchorLink {
  visibility: hidden;
  margin-left: 8px;
  color: var(--md-blue-800);
}

h1:hover .jp-InternalAnchorLink,
h2:hover .jp-InternalAnchorLink,
h3:hover .jp-InternalAnchorLink,
h4:hover .jp-InternalAnchorLink,
h5:hover .jp-InternalAnchorLink,
h6:hover .jp-InternalAnchorLink {
  visibility: visible;
}

.jp-RenderedHTMLCommon kbd {
  background-color: var(--jp-rendermime-table-row-background);
  border: 1px solid var(--jp-border-color0);
  border-bottom-color: var(--jp-border-color2);
  border-radius: 3px;
  box-shadow: inset 0 -1px 0 rgba(0, 0, 0, 0.25);
  display: inline-block;
  font-size: var(--jp-ui-font-size0);
  line-height: 1em;
  padding: 0.2em 0.5em;
}

/* Most direct children of .jp-RenderedHTMLCommon have a margin-bottom of 1.0.
 * At the bottom of cells this is a bit too much as there is also spacing
 * between cells. Going all the way to 0 gets too tight between markdown and
 * code cells.
 */
.jp-RenderedHTMLCommon > *:last-child {
  margin-bottom: 0.5em;
}

/*
 * Copyright (c) Jupyter Development Team.
 * Distributed under the terms of the Modified BSD License.
 */

/*-----------------------------------------------------------------------------
| Copyright (c) Jupyter Development Team.
| Copyright (c) 2014-2017, PhosphorJS Contributors
|
| Distributed under the terms of the BSD 3-Clause License.
|
| The full license is in the file LICENSE, distributed with this software.
|----------------------------------------------------------------------------*/

.lm-cursor-backdrop {
  position: fixed;
  width: 200px;
  height: 200px;
  margin-top: -100px;
  margin-left: -100px;
  will-change: transform;
  z-index: 100;
}

.lm-mod-drag-image {
  will-change: transform;
}

/*
 * Copyright (c) Jupyter Development Team.
 * Distributed under the terms of the Modified BSD License.
 */

.jp-lineFormSearch {
  padding: 4px 12px;
  background-color: var(--jp-layout-color2);
  box-shadow: var(--jp-toolbar-box-shadow);
  z-index: 2;
  font-size: var(--jp-ui-font-size1);
}

.jp-lineFormCaption {
  font-size: var(--jp-ui-font-size0);
  line-height: var(--jp-ui-font-size1);
  margin-top: 4px;
  color: var(--jp-ui-font-color0);
}

.jp-baseLineForm {
  border: none;
  border-radius: 0;
  position: absolute;
  background-size: 16px;
  background-repeat: no-repeat;
  background-position: center;
  outline: none;
}

.jp-lineFormButtonContainer {
  top: 4px;
  right: 8px;
  height: 24px;
  padding: 0 12px;
  width: 12px;
}

.jp-lineFormButtonIcon {
  top: 0;
  right: 0;
  background-color: var(--jp-brand-color1);
  height: 100%;
  width: 100%;
  box-sizing: border-box;
  padding: 4px 6px;
}

.jp-lineFormButton {
  top: 0;
  right: 0;
  background-color: transparent;
  height: 100%;
  width: 100%;
  box-sizing: border-box;
}

.jp-lineFormWrapper {
  overflow: hidden;
  padding: 0 8px;
  border: 1px solid var(--jp-border-color0);
  background-color: var(--jp-input-active-background);
  height: 22px;
}

.jp-lineFormWrapperFocusWithin {
  border: var(--jp-border-width) solid var(--md-blue-500);
  box-shadow: inset 0 0 4px var(--md-blue-300);
}

.jp-lineFormInput {
  background: transparent;
  width: 200px;
  height: 100%;
  border: none;
  outline: none;
  color: var(--jp-ui-font-color0);
  line-height: 28px;
}

/*-----------------------------------------------------------------------------
| Copyright (c) 2014-2016, Jupyter Development Team.
|
| Distributed under the terms of the Modified BSD License.
|----------------------------------------------------------------------------*/

.jp-JSONEditor {
  display: flex;
  flex-direction: column;
  width: 100%;
}

.jp-JSONEditor-host {
  flex: 1 1 auto;
  border: var(--jp-border-width) solid var(--jp-input-border-color);
  border-radius: 0;
  background: var(--jp-layout-color0);
  min-height: 50px;
  padding: 1px;
}

.jp-JSONEditor.jp-mod-error .jp-JSONEditor-host {
  border-color: red;
  outline-color: red;
}

.jp-JSONEditor-header {
  display: flex;
  flex: 1 0 auto;
  padding: 0 0 0 12px;
}

.jp-JSONEditor-header label {
  flex: 0 0 auto;
}

.jp-JSONEditor-commitButton {
  height: 16px;
  width: 16px;
  background-size: 18px;
  background-repeat: no-repeat;
  background-position: center;
}

.jp-JSONEditor-host.jp-mod-focused {
  background-color: var(--jp-input-active-background);
  border: 1px solid var(--jp-input-active-border-color);
  box-shadow: var(--jp-input-box-shadow);
}

.jp-Editor.jp-mod-dropTarget {
  border: var(--jp-border-width) solid var(--jp-input-active-border-color);
  box-shadow: var(--jp-input-box-shadow);
}

/*-----------------------------------------------------------------------------
| Copyright (c) Jupyter Development Team.
| Distributed under the terms of the Modified BSD License.
|----------------------------------------------------------------------------*/
.jp-DocumentSearch-input {
  border: none;
  outline: none;
  color: var(--jp-ui-font-color0);
  font-size: var(--jp-ui-font-size1);
  background-color: var(--jp-layout-color0);
  font-family: var(--jp-ui-font-family);
  padding: 2px 1px;
  resize: none;
}

.jp-DocumentSearch-overlay {
  position: absolute;
  background-color: var(--jp-toolbar-background);
  border-bottom: var(--jp-border-width) solid var(--jp-toolbar-border-color);
  border-left: var(--jp-border-width) solid var(--jp-toolbar-border-color);
  top: 0;
  right: 0;
  z-index: 7;
  min-width: 405px;
  padding: 2px;
  font-size: var(--jp-ui-font-size1);

  --jp-private-document-search-button-height: 20px;
}

.jp-DocumentSearch-overlay button {
  background-color: var(--jp-toolbar-background);
  outline: 0;
}

.jp-DocumentSearch-overlay button:hover {
  background-color: var(--jp-layout-color2);
}

.jp-DocumentSearch-overlay button:active {
  background-color: var(--jp-layout-color3);
}

.jp-DocumentSearch-overlay-row {
  display: flex;
  align-items: center;
  margin-bottom: 2px;
}

.jp-DocumentSearch-button-content {
  display: inline-block;
  cursor: pointer;
  box-sizing: border-box;
  width: 100%;
  height: 100%;
}

.jp-DocumentSearch-button-content svg {
  width: 100%;
  height: 100%;
}

.jp-DocumentSearch-input-wrapper {
  border: var(--jp-border-width) solid var(--jp-border-color0);
  display: flex;
  background-color: var(--jp-layout-color0);
  margin: 2px;
}

.jp-DocumentSearch-input-wrapper:focus-within {
  border-color: var(--jp-cell-editor-active-border-color);
}

.jp-DocumentSearch-toggle-wrapper,
.jp-DocumentSearch-button-wrapper {
  all: initial;
  overflow: hidden;
  display: inline-block;
  border: none;
  box-sizing: border-box;
}

.jp-DocumentSearch-toggle-wrapper {
  width: 14px;
  height: 14px;
}

.jp-DocumentSearch-button-wrapper {
  width: var(--jp-private-document-search-button-height);
  height: var(--jp-private-document-search-button-height);
}

.jp-DocumentSearch-toggle-wrapper:focus,
.jp-DocumentSearch-button-wrapper:focus {
  outline: var(--jp-border-width) solid
    var(--jp-cell-editor-active-border-color);
  outline-offset: -1px;
}

.jp-DocumentSearch-toggle-wrapper,
.jp-DocumentSearch-button-wrapper,
.jp-DocumentSearch-button-content:focus {
  outline: none;
}

.jp-DocumentSearch-toggle-placeholder {
  width: 5px;
}

.jp-DocumentSearch-input-button::before {
  display: block;
  padding-top: 100%;
}

.jp-DocumentSearch-input-button-off {
  opacity: var(--jp-search-toggle-off-opacity);
}

.jp-DocumentSearch-input-button-off:hover {
  opacity: var(--jp-search-toggle-hover-opacity);
}

.jp-DocumentSearch-input-button-on {
  opacity: var(--jp-search-toggle-on-opacity);
}

.jp-DocumentSearch-index-counter {
  padding-left: 10px;
  padding-right: 10px;
  user-select: none;
  min-width: 35px;
  display: inline-block;
}

.jp-DocumentSearch-up-down-wrapper {
  display: inline-block;
  padding-right: 2px;
  margin-left: auto;
  white-space: nowrap;
}

.jp-DocumentSearch-spacer {
  margin-left: auto;
}

.jp-DocumentSearch-up-down-wrapper button {
  outline: 0;
  border: none;
  width: var(--jp-private-document-search-button-height);
  height: var(--jp-private-document-search-button-height);
  vertical-align: middle;
  margin: 1px 5px 2px;
}

.jp-DocumentSearch-up-down-button:hover {
  background-color: var(--jp-layout-color2);
}

.jp-DocumentSearch-up-down-button:active {
  background-color: var(--jp-layout-color3);
}

.jp-DocumentSearch-filter-button {
  border-radius: var(--jp-border-radius);
}

.jp-DocumentSearch-filter-button:hover {
  background-color: var(--jp-layout-color2);
}

.jp-DocumentSearch-filter-button-enabled {
  background-color: var(--jp-layout-color2);
}

.jp-DocumentSearch-filter-button-enabled:hover {
  background-color: var(--jp-layout-color3);
}

.jp-DocumentSearch-search-options {
  padding: 0 8px;
  margin-left: 3px;
  width: 100%;
  display: grid;
  justify-content: start;
  grid-template-columns: 1fr 1fr;
  align-items: center;
  justify-items: stretch;
}

.jp-DocumentSearch-search-filter-disabled {
  color: var(--jp-ui-font-color2);
}

.jp-DocumentSearch-search-filter {
  display: flex;
  align-items: center;
  user-select: none;
}

.jp-DocumentSearch-regex-error {
  color: var(--jp-error-color0);
}

.jp-DocumentSearch-replace-button-wrapper {
  overflow: hidden;
  display: inline-block;
  box-sizing: border-box;
  border: var(--jp-border-width) solid var(--jp-border-color0);
  margin: auto 2px;
  padding: 1px 4px;
  height: calc(var(--jp-private-document-search-button-height) + 2px);
}

.jp-DocumentSearch-replace-button-wrapper:focus {
  border: var(--jp-border-width) solid var(--jp-cell-editor-active-border-color);
}

.jp-DocumentSearch-replace-button {
  display: inline-block;
  text-align: center;
  cursor: pointer;
  box-sizing: border-box;
  color: var(--jp-ui-font-color1);

  /* height - 2 * (padding of wrapper) */
  line-height: calc(var(--jp-private-document-search-button-height) - 2px);
  width: 100%;
  height: 100%;
}

.jp-DocumentSearch-replace-button:focus {
  outline: none;
}

.jp-DocumentSearch-replace-wrapper-class {
  margin-left: 14px;
  display: flex;
}

.jp-DocumentSearch-replace-toggle {
  border: none;
  background-color: var(--jp-toolbar-background);
  border-radius: var(--jp-border-radius);
}

.jp-DocumentSearch-replace-toggle:hover {
  background-color: var(--jp-layout-color2);
}

/*-----------------------------------------------------------------------------
| Copyright (c) Jupyter Development Team.
| Distributed under the terms of the Modified BSD License.
|----------------------------------------------------------------------------*/

.cm-editor {
  line-height: var(--jp-code-line-height);
  font-size: var(--jp-code-font-size);
  font-family: var(--jp-code-font-family);
  border: 0;
  border-radius: 0;
  height: auto;

  /* Changed to auto to autogrow */
}

.cm-editor pre {
  padding: 0 var(--jp-code-padding);
}

.jp-CodeMirrorEditor[data-type='inline'] .cm-dialog {
  background-color: var(--jp-layout-color0);
  color: var(--jp-content-font-color1);
}

.jp-CodeMirrorEditor {
  cursor: text;
}

/* When zoomed out 67% and 33% on a screen of 1440 width x 900 height */
@media screen and (min-width: 2138px) and (max-width: 4319px) {
  .jp-CodeMirrorEditor[data-type='inline'] .cm-cursor {
    border-left: var(--jp-code-cursor-width1) solid
      var(--jp-editor-cursor-color);
  }
}

/* When zoomed out less than 33% */
@media screen and (min-width: 4320px) {
  .jp-CodeMirrorEditor[data-type='inline'] .cm-cursor {
    border-left: var(--jp-code-cursor-width2) solid
      var(--jp-editor-cursor-color);
  }
}

.cm-editor.jp-mod-readOnly .cm-cursor {
  display: none;
}

.jp-CollaboratorCursor {
  border-left: 5px solid transparent;
  border-right: 5px solid transparent;
  border-top: none;
  border-bottom: 3px solid;
  background-clip: content-box;
  margin-left: -5px;
  margin-right: -5px;
}

.cm-searching,
.cm-searching span {
  /* `.cm-searching span`: we need to override syntax highlighting */
  background-color: var(--jp-search-unselected-match-background-color);
  color: var(--jp-search-unselected-match-color);
}

.cm-searching::selection,
.cm-searching span::selection {
  background-color: var(--jp-search-unselected-match-background-color);
  color: var(--jp-search-unselected-match-color);
}

.jp-current-match > .cm-searching,
.jp-current-match > .cm-searching span,
.cm-searching > .jp-current-match,
.cm-searching > .jp-current-match span {
  background-color: var(--jp-search-selected-match-background-color);
  color: var(--jp-search-selected-match-color);
}

.jp-current-match > .cm-searching::selection,
.cm-searching > .jp-current-match::selection,
.jp-current-match > .cm-searching span::selection {
  background-color: var(--jp-search-selected-match-background-color);
  color: var(--jp-search-selected-match-color);
}

.cm-trailingspace {
  background-image: url(data:image/png;base64,iVBORw0KGgoAAAANSUhEUgAAAAgAAAAFCAYAAAB4ka1VAAAAsElEQVQIHQGlAFr/AAAAAAAAAAAAAAAAAAAAAAAAAAAAAAAAAAAAAAAAAAAAAAAAAAAAAAAA7+r3zKmT0/+pk9P/7+r3zAAAAAAAAAAABAAAAAAAAAAA6OPzM+/q9wAAAAAA6OPzMwAAAAAAAAAAAgAAAAAAAAAAGR8NiRQaCgAZIA0AGR8NiQAAAAAAAAAAAAAAAAAAAAAAAAAAAAAAAAAAAAAAAAAAAAAAAAAAAAAAQyoYJ/SY80UAAAAASUVORK5CYII=);
  background-position: center left;
  background-repeat: repeat-x;
}

.jp-CollaboratorCursor-hover {
  position: absolute;
  z-index: 1;
  transform: translateX(-50%);
  color: white;
  border-radius: 3px;
  padding-left: 4px;
  padding-right: 4px;
  padding-top: 1px;
  padding-bottom: 1px;
  text-align: center;
  font-size: var(--jp-ui-font-size1);
  white-space: nowrap;
}

.jp-CodeMirror-ruler {
  border-left: 1px dashed var(--jp-border-color2);
}

/* Styles for shared cursors (remote cursor locations and selected ranges) */
.jp-CodeMirrorEditor .cm-ySelectionCaret {
  position: relative;
  border-left: 1px solid black;
  margin-left: -1px;
  margin-right: -1px;
  box-sizing: border-box;
}

.jp-CodeMirrorEditor .cm-ySelectionCaret > .cm-ySelectionInfo {
  white-space: nowrap;
  position: absolute;
  top: -1.15em;
  padding-bottom: 0.05em;
  left: -1px;
  font-size: 0.95em;
  font-family: var(--jp-ui-font-family);
  font-weight: bold;
  line-height: normal;
  user-select: none;
  color: white;
  padding-left: 2px;
  padding-right: 2px;
  z-index: 101;
  transition: opacity 0.3s ease-in-out;
}

.jp-CodeMirrorEditor .cm-ySelectionInfo {
  transition-delay: 0.7s;
  opacity: 0;
}

.jp-CodeMirrorEditor .cm-ySelectionCaret:hover > .cm-ySelectionInfo {
  opacity: 1;
  transition-delay: 0s;
}

/*-----------------------------------------------------------------------------
| Copyright (c) Jupyter Development Team.
| Distributed under the terms of the Modified BSD License.
|----------------------------------------------------------------------------*/

.jp-MimeDocument {
  outline: none;
}

/*-----------------------------------------------------------------------------
| Copyright (c) Jupyter Development Team.
| Distributed under the terms of the Modified BSD License.
|----------------------------------------------------------------------------*/

/*-----------------------------------------------------------------------------
| Variables
|----------------------------------------------------------------------------*/

:root {
  --jp-private-filebrowser-button-height: 28px;
  --jp-private-filebrowser-button-width: 48px;
}

/*-----------------------------------------------------------------------------
| Copyright (c) Jupyter Development Team.
| Distributed under the terms of the Modified BSD License.
|----------------------------------------------------------------------------*/

.jp-FileBrowser .jp-SidePanel-content {
  display: flex;
  flex-direction: column;
}

.jp-FileBrowser-toolbar.jp-Toolbar {
  flex-wrap: wrap;
  row-gap: 12px;
  border-bottom: none;
  height: auto;
  margin: 8px 12px 0;
  box-shadow: none;
  padding: 0;
  justify-content: flex-start;
}

.jp-FileBrowser-Panel {
  flex: 1 1 auto;
  display: flex;
  flex-direction: column;
}

.jp-BreadCrumbs {
  flex: 0 0 auto;
  margin: 8px 12px;
}

.jp-BreadCrumbs-item {
  margin: 0 2px;
  padding: 0 2px;
  border-radius: var(--jp-border-radius);
  cursor: pointer;
}

.jp-BreadCrumbs-item:hover {
  background-color: var(--jp-layout-color2);
}

.jp-BreadCrumbs-item:first-child {
  margin-left: 0;
}

.jp-BreadCrumbs-item.jp-mod-dropTarget {
  background-color: var(--jp-brand-color2);
  opacity: 0.7;
}

/*-----------------------------------------------------------------------------
| Buttons
|----------------------------------------------------------------------------*/

.jp-FileBrowser-toolbar > .jp-Toolbar-item {
  flex: 0 0 auto;
  padding-left: 0;
  padding-right: 2px;
  align-items: center;
  height: unset;
}

.jp-FileBrowser-toolbar > .jp-Toolbar-item .jp-ToolbarButtonComponent {
  width: 40px;
}

/*-----------------------------------------------------------------------------
| Other styles
|----------------------------------------------------------------------------*/

.jp-FileDialog.jp-mod-conflict input {
  color: var(--jp-error-color1);
}

.jp-FileDialog .jp-new-name-title {
  margin-top: 12px;
}

.jp-LastModified-hidden {
  display: none;
}

.jp-FileSize-hidden {
  display: none;
}

.jp-FileBrowser .lm-AccordionPanel > h3:first-child {
  display: none;
}

/*-----------------------------------------------------------------------------
| DirListing
|----------------------------------------------------------------------------*/

.jp-DirListing {
  flex: 1 1 auto;
  display: flex;
  flex-direction: column;
  outline: 0;
}

.jp-DirListing-header {
  flex: 0 0 auto;
  display: flex;
  flex-direction: row;
  align-items: center;
  overflow: hidden;
  border-top: var(--jp-border-width) solid var(--jp-border-color2);
  border-bottom: var(--jp-border-width) solid var(--jp-border-color1);
  box-shadow: var(--jp-toolbar-box-shadow);
  z-index: 2;
}

.jp-DirListing-headerItem {
  padding: 4px 12px 2px;
  font-weight: 500;
}

.jp-DirListing-headerItem:hover {
  background: var(--jp-layout-color2);
}

.jp-DirListing-headerItem.jp-id-name {
  flex: 1 0 84px;
}

.jp-DirListing-headerItem.jp-id-modified {
  flex: 0 0 112px;
  border-left: var(--jp-border-width) solid var(--jp-border-color2);
  text-align: right;
}

.jp-DirListing-headerItem.jp-id-filesize {
  flex: 0 0 75px;
  border-left: var(--jp-border-width) solid var(--jp-border-color2);
  text-align: right;
}

.jp-id-narrow {
  display: none;
  flex: 0 0 5px;
  padding: 4px;
  border-left: var(--jp-border-width) solid var(--jp-border-color2);
  text-align: right;
  color: var(--jp-border-color2);
}

.jp-DirListing-narrow .jp-id-narrow {
  display: block;
}

.jp-DirListing-narrow .jp-id-modified,
.jp-DirListing-narrow .jp-DirListing-itemModified {
  display: none;
}

.jp-DirListing-headerItem.jp-mod-selected {
  font-weight: 600;
}

/* increase specificity to override bundled default */
.jp-DirListing-content {
  flex: 1 1 auto;
  margin: 0;
  padding: 0;
  list-style-type: none;
  overflow: auto;
  background-color: var(--jp-layout-color1);
}

.jp-DirListing-content mark {
  color: var(--jp-ui-font-color0);
  background-color: transparent;
  font-weight: bold;
}

.jp-DirListing-content .jp-DirListing-item.jp-mod-selected mark {
  color: var(--jp-ui-inverse-font-color0);
}

/* Style the directory listing content when a user drops a file to upload */
.jp-DirListing.jp-mod-native-drop .jp-DirListing-content {
  outline: 5px dashed rgba(128, 128, 128, 0.5);
  outline-offset: -10px;
  cursor: copy;
}

.jp-DirListing-item {
  display: flex;
  flex-direction: row;
  align-items: center;
  padding: 4px 12px;
  -webkit-user-select: none;
  -moz-user-select: none;
  -ms-user-select: none;
  user-select: none;
}

.jp-DirListing-checkboxWrapper {
  /* Increases hit area of checkbox. */
  padding: 4px;
}

.jp-DirListing-header
  .jp-DirListing-checkboxWrapper
  + .jp-DirListing-headerItem {
  padding-left: 4px;
}

.jp-DirListing-content .jp-DirListing-checkboxWrapper {
  position: relative;
  left: -4px;
  margin: -4px 0 -4px -8px;
}

.jp-DirListing-checkboxWrapper.jp-mod-visible {
  visibility: visible;
}

/* For devices that support hovering, hide checkboxes until hovered, selected...
*/
@media (hover: hover) {
  .jp-DirListing-checkboxWrapper {
    visibility: hidden;
  }

  .jp-DirListing-item:hover .jp-DirListing-checkboxWrapper,
  .jp-DirListing-item.jp-mod-selected .jp-DirListing-checkboxWrapper {
    visibility: visible;
  }
}

.jp-DirListing-item[data-is-dot] {
  opacity: 75%;
}

.jp-DirListing-item.jp-mod-selected {
  color: var(--jp-ui-inverse-font-color1);
  background: var(--jp-brand-color1);
}

.jp-DirListing-item.jp-mod-dropTarget {
  background: var(--jp-brand-color3);
}

.jp-DirListing-item:hover:not(.jp-mod-selected) {
  background: var(--jp-layout-color2);
}

.jp-DirListing-itemIcon {
  flex: 0 0 20px;
  margin-right: 4px;
}

.jp-DirListing-itemText {
  flex: 1 0 64px;
  white-space: nowrap;
  overflow: hidden;
  text-overflow: ellipsis;
  user-select: none;
}

.jp-DirListing-itemText:focus {
  outline-width: 2px;
  outline-color: var(--jp-inverse-layout-color1);
  outline-style: solid;
  outline-offset: 1px;
}

.jp-DirListing-item.jp-mod-selected .jp-DirListing-itemText:focus {
  outline-color: var(--jp-layout-color1);
}

.jp-DirListing-itemModified {
  flex: 0 0 125px;
  text-align: right;
}

.jp-DirListing-itemFileSize {
  flex: 0 0 90px;
  text-align: right;
}

.jp-DirListing-editor {
  flex: 1 0 64px;
  outline: none;
  border: none;
  color: var(--jp-ui-font-color1);
  background-color: var(--jp-layout-color1);
}

.jp-DirListing-item.jp-mod-running .jp-DirListing-itemIcon::before {
  color: var(--jp-success-color1);
  content: '\25CF';
  font-size: 8px;
  position: absolute;
  left: -8px;
}

.jp-DirListing-item.jp-mod-running.jp-mod-selected
  .jp-DirListing-itemIcon::before {
  color: var(--jp-ui-inverse-font-color1);
}

.jp-DirListing-item.lm-mod-drag-image,
.jp-DirListing-item.jp-mod-selected.lm-mod-drag-image {
  font-size: var(--jp-ui-font-size1);
  padding-left: 4px;
  margin-left: 4px;
  width: 160px;
  background-color: var(--jp-ui-inverse-font-color2);
  box-shadow: var(--jp-elevation-z2);
  border-radius: 0;
  color: var(--jp-ui-font-color1);
  transform: translateX(-40%) translateY(-58%);
}

.jp-Document {
  min-width: 120px;
  min-height: 120px;
  outline: none;
}

/*-----------------------------------------------------------------------------
| Copyright (c) Jupyter Development Team.
| Distributed under the terms of the Modified BSD License.
|----------------------------------------------------------------------------*/

/*-----------------------------------------------------------------------------
| Main OutputArea
| OutputArea has a list of Outputs
|----------------------------------------------------------------------------*/

.jp-OutputArea {
  overflow-y: auto;
}

.jp-OutputArea-child {
  display: table;
  table-layout: fixed;
  width: 100%;
  overflow: hidden;
}

.jp-OutputPrompt {
  width: var(--jp-cell-prompt-width);
  color: var(--jp-cell-outprompt-font-color);
  font-family: var(--jp-cell-prompt-font-family);
  padding: var(--jp-code-padding);
  letter-spacing: var(--jp-cell-prompt-letter-spacing);
  line-height: var(--jp-code-line-height);
  font-size: var(--jp-code-font-size);
  border: var(--jp-border-width) solid transparent;
  opacity: var(--jp-cell-prompt-opacity);

  /* Right align prompt text, don't wrap to handle large prompt numbers */
  text-align: right;
  white-space: nowrap;
  overflow: hidden;
  text-overflow: ellipsis;

  /* Disable text selection */
  -webkit-user-select: none;
  -moz-user-select: none;
  -ms-user-select: none;
  user-select: none;
}

.jp-OutputArea-prompt {
  display: table-cell;
  vertical-align: top;
}

.jp-OutputArea-output {
  display: table-cell;
  width: 100%;
  height: auto;
  overflow: auto;
  user-select: text;
  -moz-user-select: text;
  -webkit-user-select: text;
  -ms-user-select: text;
}

.jp-OutputArea .jp-RenderedText {
  padding-left: 1ch;
}

/**
 * Prompt overlay.
 */

.jp-OutputArea-promptOverlay {
  position: absolute;
  top: 0;
  width: var(--jp-cell-prompt-width);
  height: 100%;
  opacity: 0.5;
}

.jp-OutputArea-promptOverlay:hover {
  background: var(--jp-layout-color2);
  box-shadow: inset 0 0 1px var(--jp-inverse-layout-color0);
  cursor: zoom-out;
}

.jp-mod-outputsScrolled .jp-OutputArea-promptOverlay:hover {
  cursor: zoom-in;
}

/**
 * Isolated output.
 */
.jp-OutputArea-output.jp-mod-isolated {
  width: 100%;
  display: block;
}

/*
When drag events occur, `lm-mod-override-cursor` is added to the body.
Because iframes steal all cursor events, the following two rules are necessary
to suppress pointer events while resize drags are occurring. There may be a
better solution to this problem.
*/
body.lm-mod-override-cursor .jp-OutputArea-output.jp-mod-isolated {
  position: relative;
}

body.lm-mod-override-cursor .jp-OutputArea-output.jp-mod-isolated::before {
  content: '';
  position: absolute;
  top: 0;
  left: 0;
  right: 0;
  bottom: 0;
  background: transparent;
}

/* pre */

.jp-OutputArea-output pre {
  border: none;
  margin: 0;
  padding: 0;
  overflow-x: auto;
  overflow-y: auto;
  word-break: break-all;
  word-wrap: break-word;
  white-space: pre-wrap;
}

/* tables */

.jp-OutputArea-output.jp-RenderedHTMLCommon table {
  margin-left: 0;
  margin-right: 0;
}

/* description lists */

.jp-OutputArea-output dl,
.jp-OutputArea-output dt,
.jp-OutputArea-output dd {
  display: block;
}

.jp-OutputArea-output dl {
  width: 100%;
  overflow: hidden;
  padding: 0;
  margin: 0;
}

.jp-OutputArea-output dt {
  font-weight: bold;
  float: left;
  width: 20%;
  padding: 0;
  margin: 0;
}

.jp-OutputArea-output dd {
  float: left;
  width: 80%;
  padding: 0;
  margin: 0;
}

.jp-TrimmedOutputs pre {
  background: var(--jp-layout-color3);
  font-size: calc(var(--jp-code-font-size) * 1.4);
  text-align: center;
  text-transform: uppercase;
}

/* Hide the gutter in case of
 *  - nested output areas (e.g. in the case of output widgets)
 *  - mirrored output areas
 */
.jp-OutputArea .jp-OutputArea .jp-OutputArea-prompt {
  display: none;
}

/* Hide empty lines in the output area, for instance due to cleared widgets */
.jp-OutputArea-prompt:empty {
  padding: 0;
  border: 0;
}

/*-----------------------------------------------------------------------------
| executeResult is added to any Output-result for the display of the object
| returned by a cell
|----------------------------------------------------------------------------*/

.jp-OutputArea-output.jp-OutputArea-executeResult {
  margin-left: 0;
  width: 100%;
}

/* Text output with the Out[] prompt needs a top padding to match the
 * alignment of the Out[] prompt itself.
 */
.jp-OutputArea-executeResult .jp-RenderedText.jp-OutputArea-output {
  padding-top: var(--jp-code-padding);
  border-top: var(--jp-border-width) solid transparent;
}

/*-----------------------------------------------------------------------------
| The Stdin output
|----------------------------------------------------------------------------*/

.jp-Stdin-prompt {
  color: var(--jp-content-font-color0);
  padding-right: var(--jp-code-padding);
  vertical-align: baseline;
  flex: 0 0 auto;
}

.jp-Stdin-input {
  font-family: var(--jp-code-font-family);
  font-size: inherit;
  color: inherit;
  background-color: inherit;
  width: 42%;
  min-width: 200px;

  /* make sure input baseline aligns with prompt */
  vertical-align: baseline;

  /* padding + margin = 0.5em between prompt and cursor */
  padding: 0 0.25em;
  margin: 0 0.25em;
  flex: 0 0 70%;
}

.jp-Stdin-input::placeholder {
  opacity: 0;
}

.jp-Stdin-input:focus {
  box-shadow: none;
}

.jp-Stdin-input:focus::placeholder {
  opacity: 1;
}

/*-----------------------------------------------------------------------------
| Output Area View
|----------------------------------------------------------------------------*/

.jp-LinkedOutputView .jp-OutputArea {
  height: 100%;
  display: block;
}

.jp-LinkedOutputView .jp-OutputArea-output:only-child {
  height: 100%;
}

/*-----------------------------------------------------------------------------
| Printing
|----------------------------------------------------------------------------*/

@media print {
  .jp-OutputArea-child {
    break-inside: avoid-page;
  }
}

/*-----------------------------------------------------------------------------
| Mobile
|----------------------------------------------------------------------------*/
@media only screen and (max-width: 760px) {
  .jp-OutputPrompt {
    display: table-row;
    text-align: left;
  }

  .jp-OutputArea-child .jp-OutputArea-output {
    display: table-row;
    margin-left: var(--jp-notebook-padding);
  }
}

/* Trimmed outputs warning */
.jp-TrimmedOutputs > a {
  margin: 10px;
  text-decoration: none;
  cursor: pointer;
}

.jp-TrimmedOutputs > a:hover {
  text-decoration: none;
}

/*-----------------------------------------------------------------------------
| Copyright (c) Jupyter Development Team.
| Distributed under the terms of the Modified BSD License.
|----------------------------------------------------------------------------*/

/*-----------------------------------------------------------------------------
| Table of Contents
|----------------------------------------------------------------------------*/

:root {
  --jp-private-toc-active-width: 4px;
}

.jp-TableOfContents {
  display: flex;
  flex-direction: column;
  background: var(--jp-layout-color1);
  color: var(--jp-ui-font-color1);
  font-size: var(--jp-ui-font-size1);
  height: 100%;
}

.jp-TableOfContents-placeholder {
  text-align: center;
}

.jp-TableOfContents-placeholderContent {
  color: var(--jp-content-font-color2);
  padding: 8px;
}

.jp-TableOfContents-placeholderContent > h3 {
  margin-bottom: var(--jp-content-heading-margin-bottom);
}

.jp-TableOfContents .jp-SidePanel-content {
  overflow-y: auto;
}

.jp-TableOfContents-tree {
  margin: 4px;
}

.jp-TableOfContents ol {
  list-style-type: none;
}

/* stylelint-disable-next-line selector-max-type */
.jp-TableOfContents li > ol {
  /* Align left border with triangle icon center */
  padding-left: 11px;
}

.jp-TableOfContents-content {
  /* left margin for the active heading indicator */
  margin: 0 0 0 var(--jp-private-toc-active-width);
  padding: 0;
  background-color: var(--jp-layout-color1);
}

.jp-tocItem {
  -webkit-user-select: none;
  -moz-user-select: none;
  -ms-user-select: none;
  user-select: none;
}

.jp-tocItem-heading {
  display: flex;
  cursor: pointer;
}

.jp-tocItem-heading:hover {
  background-color: var(--jp-layout-color2);
}

.jp-tocItem-content {
  display: block;
  padding: 4px 0;
  white-space: nowrap;
  text-overflow: ellipsis;
  overflow-x: hidden;
}

.jp-tocItem-collapser {
  height: 20px;
  margin: 2px 2px 0;
  padding: 0;
  background: none;
  border: none;
  cursor: pointer;
}

.jp-tocItem-collapser:hover {
  background-color: var(--jp-layout-color3);
}

/* Active heading indicator */

.jp-tocItem-heading::before {
  content: ' ';
  background: transparent;
  width: var(--jp-private-toc-active-width);
  height: 24px;
  position: absolute;
  left: 0;
  border-radius: var(--jp-border-radius);
}

.jp-tocItem-heading.jp-tocItem-active::before {
  background-color: var(--jp-brand-color1);
}

.jp-tocItem-heading:hover.jp-tocItem-active::before {
  background: var(--jp-brand-color0);
  opacity: 1;
}

/*-----------------------------------------------------------------------------
| Copyright (c) Jupyter Development Team.
| Distributed under the terms of the Modified BSD License.
|----------------------------------------------------------------------------*/

.jp-Collapser {
  flex: 0 0 var(--jp-cell-collapser-width);
  padding: 0;
  margin: 0;
  border: none;
  outline: none;
  background: transparent;
  border-radius: var(--jp-border-radius);
  opacity: 1;
}

.jp-Collapser-child {
  display: block;
  width: 100%;
  box-sizing: border-box;

  /* height: 100% doesn't work because the height of its parent is computed from content */
  position: absolute;
  top: 0;
  bottom: 0;
}

/*-----------------------------------------------------------------------------
| Printing
|----------------------------------------------------------------------------*/

/*
Hiding collapsers in print mode.

Note: input and output wrappers have "display: block" propery in print mode.
*/

@media print {
  .jp-Collapser {
    display: none;
  }
}

/*-----------------------------------------------------------------------------
| Copyright (c) Jupyter Development Team.
| Distributed under the terms of the Modified BSD License.
|----------------------------------------------------------------------------*/

/*-----------------------------------------------------------------------------
| Header/Footer
|----------------------------------------------------------------------------*/

/* Hidden by zero height by default */
.jp-CellHeader,
.jp-CellFooter {
  height: 0;
  width: 100%;
  padding: 0;
  margin: 0;
  border: none;
  outline: none;
  background: transparent;
}

/*-----------------------------------------------------------------------------
| Copyright (c) Jupyter Development Team.
| Distributed under the terms of the Modified BSD License.
|----------------------------------------------------------------------------*/

/*-----------------------------------------------------------------------------
| Input
|----------------------------------------------------------------------------*/

/* All input areas */
.jp-InputArea {
  display: table;
  table-layout: fixed;
  width: 100%;
  overflow: hidden;
}

.jp-InputArea-editor {
  display: table-cell;
  overflow: hidden;
  vertical-align: top;

  /* This is the non-active, default styling */
  border: var(--jp-border-width) solid var(--jp-cell-editor-border-color);
  border-radius: 0;
  background: var(--jp-cell-editor-background);
}

.jp-InputPrompt {
  display: table-cell;
  vertical-align: top;
  width: var(--jp-cell-prompt-width);
  color: var(--jp-cell-inprompt-font-color);
  font-family: var(--jp-cell-prompt-font-family);
  padding: var(--jp-code-padding);
  letter-spacing: var(--jp-cell-prompt-letter-spacing);
  opacity: var(--jp-cell-prompt-opacity);
  line-height: var(--jp-code-line-height);
  font-size: var(--jp-code-font-size);
  border: var(--jp-border-width) solid transparent;

  /* Right align prompt text, don't wrap to handle large prompt numbers */
  text-align: right;
  white-space: nowrap;
  overflow: hidden;
  text-overflow: ellipsis;

  /* Disable text selection */
  -webkit-user-select: none;
  -moz-user-select: none;
  -ms-user-select: none;
  user-select: none;
}

/*-----------------------------------------------------------------------------
| Mobile
|----------------------------------------------------------------------------*/
@media only screen and (max-width: 760px) {
  .jp-InputArea-editor {
    display: table-row;
    margin-left: var(--jp-notebook-padding);
  }

  .jp-InputPrompt {
    display: table-row;
    text-align: left;
  }
}

/*-----------------------------------------------------------------------------
| Copyright (c) Jupyter Development Team.
| Distributed under the terms of the Modified BSD License.
|----------------------------------------------------------------------------*/

/*-----------------------------------------------------------------------------
| Placeholder
|----------------------------------------------------------------------------*/

.jp-Placeholder {
  display: table;
  table-layout: fixed;
  width: 100%;
}

.jp-Placeholder-prompt {
  display: table-cell;
  box-sizing: border-box;
}

.jp-Placeholder-content {
  display: table-cell;
  padding: 4px 6px;
  border: 1px solid transparent;
  border-radius: 0;
  background: none;
  box-sizing: border-box;
  cursor: pointer;
}

.jp-Placeholder-contentContainer {
  display: flex;
}

.jp-Placeholder-content:hover,
.jp-InputPlaceholder > .jp-Placeholder-content:hover {
  border-color: var(--jp-layout-color3);
}

.jp-Placeholder-content .jp-MoreHorizIcon {
  width: 32px;
  height: 16px;
  border: 1px solid transparent;
  border-radius: var(--jp-border-radius);
}

.jp-Placeholder-content .jp-MoreHorizIcon:hover {
  border: 1px solid var(--jp-border-color1);
  box-shadow: 0 0 2px 0 rgba(0, 0, 0, 0.25);
  background-color: var(--jp-layout-color0);
}

.jp-PlaceholderText {
  white-space: nowrap;
  overflow-x: hidden;
  color: var(--jp-inverse-layout-color3);
  font-family: var(--jp-code-font-family);
}

.jp-InputPlaceholder > .jp-Placeholder-content {
  border-color: var(--jp-cell-editor-border-color);
  background: var(--jp-cell-editor-background);
}

/*-----------------------------------------------------------------------------
| Copyright (c) Jupyter Development Team.
| Distributed under the terms of the Modified BSD License.
|----------------------------------------------------------------------------*/

/*-----------------------------------------------------------------------------
| Private CSS variables
|----------------------------------------------------------------------------*/

:root {
  --jp-private-cell-scrolling-output-offset: 5px;
}

/*-----------------------------------------------------------------------------
| Cell
|----------------------------------------------------------------------------*/

.jp-Cell {
  padding: var(--jp-cell-padding);
  margin: 0;
  border: none;
  outline: none;
  background: transparent;
}

/*-----------------------------------------------------------------------------
| Common input/output
|----------------------------------------------------------------------------*/

.jp-Cell-inputWrapper,
.jp-Cell-outputWrapper {
  display: flex;
  flex-direction: row;
  padding: 0;
  margin: 0;

  /* Added to reveal the box-shadow on the input and output collapsers. */
  overflow: visible;
}

/* Only input/output areas inside cells */
.jp-Cell-inputArea,
.jp-Cell-outputArea {
  flex: 1 1 auto;
}

/*-----------------------------------------------------------------------------
| Collapser
|----------------------------------------------------------------------------*/

/* Make the output collapser disappear when there is not output, but do so
 * in a manner that leaves it in the layout and preserves its width.
 */
.jp-Cell.jp-mod-noOutputs .jp-Cell-outputCollapser {
  border: none !important;
  background: transparent !important;
}

.jp-Cell:not(.jp-mod-noOutputs) .jp-Cell-outputCollapser {
  min-height: var(--jp-cell-collapser-min-height);
}

/*-----------------------------------------------------------------------------
| Output
|----------------------------------------------------------------------------*/

/* Put a space between input and output when there IS output */
.jp-Cell:not(.jp-mod-noOutputs) .jp-Cell-outputWrapper {
  margin-top: 5px;
}

.jp-CodeCell.jp-mod-outputsScrolled .jp-Cell-outputArea {
  overflow-y: auto;
  max-height: 24em;
  margin-left: var(--jp-private-cell-scrolling-output-offset);
  resize: vertical;
}

.jp-CodeCell.jp-mod-outputsScrolled .jp-Cell-outputArea[style*='height'] {
  max-height: unset;
}

.jp-CodeCell.jp-mod-outputsScrolled .jp-Cell-outputArea::after {
  content: ' ';
  box-shadow: inset 0 0 6px 2px rgb(0 0 0 / 30%);
  width: 100%;
  height: 100%;
  position: sticky;
  bottom: 0;
  top: 0;
  margin-top: -50%;
  float: left;
  display: block;
  pointer-events: none;
}

.jp-CodeCell.jp-mod-outputsScrolled .jp-OutputArea-child {
  padding-top: 6px;
}

.jp-CodeCell.jp-mod-outputsScrolled .jp-OutputArea-prompt {
  width: calc(
    var(--jp-cell-prompt-width) - var(--jp-private-cell-scrolling-output-offset)
  );
}

.jp-CodeCell.jp-mod-outputsScrolled .jp-OutputArea-promptOverlay {
  left: calc(-1 * var(--jp-private-cell-scrolling-output-offset));
}

/*-----------------------------------------------------------------------------
| CodeCell
|----------------------------------------------------------------------------*/

/*-----------------------------------------------------------------------------
| MarkdownCell
|----------------------------------------------------------------------------*/

.jp-MarkdownOutput {
  display: table-cell;
  width: 100%;
  margin-top: 0;
  margin-bottom: 0;
  padding-left: var(--jp-code-padding);
}

.jp-MarkdownOutput.jp-RenderedHTMLCommon {
  overflow: auto;
}

/* collapseHeadingButton (show always if hiddenCellsButton is _not_ shown) */
.jp-collapseHeadingButton {
  display: flex;
  min-height: var(--jp-cell-collapser-min-height);
  font-size: var(--jp-code-font-size);
  position: absolute;
  background-color: transparent;
  background-size: 25px;
  background-repeat: no-repeat;
  background-position-x: center;
  background-position-y: top;
  background-image: var(--jp-icon-caret-down);
  right: 0;
  top: 0;
  bottom: 0;
}

.jp-collapseHeadingButton.jp-mod-collapsed {
  background-image: var(--jp-icon-caret-right);
}

/*
 set the container font size to match that of content
 so that the nested collapse buttons have the right size
*/
.jp-MarkdownCell .jp-InputPrompt {
  font-size: var(--jp-content-font-size1);
}

/*
  Align collapseHeadingButton with cell top header
  The font sizes are identical to the ones in packages/rendermime/style/base.css
*/
.jp-mod-rendered .jp-collapseHeadingButton[data-heading-level='1'] {
  font-size: var(--jp-content-font-size5);
  background-position-y: calc(0.3 * var(--jp-content-font-size5));
}

.jp-mod-rendered .jp-collapseHeadingButton[data-heading-level='2'] {
  font-size: var(--jp-content-font-size4);
  background-position-y: calc(0.3 * var(--jp-content-font-size4));
}

.jp-mod-rendered .jp-collapseHeadingButton[data-heading-level='3'] {
  font-size: var(--jp-content-font-size3);
  background-position-y: calc(0.3 * var(--jp-content-font-size3));
}

.jp-mod-rendered .jp-collapseHeadingButton[data-heading-level='4'] {
  font-size: var(--jp-content-font-size2);
  background-position-y: calc(0.3 * var(--jp-content-font-size2));
}

.jp-mod-rendered .jp-collapseHeadingButton[data-heading-level='5'] {
  font-size: var(--jp-content-font-size1);
  background-position-y: top;
}

.jp-mod-rendered .jp-collapseHeadingButton[data-heading-level='6'] {
  font-size: var(--jp-content-font-size0);
  background-position-y: top;
}

/* collapseHeadingButton (show only on (hover,active) if hiddenCellsButton is shown) */
.jp-Notebook.jp-mod-showHiddenCellsButton .jp-collapseHeadingButton {
  display: none;
}

.jp-Notebook.jp-mod-showHiddenCellsButton
  :is(.jp-MarkdownCell:hover, .jp-mod-active)
  .jp-collapseHeadingButton {
  display: flex;
}

/* showHiddenCellsButton (only show if jp-mod-showHiddenCellsButton is set, which
is a consequence of the showHiddenCellsButton option in Notebook Settings)*/
.jp-Notebook.jp-mod-showHiddenCellsButton .jp-showHiddenCellsButton {
  margin-left: calc(var(--jp-cell-prompt-width) + 2 * var(--jp-code-padding));
  margin-top: var(--jp-code-padding);
  border: 1px solid var(--jp-border-color2);
  background-color: var(--jp-border-color3) !important;
  color: var(--jp-content-font-color0) !important;
  display: flex;
}

.jp-Notebook.jp-mod-showHiddenCellsButton .jp-showHiddenCellsButton:hover {
  background-color: var(--jp-border-color2) !important;
}

.jp-showHiddenCellsButton {
  display: none;
}

/*-----------------------------------------------------------------------------
| Printing
|----------------------------------------------------------------------------*/

/*
Using block instead of flex to allow the use of the break-inside CSS property for
cell outputs.
*/

@media print {
  .jp-Cell-inputWrapper,
  .jp-Cell-outputWrapper {
    display: block;
  }
}

/*-----------------------------------------------------------------------------
| Copyright (c) Jupyter Development Team.
| Distributed under the terms of the Modified BSD License.
|----------------------------------------------------------------------------*/

/*-----------------------------------------------------------------------------
| Copyright (c) Jupyter Development Team.
| Distributed under the terms of the Modified BSD License.
|----------------------------------------------------------------------------*/

/*-----------------------------------------------------------------------------
| Variables
|----------------------------------------------------------------------------*/

:root {
  --jp-notebook-toolbar-padding: 2px 5px 2px 2px;
}

/*-----------------------------------------------------------------------------

/*-----------------------------------------------------------------------------
| Styles
|----------------------------------------------------------------------------*/

.jp-NotebookPanel-toolbar {
  padding: var(--jp-notebook-toolbar-padding);

  /* disable paint containment from lumino 2.0 default strict CSS containment */
  contain: style size !important;
}

.jp-Toolbar-item.jp-Notebook-toolbarCellType .jp-select-wrapper.jp-mod-focused {
  border: none;
  box-shadow: none;
}

.jp-Notebook-toolbarCellTypeDropdown select {
  height: 24px;
  font-size: var(--jp-ui-font-size1);
  line-height: 14px;
  border-radius: 0;
  display: block;
}

.jp-Notebook-toolbarCellTypeDropdown span {
  top: 5px !important;
}

.jp-Toolbar-responsive-popup {
  position: absolute;
  height: fit-content;
  display: flex;
  flex-direction: row;
  flex-wrap: wrap;
  justify-content: flex-end;
  border-bottom: var(--jp-border-width) solid var(--jp-toolbar-border-color);
  box-shadow: var(--jp-toolbar-box-shadow);
  background: var(--jp-toolbar-background);
  min-height: var(--jp-toolbar-micro-height);
  padding: var(--jp-notebook-toolbar-padding);
  z-index: 1;
  right: 0;
  top: 0;
}

.jp-Toolbar > .jp-Toolbar-responsive-opener {
  margin-left: auto;
}

/*-----------------------------------------------------------------------------
| Copyright (c) Jupyter Development Team.
| Distributed under the terms of the Modified BSD License.
|----------------------------------------------------------------------------*/

/*-----------------------------------------------------------------------------
| Variables
|----------------------------------------------------------------------------*/

/*-----------------------------------------------------------------------------

/*-----------------------------------------------------------------------------
| Styles
|----------------------------------------------------------------------------*/

.jp-Notebook-ExecutionIndicator {
  position: relative;
  display: inline-block;
  height: 100%;
  z-index: 9997;
}

.jp-Notebook-ExecutionIndicator-tooltip {
  visibility: hidden;
  height: auto;
  width: max-content;
  width: -moz-max-content;
  background-color: var(--jp-layout-color2);
  color: var(--jp-ui-font-color1);
  text-align: justify;
  border-radius: 6px;
  padding: 0 5px;
  position: fixed;
  display: table;
}

.jp-Notebook-ExecutionIndicator-tooltip.up {
  transform: translateX(-50%) translateY(-100%) translateY(-32px);
}

.jp-Notebook-ExecutionIndicator-tooltip.down {
  transform: translateX(calc(-100% + 16px)) translateY(5px);
}

.jp-Notebook-ExecutionIndicator-tooltip.hidden {
  display: none;
}

.jp-Notebook-ExecutionIndicator:hover .jp-Notebook-ExecutionIndicator-tooltip {
  visibility: visible;
}

.jp-Notebook-ExecutionIndicator span {
  font-size: var(--jp-ui-font-size1);
  font-family: var(--jp-ui-font-family);
  color: var(--jp-ui-font-color1);
  line-height: 24px;
  display: block;
}

.jp-Notebook-ExecutionIndicator-progress-bar {
  display: flex;
  justify-content: center;
  height: 100%;
}

/*
 * Copyright (c) Jupyter Development Team.
 * Distributed under the terms of the Modified BSD License.
 */

/*
 * Execution indicator
 */
.jp-tocItem-content::after {
  content: '';

  /* Must be identical to form a circle */
  width: 12px;
  height: 12px;
  background: none;
  border: none;
  position: absolute;
  right: 0;
}

.jp-tocItem-content[data-running='0']::after {
  border-radius: 50%;
  border: var(--jp-border-width) solid var(--jp-inverse-layout-color3);
  background: none;
}

.jp-tocItem-content[data-running='1']::after {
  border-radius: 50%;
  border: var(--jp-border-width) solid var(--jp-inverse-layout-color3);
  background-color: var(--jp-inverse-layout-color3);
}

.jp-tocItem-content[data-running='0'],
.jp-tocItem-content[data-running='1'] {
  margin-right: 12px;
}

/*
 * Copyright (c) Jupyter Development Team.
 * Distributed under the terms of the Modified BSD License.
 */

.jp-Notebook-footer {
  height: 27px;
  margin-left: calc(
    var(--jp-cell-prompt-width) + var(--jp-cell-collapser-width) +
      var(--jp-cell-padding)
  );
  width: calc(
    100% -
      (
        var(--jp-cell-prompt-width) + var(--jp-cell-collapser-width) +
          var(--jp-cell-padding) + var(--jp-cell-padding)
      )
  );
  border: var(--jp-border-width) solid var(--jp-cell-editor-border-color);
  color: var(--jp-ui-font-color3);
  margin-top: 6px;
  background: none;
  cursor: pointer;
}

.jp-Notebook-footer:focus {
  border-color: var(--jp-cell-editor-active-border-color);
}

/* For devices that support hovering, hide footer until hover */
@media (hover: hover) {
  .jp-Notebook-footer {
    opacity: 0;
  }

  .jp-Notebook-footer:focus,
  .jp-Notebook-footer:hover {
    opacity: 1;
  }
}

/*-----------------------------------------------------------------------------
| Copyright (c) Jupyter Development Team.
| Distributed under the terms of the Modified BSD License.
|----------------------------------------------------------------------------*/

/*-----------------------------------------------------------------------------
| Imports
|----------------------------------------------------------------------------*/

/*-----------------------------------------------------------------------------
| CSS variables
|----------------------------------------------------------------------------*/

:root {
  --jp-side-by-side-output-size: 1fr;
  --jp-side-by-side-resized-cell: var(--jp-side-by-side-output-size);
  --jp-private-notebook-dragImage-width: 304px;
  --jp-private-notebook-dragImage-height: 36px;
  --jp-private-notebook-selected-color: var(--md-blue-400);
  --jp-private-notebook-active-color: var(--md-green-400);
}

/*-----------------------------------------------------------------------------
| Notebook
|----------------------------------------------------------------------------*/

/* stylelint-disable selector-max-class */

.jp-NotebookPanel {
  display: block;
  height: 100%;
}

.jp-NotebookPanel.jp-Document {
  min-width: 240px;
  min-height: 120px;
}

.jp-Notebook {
  padding: var(--jp-notebook-padding);
  outline: none;
  overflow: auto;
  background: var(--jp-layout-color0);
}

.jp-Notebook.jp-mod-scrollPastEnd::after {
  display: block;
  content: '';
  min-height: var(--jp-notebook-scroll-padding);
}

.jp-MainAreaWidget-ContainStrict .jp-Notebook * {
  contain: strict;
}

.jp-Notebook .jp-Cell {
  overflow: visible;
}

.jp-Notebook .jp-Cell .jp-InputPrompt {
  cursor: move;
}

/*-----------------------------------------------------------------------------
| Notebook state related styling
|
| The notebook and cells each have states, here are the possibilities:
|
| - Notebook
|   - Command
|   - Edit
| - Cell
|   - None
|   - Active (only one can be active)
|   - Selected (the cells actions are applied to)
|   - Multiselected (when multiple selected, the cursor)
|   - No outputs
|----------------------------------------------------------------------------*/

/* Command or edit modes */

.jp-Notebook .jp-Cell:not(.jp-mod-active) .jp-InputPrompt {
  opacity: var(--jp-cell-prompt-not-active-opacity);
  color: var(--jp-cell-prompt-not-active-font-color);
}

.jp-Notebook .jp-Cell:not(.jp-mod-active) .jp-OutputPrompt {
  opacity: var(--jp-cell-prompt-not-active-opacity);
  color: var(--jp-cell-prompt-not-active-font-color);
}

/* cell is active */
.jp-Notebook .jp-Cell.jp-mod-active .jp-Collapser {
  background: var(--jp-brand-color1);
}

/* cell is dirty */
.jp-Notebook .jp-Cell.jp-mod-dirty .jp-InputPrompt {
  color: var(--jp-warn-color1);
}

.jp-Notebook .jp-Cell.jp-mod-dirty .jp-InputPrompt::before {
  color: var(--jp-warn-color1);
  content: '•';
}

.jp-Notebook .jp-Cell.jp-mod-active.jp-mod-dirty .jp-Collapser {
  background: var(--jp-warn-color1);
}

/* collapser is hovered */
.jp-Notebook .jp-Cell .jp-Collapser:hover {
  box-shadow: var(--jp-elevation-z2);
  background: var(--jp-brand-color1);
  opacity: var(--jp-cell-collapser-not-active-hover-opacity);
}

/* cell is active and collapser is hovered */
.jp-Notebook .jp-Cell.jp-mod-active .jp-Collapser:hover {
  background: var(--jp-brand-color0);
  opacity: 1;
}

/* Command mode */

.jp-Notebook.jp-mod-commandMode .jp-Cell.jp-mod-selected {
  background: var(--jp-notebook-multiselected-color);
}

.jp-Notebook.jp-mod-commandMode
  .jp-Cell.jp-mod-active.jp-mod-selected:not(.jp-mod-multiSelected) {
  background: transparent;
}

/* Edit mode */

.jp-Notebook.jp-mod-editMode .jp-Cell.jp-mod-active .jp-InputArea-editor {
  border: var(--jp-border-width) solid var(--jp-cell-editor-active-border-color);
  box-shadow: var(--jp-input-box-shadow);
  background-color: var(--jp-cell-editor-active-background);
}

/*-----------------------------------------------------------------------------
| Notebook drag and drop
|----------------------------------------------------------------------------*/

.jp-Notebook-cell.jp-mod-dropSource {
  opacity: 0.5;
}

.jp-Notebook-cell.jp-mod-dropTarget,
.jp-Notebook.jp-mod-commandMode
  .jp-Notebook-cell.jp-mod-active.jp-mod-selected.jp-mod-dropTarget {
  border-top-color: var(--jp-private-notebook-selected-color);
  border-top-style: solid;
  border-top-width: 2px;
}

.jp-dragImage {
  display: block;
  flex-direction: row;
  width: var(--jp-private-notebook-dragImage-width);
  height: var(--jp-private-notebook-dragImage-height);
  border: var(--jp-border-width) solid var(--jp-cell-editor-border-color);
  background: var(--jp-cell-editor-background);
  overflow: visible;
}

.jp-dragImage-singlePrompt {
  box-shadow: 2px 2px 4px 0 rgba(0, 0, 0, 0.12);
}

.jp-dragImage .jp-dragImage-content {
  flex: 1 1 auto;
  z-index: 2;
  font-size: var(--jp-code-font-size);
  font-family: var(--jp-code-font-family);
  line-height: var(--jp-code-line-height);
  padding: var(--jp-code-padding);
  border: var(--jp-border-width) solid var(--jp-cell-editor-border-color);
  background: var(--jp-cell-editor-background-color);
  color: var(--jp-content-font-color3);
  text-align: left;
  margin: 4px 4px 4px 0;
}

.jp-dragImage .jp-dragImage-prompt {
  flex: 0 0 auto;
  min-width: 36px;
  color: var(--jp-cell-inprompt-font-color);
  padding: var(--jp-code-padding);
  padding-left: 12px;
  font-family: var(--jp-cell-prompt-font-family);
  letter-spacing: var(--jp-cell-prompt-letter-spacing);
  line-height: 1.9;
  font-size: var(--jp-code-font-size);
  border: var(--jp-border-width) solid transparent;
}

.jp-dragImage-multipleBack {
  z-index: -1;
  position: absolute;
  height: 32px;
  width: 300px;
  top: 8px;
  left: 8px;
  background: var(--jp-layout-color2);
  border: var(--jp-border-width) solid var(--jp-input-border-color);
  box-shadow: 2px 2px 4px 0 rgba(0, 0, 0, 0.12);
}

/*-----------------------------------------------------------------------------
| Cell toolbar
|----------------------------------------------------------------------------*/

.jp-NotebookTools {
  display: block;
  min-width: var(--jp-sidebar-min-width);
  color: var(--jp-ui-font-color1);
  background: var(--jp-layout-color1);

  /* This is needed so that all font sizing of children done in ems is
    * relative to this base size */
  font-size: var(--jp-ui-font-size1);
  overflow: auto;
}

.jp-ActiveCellTool {
  padding: 12px 0;
  display: flex;
}

.jp-ActiveCellTool-Content {
  flex: 1 1 auto;
}

.jp-ActiveCellTool .jp-ActiveCellTool-CellContent {
  background: var(--jp-cell-editor-background);
  border: var(--jp-border-width) solid var(--jp-cell-editor-border-color);
  border-radius: 0;
  min-height: 29px;
}

.jp-ActiveCellTool .jp-InputPrompt {
  min-width: calc(var(--jp-cell-prompt-width) * 0.75);
}

.jp-ActiveCellTool-CellContent > pre {
  padding: 5px 4px;
  margin: 0;
  white-space: normal;
}

.jp-MetadataEditorTool {
  flex-direction: column;
  padding: 12px 0;
}

.jp-RankedPanel > :not(:first-child) {
  margin-top: 12px;
}

.jp-KeySelector select.jp-mod-styled {
  font-size: var(--jp-ui-font-size1);
  color: var(--jp-ui-font-color0);
  border: var(--jp-border-width) solid var(--jp-border-color1);
}

.jp-KeySelector label,
.jp-MetadataEditorTool label,
.jp-NumberSetter label {
  line-height: 1.4;
}

.jp-NotebookTools .jp-select-wrapper {
  margin-top: 4px;
  margin-bottom: 0;
}

.jp-NumberSetter input {
  width: 100%;
  margin-top: 4px;
}

.jp-NotebookTools .jp-Collapse {
  margin-top: 16px;
}

/*-----------------------------------------------------------------------------
| Presentation Mode (.jp-mod-presentationMode)
|----------------------------------------------------------------------------*/

.jp-mod-presentationMode .jp-Notebook {
  --jp-content-font-size1: var(--jp-content-presentation-font-size1);
  --jp-code-font-size: var(--jp-code-presentation-font-size);
}

.jp-mod-presentationMode .jp-Notebook .jp-Cell .jp-InputPrompt,
.jp-mod-presentationMode .jp-Notebook .jp-Cell .jp-OutputPrompt {
  flex: 0 0 110px;
}

/*-----------------------------------------------------------------------------
| Side-by-side Mode (.jp-mod-sideBySide)
|----------------------------------------------------------------------------*/
.jp-mod-sideBySide.jp-Notebook .jp-Notebook-cell {
  margin-top: 3em;
  margin-bottom: 3em;
  margin-left: 5%;
  margin-right: 5%;
}

.jp-mod-sideBySide.jp-Notebook .jp-CodeCell {
  display: grid;
  grid-template-columns: minmax(0, 1fr) min-content minmax(
      0,
      var(--jp-side-by-side-output-size)
    );
  grid-template-rows: auto minmax(0, 1fr) auto;
  grid-template-areas:
    'header header header'
    'input handle output'
    'footer footer footer';
}

.jp-mod-sideBySide.jp-Notebook .jp-CodeCell.jp-mod-resizedCell {
  grid-template-columns: minmax(0, 1fr) min-content minmax(
      0,
      var(--jp-side-by-side-resized-cell)
    );
}

.jp-mod-sideBySide.jp-Notebook .jp-CodeCell .jp-CellHeader {
  grid-area: header;
}

.jp-mod-sideBySide.jp-Notebook .jp-CodeCell .jp-Cell-inputWrapper {
  grid-area: input;
}

.jp-mod-sideBySide.jp-Notebook .jp-CodeCell .jp-Cell-outputWrapper {
  /* overwrite the default margin (no vertical separation needed in side by side move */
  margin-top: 0;
  grid-area: output;
}

.jp-mod-sideBySide.jp-Notebook .jp-CodeCell .jp-CellFooter {
  grid-area: footer;
}

.jp-mod-sideBySide.jp-Notebook .jp-CodeCell .jp-CellResizeHandle {
  grid-area: handle;
  user-select: none;
  display: block;
  height: 100%;
  cursor: ew-resize;
  padding: 0 var(--jp-cell-padding);
}

.jp-mod-sideBySide.jp-Notebook .jp-CodeCell .jp-CellResizeHandle::after {
  content: '';
  display: block;
  background: var(--jp-border-color2);
  height: 100%;
  width: 5px;
}

.jp-mod-sideBySide.jp-Notebook
  .jp-CodeCell.jp-mod-resizedCell
  .jp-CellResizeHandle::after {
  background: var(--jp-border-color0);
}

.jp-CellResizeHandle {
  display: none;
}

/*-----------------------------------------------------------------------------
| Placeholder
|----------------------------------------------------------------------------*/

.jp-Cell-Placeholder {
  padding-left: 55px;
}

.jp-Cell-Placeholder-wrapper {
  background: #fff;
  border: 1px solid;
  border-color: #e5e6e9 #dfe0e4 #d0d1d5;
  border-radius: 4px;
  -webkit-border-radius: 4px;
  margin: 10px 15px;
}

.jp-Cell-Placeholder-wrapper-inner {
  padding: 15px;
  position: relative;
}

.jp-Cell-Placeholder-wrapper-body {
  background-repeat: repeat;
  background-size: 50% auto;
}

.jp-Cell-Placeholder-wrapper-body div {
  background: #f6f7f8;
  background-image: -webkit-linear-gradient(
    left,
    #f6f7f8 0%,
    #edeef1 20%,
    #f6f7f8 40%,
    #f6f7f8 100%
  );
  background-repeat: no-repeat;
  background-size: 800px 104px;
  height: 104px;
  position: absolute;
  right: 15px;
  left: 15px;
  top: 15px;
}

div.jp-Cell-Placeholder-h1 {
  top: 20px;
  height: 20px;
  left: 15px;
  width: 150px;
}

div.jp-Cell-Placeholder-h2 {
  left: 15px;
  top: 50px;
  height: 10px;
  width: 100px;
}

div.jp-Cell-Placeholder-content-1,
div.jp-Cell-Placeholder-content-2,
div.jp-Cell-Placeholder-content-3 {
  left: 15px;
  right: 15px;
  height: 10px;
}

div.jp-Cell-Placeholder-content-1 {
  top: 100px;
}

div.jp-Cell-Placeholder-content-2 {
  top: 120px;
}

div.jp-Cell-Placeholder-content-3 {
  top: 140px;
}

</style>
<style type="text/css">
/*-----------------------------------------------------------------------------
| Copyright (c) Jupyter Development Team.
| Distributed under the terms of the Modified BSD License.
|----------------------------------------------------------------------------*/

/*
The following CSS variables define the main, public API for styling JupyterLab.
These variables should be used by all plugins wherever possible. In other
words, plugins should not define custom colors, sizes, etc unless absolutely
necessary. This enables users to change the visual theme of JupyterLab
by changing these variables.

Many variables appear in an ordered sequence (0,1,2,3). These sequences
are designed to work well together, so for example, `--jp-border-color1` should
be used with `--jp-layout-color1`. The numbers have the following meanings:

* 0: super-primary, reserved for special emphasis
* 1: primary, most important under normal situations
* 2: secondary, next most important under normal situations
* 3: tertiary, next most important under normal situations

Throughout JupyterLab, we are mostly following principles from Google's
Material Design when selecting colors. We are not, however, following
all of MD as it is not optimized for dense, information rich UIs.
*/

:root {
  /* Elevation
   *
   * We style box-shadows using Material Design's idea of elevation. These particular numbers are taken from here:
   *
   * https://github.com/material-components/material-components-web
   * https://material-components-web.appspot.com/elevation.html
   */

  --jp-shadow-base-lightness: 0;
  --jp-shadow-umbra-color: rgba(
    var(--jp-shadow-base-lightness),
    var(--jp-shadow-base-lightness),
    var(--jp-shadow-base-lightness),
    0.2
  );
  --jp-shadow-penumbra-color: rgba(
    var(--jp-shadow-base-lightness),
    var(--jp-shadow-base-lightness),
    var(--jp-shadow-base-lightness),
    0.14
  );
  --jp-shadow-ambient-color: rgba(
    var(--jp-shadow-base-lightness),
    var(--jp-shadow-base-lightness),
    var(--jp-shadow-base-lightness),
    0.12
  );
  --jp-elevation-z0: none;
  --jp-elevation-z1: 0 2px 1px -1px var(--jp-shadow-umbra-color),
    0 1px 1px 0 var(--jp-shadow-penumbra-color),
    0 1px 3px 0 var(--jp-shadow-ambient-color);
  --jp-elevation-z2: 0 3px 1px -2px var(--jp-shadow-umbra-color),
    0 2px 2px 0 var(--jp-shadow-penumbra-color),
    0 1px 5px 0 var(--jp-shadow-ambient-color);
  --jp-elevation-z4: 0 2px 4px -1px var(--jp-shadow-umbra-color),
    0 4px 5px 0 var(--jp-shadow-penumbra-color),
    0 1px 10px 0 var(--jp-shadow-ambient-color);
  --jp-elevation-z6: 0 3px 5px -1px var(--jp-shadow-umbra-color),
    0 6px 10px 0 var(--jp-shadow-penumbra-color),
    0 1px 18px 0 var(--jp-shadow-ambient-color);
  --jp-elevation-z8: 0 5px 5px -3px var(--jp-shadow-umbra-color),
    0 8px 10px 1px var(--jp-shadow-penumbra-color),
    0 3px 14px 2px var(--jp-shadow-ambient-color);
  --jp-elevation-z12: 0 7px 8px -4px var(--jp-shadow-umbra-color),
    0 12px 17px 2px var(--jp-shadow-penumbra-color),
    0 5px 22px 4px var(--jp-shadow-ambient-color);
  --jp-elevation-z16: 0 8px 10px -5px var(--jp-shadow-umbra-color),
    0 16px 24px 2px var(--jp-shadow-penumbra-color),
    0 6px 30px 5px var(--jp-shadow-ambient-color);
  --jp-elevation-z20: 0 10px 13px -6px var(--jp-shadow-umbra-color),
    0 20px 31px 3px var(--jp-shadow-penumbra-color),
    0 8px 38px 7px var(--jp-shadow-ambient-color);
  --jp-elevation-z24: 0 11px 15px -7px var(--jp-shadow-umbra-color),
    0 24px 38px 3px var(--jp-shadow-penumbra-color),
    0 9px 46px 8px var(--jp-shadow-ambient-color);

  /* Borders
   *
   * The following variables, specify the visual styling of borders in JupyterLab.
   */

  --jp-border-width: 1px;
  --jp-border-color0: var(--md-grey-400);
  --jp-border-color1: var(--md-grey-400);
  --jp-border-color2: var(--md-grey-300);
  --jp-border-color3: var(--md-grey-200);
  --jp-inverse-border-color: var(--md-grey-600);
  --jp-border-radius: 2px;

  /* UI Fonts
   *
   * The UI font CSS variables are used for the typography all of the JupyterLab
   * user interface elements that are not directly user generated content.
   *
   * The font sizing here is done assuming that the body font size of --jp-ui-font-size1
   * is applied to a parent element. When children elements, such as headings, are sized
   * in em all things will be computed relative to that body size.
   */

  --jp-ui-font-scale-factor: 1.2;
  --jp-ui-font-size0: 0.83333em;
  --jp-ui-font-size1: 13px; /* Base font size */
  --jp-ui-font-size2: 1.2em;
  --jp-ui-font-size3: 1.44em;
  --jp-ui-font-family: system-ui, -apple-system, blinkmacsystemfont, 'Segoe UI',
    helvetica, arial, sans-serif, 'Apple Color Emoji', 'Segoe UI Emoji',
    'Segoe UI Symbol';

  /*
   * Use these font colors against the corresponding main layout colors.
   * In a light theme, these go from dark to light.
   */

  /* Defaults use Material Design specification */
  --jp-ui-font-color0: rgba(0, 0, 0, 1);
  --jp-ui-font-color1: rgba(0, 0, 0, 0.87);
  --jp-ui-font-color2: rgba(0, 0, 0, 0.54);
  --jp-ui-font-color3: rgba(0, 0, 0, 0.38);

  /*
   * Use these against the brand/accent/warn/error colors.
   * These will typically go from light to darker, in both a dark and light theme.
   */

  --jp-ui-inverse-font-color0: rgba(255, 255, 255, 1);
  --jp-ui-inverse-font-color1: rgba(255, 255, 255, 1);
  --jp-ui-inverse-font-color2: rgba(255, 255, 255, 0.7);
  --jp-ui-inverse-font-color3: rgba(255, 255, 255, 0.5);

  /* Content Fonts
   *
   * Content font variables are used for typography of user generated content.
   *
   * The font sizing here is done assuming that the body font size of --jp-content-font-size1
   * is applied to a parent element. When children elements, such as headings, are sized
   * in em all things will be computed relative to that body size.
   */

  --jp-content-line-height: 1.6;
  --jp-content-font-scale-factor: 1.2;
  --jp-content-font-size0: 0.83333em;
  --jp-content-font-size1: 14px; /* Base font size */
  --jp-content-font-size2: 1.2em;
  --jp-content-font-size3: 1.44em;
  --jp-content-font-size4: 1.728em;
  --jp-content-font-size5: 2.0736em;

  /* This gives a magnification of about 125% in presentation mode over normal. */
  --jp-content-presentation-font-size1: 17px;
  --jp-content-heading-line-height: 1;
  --jp-content-heading-margin-top: 1.2em;
  --jp-content-heading-margin-bottom: 0.8em;
  --jp-content-heading-font-weight: 500;

  /* Defaults use Material Design specification */
  --jp-content-font-color0: rgba(0, 0, 0, 1);
  --jp-content-font-color1: rgba(0, 0, 0, 0.87);
  --jp-content-font-color2: rgba(0, 0, 0, 0.54);
  --jp-content-font-color3: rgba(0, 0, 0, 0.38);
  --jp-content-link-color: var(--md-blue-900);
  --jp-content-font-family: system-ui, -apple-system, blinkmacsystemfont,
    'Segoe UI', helvetica, arial, sans-serif, 'Apple Color Emoji',
    'Segoe UI Emoji', 'Segoe UI Symbol';

  /*
   * Code Fonts
   *
   * Code font variables are used for typography of code and other monospaces content.
   */

  --jp-code-font-size: 13px;
  --jp-code-line-height: 1.3077; /* 17px for 13px base */
  --jp-code-padding: 5px; /* 5px for 13px base, codemirror highlighting needs integer px value */
  --jp-code-font-family-default: menlo, consolas, 'DejaVu Sans Mono', monospace;
  --jp-code-font-family: var(--jp-code-font-family-default);

  /* This gives a magnification of about 125% in presentation mode over normal. */
  --jp-code-presentation-font-size: 16px;

  /* may need to tweak cursor width if you change font size */
  --jp-code-cursor-width0: 1.4px;
  --jp-code-cursor-width1: 2px;
  --jp-code-cursor-width2: 4px;

  /* Layout
   *
   * The following are the main layout colors use in JupyterLab. In a light
   * theme these would go from light to dark.
   */

  --jp-layout-color0: white;
  --jp-layout-color1: white;
  --jp-layout-color2: var(--md-grey-200);
  --jp-layout-color3: var(--md-grey-400);
  --jp-layout-color4: var(--md-grey-600);

  /* Inverse Layout
   *
   * The following are the inverse layout colors use in JupyterLab. In a light
   * theme these would go from dark to light.
   */

  --jp-inverse-layout-color0: #111;
  --jp-inverse-layout-color1: var(--md-grey-900);
  --jp-inverse-layout-color2: var(--md-grey-800);
  --jp-inverse-layout-color3: var(--md-grey-700);
  --jp-inverse-layout-color4: var(--md-grey-600);

  /* Brand/accent */

  --jp-brand-color0: var(--md-blue-900);
  --jp-brand-color1: var(--md-blue-700);
  --jp-brand-color2: var(--md-blue-300);
  --jp-brand-color3: var(--md-blue-100);
  --jp-brand-color4: var(--md-blue-50);
  --jp-accent-color0: var(--md-green-900);
  --jp-accent-color1: var(--md-green-700);
  --jp-accent-color2: var(--md-green-300);
  --jp-accent-color3: var(--md-green-100);

  /* State colors (warn, error, success, info) */

  --jp-warn-color0: var(--md-orange-900);
  --jp-warn-color1: var(--md-orange-700);
  --jp-warn-color2: var(--md-orange-300);
  --jp-warn-color3: var(--md-orange-100);
  --jp-error-color0: var(--md-red-900);
  --jp-error-color1: var(--md-red-700);
  --jp-error-color2: var(--md-red-300);
  --jp-error-color3: var(--md-red-100);
  --jp-success-color0: var(--md-green-900);
  --jp-success-color1: var(--md-green-700);
  --jp-success-color2: var(--md-green-300);
  --jp-success-color3: var(--md-green-100);
  --jp-info-color0: var(--md-cyan-900);
  --jp-info-color1: var(--md-cyan-700);
  --jp-info-color2: var(--md-cyan-300);
  --jp-info-color3: var(--md-cyan-100);

  /* Cell specific styles */

  --jp-cell-padding: 5px;
  --jp-cell-collapser-width: 8px;
  --jp-cell-collapser-min-height: 20px;
  --jp-cell-collapser-not-active-hover-opacity: 0.6;
  --jp-cell-editor-background: var(--md-grey-100);
  --jp-cell-editor-border-color: var(--md-grey-300);
  --jp-cell-editor-box-shadow: inset 0 0 2px var(--md-blue-300);
  --jp-cell-editor-active-background: var(--jp-layout-color0);
  --jp-cell-editor-active-border-color: var(--jp-brand-color1);
  --jp-cell-prompt-width: 64px;
  --jp-cell-prompt-font-family: var(--jp-code-font-family-default);
  --jp-cell-prompt-letter-spacing: 0;
  --jp-cell-prompt-opacity: 1;
  --jp-cell-prompt-not-active-opacity: 0.5;
  --jp-cell-prompt-not-active-font-color: var(--md-grey-700);

  /* A custom blend of MD grey and blue 600
   * See https://meyerweb.com/eric/tools/color-blend/#546E7A:1E88E5:5:hex */
  --jp-cell-inprompt-font-color: #307fc1;

  /* A custom blend of MD grey and orange 600
   * https://meyerweb.com/eric/tools/color-blend/#546E7A:F4511E:5:hex */
  --jp-cell-outprompt-font-color: #bf5b3d;

  /* Notebook specific styles */

  --jp-notebook-padding: 10px;
  --jp-notebook-select-background: var(--jp-layout-color1);
  --jp-notebook-multiselected-color: var(--md-blue-50);

  /* The scroll padding is calculated to fill enough space at the bottom of the
  notebook to show one single-line cell (with appropriate padding) at the top
  when the notebook is scrolled all the way to the bottom. We also subtract one
  pixel so that no scrollbar appears if we have just one single-line cell in the
  notebook. This padding is to enable a 'scroll past end' feature in a notebook.
  */
  --jp-notebook-scroll-padding: calc(
    100% - var(--jp-code-font-size) * var(--jp-code-line-height) -
      var(--jp-code-padding) - var(--jp-cell-padding) - 1px
  );

  /* Rendermime styles */

  --jp-rendermime-error-background: #fdd;
  --jp-rendermime-table-row-background: var(--md-grey-100);
  --jp-rendermime-table-row-hover-background: var(--md-light-blue-50);

  /* Dialog specific styles */

  --jp-dialog-background: rgba(0, 0, 0, 0.25);

  /* Console specific styles */

  --jp-console-padding: 10px;

  /* Toolbar specific styles */

  --jp-toolbar-border-color: var(--jp-border-color1);
  --jp-toolbar-micro-height: 8px;
  --jp-toolbar-background: var(--jp-layout-color1);
  --jp-toolbar-box-shadow: 0 0 2px 0 rgba(0, 0, 0, 0.24);
  --jp-toolbar-header-margin: 4px 4px 0 4px;
  --jp-toolbar-active-background: var(--md-grey-300);

  /* Statusbar specific styles */

  --jp-statusbar-height: 24px;

  /* Input field styles */

  --jp-input-box-shadow: inset 0 0 2px var(--md-blue-300);
  --jp-input-active-background: var(--jp-layout-color1);
  --jp-input-hover-background: var(--jp-layout-color1);
  --jp-input-background: var(--md-grey-100);
  --jp-input-border-color: var(--jp-inverse-border-color);
  --jp-input-active-border-color: var(--jp-brand-color1);
  --jp-input-active-box-shadow-color: rgba(19, 124, 189, 0.3);

  /* General editor styles */

  --jp-editor-selected-background: #d9d9d9;
  --jp-editor-selected-focused-background: #d7d4f0;
  --jp-editor-cursor-color: var(--jp-ui-font-color0);

  /* Code mirror specific styles */

  --jp-mirror-editor-keyword-color: #008000;
  --jp-mirror-editor-atom-color: #88f;
  --jp-mirror-editor-number-color: #080;
  --jp-mirror-editor-def-color: #00f;
  --jp-mirror-editor-variable-color: var(--md-grey-900);
  --jp-mirror-editor-variable-2-color: rgb(0, 54, 109);
  --jp-mirror-editor-variable-3-color: #085;
  --jp-mirror-editor-punctuation-color: #05a;
  --jp-mirror-editor-property-color: #05a;
  --jp-mirror-editor-operator-color: #a2f;
  --jp-mirror-editor-comment-color: #408080;
  --jp-mirror-editor-string-color: #ba2121;
  --jp-mirror-editor-string-2-color: #708;
  --jp-mirror-editor-meta-color: #a2f;
  --jp-mirror-editor-qualifier-color: #555;
  --jp-mirror-editor-builtin-color: #008000;
  --jp-mirror-editor-bracket-color: #997;
  --jp-mirror-editor-tag-color: #170;
  --jp-mirror-editor-attribute-color: #00c;
  --jp-mirror-editor-header-color: blue;
  --jp-mirror-editor-quote-color: #090;
  --jp-mirror-editor-link-color: #00c;
  --jp-mirror-editor-error-color: #f00;
  --jp-mirror-editor-hr-color: #999;

  /*
    RTC user specific colors.
    These colors are used for the cursor, username in the editor,
    and the icon of the user.
  */

  --jp-collaborator-color1: #ffad8e;
  --jp-collaborator-color2: #dac83d;
  --jp-collaborator-color3: #72dd76;
  --jp-collaborator-color4: #00e4d0;
  --jp-collaborator-color5: #45d4ff;
  --jp-collaborator-color6: #e2b1ff;
  --jp-collaborator-color7: #ff9de6;

  /* Vega extension styles */

  --jp-vega-background: white;

  /* Sidebar-related styles */

  --jp-sidebar-min-width: 250px;

  /* Search-related styles */

  --jp-search-toggle-off-opacity: 0.5;
  --jp-search-toggle-hover-opacity: 0.8;
  --jp-search-toggle-on-opacity: 1;
  --jp-search-selected-match-background-color: rgb(245, 200, 0);
  --jp-search-selected-match-color: black;
  --jp-search-unselected-match-background-color: var(
    --jp-inverse-layout-color0
  );
  --jp-search-unselected-match-color: var(--jp-ui-inverse-font-color0);

  /* Icon colors that work well with light or dark backgrounds */
  --jp-icon-contrast-color0: var(--md-purple-600);
  --jp-icon-contrast-color1: var(--md-green-600);
  --jp-icon-contrast-color2: var(--md-pink-600);
  --jp-icon-contrast-color3: var(--md-blue-600);

  /* Button colors */
  --jp-accept-color-normal: var(--md-blue-700);
  --jp-accept-color-hover: var(--md-blue-800);
  --jp-accept-color-active: var(--md-blue-900);
  --jp-warn-color-normal: var(--md-red-700);
  --jp-warn-color-hover: var(--md-red-800);
  --jp-warn-color-active: var(--md-red-900);
  --jp-reject-color-normal: var(--md-grey-600);
  --jp-reject-color-hover: var(--md-grey-700);
  --jp-reject-color-active: var(--md-grey-800);

  /* File or activity icons and switch semantic variables */
  --jp-jupyter-icon-color: #f37626;
  --jp-notebook-icon-color: #f37626;
  --jp-json-icon-color: var(--md-orange-700);
  --jp-console-icon-background-color: var(--md-blue-700);
  --jp-console-icon-color: white;
  --jp-terminal-icon-background-color: var(--md-grey-800);
  --jp-terminal-icon-color: var(--md-grey-200);
  --jp-text-editor-icon-color: var(--md-grey-700);
  --jp-inspector-icon-color: var(--md-grey-700);
  --jp-switch-color: var(--md-grey-400);
  --jp-switch-true-position-color: var(--md-orange-900);
}
</style>
<style type="text/css">
/* Force rendering true colors when outputing to pdf */
* {
  -webkit-print-color-adjust: exact;
}

/* Misc */
a.anchor-link {
  display: none;
}

/* Input area styling */
.jp-InputArea {
  overflow: hidden;
}

.jp-InputArea-editor {
  overflow: hidden;
}

.cm-editor.cm-s-jupyter .highlight pre {
/* weird, but --jp-code-padding defined to be 5px but 4px horizontal padding is hardcoded for pre.cm-line */
  padding: var(--jp-code-padding) 4px;
  margin: 0;

  font-family: inherit;
  font-size: inherit;
  line-height: inherit;
  color: inherit;

}

.jp-OutputArea-output pre {
  line-height: inherit;
  font-family: inherit;
}

.jp-RenderedText pre {
  color: var(--jp-content-font-color1);
  font-size: var(--jp-code-font-size);
}

/* Hiding the collapser by default */
.jp-Collapser {
  display: none;
}

@page {
    margin: 0.5in; /* Margin for each printed piece of paper */
}

@media print {
  .jp-Cell-inputWrapper,
  .jp-Cell-outputWrapper {
    display: block;
  }
}
</style>
<!-- Load mathjax -->
<script src="https://cdnjs.cloudflare.com/ajax/libs/mathjax/2.7.7/latest.js?config=TeX-AMS_CHTML-full,Safe"> </script>
<!-- MathJax configuration -->
<script type="text/x-mathjax-config">
    init_mathjax = function() {
        if (window.MathJax) {
        // MathJax loaded
            MathJax.Hub.Config({
                TeX: {
                    equationNumbers: {
                    autoNumber: "AMS",
                    useLabelIds: true
                    }
                },
                tex2jax: {
                    inlineMath: [ ['$','$'], ["\\(","\\)"] ],
                    displayMath: [ ['$$','$$'], ["\\[","\\]"] ],
                    processEscapes: true,
                    processEnvironments: true
                },
                displayAlign: 'center',
                messageStyle: 'none',
                CommonHTML: {
                    linebreaks: {
                    automatic: true
                    }
                }
            });

            MathJax.Hub.Queue(["Typeset", MathJax.Hub]);
        }
    }
    init_mathjax();
    </script>
<!-- End of mathjax configuration --><script type="module">
  document.addEventListener("DOMContentLoaded", async () => {
    const diagrams = document.querySelectorAll(".jp-Mermaid > pre.mermaid");
    // do not load mermaidjs if not needed
    if (!diagrams.length) {
      return;
    }
    const mermaid = (await import("https://cdnjs.cloudflare.com/ajax/libs/mermaid/10.7.0/mermaid.esm.min.mjs")).default;
    const parser = new DOMParser();

    mermaid.initialize({
      maxTextSize: 100000,
      maxEdges: 100000,
      startOnLoad: false,
      fontFamily: window
        .getComputedStyle(document.body)
        .getPropertyValue("--jp-ui-font-family"),
      theme: document.querySelector("body[data-jp-theme-light='true']")
        ? "default"
        : "dark",
    });

    let _nextMermaidId = 0;

    function makeMermaidImage(svg) {
      const img = document.createElement("img");
      const doc = parser.parseFromString(svg, "image/svg+xml");
      const svgEl = doc.querySelector("svg");
      const { maxWidth } = svgEl?.style || {};
      const firstTitle = doc.querySelector("title");
      const firstDesc = doc.querySelector("desc");

      img.setAttribute("src", `data:image/svg+xml,${encodeURIComponent(svg)}`);
      if (maxWidth) {
        img.width = parseInt(maxWidth);
      }
      if (firstTitle) {
        img.setAttribute("alt", firstTitle.textContent);
      }
      if (firstDesc) {
        const caption = document.createElement("figcaption");
        caption.className = "sr-only";
        caption.textContent = firstDesc.textContent;
        return [img, caption];
      }
      return [img];
    }

    async function makeMermaidError(text) {
      let errorMessage = "";
      try {
        await mermaid.parse(text);
      } catch (err) {
        errorMessage = `${err}`;
      }

      const result = document.createElement("details");
      result.className = 'jp-RenderedMermaid-Details';
      const summary = document.createElement("summary");
      summary.className = 'jp-RenderedMermaid-Summary';
      const pre = document.createElement("pre");
      const code = document.createElement("code");
      code.innerText = text;
      pre.appendChild(code);
      summary.appendChild(pre);
      result.appendChild(summary);

      const warning = document.createElement("pre");
      warning.innerText = errorMessage;
      result.appendChild(warning);
      return [result];
    }

    async function renderOneMarmaid(src) {
      const id = `jp-mermaid-${_nextMermaidId++}`;
      const parent = src.parentNode;
      let raw = src.textContent.trim();
      const el = document.createElement("div");
      el.style.visibility = "hidden";
      document.body.appendChild(el);
      let results = null;
      let output = null;
      try {
        let { svg } = await mermaid.render(id, raw, el);
        svg = cleanMermaidSvg(svg);
        results = makeMermaidImage(svg);
        output = document.createElement("figure");
        results.map(output.appendChild, output);
      } catch (err) {
        parent.classList.add("jp-mod-warning");
        results = await makeMermaidError(raw);
        output = results[0];
      } finally {
        el.remove();
      }
      parent.classList.add("jp-RenderedMermaid");
      parent.appendChild(output);
    }


    /**
     * Post-process to ensure mermaid diagrams contain only valid SVG and XHTML.
     */
    function cleanMermaidSvg(svg) {
      return svg.replace(RE_VOID_ELEMENT, replaceVoidElement);
    }


    /**
     * A regular expression for all void elements, which may include attributes and
     * a slash.
     *
     * @see https://developer.mozilla.org/en-US/docs/Glossary/Void_element
     *
     * Of these, only `<br>` is generated by Mermaid in place of `\n`,
     * but _any_ "malformed" tag will break the SVG rendering entirely.
     */
    const RE_VOID_ELEMENT =
      /<\s*(area|base|br|col|embed|hr|img|input|link|meta|param|source|track|wbr)\s*([^>]*?)\s*>/gi;

    /**
     * Ensure a void element is closed with a slash, preserving any attributes.
     */
    function replaceVoidElement(match, tag, rest) {
      rest = rest.trim();
      if (!rest.endsWith('/')) {
        rest = `${rest} /`;
      }
      return `<${tag} ${rest}>`;
    }

    void Promise.all([...diagrams].map(renderOneMarmaid));
  });
</script>
<style>
  .jp-Mermaid:not(.jp-RenderedMermaid) {
    display: none;
  }

  .jp-RenderedMermaid {
    overflow: auto;
    display: flex;
  }

  .jp-RenderedMermaid.jp-mod-warning {
    width: auto;
    padding: 0.5em;
    margin-top: 0.5em;
    border: var(--jp-border-width) solid var(--jp-warn-color2);
    border-radius: var(--jp-border-radius);
    color: var(--jp-ui-font-color1);
    font-size: var(--jp-ui-font-size1);
    white-space: pre-wrap;
    word-wrap: break-word;
  }

  .jp-RenderedMermaid figure {
    margin: 0;
    overflow: auto;
    max-width: 100%;
  }

  .jp-RenderedMermaid img {
    max-width: 100%;
  }

  .jp-RenderedMermaid-Details > pre {
    margin-top: 1em;
  }

  .jp-RenderedMermaid-Summary {
    color: var(--jp-warn-color2);
  }

  .jp-RenderedMermaid:not(.jp-mod-warning) pre {
    display: none;
  }

  .jp-RenderedMermaid-Summary > pre {
    display: inline-block;
    white-space: normal;
  }
</style>
<!-- End of mermaid configuration --></head>
<body class="jp-Notebook" data-jp-theme-light="true" data-jp-theme-name="JupyterLab Light">
<main>
<div class="jp-Cell jp-MarkdownCell jp-Notebook-cell" id="cell-id=211aca17-b567-43f4-a7dc-9249c56db6fe">
<div class="jp-Cell-inputWrapper" tabindex="0">
<div class="jp-Collapser jp-InputCollapser jp-Cell-inputCollapser">
</div>
<div class="jp-InputArea jp-Cell-inputArea"><div class="jp-InputPrompt jp-InputArea-prompt">
</div><div class="jp-RenderedHTMLCommon jp-RenderedMarkdown jp-MarkdownOutput" data-mime-type="text/markdown">
<h2 id="Aim-of-This-Notebook">Aim of This Notebook<a class="anchor-link" href="#Aim-of-This-Notebook">¶</a></h2><p>This notebook explores how fire impacts the composition of microbial communities in tropical peatlands, focusing on both Bacteria and Archaea at different soil depths. The analysis identifies the most abundant microbial classes, visualizes their distribution, and uses statistical modeling to detect which taxa respond to fire. The workflow demonstrates how to move from raw community data to interpretable results using both summary visualizations and differential abundance testing, with an emphasis on effect sizes and practical significance. This approach is directly relevant to data scientists interested in compositional data, robust group comparisons, and high-dimensional biological datasets.</p>
</div>
</div>
</div>
</div>
<div class="jp-Cell jp-MarkdownCell jp-Notebook-cell" id="cell-id=e111b43c-9552-4088-8718-f07a01293c01">
<div class="jp-Cell-inputWrapper" tabindex="0">
<div class="jp-Collapser jp-InputCollapser jp-Cell-inputCollapser">
</div>
<div class="jp-InputArea jp-Cell-inputArea"><div class="jp-InputPrompt jp-InputArea-prompt">
</div><div class="jp-RenderedHTMLCommon jp-RenderedMarkdown jp-MarkdownOutput" data-mime-type="text/markdown">
<h3 id="Load-Required-Packages">Load Required Packages<a class="anchor-link" href="#Load-Required-Packages">¶</a></h3><p>Load the necessary R packages for data wrangling, statistical modeling, and visualization. These packages provide specialized tools for handling microbiome data, including compositional analysis, effect size estimation, and publication-quality graphics. Loading them at the start ensures all downstream analyses are reproducible and robust.</p>
</div>
</div>
</div>
</div><div class="jp-Cell jp-CodeCell jp-Notebook-cell jp-mod-noOutputs" id="cell-id=29df4762-c3e0-4767-b359-048bc074fe92">
<div class="jp-Cell-inputWrapper" tabindex="0">
<div class="jp-Collapser jp-InputCollapser jp-Cell-inputCollapser">
</div>
<div class="jp-InputArea jp-Cell-inputArea">
<div class="jp-InputPrompt jp-InputArea-prompt">In [1]:</div>
<div class="jp-CodeMirrorEditor jp-Editor jp-InputArea-editor" data-type="inline">
<div class="cm-editor cm-s-jupyter">
<div class="highlight hl-r"><pre><span></span><span class="c1">## load packages</span>
<span class="nf">suppressPackageStartupMessages</span><span class="p">({</span>
<span class="w">  </span><span class="nf">library</span><span class="p">(</span><span class="n">DESeq2</span><span class="p">)</span>
<span class="w">  </span><span class="nf">library</span><span class="p">(</span><span class="n">Hmisc</span><span class="p">)</span>
<span class="w">  </span><span class="nf">library</span><span class="p">(</span><span class="n">janitor</span><span class="p">)</span>
<span class="w">  </span><span class="nf">library</span><span class="p">(</span><span class="n">patchwork</span><span class="p">)</span>
<span class="w">  </span><span class="nf">library</span><span class="p">(</span><span class="n">phyloseq</span><span class="p">)</span>
<span class="w">  </span><span class="nf">library</span><span class="p">(</span><span class="n">scales</span><span class="p">)</span>
<span class="w">  </span><span class="nf">library</span><span class="p">(</span><span class="n">tidyverse</span><span class="p">)</span>
<span class="p">})</span>
</pre></div>
</div>
</div>
</div>
</div>
</div>
<div class="jp-Cell jp-MarkdownCell jp-Notebook-cell" id="cell-id=0e7e8af1-c590-4cb0-bb80-2519c6d006ea">
<div class="jp-Cell-inputWrapper" tabindex="0">
<div class="jp-Collapser jp-InputCollapser jp-Cell-inputCollapser">
</div>
<div class="jp-InputArea jp-Cell-inputArea"><div class="jp-InputPrompt jp-InputArea-prompt">
</div><div class="jp-RenderedHTMLCommon jp-RenderedMarkdown jp-MarkdownOutput" data-mime-type="text/markdown">
<h3 id="Set-Project-Paths">Set Project Paths<a class="anchor-link" href="#Set-Project-Paths">¶</a></h3><p>Set up file paths for the project, data, and figure directories. Centralizing these paths makes the workflow portable and reproducible, ensuring that all data sources and outputs are organized and easy to locate.</p>
</div>
</div>
</div>
</div><div class="jp-Cell jp-CodeCell jp-Notebook-cell jp-mod-noOutputs" id="cell-id=09a198a0-4999-4d22-a8fa-2fd6619c6683">
<div class="jp-Cell-inputWrapper" tabindex="0">
<div class="jp-Collapser jp-InputCollapser jp-Cell-inputCollapser">
</div>
<div class="jp-InputArea jp-Cell-inputArea">
<div class="jp-InputPrompt jp-InputArea-prompt">In [2]:</div>
<div class="jp-CodeMirrorEditor jp-Editor jp-InputArea-editor" data-type="inline">
<div class="cm-editor cm-s-jupyter">
<div class="highlight hl-r"><pre><span></span><span class="c1">## paths to directories</span>
<span class="n">repo</span><span class="w"> </span><span class="o">&lt;-</span><span class="w"> </span><span class="nf">file.path</span><span class="p">(</span><span class="s">"/Users/abandla/Desktop/2_research/1_manuscripts/2_2020_brunei_peat_fire/"</span><span class="p">)</span>
<span class="n">data</span><span class="w"> </span><span class="o">&lt;-</span><span class="w"> </span><span class="nf">file.path</span><span class="p">(</span><span class="n">repo</span><span class="p">,</span><span class="w"> </span><span class="s">"1_data"</span><span class="p">)</span>
<span class="n">figures</span><span class="w"> </span><span class="o">&lt;-</span><span class="w"> </span><span class="nf">file.path</span><span class="p">(</span><span class="n">repo</span><span class="p">,</span><span class="w"> </span><span class="s">"3_figures"</span><span class="p">)</span>
</pre></div>
</div>
</div>
</div>
</div>
</div>
<div class="jp-Cell jp-MarkdownCell jp-Notebook-cell" id="cell-id=b77c6b8b-1888-4672-81b4-2d6ad669ff72">
<div class="jp-Cell-inputWrapper" tabindex="0">
<div class="jp-Collapser jp-InputCollapser jp-Cell-inputCollapser">
</div>
<div class="jp-InputArea jp-Cell-inputArea"><div class="jp-InputPrompt jp-InputArea-prompt">
</div><div class="jp-RenderedHTMLCommon jp-RenderedMarkdown jp-MarkdownOutput" data-mime-type="text/markdown">
<h3 id="Set-Global-Plotting-Theme">Set Global Plotting Theme<a class="anchor-link" href="#Set-Global-Plotting-Theme">¶</a></h3><p>Define a global plotting theme to standardize fonts, axis ticks, borders, and legends across all figures. Consistent visual style is important for clear communication, especially when comparing multiple panels or figures.</p>
</div>
</div>
</div>
</div><div class="jp-Cell jp-CodeCell jp-Notebook-cell jp-mod-noOutputs" id="cell-id=a3bc578f-e650-4c7d-ad45-a7387d8e5aa3">
<div class="jp-Cell-inputWrapper" tabindex="0">
<div class="jp-Collapser jp-InputCollapser jp-Cell-inputCollapser">
</div>
<div class="jp-InputArea jp-Cell-inputArea">
<div class="jp-InputPrompt jp-InputArea-prompt">In [3]:</div>
<div class="jp-CodeMirrorEditor jp-Editor jp-InputArea-editor" data-type="inline">
<div class="cm-editor cm-s-jupyter">
<div class="highlight hl-r"><pre><span></span><span class="c1">## set global theme options for plots</span>
<span class="n">btp_theme</span><span class="w"> </span><span class="o">&lt;-</span><span class="w"> </span><span class="nf">theme</span><span class="p">(</span>
<span class="w">  </span><span class="n">axis.text</span><span class="w"> </span><span class="o">=</span><span class="w"> </span><span class="nf">element_text</span><span class="p">(</span><span class="n">size</span><span class="w"> </span><span class="o">=</span><span class="w"> </span><span class="m">16</span><span class="p">,</span><span class="w"> </span><span class="n">color</span><span class="w"> </span><span class="o">=</span><span class="w"> </span><span class="s">"black"</span><span class="p">),</span>
<span class="w">  </span><span class="n">axis.text.y</span><span class="w"> </span><span class="o">=</span><span class="w"> </span><span class="nf">element_text</span><span class="p">(</span><span class="n">margin</span><span class="w"> </span><span class="o">=</span><span class="w"> </span><span class="nf">margin</span><span class="p">(</span><span class="m">0</span><span class="p">,</span><span class="w"> </span><span class="m">10</span><span class="p">,</span><span class="w"> </span><span class="m">0</span><span class="p">,</span><span class="w"> </span><span class="m">10</span><span class="p">)),</span>
<span class="w">  </span><span class="n">axis.text.x</span><span class="w"> </span><span class="o">=</span><span class="w"> </span><span class="nf">element_text</span><span class="p">(</span><span class="n">margin</span><span class="w"> </span><span class="o">=</span><span class="w"> </span><span class="nf">margin</span><span class="p">(</span><span class="m">10</span><span class="p">,</span><span class="w"> </span><span class="m">0</span><span class="p">,</span><span class="w"> </span><span class="m">10</span><span class="p">,</span><span class="w"> </span><span class="m">0</span><span class="p">)),</span>
<span class="w">  </span><span class="n">axis.title</span><span class="w"> </span><span class="o">=</span><span class="w"> </span><span class="nf">element_text</span><span class="p">(</span><span class="n">size</span><span class="w"> </span><span class="o">=</span><span class="w"> </span><span class="m">18</span><span class="p">),</span>
<span class="w">  </span><span class="n">axis.ticks.length</span><span class="w"> </span><span class="o">=</span><span class="w"> </span><span class="nf">unit</span><span class="p">(</span><span class="n">.</span><span class="m">25</span><span class="p">,</span><span class="w"> </span><span class="s">"cm"</span><span class="p">),</span>
<span class="w">  </span><span class="n">panel.border</span><span class="w"> </span><span class="o">=</span><span class="w"> </span><span class="nf">element_rect</span><span class="p">(</span><span class="n">linewidth</span><span class="w"> </span><span class="o">=</span><span class="w"> </span><span class="m">0.5</span><span class="p">,</span><span class="w"> </span><span class="n">fill</span><span class="w"> </span><span class="o">=</span><span class="w"> </span><span class="kc">NA</span><span class="p">),</span>
<span class="w">  </span><span class="n">panel.background</span><span class="w"> </span><span class="o">=</span><span class="w"> </span><span class="nf">element_rect</span><span class="p">(</span><span class="n">fill</span><span class="w"> </span><span class="o">=</span><span class="w"> </span><span class="kc">NA</span><span class="p">),</span>
<span class="w">  </span><span class="n">panel.grid</span><span class="w"> </span><span class="o">=</span><span class="w"> </span><span class="nf">element_blank</span><span class="p">(),</span>
<span class="w">  </span><span class="n">legend.text</span><span class="w"> </span><span class="o">=</span><span class="w"> </span><span class="nf">element_text</span><span class="p">(</span><span class="n">size</span><span class="w"> </span><span class="o">=</span><span class="w"> </span><span class="m">16</span><span class="p">),</span>
<span class="w">  </span><span class="n">legend.title</span><span class="w"> </span><span class="o">=</span><span class="w"> </span><span class="nf">element_text</span><span class="p">(</span><span class="n">size</span><span class="w"> </span><span class="o">=</span><span class="w"> </span><span class="m">18</span><span class="p">),</span>
<span class="w">  </span><span class="n">legend.key</span><span class="w"> </span><span class="o">=</span><span class="w"> </span><span class="nf">element_rect</span><span class="p">(</span><span class="n">fill</span><span class="w"> </span><span class="o">=</span><span class="w"> </span><span class="kc">NA</span><span class="p">),</span>
<span class="w">  </span><span class="n">legend.background</span><span class="w"> </span><span class="o">=</span><span class="w"> </span><span class="nf">element_rect</span><span class="p">(</span><span class="n">fill</span><span class="w"> </span><span class="o">=</span><span class="w"> </span><span class="kc">NA</span><span class="p">)</span>
<span class="p">)</span>
</pre></div>
</div>
</div>
</div>
</div>
</div>
<div class="jp-Cell jp-MarkdownCell jp-Notebook-cell" id="cell-id=96c740d8-4230-47a4-b335-ee1ba39920af">
<div class="jp-Cell-inputWrapper" tabindex="0">
<div class="jp-Collapser jp-InputCollapser jp-Cell-inputCollapser">
</div>
<div class="jp-InputArea jp-Cell-inputArea"><div class="jp-InputPrompt jp-InputArea-prompt">
</div><div class="jp-RenderedHTMLCommon jp-RenderedMarkdown jp-MarkdownOutput" data-mime-type="text/markdown">
<h3 id="Load-Microbiome-Data">Load Microbiome Data<a class="anchor-link" href="#Load-Microbiome-Data">¶</a></h3><p>Load the phyloseq object, which combines the feature table (microbial counts), taxonomy (identities), and sample metadata (experimental conditions) into a single structure. This object-oriented approach streamlines downstream analysis, allowing for efficient filtering, aggregation, and visualization.</p>
</div>
</div>
</div>
</div><div class="jp-Cell jp-CodeCell jp-Notebook-cell" id="cell-id=f4f12432-f76c-48fe-8941-8961ac416377">
<div class="jp-Cell-inputWrapper" tabindex="0">
<div class="jp-Collapser jp-InputCollapser jp-Cell-inputCollapser">
</div>
<div class="jp-InputArea jp-Cell-inputArea">
<div class="jp-InputPrompt jp-InputArea-prompt">In [4]:</div>
<div class="jp-CodeMirrorEditor jp-Editor jp-InputArea-editor" data-type="inline">
<div class="cm-editor cm-s-jupyter">
<div class="highlight hl-r"><pre><span></span><span class="c1">## import phyloseq object</span>
<span class="n">btp_fire_ps</span><span class="w"> </span><span class="o">&lt;-</span><span class="w"> </span><span class="nf">readRDS</span><span class="p">(</span><span class="nf">file.path</span><span class="p">(</span><span class="n">data</span><span class="p">,</span><span class="w"> </span><span class="s">"3_phyloseq"</span><span class="p">,</span><span class="w"> </span><span class="s">"2020_btp_fire_ps.rds"</span><span class="p">))</span>
<span class="n">btp_fire_ps</span>
</pre></div>
</div>
</div>
</div>
</div>
<div class="jp-Cell-outputWrapper">
<div class="jp-Collapser jp-OutputCollapser jp-Cell-outputCollapser">
</div>
<div class="jp-OutputArea jp-Cell-outputArea">
<div class="jp-OutputArea-child">
<div class="jp-OutputPrompt jp-OutputArea-prompt"></div>
<div class="jp-RenderedText jp-OutputArea-output" data-mime-type="text/plain" tabindex="0">
<pre>phyloseq-class experiment-level object
otu_table()   OTU Table:         [ 3928 taxa and 24 samples ]
sample_data() Sample Data:       [ 24 samples by 6 sample variables ]
tax_table()   Taxonomy Table:    [ 3928 taxa by 7 taxonomic ranks ]</pre>
</div>
</div>
</div>
</div>
</div>
<div class="jp-Cell jp-MarkdownCell jp-Notebook-cell" id="cell-id=ca477108-4cae-42bd-9622-c45c4e4ac70f">
<div class="jp-Cell-inputWrapper" tabindex="0">
<div class="jp-Collapser jp-InputCollapser jp-Cell-inputCollapser">
</div>
<div class="jp-InputArea jp-Cell-inputArea"><div class="jp-InputPrompt jp-InputArea-prompt">
</div><div class="jp-RenderedHTMLCommon jp-RenderedMarkdown jp-MarkdownOutput" data-mime-type="text/markdown">
<h3 id="Identify-Top-Microbial-Classes">Identify Top Microbial Classes<a class="anchor-link" href="#Identify-Top-Microbial-Classes">¶</a></h3><p>Calculate the top five most abundant classes for both Bacteria and Archaea in each sample, using a combination of relative abundance and prevalence. This step summarizes the dominant community members and sets the stage for visualizing how their composition changes with fire and depth.</p>
</div>
</div>
</div>
</div><div class="jp-Cell jp-CodeCell jp-Notebook-cell jp-mod-noOutputs" id="cell-id=e82ef8e5-1182-46fa-9a40-73d5b74349f2">
<div class="jp-Cell-inputWrapper" tabindex="0">
<div class="jp-Collapser jp-InputCollapser jp-Cell-inputCollapser">
</div>
<div class="jp-InputArea jp-Cell-inputArea">
<div class="jp-InputPrompt jp-InputArea-prompt">In [5]:</div>
<div class="jp-CodeMirrorEditor jp-Editor jp-InputArea-editor" data-type="inline">
<div class="cm-editor cm-s-jupyter">
<div class="highlight hl-r"><pre><span></span><span class="c1">## identify top five classes in </span>
<span class="c1">## bacteria and archaea</span>
<span class="n">top_five_microbial_classes</span><span class="w"> </span><span class="o">&lt;-</span><span class="w"> </span><span class="n">btp_fire_ps</span><span class="w"> </span><span class="o">%&gt;%</span>
<span class="w">  </span><span class="n">psmelt</span><span class="w"> </span><span class="o">%&gt;%</span>
<span class="w">  </span><span class="nf">group_by</span><span class="p">(</span><span class="n">Sample</span><span class="p">,</span><span class="w"> </span><span class="n">Kingdom</span><span class="p">)</span><span class="w"> </span><span class="o">%&gt;%</span>
<span class="w">  </span><span class="nf">mutate</span><span class="p">(</span><span class="n">relative_abundance</span><span class="w"> </span><span class="o">=</span><span class="w"> </span><span class="p">(</span><span class="n">Abundance</span><span class="w"> </span><span class="o">/</span><span class="w"> </span><span class="nf">sum</span><span class="p">(</span><span class="n">Abundance</span><span class="p">))</span><span class="w"> </span><span class="o">*</span><span class="w"> </span><span class="m">100</span><span class="p">)</span><span class="w"> </span><span class="o">%&gt;%</span>
<span class="w">  </span><span class="nf">group_by</span><span class="p">(</span><span class="n">Sample</span><span class="p">,</span><span class="w"> </span><span class="n">Kingdom</span><span class="p">,</span><span class="w"> </span><span class="n">Class</span><span class="p">,</span><span class="w"> </span><span class="n">depth</span><span class="p">,</span><span class="w"> </span><span class="n">psf_type</span><span class="p">)</span><span class="w"> </span><span class="o">%&gt;%</span>
<span class="w">  </span><span class="nf">reframe</span><span class="p">(</span><span class="n">class_relative_abundance</span><span class="w"> </span><span class="o">=</span><span class="w"> </span><span class="nf">sum</span><span class="p">(</span><span class="n">relative_abundance</span><span class="p">))</span><span class="w"> </span><span class="o">%&gt;%</span>
<span class="w">  </span><span class="nf">group_by</span><span class="p">(</span><span class="n">Class</span><span class="p">)</span><span class="w"> </span><span class="o">%&gt;%</span><span class="w"> </span>
<span class="w">  </span><span class="nf">mutate</span><span class="p">(</span>
<span class="w">    </span><span class="n">mean_abundance</span><span class="w"> </span><span class="o">=</span><span class="w"> </span><span class="nf">mean</span><span class="p">(</span><span class="n">class_relative_abundance</span><span class="p">),</span>
<span class="w">    </span><span class="n">mean_prevalence</span><span class="w"> </span><span class="o">=</span><span class="w"> </span><span class="nf">sum</span><span class="p">(</span><span class="n">class_relative_abundance</span><span class="w"> </span><span class="o">&gt;</span><span class="w"> </span><span class="m">0</span><span class="p">)</span><span class="w"> </span><span class="o">/</span><span class="w"> </span><span class="m">24</span><span class="p">,</span>
<span class="w">    </span><span class="n">F1</span><span class="w"> </span><span class="o">=</span><span class="w"> </span><span class="m">2</span><span class="w"> </span><span class="o">*</span><span class="w"> </span><span class="p">((</span><span class="n">mean_abundance</span><span class="w"> </span><span class="o">*</span><span class="w"> </span><span class="n">mean_prevalence</span><span class="p">)</span><span class="w"> </span><span class="o">/</span><span class="w"> </span><span class="p">(</span><span class="n">mean_abundance</span><span class="w"> </span><span class="o">+</span><span class="w"> </span><span class="n">mean_prevalence</span><span class="p">))</span>
<span class="w">  </span><span class="p">)</span><span class="w"> </span><span class="o">%&gt;%</span>
<span class="w">  </span><span class="n">ungroup</span><span class="w"> </span><span class="o">%&gt;%</span>
<span class="w">  </span><span class="nf">group_by</span><span class="p">(</span><span class="n">Sample</span><span class="p">,</span><span class="w"> </span><span class="n">Kingdom</span><span class="p">)</span><span class="w"> </span><span class="o">%&gt;%</span>
<span class="w">  </span><span class="nf">top_n</span><span class="p">(</span><span class="m">6</span><span class="p">,</span><span class="w"> </span><span class="n">wt</span><span class="w"> </span><span class="o">=</span><span class="w"> </span><span class="n">F1</span><span class="p">)</span><span class="w"> </span><span class="o">%&gt;%</span>
<span class="w">  </span><span class="n">ungroup</span>
</pre></div>
</div>
</div>
</div>
</div>
</div>
<div class="jp-Cell jp-MarkdownCell jp-Notebook-cell" id="cell-id=0a979898-f33e-43e6-807a-1f49bf9e2e26">
<div class="jp-Cell-inputWrapper" tabindex="0">
<div class="jp-Collapser jp-InputCollapser jp-Cell-inputCollapser">
</div>
<div class="jp-InputArea jp-Cell-inputArea"><div class="jp-InputPrompt jp-InputArea-prompt">
</div><div class="jp-RenderedHTMLCommon jp-RenderedMarkdown jp-MarkdownOutput" data-mime-type="text/markdown">
<h3 id="Summarize-Top-Bacterial-Classes">Summarize Top Bacterial Classes<a class="anchor-link" href="#Summarize-Top-Bacterial-Classes">¶</a></h3><p>Aggregate and reshape the data to focus on the top five bacterial classes (plus an 'Others' category), grouped by peat status and depth. This prepares the data for clear, interpretable plotting of bacterial community structure.</p>
</div>
</div>
</div>
</div><div class="jp-Cell jp-CodeCell jp-Notebook-cell jp-mod-noOutputs" id="cell-id=9627ba55-e76e-490e-9b00-8da2c47935d5">
<div class="jp-Cell-inputWrapper" tabindex="0">
<div class="jp-Collapser jp-InputCollapser jp-Cell-inputCollapser">
</div>
<div class="jp-InputArea jp-Cell-inputArea">
<div class="jp-InputPrompt jp-InputArea-prompt">In [6]:</div>
<div class="jp-CodeMirrorEditor jp-Editor jp-InputArea-editor" data-type="inline">
<div class="cm-editor cm-s-jupyter">
<div class="highlight hl-r"><pre><span></span><span class="c1">## top five bacterial classes</span>
<span class="n">top_five_bacterial_classes</span><span class="w"> </span><span class="o">&lt;-</span><span class="w"> </span><span class="n">top_five_microbial_classes</span><span class="w"> </span><span class="o">%&gt;%</span>
<span class="w">  </span><span class="nf">filter</span><span class="p">(</span><span class="n">Kingdom</span><span class="w"> </span><span class="o">==</span><span class="w"> </span><span class="s">"Bacteria"</span><span class="w"> </span><span class="o">&amp;</span><span class="w"> </span><span class="o">!</span><span class="nf">is.na</span><span class="p">(</span><span class="n">Class</span><span class="p">))</span><span class="w"> </span><span class="o">%&gt;%</span>
<span class="w">  </span><span class="nf">group_by</span><span class="p">(</span><span class="n">psf_type</span><span class="p">,</span><span class="w"> </span><span class="n">depth</span><span class="p">,</span><span class="w"> </span><span class="n">Class</span><span class="p">,</span><span class="w"> </span><span class="n">Kingdom</span><span class="p">)</span><span class="w"> </span><span class="o">%&gt;%</span>
<span class="w">  </span><span class="nf">reframe</span><span class="p">(</span><span class="n">mean_abundance</span><span class="w"> </span><span class="o">=</span><span class="w"> </span><span class="nf">mean</span><span class="p">(</span><span class="n">class_relative_abundance</span><span class="p">))</span><span class="w"> </span><span class="o">%&gt;%</span>
<span class="w">  </span><span class="nf">pivot_wider</span><span class="p">(</span><span class="n">names_from</span><span class="w"> </span><span class="o">=</span><span class="w"> </span><span class="s">"Class"</span><span class="p">,</span><span class="w"> </span><span class="n">values_from</span><span class="w"> </span><span class="o">=</span><span class="w"> </span><span class="n">mean_abundance</span><span class="p">)</span><span class="w"> </span><span class="o">%&gt;%</span>
<span class="w">  </span><span class="nf">mutate</span><span class="p">(</span><span class="n">Others</span><span class="w"> </span><span class="o">=</span><span class="w"> </span><span class="m">100</span><span class="w"> </span><span class="o">-</span><span class="w"> </span><span class="nf">rowSums</span><span class="p">(</span><span class="nf">select_if</span><span class="p">(</span><span class="n">.</span><span class="p">,</span><span class="w"> </span><span class="n">is.numeric</span><span class="p">)))</span><span class="w"> </span><span class="o">%&gt;%</span>
<span class="w">  </span><span class="nf">pivot_longer</span><span class="p">(</span><span class="o">-</span><span class="nf">c</span><span class="p">(</span><span class="s">"psf_type"</span><span class="p">,</span><span class="w"> </span><span class="s">"depth"</span><span class="p">,</span><span class="w"> </span><span class="s">"Kingdom"</span><span class="p">),</span><span class="w"> </span><span class="n">names_to</span><span class="w"> </span><span class="o">=</span><span class="w"> </span><span class="s">"Class"</span><span class="p">,</span><span class="w"> </span><span class="n">values_to</span><span class="w"> </span><span class="o">=</span><span class="w"> </span><span class="s">"Abundance"</span><span class="p">)</span><span class="w"> </span><span class="o">%&gt;%</span>
<span class="w">    </span><span class="nf">mutate</span><span class="p">(</span><span class="n">Class</span><span class="w"> </span><span class="o">=</span><span class="w"> </span><span class="nf">factor</span><span class="p">(</span>
<span class="w">    </span><span class="n">Class</span><span class="p">,</span>
<span class="w">    </span><span class="n">levels</span><span class="w"> </span><span class="o">=</span><span class="w"> </span><span class="nf">c</span><span class="p">(</span>
<span class="w">      </span><span class="s">"Acidobacteriae"</span><span class="p">,</span>
<span class="w">      </span><span class="s">"Actinobacteria"</span><span class="p">,</span>
<span class="w">      </span><span class="s">"Alphaproteobacteria"</span><span class="p">,</span>
<span class="w">      </span><span class="s">"Gammaproteobacteria"</span><span class="p">,</span>
<span class="w">      </span><span class="s">"Planctomycetes"</span><span class="p">,</span>
<span class="w">      </span><span class="s">"Others"</span>
<span class="w">    </span><span class="p">)</span>
<span class="w">  </span><span class="p">))</span>
</pre></div>
</div>
</div>
</div>
</div>
</div>
<div class="jp-Cell jp-MarkdownCell jp-Notebook-cell" id="cell-id=4582da5a-684c-49ed-bbd5-4f9cdfafefda">
<div class="jp-Cell-inputWrapper" tabindex="0">
<div class="jp-Collapser jp-InputCollapser jp-Cell-inputCollapser">
</div>
<div class="jp-InputArea jp-Cell-inputArea"><div class="jp-InputPrompt jp-InputArea-prompt">
</div><div class="jp-RenderedHTMLCommon jp-RenderedMarkdown jp-MarkdownOutput" data-mime-type="text/markdown">
<h3 id="Summarize-Top-Archaeal-Classes">Summarize Top Archaeal Classes<a class="anchor-link" href="#Summarize-Top-Archaeal-Classes">¶</a></h3><p>Aggregate and reshape the data to focus on the top five archaeal classes (plus an 'Others' category), grouped by peat status and depth. This enables direct comparison of archaeal community structure across conditions.</p>
</div>
</div>
</div>
</div><div class="jp-Cell jp-CodeCell jp-Notebook-cell jp-mod-noOutputs" id="cell-id=55e3aeae-e69c-48b8-ab02-965d09090067">
<div class="jp-Cell-inputWrapper" tabindex="0">
<div class="jp-Collapser jp-InputCollapser jp-Cell-inputCollapser">
</div>
<div class="jp-InputArea jp-Cell-inputArea">
<div class="jp-InputPrompt jp-InputArea-prompt">In [7]:</div>
<div class="jp-CodeMirrorEditor jp-Editor jp-InputArea-editor" data-type="inline">
<div class="cm-editor cm-s-jupyter">
<div class="highlight hl-r"><pre><span></span><span class="c1">## top five archaeal classes</span>
<span class="n">top_five_archaeal_classes</span><span class="w"> </span><span class="o">&lt;-</span><span class="w"> </span><span class="n">top_five_microbial_classes</span><span class="w"> </span><span class="o">%&gt;%</span>
<span class="w">  </span><span class="nf">filter</span><span class="p">(</span><span class="n">Kingdom</span><span class="w"> </span><span class="o">!=</span><span class="w"> </span><span class="s">"Bacteria"</span><span class="w"> </span><span class="o">&amp;</span><span class="w"> </span><span class="o">!</span><span class="nf">is.na</span><span class="p">(</span><span class="n">Class</span><span class="p">))</span><span class="w"> </span><span class="o">%&gt;%</span>
<span class="w">  </span><span class="nf">group_by</span><span class="p">(</span><span class="n">psf_type</span><span class="p">,</span><span class="w"> </span><span class="n">depth</span><span class="p">,</span><span class="w"> </span><span class="n">Class</span><span class="p">,</span><span class="w"> </span><span class="n">Kingdom</span><span class="p">)</span><span class="w"> </span><span class="o">%&gt;%</span>
<span class="w">  </span><span class="nf">reframe</span><span class="p">(</span><span class="n">mean_abundance</span><span class="w"> </span><span class="o">=</span><span class="w"> </span><span class="nf">mean</span><span class="p">(</span><span class="n">class_relative_abundance</span><span class="p">))</span><span class="w"> </span><span class="o">%&gt;%</span>
<span class="w">  </span><span class="nf">pivot_wider</span><span class="p">(</span><span class="n">names_from</span><span class="w"> </span><span class="o">=</span><span class="w"> </span><span class="s">"Class"</span><span class="p">,</span><span class="w"> </span><span class="n">values_from</span><span class="w"> </span><span class="o">=</span><span class="w"> </span><span class="n">mean_abundance</span><span class="p">)</span><span class="w"> </span><span class="o">%&gt;%</span>
<span class="w">  </span><span class="nf">mutate</span><span class="p">(</span><span class="n">Others</span><span class="w"> </span><span class="o">=</span><span class="w"> </span><span class="m">100</span><span class="w"> </span><span class="o">-</span><span class="w"> </span><span class="nf">rowSums</span><span class="p">(</span><span class="nf">select_if</span><span class="p">(</span><span class="n">.</span><span class="p">,</span><span class="w"> </span><span class="n">is.numeric</span><span class="p">)))</span><span class="w"> </span><span class="o">%&gt;%</span>
<span class="w">  </span><span class="nf">pivot_longer</span><span class="p">(</span><span class="o">-</span><span class="nf">c</span><span class="p">(</span><span class="s">"psf_type"</span><span class="p">,</span><span class="w"> </span><span class="s">"depth"</span><span class="p">,</span><span class="w"> </span><span class="s">"Kingdom"</span><span class="p">),</span><span class="w"> </span><span class="n">names_to</span><span class="w"> </span><span class="o">=</span><span class="w"> </span><span class="s">"Class"</span><span class="p">,</span><span class="w"> </span><span class="n">values_to</span><span class="w"> </span><span class="o">=</span><span class="w"> </span><span class="s">"Abundance"</span><span class="p">)</span><span class="w"> </span><span class="o">%&gt;%</span>
<span class="w">  </span><span class="nf">mutate</span><span class="p">(</span><span class="n">Class</span><span class="w"> </span><span class="o">=</span><span class="w"> </span><span class="nf">factor</span><span class="p">(</span>
<span class="w">    </span><span class="n">Class</span><span class="p">,</span>
<span class="w">    </span><span class="n">levels</span><span class="w"> </span><span class="o">=</span><span class="w"> </span><span class="nf">c</span><span class="p">(</span>
<span class="w">      </span><span class="s">"Bathyarchaeia"</span><span class="p">,</span>
<span class="w">      </span><span class="s">"Methanomicrobia"</span><span class="p">,</span>
<span class="w">      </span><span class="s">"Methanosarcinia"</span><span class="p">,</span>
<span class="w">      </span><span class="s">"Nitrososphaeria"</span><span class="p">,</span>
<span class="w">      </span><span class="s">"Thermoplasmata"</span><span class="p">,</span>
<span class="w">      </span><span class="s">"Others"</span>
<span class="w">    </span><span class="p">)</span>
<span class="w">  </span><span class="p">))</span>
</pre></div>
</div>
</div>
</div>
</div>
</div>
<div class="jp-Cell jp-MarkdownCell jp-Notebook-cell" id="cell-id=06551914-79da-46a6-9315-109bad610aa0">
<div class="jp-Cell-inputWrapper" tabindex="0">
<div class="jp-Collapser jp-InputCollapser jp-Cell-inputCollapser">
</div>
<div class="jp-InputArea jp-Cell-inputArea"><div class="jp-InputPrompt jp-InputArea-prompt">
</div><div class="jp-RenderedHTMLCommon jp-RenderedMarkdown jp-MarkdownOutput" data-mime-type="text/markdown">
<h3 id="Plot-Top-Archaeal-Classes">Plot Top Archaeal Classes<a class="anchor-link" href="#Plot-Top-Archaeal-Classes">¶</a></h3><p>Visualize the relative abundance of the top five archaeal classes across depths and peat status using stacked bar plots. This figure makes it easy to see which archaeal groups dominate at each depth and how their composition shifts with fire.</p>
</div>
</div>
</div>
</div><div class="jp-Cell jp-CodeCell jp-Notebook-cell jp-mod-noOutputs" id="cell-id=a2e5ca03-4de7-4340-b449-ccb3041083c4">
<div class="jp-Cell-inputWrapper" tabindex="0">
<div class="jp-Collapser jp-InputCollapser jp-Cell-inputCollapser">
</div>
<div class="jp-InputArea jp-Cell-inputArea">
<div class="jp-InputPrompt jp-InputArea-prompt">In [8]:</div>
<div class="jp-CodeMirrorEditor jp-Editor jp-InputArea-editor" data-type="inline">
<div class="cm-editor cm-s-jupyter">
<div class="highlight hl-r"><pre><span></span><span class="c1">## plot top five archaeal classes</span>
<span class="n">top_five_archaeal_classes_figure</span><span class="w"> </span><span class="o">&lt;-</span><span class="w"> </span><span class="n">top_five_archaeal_classes</span><span class="w"> </span><span class="o">%&gt;%</span>
<span class="w">  </span><span class="nf">ggplot</span><span class="p">(</span><span class="n">.</span><span class="p">,</span><span class="w"> </span><span class="nf">aes</span><span class="p">(</span><span class="n">x</span><span class="w"> </span><span class="o">=</span><span class="w"> </span><span class="n">depth</span><span class="p">,</span><span class="w"> </span><span class="n">y</span><span class="w"> </span><span class="o">=</span><span class="w"> </span><span class="n">Abundance</span><span class="p">,</span><span class="w"> </span><span class="n">fill</span><span class="w"> </span><span class="o">=</span><span class="w"> </span><span class="n">Class</span><span class="p">))</span><span class="w"> </span><span class="o">+</span>
<span class="w">  </span><span class="nf">geom_bar</span><span class="p">(</span><span class="n">stat</span><span class="w"> </span><span class="o">=</span><span class="w"> </span><span class="s">"identity"</span><span class="p">,</span><span class="w"> </span><span class="n">color</span><span class="w"> </span><span class="o">=</span><span class="w"> </span><span class="s">"black"</span><span class="p">,</span><span class="w"> </span><span class="n">width</span><span class="w"> </span><span class="o">=</span><span class="w"> </span><span class="m">1</span><span class="p">)</span><span class="w"> </span><span class="o">+</span>
<span class="w">  </span><span class="nf">facet_wrap</span><span class="p">(</span><span class="o">~</span><span class="n">psf_type</span><span class="p">)</span><span class="w"> </span><span class="o">+</span>
<span class="w">  </span><span class="nf">coord_cartesian</span><span class="p">(</span><span class="n">clip</span><span class="w"> </span><span class="o">=</span><span class="w"> </span><span class="s">"off"</span><span class="p">)</span><span class="w"> </span><span class="o">+</span>
<span class="w">  </span><span class="n">btp_theme</span><span class="w"> </span><span class="o">+</span>
<span class="w">  </span><span class="nf">theme</span><span class="p">(</span>
<span class="w">    </span><span class="n">axis.text.y</span><span class="w"> </span><span class="o">=</span><span class="w"> </span><span class="nf">element_text</span><span class="p">(</span><span class="n">margin</span><span class="w"> </span><span class="o">=</span><span class="w"> </span><span class="nf">margin</span><span class="p">(</span><span class="m">0</span><span class="p">,</span><span class="w"> </span><span class="m">10</span><span class="p">,</span><span class="w"> </span><span class="m">0</span><span class="p">,</span><span class="w"> </span><span class="m">0</span><span class="p">)),</span>
<span class="w">    </span><span class="n">axis.text.x</span><span class="w"> </span><span class="o">=</span><span class="w"> </span><span class="nf">element_text</span><span class="p">(</span><span class="n">angle</span><span class="w"> </span><span class="o">=</span><span class="w"> </span><span class="m">90</span><span class="p">,</span><span class="w"> </span><span class="n">hjust</span><span class="w"> </span><span class="o">=</span><span class="w"> </span><span class="m">1</span><span class="p">,</span><span class="w"> </span><span class="n">vjust</span><span class="w"> </span><span class="o">=</span><span class="w"> </span><span class="m">0.5</span><span class="p">),</span>
<span class="w">    </span><span class="n">panel.spacing.x</span><span class="w"> </span><span class="o">=</span><span class="w"> </span><span class="nf">unit</span><span class="p">(</span><span class="m">0.8</span><span class="p">,</span><span class="w"> </span><span class="s">"lines"</span><span class="p">),</span>
<span class="w">    </span><span class="n">strip.background</span><span class="w"> </span><span class="o">=</span><span class="w"> </span><span class="nf">element_rect</span><span class="p">(</span><span class="n">fill</span><span class="w"> </span><span class="o">=</span><span class="w"> </span><span class="kc">NA</span><span class="p">),</span>
<span class="w">    </span><span class="n">strip.text</span><span class="w"> </span><span class="o">=</span><span class="w"> </span><span class="nf">element_text</span><span class="p">(</span><span class="n">size</span><span class="w"> </span><span class="o">=</span><span class="w"> </span><span class="m">16</span><span class="p">),</span>
<span class="w">    </span><span class="n">legend.key.size</span><span class="w"> </span><span class="o">=</span><span class="w"> </span><span class="nf">unit</span><span class="p">(</span><span class="m">0.8</span><span class="p">,</span><span class="w"> </span><span class="s">'cm'</span><span class="p">),</span>
<span class="w">    </span><span class="n">legend.spacing.y</span><span class="w"> </span><span class="o">=</span><span class="w"> </span><span class="nf">unit</span><span class="p">(</span><span class="m">0.24</span><span class="p">,</span><span class="w"> </span><span class="s">'cm'</span><span class="p">),</span>
<span class="w">    </span><span class="n">legend.spacing.x</span><span class="w"> </span><span class="o">=</span><span class="w"> </span><span class="nf">unit</span><span class="p">(</span><span class="m">0.15</span><span class="p">,</span><span class="w"> </span><span class="s">'cm'</span><span class="p">),</span>
<span class="w">    </span><span class="n">legend.margin</span><span class="w"> </span><span class="o">=</span><span class="w"> </span><span class="nf">margin</span><span class="p">(</span><span class="m">0</span><span class="p">,</span><span class="w"> </span><span class="m">0</span><span class="p">,</span><span class="w"> </span><span class="m">0</span><span class="p">,</span><span class="w"> </span><span class="m">0</span><span class="p">)</span>
<span class="w">  </span><span class="p">)</span><span class="w"> </span><span class="o">+</span>
<span class="w">  </span><span class="nf">scale_x_discrete</span><span class="p">(</span><span class="n">expand</span><span class="w"> </span><span class="o">=</span><span class="w"> </span><span class="nf">c</span><span class="p">(</span><span class="m">0</span><span class="p">,</span><span class="w"> </span><span class="m">0</span><span class="p">),</span><span class="w"> </span><span class="n">labels</span><span class="w"> </span><span class="o">=</span><span class="w"> </span><span class="nf">c</span><span class="p">(</span><span class="s">"Surface"</span><span class="p">,</span><span class="w"> </span><span class="s">"Mid"</span><span class="p">,</span><span class="w"> </span><span class="s">"Deep"</span><span class="p">))</span><span class="w"> </span><span class="o">+</span>
<span class="w">  </span><span class="nf">scale_y_continuous</span><span class="p">(</span><span class="n">expand</span><span class="w"> </span><span class="o">=</span><span class="w"> </span><span class="nf">c</span><span class="p">(</span><span class="m">0</span><span class="p">,</span><span class="w"> </span><span class="m">0</span><span class="p">))</span><span class="w"> </span><span class="o">+</span>
<span class="w">   </span><span class="nf">scale_fill_manual</span><span class="p">(</span><span class="s">"Class"</span><span class="p">,</span>
<span class="w">    </span><span class="n">values</span><span class="w"> </span><span class="o">=</span><span class="w"> </span><span class="nf">c</span><span class="p">(</span>
<span class="w">      </span><span class="s">"Bathyarchaeia"</span><span class="w"> </span><span class="o">=</span><span class="w"> </span><span class="s">"#fb8072"</span><span class="p">,</span>
<span class="w">      </span><span class="s">"Methanomicrobia"</span><span class="w"> </span><span class="o">=</span><span class="w"> </span><span class="s">"#80b1d3"</span><span class="p">,</span>
<span class="w">      </span><span class="s">"Methanosarcinia"</span><span class="w"> </span><span class="o">=</span><span class="w"> </span><span class="s">"#b3de69"</span><span class="p">,</span>
<span class="w">      </span><span class="s">"Nitrososphaeria"</span><span class="w"> </span><span class="o">=</span><span class="w"> </span><span class="s">"#fccde5"</span><span class="p">,</span>
<span class="w">      </span><span class="s">"Thermoplasmata"</span><span class="w"> </span><span class="o">=</span><span class="w"> </span><span class="s">"#ccebc5"</span><span class="p">,</span>
<span class="w">      </span><span class="s">"Others"</span><span class="w"> </span><span class="o">=</span><span class="w"> </span><span class="s">"#d9d9d9"</span>
<span class="w">    </span><span class="p">)</span>
<span class="w">  </span><span class="p">)</span><span class="w"> </span><span class="o">+</span>
<span class="nf">guides</span><span class="p">(</span><span class="n">fill</span><span class="w"> </span><span class="o">=</span><span class="w"> </span><span class="nf">guide_legend</span><span class="p">(</span><span class="n">byrow</span><span class="w"> </span><span class="o">=</span><span class="w"> </span><span class="kc">TRUE</span><span class="p">))</span><span class="w"> </span><span class="o">+</span>
<span class="nf">ylab</span><span class="p">(</span><span class="s">"Relative Abundance (%)"</span><span class="p">)</span><span class="w"> </span><span class="o">+</span>
<span class="nf">xlab</span><span class="p">(</span><span class="s">"Depth"</span><span class="p">)</span>
</pre></div>
</div>
</div>
</div>
</div>
</div>
<div class="jp-Cell jp-MarkdownCell jp-Notebook-cell" id="cell-id=8a086f5b-4897-495c-b6ee-4e5df8b2d5f1">
<div class="jp-Cell-inputWrapper" tabindex="0">
<div class="jp-Collapser jp-InputCollapser jp-Cell-inputCollapser">
</div>
<div class="jp-InputArea jp-Cell-inputArea"><div class="jp-InputPrompt jp-InputArea-prompt">
</div><div class="jp-RenderedHTMLCommon jp-RenderedMarkdown jp-MarkdownOutput" data-mime-type="text/markdown">
<h3 id="Plot-Top-Bacterial-Classes">Plot Top Bacterial Classes<a class="anchor-link" href="#Plot-Top-Bacterial-Classes">¶</a></h3><p>Visualize the relative abundance of the top five bacterial classes across depths and peat status using stacked bar plots. This complements the archaeal plot and highlights which bacterial groups are most affected by fire and depth.</p>
</div>
</div>
</div>
</div><div class="jp-Cell jp-CodeCell jp-Notebook-cell jp-mod-noOutputs" id="cell-id=750307bf-ff75-4858-aa5f-57ea92fba05b">
<div class="jp-Cell-inputWrapper" tabindex="0">
<div class="jp-Collapser jp-InputCollapser jp-Cell-inputCollapser">
</div>
<div class="jp-InputArea jp-Cell-inputArea">
<div class="jp-InputPrompt jp-InputArea-prompt">In [9]:</div>
<div class="jp-CodeMirrorEditor jp-Editor jp-InputArea-editor" data-type="inline">
<div class="cm-editor cm-s-jupyter">
<div class="highlight hl-r"><pre><span></span><span class="c1">## plot top five bacterial classes</span>
<span class="n">top_five_bacterial_classes_figure</span><span class="w"> </span><span class="o">&lt;-</span><span class="w"> </span><span class="n">top_five_bacterial_classes</span><span class="w"> </span><span class="o">%&gt;%</span>
<span class="w">  </span><span class="nf">ggplot</span><span class="p">(</span><span class="n">.</span><span class="p">,</span><span class="w"> </span><span class="nf">aes</span><span class="p">(</span><span class="n">x</span><span class="w"> </span><span class="o">=</span><span class="w"> </span><span class="n">depth</span><span class="p">,</span><span class="w"> </span><span class="n">y</span><span class="w"> </span><span class="o">=</span><span class="w"> </span><span class="n">Abundance</span><span class="p">,</span><span class="w"> </span><span class="n">fill</span><span class="w"> </span><span class="o">=</span><span class="w"> </span><span class="n">Class</span><span class="p">))</span><span class="w"> </span><span class="o">+</span>
<span class="w">  </span><span class="nf">geom_bar</span><span class="p">(</span><span class="n">stat</span><span class="w"> </span><span class="o">=</span><span class="w"> </span><span class="s">"identity"</span><span class="p">,</span><span class="w"> </span><span class="n">color</span><span class="w"> </span><span class="o">=</span><span class="w"> </span><span class="s">"black"</span><span class="p">,</span><span class="w"> </span><span class="n">width</span><span class="w"> </span><span class="o">=</span><span class="w"> </span><span class="m">1</span><span class="p">)</span><span class="w"> </span><span class="o">+</span>
<span class="w">  </span><span class="nf">facet_wrap</span><span class="p">(</span><span class="o">~</span><span class="n">psf_type</span><span class="p">)</span><span class="w"> </span><span class="o">+</span>
<span class="w">  </span><span class="nf">coord_cartesian</span><span class="p">(</span><span class="n">clip</span><span class="w"> </span><span class="o">=</span><span class="w"> </span><span class="s">"off"</span><span class="p">)</span><span class="w"> </span><span class="o">+</span>
<span class="w">  </span><span class="n">btp_theme</span><span class="w"> </span><span class="o">+</span>
<span class="w">  </span><span class="nf">theme</span><span class="p">(</span>
<span class="w">    </span><span class="n">axis.text.y</span><span class="w"> </span><span class="o">=</span><span class="w"> </span><span class="nf">element_text</span><span class="p">(</span><span class="n">margin</span><span class="w"> </span><span class="o">=</span><span class="w"> </span><span class="nf">margin</span><span class="p">(</span><span class="m">0</span><span class="p">,</span><span class="w"> </span><span class="m">10</span><span class="p">,</span><span class="w"> </span><span class="m">0</span><span class="p">,</span><span class="w"> </span><span class="m">0</span><span class="p">)),</span>
<span class="w">    </span><span class="n">axis.text.x</span><span class="w"> </span><span class="o">=</span><span class="w"> </span><span class="nf">element_text</span><span class="p">(</span><span class="n">angle</span><span class="w"> </span><span class="o">=</span><span class="w"> </span><span class="m">90</span><span class="p">,</span><span class="w"> </span><span class="n">hjust</span><span class="w"> </span><span class="o">=</span><span class="w"> </span><span class="m">1</span><span class="p">,</span><span class="w"> </span><span class="n">vjust</span><span class="w"> </span><span class="o">=</span><span class="w"> </span><span class="m">0.5</span><span class="p">),</span>
<span class="w">    </span><span class="n">panel.spacing.x</span><span class="w"> </span><span class="o">=</span><span class="w"> </span><span class="nf">unit</span><span class="p">(</span><span class="m">0.8</span><span class="p">,</span><span class="w"> </span><span class="s">"lines"</span><span class="p">),</span>
<span class="w">    </span><span class="n">strip.background</span><span class="w"> </span><span class="o">=</span><span class="w"> </span><span class="nf">element_rect</span><span class="p">(</span><span class="n">fill</span><span class="w"> </span><span class="o">=</span><span class="w"> </span><span class="kc">NA</span><span class="p">),</span>
<span class="w">    </span><span class="n">strip.text</span><span class="w"> </span><span class="o">=</span><span class="w"> </span><span class="nf">element_text</span><span class="p">(</span><span class="n">size</span><span class="w"> </span><span class="o">=</span><span class="w"> </span><span class="m">16</span><span class="p">),</span>
<span class="w">    </span><span class="n">legend.key.size</span><span class="w"> </span><span class="o">=</span><span class="w"> </span><span class="nf">unit</span><span class="p">(</span><span class="m">0.8</span><span class="p">,</span><span class="w"> </span><span class="s">'cm'</span><span class="p">),</span>
<span class="w">    </span><span class="n">legend.spacing.y</span><span class="w"> </span><span class="o">=</span><span class="w"> </span><span class="nf">unit</span><span class="p">(</span><span class="m">0.24</span><span class="p">,</span><span class="w"> </span><span class="s">'cm'</span><span class="p">),</span>
<span class="w">    </span><span class="n">legend.spacing.x</span><span class="w"> </span><span class="o">=</span><span class="w"> </span><span class="nf">unit</span><span class="p">(</span><span class="m">0.15</span><span class="p">,</span><span class="w"> </span><span class="s">'cm'</span><span class="p">),</span>
<span class="w">    </span><span class="n">legend.margin</span><span class="w"> </span><span class="o">=</span><span class="w"> </span><span class="nf">margin</span><span class="p">(</span><span class="m">0</span><span class="p">,</span><span class="w"> </span><span class="m">0</span><span class="p">,</span><span class="w"> </span><span class="m">0</span><span class="p">,</span><span class="w"> </span><span class="m">0</span><span class="p">)</span>
<span class="w">  </span><span class="p">)</span><span class="w"> </span><span class="o">+</span>
<span class="w">  </span><span class="nf">scale_x_discrete</span><span class="p">(</span><span class="n">expand</span><span class="w"> </span><span class="o">=</span><span class="w"> </span><span class="nf">c</span><span class="p">(</span><span class="m">0</span><span class="p">,</span><span class="w"> </span><span class="m">0</span><span class="p">),</span><span class="w"> </span><span class="n">labels</span><span class="w"> </span><span class="o">=</span><span class="w"> </span><span class="nf">c</span><span class="p">(</span><span class="s">"Surface"</span><span class="p">,</span><span class="w"> </span><span class="s">"Mid"</span><span class="p">,</span><span class="w"> </span><span class="s">"Deep"</span><span class="p">))</span><span class="w"> </span><span class="o">+</span>
<span class="w">  </span><span class="nf">scale_y_continuous</span><span class="p">(</span><span class="n">expand</span><span class="w"> </span><span class="o">=</span><span class="w"> </span><span class="nf">c</span><span class="p">(</span><span class="m">0</span><span class="p">,</span><span class="w"> </span><span class="m">0</span><span class="p">))</span><span class="w"> </span><span class="o">+</span>
<span class="w">   </span><span class="nf">scale_fill_manual</span><span class="p">(</span><span class="s">"Class"</span><span class="p">,</span>
<span class="w">    </span><span class="n">values</span><span class="w"> </span><span class="o">=</span><span class="w"> </span><span class="nf">c</span><span class="p">(</span>
<span class="w">      </span><span class="s">"Acidobacteriae"</span><span class="w"> </span><span class="o">=</span><span class="w"> </span><span class="s">"#8dd3c7"</span><span class="p">,</span>
<span class="w">      </span><span class="s">"Actinobacteria"</span><span class="w"> </span><span class="o">=</span><span class="w"> </span><span class="s">"#ffffb3"</span><span class="p">,</span>
<span class="w">      </span><span class="s">"Alphaproteobacteria"</span><span class="w"> </span><span class="o">=</span><span class="w"> </span><span class="s">"#bebada"</span><span class="p">,</span>
<span class="w">      </span><span class="s">"Gammaproteobacteria"</span><span class="w"> </span><span class="o">=</span><span class="w"> </span><span class="s">"#fdb462"</span><span class="p">,</span>
<span class="w">      </span><span class="s">"Planctomycetes"</span><span class="w"> </span><span class="o">=</span><span class="w"> </span><span class="s">"#bc80bd"</span><span class="p">,</span>
<span class="w">      </span><span class="s">"Others"</span><span class="w"> </span><span class="o">=</span><span class="w"> </span><span class="s">"#d9d9d9"</span>
<span class="w">    </span><span class="p">)</span>
<span class="w">  </span><span class="p">)</span><span class="w"> </span><span class="o">+</span>
<span class="nf">guides</span><span class="p">(</span><span class="n">fill</span><span class="w"> </span><span class="o">=</span><span class="w"> </span><span class="nf">guide_legend</span><span class="p">(</span><span class="n">byrow</span><span class="w"> </span><span class="o">=</span><span class="w"> </span><span class="kc">TRUE</span><span class="p">))</span><span class="w"> </span><span class="o">+</span>
<span class="nf">ylab</span><span class="p">(</span><span class="s">"Relative Abundance (%)"</span><span class="p">)</span><span class="w"> </span><span class="o">+</span>
<span class="nf">xlab</span><span class="p">(</span><span class="s">"Depth"</span><span class="p">)</span>
</pre></div>
</div>
</div>
</div>
</div>
</div>
<div class="jp-Cell jp-MarkdownCell jp-Notebook-cell" id="cell-id=7378dd54-8877-4f2e-aca8-c9796dc8cb2a">
<div class="jp-Cell-inputWrapper" tabindex="0">
<div class="jp-Collapser jp-InputCollapser jp-Cell-inputCollapser">
</div>
<div class="jp-InputArea jp-Cell-inputArea"><div class="jp-InputPrompt jp-InputArea-prompt">
</div><div class="jp-RenderedHTMLCommon jp-RenderedMarkdown jp-MarkdownOutput" data-mime-type="text/markdown">
<h3 id="View-Combined-Composition-Plot">View Combined Composition Plot<a class="anchor-link" href="#View-Combined-Composition-Plot">¶</a></h3><p>Display the combined figure showing both archaeal and bacterial class composition across depths and peat status. This side-by-side visualization provides an accessible summary of the main community shifts in response to fire.</p>
</div>
</div>
</div>
</div><div class="jp-Cell jp-CodeCell jp-Notebook-cell" id="cell-id=e53f9d0e-696e-4b41-a852-46a18f6cb118">
<div class="jp-Cell-inputWrapper" tabindex="0">
<div class="jp-Collapser jp-InputCollapser jp-Cell-inputCollapser">
</div>
<div class="jp-InputArea jp-Cell-inputArea">
<div class="jp-InputPrompt jp-InputArea-prompt">In [10]:</div>
<div class="jp-CodeMirrorEditor jp-Editor jp-InputArea-editor" data-type="inline">
<div class="cm-editor cm-s-jupyter">
<div class="highlight hl-r"><pre><span></span><span class="c1">## view plot</span>
<span class="nf">options</span><span class="p">(</span><span class="n">repr.plot.width</span><span class="w"> </span><span class="o">=</span><span class="w"> </span><span class="m">12</span><span class="p">,</span><span class="w"> </span><span class="n">repr.plot.height</span><span class="w"> </span><span class="o">=</span><span class="w"> </span><span class="m">4.7</span><span class="p">)</span>
<span class="n">top_five_archaeal_classes_figure</span><span class="w"> </span><span class="o">+</span><span class="w"> </span><span class="n">top_five_bacterial_classes_figure</span>
</pre></div>
</div>
</div>
</div>
</div>
<div class="jp-Cell-outputWrapper">
<div class="jp-Collapser jp-OutputCollapser jp-Cell-outputCollapser">
</div>
<div class="jp-OutputArea jp-Cell-outputArea">
<div class="jp-OutputArea-child">
<div class="jp-OutputPrompt jp-OutputArea-prompt"></div>
<div class="jp-RenderedImage jp-OutputArea-output" tabindex="0">
<img alt="No description has been provided for this image" class="" height="282" src="data:image/png;base64,iVBORw0KGgoAAAANSUhEUgAABaAAAAI0CAIAAABkkhlEAAAABmJLR0QA/wD/AP+gvaeTAAAg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" width="720"/>
</div>
</div>
</div>
</div>
</div>
<div class="jp-Cell jp-MarkdownCell jp-Notebook-cell" id="cell-id=44f5f36e-234d-4b45-bc0d-7b4be53e5e1b">
<div class="jp-Cell-inputWrapper" tabindex="0">
<div class="jp-Collapser jp-InputCollapser jp-Cell-inputCollapser">
</div>
<div class="jp-InputArea jp-Cell-inputArea"><div class="jp-InputPrompt jp-InputArea-prompt">
</div><div class="jp-RenderedHTMLCommon jp-RenderedMarkdown jp-MarkdownOutput" data-mime-type="text/markdown">
<h3 id="Save-Composition-Plot">Save Composition Plot<a class="anchor-link" href="#Save-Composition-Plot">¶</a></h3><p>Export the combined composition figure as a PDF for use in reports or publications. Saving figures in a standardized format ensures results are easy to share and reproduce.</p>
</div>
</div>
</div>
</div><div class="jp-Cell jp-CodeCell jp-Notebook-cell" id="cell-id=8639064b-ffc1-48cf-9ddf-71cffa4674f2">
<div class="jp-Cell-inputWrapper" tabindex="0">
<div class="jp-Collapser jp-InputCollapser jp-Cell-inputCollapser">
</div>
<div class="jp-InputArea jp-Cell-inputArea">
<div class="jp-InputPrompt jp-InputArea-prompt">In [11]:</div>
<div class="jp-CodeMirrorEditor jp-Editor jp-InputArea-editor" data-type="inline">
<div class="cm-editor cm-s-jupyter">
<div class="highlight hl-r"><pre><span></span><span class="c1">## save plot</span>
<span class="nf">pdf</span><span class="p">(</span><span class="nf">file.path</span><span class="p">(</span><span class="n">figures</span><span class="p">,</span><span class="w"> </span><span class="s">"1_main"</span><span class="p">,</span><span class="w"> </span><span class="s">"2_composition.pdf"</span><span class="p">),</span><span class="w"> </span><span class="n">width</span><span class="w"> </span><span class="o">=</span><span class="w"> </span><span class="m">12</span><span class="p">,</span><span class="w"> </span><span class="n">height</span><span class="w"> </span><span class="o">=</span><span class="w"> </span><span class="m">4.7</span><span class="p">)</span>
<span class="n">top_five_archaeal_classes_figure</span><span class="w"> </span><span class="o">+</span><span class="w"> </span><span class="n">top_five_bacterial_classes_figure</span>
<span class="nf">dev.off</span><span class="p">()</span>
</pre></div>
</div>
</div>
</div>
</div>
<div class="jp-Cell-outputWrapper">
<div class="jp-Collapser jp-OutputCollapser jp-Cell-outputCollapser">
</div>
<div class="jp-OutputArea jp-Cell-outputArea">
<div class="jp-OutputArea-child">
<div class="jp-OutputPrompt jp-OutputArea-prompt"></div>
<div class="jp-RenderedHTMLCommon jp-RenderedHTML jp-OutputArea-output" data-mime-type="text/html" tabindex="0">
<strong>pdf:</strong> 2
</div>
</div>
</div>
</div>
</div>
<div class="jp-Cell jp-MarkdownCell jp-Notebook-cell" id="cell-id=caab947a-11c9-4803-8421-27f81023082e">
<div class="jp-Cell-inputWrapper" tabindex="0">
<div class="jp-Collapser jp-InputCollapser jp-Cell-inputCollapser">
</div>
<div class="jp-InputArea jp-Cell-inputArea"><div class="jp-InputPrompt jp-InputArea-prompt">
</div><div class="jp-RenderedHTMLCommon jp-RenderedMarkdown jp-MarkdownOutput" data-mime-type="text/markdown">
<h3 id="Differential-Abundance:-Class-Level">Differential Abundance: Class Level<a class="anchor-link" href="#Differential-Abundance:-Class-Level">¶</a></h3><p>Model differential abundance at the class level using DESeq2, accounting for peat status, depth, and their interaction. This step identifies which microbial classes are significantly more or less abundant in burnt versus intact peat at each depth, providing a statistical basis for interpreting fire responders.</p>
</div>
</div>
</div>
</div><div class="jp-Cell jp-CodeCell jp-Notebook-cell jp-mod-noOutputs" id="cell-id=f0fc4fe6-22da-4925-8870-03174def514d">
<div class="jp-Cell-inputWrapper" tabindex="0">
<div class="jp-Collapser jp-InputCollapser jp-Cell-inputCollapser">
</div>
<div class="jp-InputArea jp-Cell-inputArea">
<div class="jp-InputPrompt jp-InputArea-prompt">In [ ]:</div>
<div class="jp-CodeMirrorEditor jp-Editor jp-InputArea-editor" data-type="inline">
<div class="cm-editor cm-s-jupyter">
<div class="highlight hl-r"><pre><span></span><span class="c1">## fire responders at the</span>
<span class="c1">## class level</span>
<span class="n">btp_fire_class_dds</span><span class="w"> </span><span class="o">&lt;-</span><span class="w"> </span><span class="n">btp_fire_ps</span><span class="w"> </span><span class="o">%&gt;%</span>
<span class="w">  </span><span class="nf">tax_glom</span><span class="p">(</span><span class="n">.</span><span class="p">,</span><span class="w"> </span><span class="s">"Class"</span><span class="p">)</span><span class="w"> </span><span class="o">%&gt;%</span>
<span class="w">  </span><span class="nf">phyloseq_to_deseq2</span><span class="p">(</span><span class="n">.</span><span class="p">,</span><span class="w"> </span><span class="o">~</span><span class="n">psf_type</span><span class="w"> </span><span class="o">+</span><span class="w"> </span><span class="n">depth</span><span class="w"> </span><span class="o">+</span><span class="w"> </span><span class="n">psf_type</span><span class="o">:</span><span class="n">depth</span><span class="p">)</span><span class="w"> </span><span class="o">%&gt;%</span>
<span class="w">  </span><span class="nf">DESeq</span><span class="p">(</span><span class="n">.</span><span class="p">,</span><span class="w"> </span><span class="s">"Wald"</span><span class="p">)</span>
</pre></div>
</div>
</div>
</div>
</div>
</div>
<div class="jp-Cell jp-MarkdownCell jp-Notebook-cell" id="cell-id=da04f17f-9fcb-4ec2-8ea3-d83217f860f2">
<div class="jp-Cell-inputWrapper" tabindex="0">
<div class="jp-Collapser jp-InputCollapser jp-Cell-inputCollapser">
</div>
<div class="jp-InputArea jp-Cell-inputArea"><div class="jp-InputPrompt jp-InputArea-prompt">
</div><div class="jp-RenderedHTMLCommon jp-RenderedMarkdown jp-MarkdownOutput" data-mime-type="text/markdown">
<h3 id="Check-Reference-Levels-for-Class-Model">Check Reference Levels for Class Model<a class="anchor-link" href="#Check-Reference-Levels-for-Class-Model">¶</a></h3><p>Inspect the reference levels used in the DESeq2 model to ensure group comparisons are correctly specified. This is important for interpreting which group is considered the baseline in differential abundance testing.</p>
</div>
</div>
</div>
</div><div class="jp-Cell jp-CodeCell jp-Notebook-cell jp-mod-noOutputs" id="cell-id=6f854a0b-2e3e-47a7-ac45-33494976c5fc">
<div class="jp-Cell-inputWrapper" tabindex="0">
<div class="jp-Collapser jp-InputCollapser jp-Cell-inputCollapser">
</div>
<div class="jp-InputArea jp-Cell-inputArea">
<div class="jp-InputPrompt jp-InputArea-prompt">In [ ]:</div>
<div class="jp-CodeMirrorEditor jp-Editor jp-InputArea-editor" data-type="inline">
<div class="cm-editor cm-s-jupyter">
<div class="highlight hl-r"><pre><span></span><span class="c1">## check reference levels</span>
<span class="c1">## no differentials at depths 0-5 &amp; 35-40</span>
<span class="nf">resultsNames</span><span class="p">(</span><span class="n">btp_fire_class_dds</span><span class="p">)</span>
</pre></div>
</div>
</div>
</div>
</div>
</div>
<div class="jp-Cell jp-MarkdownCell jp-Notebook-cell" id="cell-id=7f6c92dc-a3e9-4615-9e51-c1b910aa8322">
<div class="jp-Cell-inputWrapper" tabindex="0">
<div class="jp-Collapser jp-InputCollapser jp-Cell-inputCollapser">
</div>
<div class="jp-InputArea jp-Cell-inputArea"><div class="jp-InputPrompt jp-InputArea-prompt">
</div><div class="jp-RenderedHTMLCommon jp-RenderedMarkdown jp-MarkdownOutput" data-mime-type="text/markdown">
<h3 id="Relevel-and-Refit-Class-Model">Relevel and Refit Class Model<a class="anchor-link" href="#Relevel-and-Refit-Class-Model">¶</a></h3><p>Change the reference depth to focus on a specific layer (e.g., 95-100 cm), then refit the model. This allows for targeted testing of fire effects at particular depths, which is crucial for understanding context-dependent responses.</p>
</div>
</div>
</div>
</div><div class="jp-Cell jp-CodeCell jp-Notebook-cell jp-mod-noOutputs" id="cell-id=a7ced79e-a75d-42f1-8116-aeafffcd2c44">
<div class="jp-Cell-inputWrapper" tabindex="0">
<div class="jp-Collapser jp-InputCollapser jp-Cell-inputCollapser">
</div>
<div class="jp-InputArea jp-Cell-inputArea">
<div class="jp-InputPrompt jp-InputArea-prompt">In [ ]:</div>
<div class="jp-CodeMirrorEditor jp-Editor jp-InputArea-editor" data-type="inline">
<div class="cm-editor cm-s-jupyter">
<div class="highlight hl-r"><pre><span></span><span class="c1">## relevel</span>
<span class="n">btp_fire_class_dds</span><span class="o">$</span><span class="n">depth</span><span class="w"> </span><span class="o">&lt;-</span><span class="w"> </span><span class="nf">relevel</span><span class="p">(</span><span class="n">btp_fire_class_dds</span><span class="o">$</span><span class="n">depth</span><span class="p">,</span><span class="w"> </span><span class="s">"95-100"</span><span class="p">)</span>
<span class="n">btp_fire_class_dds</span><span class="w"> </span><span class="o">&lt;-</span><span class="w"> </span><span class="nf">nbinomWaldTest</span><span class="p">(</span><span class="n">btp_fire_class_dds</span><span class="p">)</span>
<span class="nf">resultsNames</span><span class="p">(</span><span class="n">btp_fire_class_dds</span><span class="p">)</span>
</pre></div>
</div>
</div>
</div>
</div>
</div>
<div class="jp-Cell jp-MarkdownCell jp-Notebook-cell" id="cell-id=9064413b-915a-4b33-8196-4e842a247ee7">
<div class="jp-Cell-inputWrapper" tabindex="0">
<div class="jp-Collapser jp-InputCollapser jp-Cell-inputCollapser">
</div>
<div class="jp-InputArea jp-Cell-inputArea"><div class="jp-InputPrompt jp-InputArea-prompt">
</div><div class="jp-RenderedHTMLCommon jp-RenderedMarkdown jp-MarkdownOutput" data-mime-type="text/markdown">
<h3 id="Extract-and-Filter-Significant-Class-Responders">Extract and Filter Significant Class Responders<a class="anchor-link" href="#Extract-and-Filter-Significant-Class-Responders">¶</a></h3><p>Shrink effect sizes and filter for classes with statistically significant and biologically meaningful changes (adjusted p-value ≤ 0.05 and |log2 fold change| ≥ 1). This step highlights the most robust fire responders at the class level.</p>
</div>
</div>
</div>
</div><div class="jp-Cell jp-CodeCell jp-Notebook-cell jp-mod-noOutputs" id="cell-id=497b9edf-fe87-47a5-b634-5978db2289f9">
<div class="jp-Cell-inputWrapper" tabindex="0">
<div class="jp-Collapser jp-InputCollapser jp-Cell-inputCollapser">
</div>
<div class="jp-InputArea jp-Cell-inputArea">
<div class="jp-InputPrompt jp-InputArea-prompt">In [ ]:</div>
<div class="jp-CodeMirrorEditor jp-Editor jp-InputArea-editor" data-type="inline">
<div class="cm-editor cm-s-jupyter">
<div class="highlight hl-r"><pre><span></span><span class="c1">## shrink effect sizes</span>
<span class="n">btp_fire_class_depth_95_100</span><span class="w"> </span><span class="o">&lt;-</span><span class="w"> </span><span class="nf">lfcShrink</span><span class="p">(</span>
<span class="w">  </span><span class="n">dds</span><span class="w"> </span><span class="o">=</span><span class="w"> </span><span class="n">btp_fire_class_dds</span><span class="p">,</span><span class="w"> </span>
<span class="w">  </span><span class="n">res</span><span class="w"> </span><span class="o">=</span><span class="w"> </span><span class="nf">results</span><span class="p">(</span><span class="n">btp_fire_class_dds</span><span class="p">,</span><span class="w"> </span><span class="n">contrast</span><span class="o">=</span><span class="nf">c</span><span class="p">(</span><span class="s">"psf_type"</span><span class="p">,</span><span class="s">"Intact"</span><span class="p">,</span><span class="s">"Burnt"</span><span class="p">)),</span>
<span class="w">  </span><span class="n">coef</span><span class="w"> </span><span class="o">=</span><span class="w"> </span><span class="s">"psf_type_Intact_vs_Burnt"</span>
<span class="p">)</span><span class="w"> </span><span class="o">%&gt;%</span>
<span class="w">  </span><span class="n">data.frame</span><span class="w"> </span><span class="o">%&gt;%</span>
<span class="w">  </span><span class="nf">filter</span><span class="p">(</span><span class="n">padj</span><span class="w"> </span><span class="o">&lt;=</span><span class="w"> </span><span class="m">0.05</span><span class="w"> </span><span class="o">&amp;</span><span class="w"> </span><span class="nf">abs</span><span class="p">(</span><span class="n">log2FoldChange</span><span class="p">)</span><span class="w"> </span><span class="o">&gt;=</span><span class="w"> </span><span class="m">1</span><span class="p">)</span><span class="w"> </span><span class="o">%&gt;%</span>
<span class="w">  </span><span class="nf">rownames_to_column</span><span class="p">(</span><span class="s">"ASV"</span><span class="p">)</span><span class="w"> </span><span class="o">%&gt;%</span>
<span class="w">  </span><span class="nf">inner_join</span><span class="p">(</span>
<span class="w">    </span><span class="nf">tax_table</span><span class="p">(</span><span class="n">btp_fire_ps</span><span class="p">)</span><span class="w"> </span><span class="o">%&gt;%</span>
<span class="w">    </span><span class="n">data.frame</span><span class="w"> </span><span class="o">%&gt;%</span>
<span class="w">    </span><span class="nf">rownames_to_column</span><span class="p">(</span><span class="s">"ASV"</span><span class="p">)</span><span class="w"> </span><span class="o">%&gt;%</span>
<span class="w">    </span><span class="nf">select</span><span class="p">(</span><span class="n">ASV</span><span class="p">,</span><span class="w"> </span><span class="n">Kingdom</span><span class="p">,</span><span class="w"> </span><span class="n">Phylum</span><span class="p">,</span><span class="w"> </span><span class="n">Class</span><span class="p">)</span>
<span class="w">  </span><span class="p">)</span><span class="w"> </span><span class="o">%&gt;%</span>
<span class="w">  </span><span class="nf">arrange</span><span class="p">(</span><span class="o">-</span><span class="n">baseMean</span><span class="p">)</span>
</pre></div>
</div>
</div>
</div>
</div>
</div>
<div class="jp-Cell jp-MarkdownCell jp-Notebook-cell" id="cell-id=44c5ecd4-8f04-4a40-b7d9-65506b640768">
<div class="jp-Cell-inputWrapper" tabindex="0">
<div class="jp-Collapser jp-InputCollapser jp-Cell-inputCollapser">
</div>
<div class="jp-InputArea jp-Cell-inputArea"><div class="jp-InputPrompt jp-InputArea-prompt">
</div><div class="jp-RenderedHTMLCommon jp-RenderedMarkdown jp-MarkdownOutput" data-mime-type="text/markdown">
<h3 id="Save-Significant-Class-Responders">Save Significant Class Responders<a class="anchor-link" href="#Save-Significant-Class-Responders">¶</a></h3><p>Export the list of significant class-level fire responders to a CSV file for further analysis or reporting. This ensures results are documented and easy to share.</p>
</div>
</div>
</div>
</div><div class="jp-Cell jp-CodeCell jp-Notebook-cell jp-mod-noOutputs" id="cell-id=01db4310-c877-414c-9d00-bbad58156302">
<div class="jp-Cell-inputWrapper" tabindex="0">
<div class="jp-Collapser jp-InputCollapser jp-Cell-inputCollapser">
</div>
<div class="jp-InputArea jp-Cell-inputArea">
<div class="jp-InputPrompt jp-InputArea-prompt">In [ ]:</div>
<div class="jp-CodeMirrorEditor jp-Editor jp-InputArea-editor" data-type="inline">
<div class="cm-editor cm-s-jupyter">
<div class="highlight hl-r"><pre><span></span><span class="c1">## save</span>
<span class="nf">write.csv</span><span class="p">(</span>
<span class="w">  </span><span class="n">btp_fire_class_depth_95_100</span><span class="p">,</span>
<span class="w">  </span><span class="nf">file.path</span><span class="p">(</span><span class="n">data</span><span class="p">,</span><span class="w"> </span><span class="s">"4_differentials"</span><span class="p">,</span><span class="w"> </span><span class="s">"2020_btp_fire_class_depth_95_100.csv"</span><span class="p">),</span>
<span class="w">  </span><span class="n">row.names</span><span class="w"> </span><span class="o">=</span><span class="w"> </span><span class="kc">FALSE</span><span class="p">,</span>
<span class="w">  </span><span class="n">quote</span><span class="w"> </span><span class="o">=</span><span class="w"> </span><span class="kc">FALSE</span>
<span class="p">)</span>
</pre></div>
</div>
</div>
</div>
</div>
</div>
<div class="jp-Cell jp-MarkdownCell jp-Notebook-cell" id="cell-id=26d2ebae-6679-4e28-874b-7ef942b2e089">
<div class="jp-Cell-inputWrapper" tabindex="0">
<div class="jp-Collapser jp-InputCollapser jp-Cell-inputCollapser">
</div>
<div class="jp-InputArea jp-Cell-inputArea"><div class="jp-InputPrompt jp-InputArea-prompt">
</div><div class="jp-RenderedHTMLCommon jp-RenderedMarkdown jp-MarkdownOutput" data-mime-type="text/markdown">
<h3 id="Differential-Abundance:-ASV-Level">Differential Abundance: ASV Level<a class="anchor-link" href="#Differential-Abundance:-ASV-Level">¶</a></h3><p>Model differential abundance at the ASV (amplicon sequence variant) level using DESeq2, again accounting for peat status, depth, and their interaction. This high-resolution analysis pinpoints specific microbial lineages that respond to fire.</p>
</div>
</div>
</div>
</div><div class="jp-Cell jp-CodeCell jp-Notebook-cell jp-mod-noOutputs" id="cell-id=ad71c395-6cde-46c5-a4d1-3e1307467a77">
<div class="jp-Cell-inputWrapper" tabindex="0">
<div class="jp-Collapser jp-InputCollapser jp-Cell-inputCollapser">
</div>
<div class="jp-InputArea jp-Cell-inputArea">
<div class="jp-InputPrompt jp-InputArea-prompt">In [ ]:</div>
<div class="jp-CodeMirrorEditor jp-Editor jp-InputArea-editor" data-type="inline">
<div class="cm-editor cm-s-jupyter">
<div class="highlight hl-r"><pre><span></span><span class="c1">## fire responders at the</span>
<span class="c1">## ASV level</span>
<span class="n">btp_fire_asv_dds</span><span class="w"> </span><span class="o">&lt;-</span><span class="w"> </span><span class="n">btp_fire_ps</span><span class="w"> </span><span class="o">%&gt;%</span>
<span class="w">  </span><span class="nf">phyloseq_to_deseq2</span><span class="p">(</span><span class="n">.</span><span class="p">,</span><span class="w"> </span><span class="o">~</span><span class="n">psf_type</span><span class="w"> </span><span class="o">+</span><span class="w"> </span><span class="n">depth</span><span class="w"> </span><span class="o">+</span><span class="w"> </span><span class="n">psf_type</span><span class="o">:</span><span class="n">depth</span><span class="p">)</span><span class="w"> </span><span class="o">%&gt;%</span>
<span class="w">  </span><span class="nf">DESeq</span><span class="p">(</span><span class="n">.</span><span class="p">,</span><span class="w"> </span><span class="s">"Wald"</span><span class="p">)</span>
</pre></div>
</div>
</div>
</div>
</div>
</div>
<div class="jp-Cell jp-MarkdownCell jp-Notebook-cell" id="cell-id=9ca4adf3-7776-4164-8159-7efa3904f42d">
<div class="jp-Cell-inputWrapper" tabindex="0">
<div class="jp-Collapser jp-InputCollapser jp-Cell-inputCollapser">
</div>
<div class="jp-InputArea jp-Cell-inputArea"><div class="jp-InputPrompt jp-InputArea-prompt">
</div><div class="jp-RenderedHTMLCommon jp-RenderedMarkdown jp-MarkdownOutput" data-mime-type="text/markdown">
<h3 id="Check-Reference-Levels-for-ASV-Model">Check Reference Levels for ASV Model<a class="anchor-link" href="#Check-Reference-Levels-for-ASV-Model">¶</a></h3><p>Inspect the reference levels in the ASV-level model to confirm the direction of group comparisons. This step ensures that the statistical contrasts are interpretable and aligned with the scientific question.</p>
</div>
</div>
</div>
</div><div class="jp-Cell jp-CodeCell jp-Notebook-cell jp-mod-noOutputs" id="cell-id=f637dee4-17b2-470f-8221-ef80a999c99e">
<div class="jp-Cell-inputWrapper" tabindex="0">
<div class="jp-Collapser jp-InputCollapser jp-Cell-inputCollapser">
</div>
<div class="jp-InputArea jp-Cell-inputArea">
<div class="jp-InputPrompt jp-InputArea-prompt">In [ ]:</div>
<div class="jp-CodeMirrorEditor jp-Editor jp-InputArea-editor" data-type="inline">
<div class="cm-editor cm-s-jupyter">
<div class="highlight hl-r"><pre><span></span><span class="c1">## check reference levels</span>
<span class="c1">## no differentials at depth 35-40</span>
<span class="c1">## only one differential at depth 0-5</span>
<span class="nf">resultsNames</span><span class="p">(</span><span class="n">btp_fire_asv_dds</span><span class="p">)</span>
</pre></div>
</div>
</div>
</div>
</div>
</div>
<div class="jp-Cell jp-MarkdownCell jp-Notebook-cell" id="cell-id=b25fbbb0-d559-45f8-ab68-8bfc683ff4fa">
<div class="jp-Cell-inputWrapper" tabindex="0">
<div class="jp-Collapser jp-InputCollapser jp-Cell-inputCollapser">
</div>
<div class="jp-InputArea jp-Cell-inputArea"><div class="jp-InputPrompt jp-InputArea-prompt">
</div><div class="jp-RenderedHTMLCommon jp-RenderedMarkdown jp-MarkdownOutput" data-mime-type="text/markdown">
<h3 id="Relevel-and-Refit-ASV-Model">Relevel and Refit ASV Model<a class="anchor-link" href="#Relevel-and-Refit-ASV-Model">¶</a></h3><p>Change the reference depth and refit the ASV-level model to focus on specific layers. This enables depth-specific detection of fire-responsive ASVs.</p>
</div>
</div>
</div>
</div><div class="jp-Cell jp-CodeCell jp-Notebook-cell jp-mod-noOutputs" id="cell-id=37084e79-7c8e-4302-ab57-667b0004ec1c">
<div class="jp-Cell-inputWrapper" tabindex="0">
<div class="jp-Collapser jp-InputCollapser jp-Cell-inputCollapser">
</div>
<div class="jp-InputArea jp-Cell-inputArea">
<div class="jp-InputPrompt jp-InputArea-prompt">In [ ]:</div>
<div class="jp-CodeMirrorEditor jp-Editor jp-InputArea-editor" data-type="inline">
<div class="cm-editor cm-s-jupyter">
<div class="highlight hl-r"><pre><span></span><span class="c1">## relevel reference levels</span>
<span class="n">btp_fire_asv_dds</span><span class="o">$</span><span class="n">depth</span><span class="w"> </span><span class="o">&lt;-</span><span class="w"> </span><span class="nf">relevel</span><span class="p">(</span><span class="n">btp_fire_asv_dds</span><span class="o">$</span><span class="n">depth</span><span class="p">,</span><span class="w"> </span><span class="s">"95-100"</span><span class="p">)</span>
<span class="n">btp_fire_asv_dds</span><span class="w"> </span><span class="o">&lt;-</span><span class="w"> </span><span class="nf">nbinomWaldTest</span><span class="p">(</span><span class="n">btp_fire_asv_dds</span><span class="p">)</span>
<span class="nf">resultsNames</span><span class="p">(</span><span class="n">btp_fire_asv_dds</span><span class="p">)</span>
</pre></div>
</div>
</div>
</div>
</div>
</div>
<div class="jp-Cell jp-MarkdownCell jp-Notebook-cell" id="cell-id=7250e2fe-95fc-435a-9673-90eae797980b">
<div class="jp-Cell-inputWrapper" tabindex="0">
<div class="jp-Collapser jp-InputCollapser jp-Cell-inputCollapser">
</div>
<div class="jp-InputArea jp-Cell-inputArea"><div class="jp-InputPrompt jp-InputArea-prompt">
</div><div class="jp-RenderedHTMLCommon jp-RenderedMarkdown jp-MarkdownOutput" data-mime-type="text/markdown">
<h3 id="Extract-and-Filter-Significant-ASV-Responders-(Surface)">Extract and Filter Significant ASV Responders (Surface)<a class="anchor-link" href="#Extract-and-Filter-Significant-ASV-Responders-(Surface)">¶</a></h3><p>Shrink effect sizes and filter for ASVs with significant and substantial changes at the surface layer (e.g., 0-5 cm). This step identifies the most responsive microbial lineages near the peat surface.</p>
</div>
</div>
</div>
</div><div class="jp-Cell jp-CodeCell jp-Notebook-cell jp-mod-noOutputs" id="cell-id=7c351e28-ecc4-4f85-a40e-fa3c0dfa143a">
<div class="jp-Cell-inputWrapper" tabindex="0">
<div class="jp-Collapser jp-InputCollapser jp-Cell-inputCollapser">
</div>
<div class="jp-InputArea jp-Cell-inputArea">
<div class="jp-InputPrompt jp-InputArea-prompt">In [ ]:</div>
<div class="jp-CodeMirrorEditor jp-Editor jp-InputArea-editor" data-type="inline">
<div class="cm-editor cm-s-jupyter">
<div class="highlight hl-r"><pre><span></span><span class="c1">## shrink effect sizes</span>
<span class="n">btp_fire_asv_depth_0_5</span><span class="w"> </span><span class="o">&lt;-</span><span class="w"> </span><span class="nf">lfcShrink</span><span class="p">(</span>
<span class="w">  </span><span class="n">dds</span><span class="w"> </span><span class="o">=</span><span class="w"> </span><span class="n">btp_fire_asv_dds</span><span class="p">,</span><span class="w"> </span>
<span class="w">  </span><span class="n">res</span><span class="w"> </span><span class="o">=</span><span class="w"> </span><span class="nf">results</span><span class="p">(</span><span class="n">btp_fire_asv_dds</span><span class="p">,</span><span class="w"> </span><span class="n">contrast</span><span class="o">=</span><span class="nf">c</span><span class="p">(</span><span class="s">"psf_type"</span><span class="p">,</span><span class="s">"Intact"</span><span class="p">,</span><span class="s">"Burnt"</span><span class="p">)),</span>
<span class="w">  </span><span class="n">coef</span><span class="w"> </span><span class="o">=</span><span class="w"> </span><span class="s">"psf_type_Intact_vs_Burnt"</span>
<span class="p">)</span><span class="w"> </span><span class="o">%&gt;%</span>
<span class="w">  </span><span class="n">data.frame</span><span class="w"> </span><span class="o">%&gt;%</span>
<span class="w">  </span><span class="nf">filter</span><span class="p">(</span><span class="n">padj</span><span class="w"> </span><span class="o">&lt;=</span><span class="w"> </span><span class="m">0.05</span><span class="w"> </span><span class="o">&amp;</span><span class="w"> </span><span class="nf">abs</span><span class="p">(</span><span class="n">log2FoldChange</span><span class="p">)</span><span class="w"> </span><span class="o">&gt;=</span><span class="w"> </span><span class="m">1</span><span class="p">)</span><span class="w"> </span><span class="o">%&gt;%</span>
<span class="w">  </span><span class="nf">rownames_to_column</span><span class="p">(</span><span class="s">"ASV"</span><span class="p">)</span><span class="w"> </span><span class="o">%&gt;%</span>
<span class="w">  </span><span class="nf">inner_join</span><span class="p">(</span>
<span class="w">    </span><span class="nf">tax_table</span><span class="p">(</span><span class="n">btp_fire_ps</span><span class="p">)</span><span class="w"> </span><span class="o">%&gt;%</span>
<span class="w">    </span><span class="n">data.frame</span><span class="w"> </span><span class="o">%&gt;%</span>
<span class="w">    </span><span class="nf">rownames_to_column</span><span class="p">(</span><span class="s">"ASV"</span><span class="p">)</span><span class="w"> </span><span class="o">%&gt;%</span>
<span class="w">    </span><span class="nf">select</span><span class="p">(</span><span class="n">ASV</span><span class="p">,</span><span class="w"> </span><span class="n">Kingdom</span><span class="p">,</span><span class="w"> </span><span class="n">Phylum</span><span class="p">,</span><span class="w"> </span><span class="n">Class</span><span class="p">,</span><span class="w"> </span><span class="n">Order</span><span class="p">,</span><span class="w"> </span><span class="n">Family</span><span class="p">,</span><span class="w"> </span><span class="n">Genus</span><span class="p">)</span>
<span class="w">  </span><span class="p">)</span><span class="w"> </span><span class="o">%&gt;%</span>
<span class="w">  </span><span class="nf">arrange</span><span class="p">(</span><span class="o">-</span><span class="n">baseMean</span><span class="p">)</span>
</pre></div>
</div>
</div>
</div>
</div>
</div>
<div class="jp-Cell jp-MarkdownCell jp-Notebook-cell" id="cell-id=48ee7944-ef62-49ce-a98a-1582e0e6e541">
<div class="jp-Cell-inputWrapper" tabindex="0">
<div class="jp-Collapser jp-InputCollapser jp-Cell-inputCollapser">
</div>
<div class="jp-InputArea jp-Cell-inputArea"><div class="jp-InputPrompt jp-InputArea-prompt">
</div><div class="jp-RenderedHTMLCommon jp-RenderedMarkdown jp-MarkdownOutput" data-mime-type="text/markdown">
<h3 id="Extract-and-Filter-Significant-ASV-Responders-(Deep)">Extract and Filter Significant ASV Responders (Deep)<a class="anchor-link" href="#Extract-and-Filter-Significant-ASV-Responders-(Deep)">¶</a></h3><p>Shrink effect sizes and filter for ASVs with significant and substantial changes at the deep layer (e.g., 95-100 cm). This highlights fire-responsive lineages in the deepest sampled peat.</p>
</div>
</div>
</div>
</div><div class="jp-Cell jp-CodeCell jp-Notebook-cell jp-mod-noOutputs" id="cell-id=3bddaf67-b65d-41be-a951-1261781ccdd9">
<div class="jp-Cell-inputWrapper" tabindex="0">
<div class="jp-Collapser jp-InputCollapser jp-Cell-inputCollapser">
</div>
<div class="jp-InputArea jp-Cell-inputArea">
<div class="jp-InputPrompt jp-InputArea-prompt">In [ ]:</div>
<div class="jp-CodeMirrorEditor jp-Editor jp-InputArea-editor" data-type="inline">
<div class="cm-editor cm-s-jupyter">
<div class="highlight hl-r"><pre><span></span><span class="c1">## shrink effect sizes</span>
<span class="n">btp_fire_asv_depth_95_100</span><span class="w"> </span><span class="o">&lt;-</span><span class="w"> </span><span class="nf">lfcShrink</span><span class="p">(</span>
<span class="w">  </span><span class="n">dds</span><span class="w"> </span><span class="o">=</span><span class="w"> </span><span class="n">btp_fire_asv_dds</span><span class="p">,</span><span class="w"> </span>
<span class="w">  </span><span class="n">res</span><span class="w"> </span><span class="o">=</span><span class="w"> </span><span class="nf">results</span><span class="p">(</span><span class="n">btp_fire_asv_dds</span><span class="p">,</span><span class="w"> </span><span class="n">contrast</span><span class="o">=</span><span class="nf">c</span><span class="p">(</span><span class="s">"psf_type"</span><span class="p">,</span><span class="s">"Intact"</span><span class="p">,</span><span class="s">"Burnt"</span><span class="p">)),</span>
<span class="w">  </span><span class="n">coef</span><span class="w"> </span><span class="o">=</span><span class="w"> </span><span class="s">"psf_type_Intact_vs_Burnt"</span>
<span class="p">)</span><span class="w"> </span><span class="o">%&gt;%</span>
<span class="w">  </span><span class="n">data.frame</span><span class="w"> </span><span class="o">%&gt;%</span>
<span class="w">  </span><span class="nf">filter</span><span class="p">(</span><span class="n">padj</span><span class="w"> </span><span class="o">&lt;=</span><span class="w"> </span><span class="m">0.05</span><span class="w"> </span><span class="o">&amp;</span><span class="w"> </span><span class="nf">abs</span><span class="p">(</span><span class="n">log2FoldChange</span><span class="p">)</span><span class="w"> </span><span class="o">&gt;=</span><span class="w"> </span><span class="m">1</span><span class="p">)</span><span class="w"> </span><span class="o">%&gt;%</span>
<span class="w">  </span><span class="nf">rownames_to_column</span><span class="p">(</span><span class="s">"ASV"</span><span class="p">)</span><span class="w"> </span><span class="o">%&gt;%</span>
<span class="w">  </span><span class="nf">inner_join</span><span class="p">(</span>
<span class="w">    </span><span class="nf">tax_table</span><span class="p">(</span><span class="n">btp_fire_ps</span><span class="p">)</span><span class="w"> </span><span class="o">%&gt;%</span>
<span class="w">    </span><span class="n">data.frame</span><span class="w"> </span><span class="o">%&gt;%</span>
<span class="w">    </span><span class="nf">rownames_to_column</span><span class="p">(</span><span class="s">"ASV"</span><span class="p">)</span><span class="w"> </span><span class="o">%&gt;%</span>
<span class="w">    </span><span class="nf">select</span><span class="p">(</span><span class="n">ASV</span><span class="p">,</span><span class="w"> </span><span class="n">Kingdom</span><span class="p">,</span><span class="w"> </span><span class="n">Phylum</span><span class="p">,</span><span class="w"> </span><span class="n">Class</span><span class="p">,</span><span class="w"> </span><span class="n">Order</span><span class="p">,</span><span class="w"> </span><span class="n">Family</span><span class="p">,</span><span class="w"> </span><span class="n">Genus</span><span class="p">)</span>
<span class="w">  </span><span class="p">)</span><span class="w"> </span><span class="o">%&gt;%</span>
<span class="w">  </span><span class="nf">arrange</span><span class="p">(</span><span class="o">-</span><span class="n">baseMean</span><span class="p">)</span>
</pre></div>
</div>
</div>
</div>
</div>
</div>
<div class="jp-Cell jp-MarkdownCell jp-Notebook-cell" id="cell-id=6cc981de-979e-4a8a-b4e5-a493cb48db57">
<div class="jp-Cell-inputWrapper" tabindex="0">
<div class="jp-Collapser jp-InputCollapser jp-Cell-inputCollapser">
</div>
<div class="jp-InputArea jp-Cell-inputArea"><div class="jp-InputPrompt jp-InputArea-prompt">
</div><div class="jp-RenderedHTMLCommon jp-RenderedMarkdown jp-MarkdownOutput" data-mime-type="text/markdown">
<h3 id="Save-Significant-ASV-Responders-(Deep)">Save Significant ASV Responders (Deep)<a class="anchor-link" href="#Save-Significant-ASV-Responders-(Deep)">¶</a></h3><p>Export the list of significant ASV-level fire responders at the deep layer to a CSV file. This preserves high-resolution results for downstream analysis or publication.</p>
</div>
</div>
</div>
</div><div class="jp-Cell jp-CodeCell jp-Notebook-cell jp-mod-noOutputs" id="cell-id=233cfae6-0a71-4798-b542-520a85a0aa0a">
<div class="jp-Cell-inputWrapper" tabindex="0">
<div class="jp-Collapser jp-InputCollapser jp-Cell-inputCollapser">
</div>
<div class="jp-InputArea jp-Cell-inputArea">
<div class="jp-InputPrompt jp-InputArea-prompt">In [ ]:</div>
<div class="jp-CodeMirrorEditor jp-Editor jp-InputArea-editor" data-type="inline">
<div class="cm-editor cm-s-jupyter">
<div class="highlight hl-r"><pre><span></span><span class="c1">## save</span>
<span class="nf">write.csv</span><span class="p">(</span>
<span class="w">  </span><span class="n">btp_fire_asv_depth_95_100</span><span class="p">,</span>
<span class="w">  </span><span class="nf">file.path</span><span class="p">(</span><span class="n">data</span><span class="p">,</span><span class="w"> </span><span class="s">"4_differentials"</span><span class="p">,</span><span class="w"> </span><span class="s">"2020_btp_fire_asv_depth_95_100.csv"</span><span class="p">),</span>
<span class="w">  </span><span class="n">row.names</span><span class="w"> </span><span class="o">=</span><span class="w"> </span><span class="kc">FALSE</span><span class="p">,</span>
<span class="w">  </span><span class="n">quote</span><span class="w"> </span><span class="o">=</span><span class="w"> </span><span class="kc">FALSE</span>
<span class="p">)</span>
</pre></div>
</div>
</div>
</div>
</div>
</div>
</main>
</body>
</html>
