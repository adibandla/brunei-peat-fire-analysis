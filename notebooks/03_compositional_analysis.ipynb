{
 "cells": [
  {
   "cell_type": "markdown",
   "id": "211aca17-b567-43f4-a7dc-9249c56db6fe",
   "metadata": {},
   "source": [
    "## Aim of This Notebook\n",
    "This notebook explores how fire impacts the composition of microbial communities in tropical peatlands, focusing on both Bacteria and Archaea at different soil depths. The analysis identifies the most abundant microbial classes, visualizes their distribution, and uses statistical modeling to detect which taxa respond to fire. The workflow demonstrates how to move from raw community data to interpretable results using both summary visualizations and differential abundance testing, with an emphasis on effect sizes and practical significance. This approach is directly relevant to data scientists interested in compositional data, robust group comparisons, and high-dimensional biological datasets."
   ]
  },
  {
   "cell_type": "markdown",
   "id": "e111b43c-9552-4088-8718-f07a01293c01",
   "metadata": {},
   "source": [
    "### Load Required Packages\n",
    "Load the necessary R packages for data wrangling, statistical modeling, and visualization. These packages provide specialized tools for handling microbiome data, including compositional analysis, effect size estimation, and publication-quality graphics. Loading them at the start ensures all downstream analyses are reproducible and robust."
   ]
  },
  {
   "cell_type": "code",
   "execution_count": 1,
   "id": "29df4762-c3e0-4767-b359-048bc074fe92",
   "metadata": {},
   "outputs": [],
   "source": [
    "## load packages\n",
    "suppressPackageStartupMessages({\n",
    "  library(DESeq2)\n",
    "  library(Hmisc)\n",
    "  library(janitor)\n",
    "  library(patchwork)\n",
    "  library(phyloseq)\n",
    "  library(scales)\n",
    "  library(tidyverse)\n",
    "})"
   ]
  },
  {
   "cell_type": "markdown",
   "id": "0e7e8af1-c590-4cb0-bb80-2519c6d006ea",
   "metadata": {},
   "source": [
    "### Set Project Paths\n",
    "Set up file paths for the project, data, and figure directories. Centralizing these paths makes the workflow portable and reproducible, ensuring that all data sources and outputs are organized and easy to locate."
   ]
  },
  {
   "cell_type": "code",
   "execution_count": 2,
   "id": "09a198a0-4999-4d22-a8fa-2fd6619c6683",
   "metadata": {},
   "outputs": [],
   "source": [
    "## paths to directories\n",
    "repo <- file.path(\"/Users/abandla/Desktop/2_research/1_manuscripts/2_2020_brunei_peat_fire/\")\n",
    "data <- file.path(repo, \"1_data\")\n",
    "figures <- file.path(repo, \"3_figures\")"
   ]
  },
  {
   "cell_type": "markdown",
   "id": "b77c6b8b-1888-4672-81b4-2d6ad669ff72",
   "metadata": {},
   "source": [
    "### Set Global Plotting Theme\n",
    "Define a global plotting theme to standardize fonts, axis ticks, borders, and legends across all figures. Consistent visual style is important for clear communication, especially when comparing multiple panels or figures."
   ]
  },
  {
   "cell_type": "code",
   "execution_count": 3,
   "id": "a3bc578f-e650-4c7d-ad45-a7387d8e5aa3",
   "metadata": {},
   "outputs": [],
   "source": [
    "## set global theme options for plots\n",
    "btp_theme <- theme(\n",
    "  axis.text = element_text(size = 16, color = \"black\"),\n",
    "  axis.text.y = element_text(margin = margin(0, 10, 0, 10)),\n",
    "  axis.text.x = element_text(margin = margin(10, 0, 10, 0)),\n",
    "  axis.title = element_text(size = 18),\n",
    "  axis.ticks.length = unit(.25, \"cm\"),\n",
    "  panel.border = element_rect(linewidth = 0.5, fill = NA),\n",
    "  panel.background = element_rect(fill = NA),\n",
    "  panel.grid = element_blank(),\n",
    "  legend.text = element_text(size = 16),\n",
    "  legend.title = element_text(size = 18),\n",
    "  legend.key = element_rect(fill = NA),\n",
    "  legend.background = element_rect(fill = NA)\n",
    ")"
   ]
  },
  {
   "cell_type": "markdown",
   "id": "96c740d8-4230-47a4-b335-ee1ba39920af",
   "metadata": {},
   "source": [
    "### Load Microbiome Data\n",
    "Load the phyloseq object, which combines the feature table (microbial counts), taxonomy (identities), and sample metadata (experimental conditions) into a single structure. This object-oriented approach streamlines downstream analysis, allowing for efficient filtering, aggregation, and visualization."
   ]
  },
  {
   "cell_type": "code",
   "execution_count": 4,
   "id": "f4f12432-f76c-48fe-8941-8961ac416377",
   "metadata": {},
   "outputs": [
    {
     "data": {
      "text/plain": [
       "phyloseq-class experiment-level object\n",
       "otu_table()   OTU Table:         [ 3928 taxa and 24 samples ]\n",
       "sample_data() Sample Data:       [ 24 samples by 6 sample variables ]\n",
       "tax_table()   Taxonomy Table:    [ 3928 taxa by 7 taxonomic ranks ]"
      ]
     },
     "metadata": {},
     "output_type": "display_data"
    }
   ],
   "source": [
    "## import phyloseq object\n",
    "btp_fire_ps <- readRDS(file.path(data, \"3_phyloseq\", \"2020_btp_fire_ps.rds\"))\n",
    "btp_fire_ps"
   ]
  },
  {
   "cell_type": "markdown",
   "id": "ca477108-4cae-42bd-9622-c45c4e4ac70f",
   "metadata": {},
   "source": [
    "### Identify Top Microbial Classes\n",
    "Calculate the top five most abundant classes for both Bacteria and Archaea in each sample, using a combination of relative abundance and prevalence. This step summarizes the dominant community members and sets the stage for visualizing how their composition changes with fire and depth."
   ]
  },
  {
   "cell_type": "code",
   "execution_count": 5,
   "id": "e82ef8e5-1182-46fa-9a40-73d5b74349f2",
   "metadata": {},
   "outputs": [],
   "source": [
    "## identify top five classes in \n",
    "## bacteria and archaea\n",
    "top_five_microbial_classes <- btp_fire_ps %>%\n",
    "  psmelt %>%\n",
    "  group_by(Sample, Kingdom) %>%\n",
    "  mutate(relative_abundance = (Abundance / sum(Abundance)) * 100) %>%\n",
    "  group_by(Sample, Kingdom, Class, depth, psf_type) %>%\n",
    "  reframe(class_relative_abundance = sum(relative_abundance)) %>%\n",
    "  group_by(Class) %>% \n",
    "  mutate(\n",
    "    mean_abundance = mean(class_relative_abundance),\n",
    "    mean_prevalence = sum(class_relative_abundance > 0) / 24,\n",
    "    F1 = 2 * ((mean_abundance * mean_prevalence) / (mean_abundance + mean_prevalence))\n",
    "  ) %>%\n",
    "  ungroup %>%\n",
    "  group_by(Sample, Kingdom) %>%\n",
    "  top_n(6, wt = F1) %>%\n",
    "  ungroup"
   ]
  },
  {
   "cell_type": "markdown",
   "id": "0a979898-f33e-43e6-807a-1f49bf9e2e26",
   "metadata": {},
   "source": [
    "### Summarize Top Bacterial Classes\n",
    "Aggregate and reshape the data to focus on the top five bacterial classes (plus an 'Others' category), grouped by peat status and depth. This prepares the data for clear, interpretable plotting of bacterial community structure."
   ]
  },
  {
   "cell_type": "code",
   "execution_count": 6,
   "id": "9627ba55-e76e-490e-9b00-8da2c47935d5",
   "metadata": {},
   "outputs": [],
   "source": [
    "## top five bacterial classes\n",
    "top_five_bacterial_classes <- top_five_microbial_classes %>%\n",
    "  filter(Kingdom == \"Bacteria\" & !is.na(Class)) %>%\n",
    "  group_by(psf_type, depth, Class, Kingdom) %>%\n",
    "  reframe(mean_abundance = mean(class_relative_abundance)) %>%\n",
    "  pivot_wider(names_from = \"Class\", values_from = mean_abundance) %>%\n",
    "  mutate(Others = 100 - rowSums(select_if(., is.numeric))) %>%\n",
    "  pivot_longer(-c(\"psf_type\", \"depth\", \"Kingdom\"), names_to = \"Class\", values_to = \"Abundance\") %>%\n",
    "    mutate(Class = factor(\n",
    "    Class,\n",
    "    levels = c(\n",
    "      \"Acidobacteriae\",\n",
    "      \"Actinobacteria\",\n",
    "      \"Alphaproteobacteria\",\n",
    "      \"Gammaproteobacteria\",\n",
    "      \"Planctomycetes\",\n",
    "      \"Others\"\n",
    "    )\n",
    "  ))"
   ]
  },
  {
   "cell_type": "markdown",
   "id": "4582da5a-684c-49ed-bbd5-4f9cdfafefda",
   "metadata": {},
   "source": [
    "### Summarize Top Archaeal Classes\n",
    "Aggregate and reshape the data to focus on the top five archaeal classes (plus an 'Others' category), grouped by peat status and depth. This enables direct comparison of archaeal community structure across conditions."
   ]
  },
  {
   "cell_type": "code",
   "execution_count": 7,
   "id": "55e3aeae-e69c-48b8-ab02-965d09090067",
   "metadata": {},
   "outputs": [],
   "source": [
    "## top five archaeal classes\n",
    "top_five_archaeal_classes <- top_five_microbial_classes %>%\n",
    "  filter(Kingdom != \"Bacteria\" & !is.na(Class)) %>%\n",
    "  group_by(psf_type, depth, Class, Kingdom) %>%\n",
    "  reframe(mean_abundance = mean(class_relative_abundance)) %>%\n",
    "  pivot_wider(names_from = \"Class\", values_from = mean_abundance) %>%\n",
    "  mutate(Others = 100 - rowSums(select_if(., is.numeric))) %>%\n",
    "  pivot_longer(-c(\"psf_type\", \"depth\", \"Kingdom\"), names_to = \"Class\", values_to = \"Abundance\") %>%\n",
    "  mutate(Class = factor(\n",
    "    Class,\n",
    "    levels = c(\n",
    "      \"Bathyarchaeia\",\n",
    "      \"Methanomicrobia\",\n",
    "      \"Methanosarcinia\",\n",
    "      \"Nitrososphaeria\",\n",
    "      \"Thermoplasmata\",\n",
    "      \"Others\"\n",
    "    )\n",
    "  ))"
   ]
  },
  {
   "cell_type": "markdown",
   "id": "06551914-79da-46a6-9315-109bad610aa0",
   "metadata": {},
   "source": [
    "### Plot Top Archaeal Classes\n",
    "Visualize the relative abundance of the top five archaeal classes across depths and peat status using stacked bar plots. This figure makes it easy to see which archaeal groups dominate at each depth and how their composition shifts with fire."
   ]
  },
  {
   "cell_type": "code",
   "execution_count": 8,
   "id": "a2e5ca03-4de7-4340-b449-ccb3041083c4",
   "metadata": {},
   "outputs": [],
   "source": [
    "## plot top five archaeal classes\n",
    "top_five_archaeal_classes_figure <- top_five_archaeal_classes %>%\n",
    "  ggplot(., aes(x = depth, y = Abundance, fill = Class)) +\n",
    "  geom_bar(stat = \"identity\", color = \"black\", width = 1) +\n",
    "  facet_wrap(~psf_type) +\n",
    "  coord_cartesian(clip = \"off\") +\n",
    "  btp_theme +\n",
    "  theme(\n",
    "    axis.text.y = element_text(margin = margin(0, 10, 0, 0)),\n",
    "    axis.text.x = element_text(angle = 90, hjust = 1, vjust = 0.5),\n",
    "    panel.spacing.x = unit(0.8, \"lines\"),\n",
    "    strip.background = element_rect(fill = NA),\n",
    "    strip.text = element_text(size = 16),\n",
    "    legend.key.size = unit(0.8, 'cm'),\n",
    "    legend.spacing.y = unit(0.24, 'cm'),\n",
    "    legend.spacing.x = unit(0.15, 'cm'),\n",
    "    legend.margin = margin(0, 0, 0, 0)\n",
    "  ) +\n",
    "  scale_x_discrete(expand = c(0, 0), labels = c(\"Surface\", \"Mid\", \"Deep\")) +\n",
    "  scale_y_continuous(expand = c(0, 0)) +\n",
    "   scale_fill_manual(\"Class\",\n",
    "    values = c(\n",
    "      \"Bathyarchaeia\" = \"#fb8072\",\n",
    "      \"Methanomicrobia\" = \"#80b1d3\",\n",
    "      \"Methanosarcinia\" = \"#b3de69\",\n",
    "      \"Nitrososphaeria\" = \"#fccde5\",\n",
    "      \"Thermoplasmata\" = \"#ccebc5\",\n",
    "      \"Others\" = \"#d9d9d9\"\n",
    "    )\n",
    "  ) +\n",
    "guides(fill = guide_legend(byrow = TRUE)) +\n",
    "ylab(\"Relative Abundance (%)\") +\n",
    "xlab(\"Depth\")"
   ]
  },
  {
   "cell_type": "markdown",
   "id": "8a086f5b-4897-495c-b6ee-4e5df8b2d5f1",
   "metadata": {},
   "source": [
    "### Plot Top Bacterial Classes\n",
    "Visualize the relative abundance of the top five bacterial classes across depths and peat status using stacked bar plots. This complements the archaeal plot and highlights which bacterial groups are most affected by fire and depth."
   ]
  },
  {
   "cell_type": "code",
   "execution_count": 9,
   "id": "750307bf-ff75-4858-aa5f-57ea92fba05b",
   "metadata": {},
   "outputs": [],
   "source": [
    "## plot top five bacterial classes\n",
    "top_five_bacterial_classes_figure <- top_five_bacterial_classes %>%\n",
    "  ggplot(., aes(x = depth, y = Abundance, fill = Class)) +\n",
    "  geom_bar(stat = \"identity\", color = \"black\", width = 1) +\n",
    "  facet_wrap(~psf_type) +\n",
    "  coord_cartesian(clip = \"off\") +\n",
    "  btp_theme +\n",
    "  theme(\n",
    "    axis.text.y = element_text(margin = margin(0, 10, 0, 0)),\n",
    "    axis.text.x = element_text(angle = 90, hjust = 1, vjust = 0.5),\n",
    "    panel.spacing.x = unit(0.8, \"lines\"),\n",
    "    strip.background = element_rect(fill = NA),\n",
    "    strip.text = element_text(size = 16),\n",
    "    legend.key.size = unit(0.8, 'cm'),\n",
    "    legend.spacing.y = unit(0.24, 'cm'),\n",
    "    legend.spacing.x = unit(0.15, 'cm'),\n",
    "    legend.margin = margin(0, 0, 0, 0)\n",
    "  ) +\n",
    "  scale_x_discrete(expand = c(0, 0), labels = c(\"Surface\", \"Mid\", \"Deep\")) +\n",
    "  scale_y_continuous(expand = c(0, 0)) +\n",
    "   scale_fill_manual(\"Class\",\n",
    "    values = c(\n",
    "      \"Acidobacteriae\" = \"#8dd3c7\",\n",
    "      \"Actinobacteria\" = \"#ffffb3\",\n",
    "      \"Alphaproteobacteria\" = \"#bebada\",\n",
    "      \"Gammaproteobacteria\" = \"#fdb462\",\n",
    "      \"Planctomycetes\" = \"#bc80bd\",\n",
    "      \"Others\" = \"#d9d9d9\"\n",
    "    )\n",
    "  ) +\n",
    "guides(fill = guide_legend(byrow = TRUE)) +\n",
    "ylab(\"Relative Abundance (%)\") +\n",
    "xlab(\"Depth\")"
   ]
  },
  {
   "cell_type": "markdown",
   "id": "7378dd54-8877-4f2e-aca8-c9796dc8cb2a",
   "metadata": {},
   "source": [
    "### View Combined Composition Plot\n",
    "Display the combined figure showing both archaeal and bacterial class composition across depths and peat status. This side-by-side visualization provides an accessible summary of the main community shifts in response to fire."
   ]
  },
  {
   "cell_type": "code",
   "execution_count": 10,
   "id": "e53f9d0e-696e-4b41-a852-46a18f6cb118",
   "metadata": {},
   "outputs": [
    {
     "data": {
      "image/png": "[encoded data removed]",
      "text/plain": [
       "plot without title"
      ]
     },
     "metadata": {
      "image/png": {
       "height": 282,
       "width": 720
      }
     },
     "output_type": "display_data"
    }
   ],
   "source": [
    "## view plot\n",
    "options(repr.plot.width = 12, repr.plot.height = 4.7)\n",
    "top_five_archaeal_classes_figure + top_five_bacterial_classes_figure"
   ]
  },
  {
   "cell_type": "markdown",
   "id": "44f5f36e-234d-4b45-bc0d-7b4be53e5e1b",
   "metadata": {},
   "source": [
    "### Save Composition Plot\n",
    "Export the combined composition figure as a PDF for use in reports or publications. Saving figures in a standardized format ensures results are easy to share and reproduce."
   ]
  },
  {
   "cell_type": "code",
   "execution_count": 11,
   "id": "8639064b-ffc1-48cf-9ddf-71cffa4674f2",
   "metadata": {},
   "outputs": [
    {
     "data": {
      "text/html": [
       "<strong>pdf:</strong> 2"
      ],
      "text/latex": [
       "\\textbf{pdf:} 2"
      ],
      "text/markdown": [
       "**pdf:** 2"
      ],
      "text/plain": [
       "pdf \n",
       "  2 "
      ]
     },
     "metadata": {},
     "output_type": "display_data"
    }
   ],
   "source": [
    "## save plot\n",
    "pdf(file.path(figures, \"1_main\", \"2_composition.pdf\"), width = 12, height = 4.7)\n",
    "top_five_archaeal_classes_figure + top_five_bacterial_classes_figure\n",
    "dev.off()"
   ]
  },
  {
   "cell_type": "markdown",
   "id": "caab947a-11c9-4803-8421-27f81023082e",
   "metadata": {},
   "source": [
    "### Differential Abundance: Class Level\n",
    "Model differential abundance at the class level using DESeq2, accounting for peat status, depth, and their interaction. This step identifies which microbial classes are significantly more or less abundant in burnt versus intact peat at each depth, providing a statistical basis for interpreting fire responders."
   ]
  },
  {
   "cell_type": "code",
   "execution_count": null,
   "id": "f0fc4fe6-22da-4925-8870-03174def514d",
   "metadata": {},
   "outputs": [],
   "source": [
    "## fire responders at the\n",
    "## class level\n",
    "btp_fire_class_dds <- btp_fire_ps %>%\n",
    "  tax_glom(., \"Class\") %>%\n",
    "  phyloseq_to_deseq2(., ~psf_type + depth + psf_type:depth) %>%\n",
    "  DESeq(., \"Wald\")"
   ]
  },
  {
   "cell_type": "markdown",
   "id": "da04f17f-9fcb-4ec2-8ea3-d83217f860f2",
   "metadata": {},
   "source": [
    "### Check Reference Levels for Class Model\n",
    "Inspect the reference levels used in the DESeq2 model to ensure group comparisons are correctly specified. This is important for interpreting which group is considered the baseline in differential abundance testing."
   ]
  },
  {
   "cell_type": "code",
   "execution_count": null,
   "id": "6f854a0b-2e3e-47a7-ac45-33494976c5fc",
   "metadata": {},
   "outputs": [],
   "source": [
    "## check reference levels\n",
    "## no differentials at depths 0-5 & 35-40\n",
    "resultsNames(btp_fire_class_dds)"
   ]
  },
  {
   "cell_type": "markdown",
   "id": "7f6c92dc-a3e9-4615-9e51-c1b910aa8322",
   "metadata": {},
   "source": [
    "### Relevel and Refit Class Model\n",
    "Change the reference depth to focus on a specific layer (e.g., 95-100 cm), then refit the model. This allows for targeted testing of fire effects at particular depths, which is crucial for understanding context-dependent responses."
   ]
  },
  {
   "cell_type": "code",
   "execution_count": null,
   "id": "a7ced79e-a75d-42f1-8116-aeafffcd2c44",
   "metadata": {},
   "outputs": [],
   "source": [
    "## relevel\n",
    "btp_fire_class_dds$depth <- relevel(btp_fire_class_dds$depth, \"95-100\")\n",
    "btp_fire_class_dds <- nbinomWaldTest(btp_fire_class_dds)\n",
    "resultsNames(btp_fire_class_dds)"
   ]
  },
  {
   "cell_type": "markdown",
   "id": "9064413b-915a-4b33-8196-4e842a247ee7",
   "metadata": {},
   "source": [
    "### Extract and Filter Significant Class Responders\n",
    "Shrink effect sizes and filter for classes with statistically significant and biologically meaningful changes (adjusted p-value ≤ 0.05 and |log2 fold change| ≥ 1). This step highlights the most robust fire responders at the class level."
   ]
  },
  {
   "cell_type": "code",
   "execution_count": null,
   "id": "497b9edf-fe87-47a5-b634-5978db2289f9",
   "metadata": {},
   "outputs": [],
   "source": [
    "## shrink effect sizes\n",
    "btp_fire_class_depth_95_100 <- lfcShrink(\n",
    "  dds = btp_fire_class_dds, \n",
    "  res = results(btp_fire_class_dds, contrast=c(\"psf_type\",\"Intact\",\"Burnt\")),\n",
    "  coef = \"psf_type_Intact_vs_Burnt\"\n",
    ") %>%\n",
    "  data.frame %>%\n",
    "  filter(padj <= 0.05 & abs(log2FoldChange) >= 1) %>%\n",
    "  rownames_to_column(\"ASV\") %>%\n",
    "  inner_join(\n",
    "    tax_table(btp_fire_ps) %>%\n",
    "    data.frame %>%\n",
    "    rownames_to_column(\"ASV\") %>%\n",
    "    select(ASV, Kingdom, Phylum, Class)\n",
    "  ) %>%\n",
    "  arrange(-baseMean)"
   ]
  },
  {
   "cell_type": "markdown",
   "id": "44c5ecd4-8f04-4a40-b7d9-65506b640768",
   "metadata": {},
   "source": [
    "### Save Significant Class Responders\n",
    "Export the list of significant class-level fire responders to a CSV file for further analysis or reporting. This ensures results are documented and easy to share."
   ]
  },
  {
   "cell_type": "code",
   "execution_count": null,
   "id": "01db4310-c877-414c-9d00-bbad58156302",
   "metadata": {},
   "outputs": [],
   "source": [
    "## save\n",
    "write.csv(\n",
    "  btp_fire_class_depth_95_100,\n",
    "  file.path(data, \"4_differentials\", \"2020_btp_fire_class_depth_95_100.csv\"),\n",
    "  row.names = FALSE,\n",
    "  quote = FALSE\n",
    ")"
   ]
  },
  {
   "cell_type": "markdown",
   "id": "26d2ebae-6679-4e28-874b-7ef942b2e089",
   "metadata": {},
   "source": [
    "### Differential Abundance: ASV Level\n",
    "Model differential abundance at the ASV (amplicon sequence variant) level using DESeq2, again accounting for peat status, depth, and their interaction. This high-resolution analysis pinpoints specific microbial lineages that respond to fire."
   ]
  },
  {
   "cell_type": "code",
   "execution_count": null,
   "id": "ad71c395-6cde-46c5-a4d1-3e1307467a77",
   "metadata": {},
   "outputs": [],
   "source": [
    "## fire responders at the\n",
    "## ASV level\n",
    "btp_fire_asv_dds <- btp_fire_ps %>%\n",
    "  phyloseq_to_deseq2(., ~psf_type + depth + psf_type:depth) %>%\n",
    "  DESeq(., \"Wald\")"
   ]
  },
  {
   "cell_type": "markdown",
   "id": "9ca4adf3-7776-4164-8159-7efa3904f42d",
   "metadata": {},
   "source": [
    "### Check Reference Levels for ASV Model\n",
    "Inspect the reference levels in the ASV-level model to confirm the direction of group comparisons. This step ensures that the statistical contrasts are interpretable and aligned with the scientific question."
   ]
  },
  {
   "cell_type": "code",
   "execution_count": null,
   "id": "f637dee4-17b2-470f-8221-ef80a999c99e",
   "metadata": {},
   "outputs": [],
   "source": [
    "## check reference levels\n",
    "## no differentials at depth 35-40\n",
    "## only one differential at depth 0-5\n",
    "resultsNames(btp_fire_asv_dds)"
   ]
  },
  {
   "cell_type": "markdown",
   "id": "b25fbbb0-d559-45f8-ab68-8bfc683ff4fa",
   "metadata": {},
   "source": [
    "### Relevel and Refit ASV Model\n",
    "Change the reference depth and refit the ASV-level model to focus on specific layers. This enables depth-specific detection of fire-responsive ASVs."
   ]
  },
  {
   "cell_type": "code",
   "execution_count": null,
   "id": "37084e79-7c8e-4302-ab57-667b0004ec1c",
   "metadata": {},
   "outputs": [],
   "source": [
    "## relevel reference levels\n",
    "btp_fire_asv_dds$depth <- relevel(btp_fire_asv_dds$depth, \"95-100\")\n",
    "btp_fire_asv_dds <- nbinomWaldTest(btp_fire_asv_dds)\n",
    "resultsNames(btp_fire_asv_dds)"
   ]
  },
  {
   "cell_type": "markdown",
   "id": "7250e2fe-95fc-435a-9673-90eae797980b",
   "metadata": {},
   "source": [
    "### Extract and Filter Significant ASV Responders (Surface)\n",
    "Shrink effect sizes and filter for ASVs with significant and substantial changes at the surface layer (e.g., 0-5 cm). This step identifies the most responsive microbial lineages near the peat surface."
   ]
  },
  {
   "cell_type": "code",
   "execution_count": null,
   "id": "7c351e28-ecc4-4f85-a40e-fa3c0dfa143a",
   "metadata": {},
   "outputs": [],
   "source": [
    "## shrink effect sizes\n",
    "btp_fire_asv_depth_0_5 <- lfcShrink(\n",
    "  dds = btp_fire_asv_dds, \n",
    "  res = results(btp_fire_asv_dds, contrast=c(\"psf_type\",\"Intact\",\"Burnt\")),\n",
    "  coef = \"psf_type_Intact_vs_Burnt\"\n",
    ") %>%\n",
    "  data.frame %>%\n",
    "  filter(padj <= 0.05 & abs(log2FoldChange) >= 1) %>%\n",
    "  rownames_to_column(\"ASV\") %>%\n",
    "  inner_join(\n",
    "    tax_table(btp_fire_ps) %>%\n",
    "    data.frame %>%\n",
    "    rownames_to_column(\"ASV\") %>%\n",
    "    select(ASV, Kingdom, Phylum, Class, Order, Family, Genus)\n",
    "  ) %>%\n",
    "  arrange(-baseMean)"
   ]
  },
  {
   "cell_type": "markdown",
   "id": "48ee7944-ef62-49ce-a98a-1582e0e6e541",
   "metadata": {},
   "source": [
    "### Extract and Filter Significant ASV Responders (Deep)\n",
    "Shrink effect sizes and filter for ASVs with significant and substantial changes at the deep layer (e.g., 95-100 cm). This highlights fire-responsive lineages in the deepest sampled peat."
   ]
  },
  {
   "cell_type": "code",
   "execution_count": null,
   "id": "3bddaf67-b65d-41be-a951-1261781ccdd9",
   "metadata": {},
   "outputs": [],
   "source": [
    "## shrink effect sizes\n",
    "btp_fire_asv_depth_95_100 <- lfcShrink(\n",
    "  dds = btp_fire_asv_dds, \n",
    "  res = results(btp_fire_asv_dds, contrast=c(\"psf_type\",\"Intact\",\"Burnt\")),\n",
    "  coef = \"psf_type_Intact_vs_Burnt\"\n",
    ") %>%\n",
    "  data.frame %>%\n",
    "  filter(padj <= 0.05 & abs(log2FoldChange) >= 1) %>%\n",
    "  rownames_to_column(\"ASV\") %>%\n",
    "  inner_join(\n",
    "    tax_table(btp_fire_ps) %>%\n",
    "    data.frame %>%\n",
    "    rownames_to_column(\"ASV\") %>%\n",
    "    select(ASV, Kingdom, Phylum, Class, Order, Family, Genus)\n",
    "  ) %>%\n",
    "  arrange(-baseMean)"
   ]
  },
  {
   "cell_type": "markdown",
   "id": "6cc981de-979e-4a8a-b4e5-a493cb48db57",
   "metadata": {},
   "source": [
    "### Save Significant ASV Responders (Deep)\n",
    "Export the list of significant ASV-level fire responders at the deep layer to a CSV file. This preserves high-resolution results for downstream analysis or publication."
   ]
  },
  {
   "cell_type": "code",
   "execution_count": null,
   "id": "233cfae6-0a71-4798-b542-520a85a0aa0a",
   "metadata": {},
   "outputs": [],
   "source": [
    "## save\n",
    "write.csv(\n",
    "  btp_fire_asv_depth_95_100,\n",
    "  file.path(data, \"4_differentials\", \"2020_btp_fire_asv_depth_95_100.csv\"),\n",
    "  row.names = FALSE,\n",
    "  quote = FALSE\n",
    ")"
   ]
  }
 ],
 "metadata": {
  "kernelspec": {
   "display_name": "R",
   "language": "R",
   "name": "ir"
  },
  "language_info": {
   "codemirror_mode": "r",
   "file_extension": ".r",
   "mimetype": "text/x-r-source",
   "name": "R",
   "pygments_lexer": "r",
   "version": "4.5.1"
  }
 },
 "nbformat": 4,
 "nbformat_minor": 5
}
