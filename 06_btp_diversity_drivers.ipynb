{
 "cells": [
  {
   "cell_type": "code",
   "execution_count": 1,
   "id": "a6aef49c-cfa3-44db-a962-a2823f5c4110",
   "metadata": {},
   "outputs": [],
   "source": [
    "## load packages\n",
    "suppressPackageStartupMessages({\n",
    "  library(DESeq2)\n",
    "  library(emmeans)\n",
    "  library(ggsignif)\n",
    "  library(Hmisc)\n",
    "  library(janitor)\n",
    "  library(patchwork)\n",
    "  library(phyloseq)\n",
    "  library(scales)\n",
    "  library(tidyverse)\n",
    "  library(vegan)\n",
    "  library(adespatial)\n",
    "})"
   ]
  },
  {
   "cell_type": "code",
   "execution_count": 2,
   "id": "c0e475e5-413a-4e6d-88a1-0dc6fe01a411",
   "metadata": {},
   "outputs": [],
   "source": [
    "## paths to directories\n",
    "repo <- file.path(\"/Users/abandla/Desktop/2_research/1_manuscripts/2_2020_brunei_peat_fire\")\n",
    "data <- file.path(repo, \"1_data\")\n",
    "figures <- file.path(repo, \"3_figures\")"
   ]
  },
  {
   "cell_type": "code",
   "execution_count": 3,
   "id": "16314477-c631-488a-b0ae-8477c3795b4f",
   "metadata": {},
   "outputs": [],
   "source": [
    "## set global theme options for plots\n",
    "btp_theme <- theme(\n",
    "  axis.text = element_text(size = 16, color = \"black\"),\n",
    "  axis.text.y = element_text(margin = margin(0, 10, 0, 10)),\n",
    "  axis.text.x = element_text(margin = margin(10, 0, 10, 0)),\n",
    "  axis.title = element_text(size = 18),\n",
    "  axis.ticks.length = unit(.25, \"cm\"),\n",
    "  panel.border = element_rect(linewidth = 0.5, fill = NA),\n",
    "  panel.background = element_rect(fill = NA),\n",
    "  panel.grid = element_blank(),\n",
    "  legend.text = element_text(size = 16),\n",
    "  legend.title = element_text(size = 18),\n",
    "  legend.key = element_rect(fill = NA),\n",
    "  legend.background = element_rect(fill = NA)\n",
    ")"
   ]
  },
  {
   "cell_type": "code",
   "execution_count": 4,
   "id": "aa99ae7b-7c46-4742-bdfa-83e6bf223a06",
   "metadata": {},
   "outputs": [
    {
     "data": {
      "text/plain": [
       "phyloseq-class experiment-level object\n",
       "otu_table()   OTU Table:         [ 3928 taxa and 24 samples ]\n",
       "sample_data() Sample Data:       [ 24 samples by 6 sample variables ]\n",
       "tax_table()   Taxonomy Table:    [ 3928 taxa by 7 taxonomic ranks ]"
      ]
     },
     "metadata": {},
     "output_type": "display_data"
    }
   ],
   "source": [
    "## import phyloseq object\n",
    "btp_fire_ps <- readRDS(file.path(data, \"3_phyloseq\", \"2020_btp_fire_ps.rds\"))\n",
    "btp_fire_ps"
   ]
  },
  {
   "cell_type": "code",
   "execution_count": 29,
   "id": "fca7c7c5-ea15-4aa9-8c7b-4e7e9356bc6f",
   "metadata": {},
   "outputs": [
    {
     "data": {
      "text/html": [
       "<table class=\"dataframe\">\n",
       "<caption>A tibble: 6 × 7</caption>\n",
       "<thead>\n",
       "\t<tr><th scope=col>OTU</th><th scope=col>psf_type</th><th scope=col>depth</th><th scope=col>Kingdom</th><th scope=col>Phylum</th><th scope=col>Class</th><th scope=col>Abundance</th></tr>\n",
       "\t<tr><th scope=col>&lt;chr&gt;</th><th scope=col>&lt;fct&gt;</th><th scope=col>&lt;fct&gt;</th><th scope=col>&lt;chr&gt;</th><th scope=col>&lt;chr&gt;</th><th scope=col>&lt;chr&gt;</th><th scope=col>&lt;dbl&gt;</th></tr>\n",
       "</thead>\n",
       "<tbody>\n",
       "\t<tr><td>ASV_4694</td><td>Burnt </td><td>0-5   </td><td>Archaea</td><td>Halobacterota</td><td>Methanocellia</td><td>1.169682e-03</td></tr>\n",
       "\t<tr><td>ASV_4694</td><td>Burnt </td><td>35-40 </td><td>Archaea</td><td>Halobacterota</td><td>Methanocellia</td><td>2.826456e-04</td></tr>\n",
       "\t<tr><td>ASV_4694</td><td>Burnt </td><td>95-100</td><td>Archaea</td><td>Halobacterota</td><td>Methanocellia</td><td>4.938272e-04</td></tr>\n",
       "\t<tr><td>ASV_4694</td><td>Intact</td><td>0-5   </td><td>Archaea</td><td>Halobacterota</td><td>Methanocellia</td><td>8.541168e-05</td></tr>\n",
       "\t<tr><td>ASV_4694</td><td>Intact</td><td>35-40 </td><td>Archaea</td><td>Halobacterota</td><td>Methanocellia</td><td>0.000000e+00</td></tr>\n",
       "\t<tr><td>ASV_4694</td><td>Intact</td><td>95-100</td><td>Archaea</td><td>Halobacterota</td><td>Methanocellia</td><td>0.000000e+00</td></tr>\n",
       "</tbody>\n",
       "</table>\n"
      ],
      "text/latex": [
       "A tibble: 6 × 7\n",
       "\\begin{tabular}{lllllll}\n",
       " OTU & psf\\_type & depth & Kingdom & Phylum & Class & Abundance\\\\\n",
       " <chr> & <fct> & <fct> & <chr> & <chr> & <chr> & <dbl>\\\\\n",
       "\\hline\n",
       "\t ASV\\_4694 & Burnt  & 0-5    & Archaea & Halobacterota & Methanocellia & 1.169682e-03\\\\\n",
       "\t ASV\\_4694 & Burnt  & 35-40  & Archaea & Halobacterota & Methanocellia & 2.826456e-04\\\\\n",
       "\t ASV\\_4694 & Burnt  & 95-100 & Archaea & Halobacterota & Methanocellia & 4.938272e-04\\\\\n",
       "\t ASV\\_4694 & Intact & 0-5    & Archaea & Halobacterota & Methanocellia & 8.541168e-05\\\\\n",
       "\t ASV\\_4694 & Intact & 35-40  & Archaea & Halobacterota & Methanocellia & 0.000000e+00\\\\\n",
       "\t ASV\\_4694 & Intact & 95-100 & Archaea & Halobacterota & Methanocellia & 0.000000e+00\\\\\n",
       "\\end{tabular}\n"
      ],
      "text/markdown": [
       "\n",
       "A tibble: 6 × 7\n",
       "\n",
       "| OTU &lt;chr&gt; | psf_type &lt;fct&gt; | depth &lt;fct&gt; | Kingdom &lt;chr&gt; | Phylum &lt;chr&gt; | Class &lt;chr&gt; | Abundance &lt;dbl&gt; |\n",
       "|---|---|---|---|---|---|---|\n",
       "| ASV_4694 | Burnt  | 0-5    | Archaea | Halobacterota | Methanocellia | 1.169682e-03 |\n",
       "| ASV_4694 | Burnt  | 35-40  | Archaea | Halobacterota | Methanocellia | 2.826456e-04 |\n",
       "| ASV_4694 | Burnt  | 95-100 | Archaea | Halobacterota | Methanocellia | 4.938272e-04 |\n",
       "| ASV_4694 | Intact | 0-5    | Archaea | Halobacterota | Methanocellia | 8.541168e-05 |\n",
       "| ASV_4694 | Intact | 35-40  | Archaea | Halobacterota | Methanocellia | 0.000000e+00 |\n",
       "| ASV_4694 | Intact | 95-100 | Archaea | Halobacterota | Methanocellia | 0.000000e+00 |\n",
       "\n"
      ],
      "text/plain": [
       "  OTU      psf_type depth  Kingdom Phylum        Class         Abundance   \n",
       "1 ASV_4694 Burnt    0-5    Archaea Halobacterota Methanocellia 1.169682e-03\n",
       "2 ASV_4694 Burnt    35-40  Archaea Halobacterota Methanocellia 2.826456e-04\n",
       "3 ASV_4694 Burnt    95-100 Archaea Halobacterota Methanocellia 4.938272e-04\n",
       "4 ASV_4694 Intact   0-5    Archaea Halobacterota Methanocellia 8.541168e-05\n",
       "5 ASV_4694 Intact   35-40  Archaea Halobacterota Methanocellia 0.000000e+00\n",
       "6 ASV_4694 Intact   95-100 Archaea Halobacterota Methanocellia 0.000000e+00"
      ]
     },
     "metadata": {},
     "output_type": "display_data"
    }
   ],
   "source": [
    "btp_fire_ps %>%\n",
    "  subset_taxa(., Kingdom == \"Archaea\") %>%\n",
    "  transform_sample_counts(., function(x) x / sum(x)) %>%\n",
    "  psmelt %>%\n",
    "  group_by(OTU, psf_type, depth, Kingdom, Phylum, Class) %>%\n",
    "  reframe(Abundance = mean(Abundance)) %>%\n",
    "  filter(OTU %in% c(\"ASV_4694\"))"
   ]
  },
  {
   "cell_type": "code",
   "execution_count": 26,
   "id": "f7394f16-c761-4790-949e-2a41448a7795",
   "metadata": {},
   "outputs": [],
   "source": [
    "btp_fire_ps %>%\n",
    "  subset_taxa(., Kingdom == \"Archaea\") %>%\n",
    "  tax_table %>%\n",
    "  data.frame %>%\n",
    "  rownames_to_column(\"ASV\") %>%\n",
    "  filter(Phylum != \"NA\" & Phylum != \"Nanoarchaeota\") %>%\n",
    "  select(ASV, Class) %>%\n",
    "  write.csv(\"~/Desktop/arc_class.csv\")"
   ]
  },
  {
   "cell_type": "code",
   "execution_count": 5,
   "id": "64aa29fa-0abd-45fd-a976-8c56f3d691b6",
   "metadata": {},
   "outputs": [],
   "source": [
    "## hellinger-transformed archaeal counts\n",
    "archaea_htf <- btp_fire_ps %>%\n",
    "  subset_taxa(., Kingdom == \"Archaea\") %>%\n",
    "  transform_sample_counts(., function(x) sqrt(x / sum(x))) %>%\n",
    "  otu_table(.) %>%\n",
    "  data.frame"
   ]
  },
  {
   "cell_type": "code",
   "execution_count": 6,
   "id": "81757e36-d733-44e1-8c30-aa4723b7e7b2",
   "metadata": {},
   "outputs": [],
   "source": [
    "## import environmental data\n",
    "btp_env_depth <- read.csv(file.path(data, \"1_metadata\", \"2020_btp_depth_env_data.csv\"))"
   ]
  },
  {
   "cell_type": "code",
   "execution_count": 7,
   "id": "396469b8-d6da-4e28-9cb1-41eacbe6514c",
   "metadata": {},
   "outputs": [],
   "source": [
    "## subset and log-transform variable\n",
    "btp_env_depth_std <- btp_env_depth %>%\n",
    "  select(-one_of(\"psf_type\", \"depth\", \"TDS\", \"salinity\")) %>%\n",
    "  column_to_rownames(\"sample\") %>%\n",
    "  mutate_at(vars(-pH), log) %>%\n",
    "  decostand(., method = \"standardize\")"
   ]
  },
  {
   "cell_type": "code",
   "execution_count": 8,
   "id": "8e0836a8-55e0-46ad-a004-d755be660b81",
   "metadata": {},
   "outputs": [
    {
     "data": {
      "text/html": [
       "<table class=\"dataframe\">\n",
       "<caption>A anova.cca: 2 × 4</caption>\n",
       "<thead>\n",
       "\t<tr><th></th><th scope=col>Df</th><th scope=col>Variance</th><th scope=col>F</th><th scope=col>Pr(&gt;F)</th></tr>\n",
       "\t<tr><th></th><th scope=col>&lt;dbl&gt;</th><th scope=col>&lt;dbl&gt;</th><th scope=col>&lt;dbl&gt;</th><th scope=col>&lt;dbl&gt;</th></tr>\n",
       "</thead>\n",
       "<tbody>\n",
       "\t<tr><th scope=row>Model</th><td> 4</td><td>0.1489838</td><td>1.851254</td><td>0.023</td></tr>\n",
       "\t<tr><th scope=row>Residual</th><td>19</td><td>0.3822669</td><td>      NA</td><td>   NA</td></tr>\n",
       "</tbody>\n",
       "</table>\n"
      ],
      "text/latex": [
       "A anova.cca: 2 × 4\n",
       "\\begin{tabular}{r|llll}\n",
       "  & Df & Variance & F & Pr(>F)\\\\\n",
       "  & <dbl> & <dbl> & <dbl> & <dbl>\\\\\n",
       "\\hline\n",
       "\tModel &  4 & 0.1489838 & 1.851254 & 0.023\\\\\n",
       "\tResidual & 19 & 0.3822669 &       NA &    NA\\\\\n",
       "\\end{tabular}\n"
      ],
      "text/markdown": [
       "\n",
       "A anova.cca: 2 × 4\n",
       "\n",
       "| <!--/--> | Df &lt;dbl&gt; | Variance &lt;dbl&gt; | F &lt;dbl&gt; | Pr(&gt;F) &lt;dbl&gt; |\n",
       "|---|---|---|---|---|\n",
       "| Model |  4 | 0.1489838 | 1.851254 | 0.023 |\n",
       "| Residual | 19 | 0.3822669 |       NA |    NA |\n",
       "\n"
      ],
      "text/plain": [
       "         Df Variance  F        Pr(>F)\n",
       "Model     4 0.1489838 1.851254 0.023 \n",
       "Residual 19 0.3822669       NA    NA "
      ]
     },
     "metadata": {},
     "output_type": "display_data"
    }
   ],
   "source": [
    "## redundancy analysis\n",
    "## which peat water variables explain compositional variability?\n",
    "archaea_htf_rda <- rda(archaea_htf ~ ., btp_env_depth_std)\n",
    "anova(archaea_htf_rda)\n",
    "archaea_htf_rda_adjR2 <- RsquareAdj(archaea_htf_rda)$adj.r.squared"
   ]
  },
  {
   "cell_type": "code",
   "execution_count": 9,
   "id": "da42021b-6e9a-40e1-88a7-940eb608f01d",
   "metadata": {},
   "outputs": [
    {
     "name": "stdout",
     "output_type": "stream",
     "text": [
      "Procedure stopped (alpha criteria): pvalue for variable 3 is 0.151300 (> 0.050000)\n"
     ]
    },
    {
     "data": {
      "text/html": [
       "<table class=\"dataframe\">\n",
       "<caption>A data.frame: 2 × 7</caption>\n",
       "<thead>\n",
       "\t<tr><th></th><th scope=col>variables</th><th scope=col>order</th><th scope=col>R2</th><th scope=col>R2Cum</th><th scope=col>AdjR2Cum</th><th scope=col>F</th><th scope=col>pvalue</th></tr>\n",
       "\t<tr><th></th><th scope=col>&lt;I&lt;chr&gt;&gt;</th><th scope=col>&lt;int&gt;</th><th scope=col>&lt;dbl&gt;</th><th scope=col>&lt;dbl&gt;</th><th scope=col>&lt;dbl&gt;</th><th scope=col>&lt;dbl&gt;</th><th scope=col>&lt;dbl&gt;</th></tr>\n",
       "</thead>\n",
       "<tbody>\n",
       "\t<tr><th scope=row>1</th><td>DO               </td><td>4</td><td>0.12031740</td><td>0.1203174</td><td>0.08033183</td><td>3.009020</td><td>0.0145</td></tr>\n",
       "\t<tr><th scope=row>2</th><td>water_temperature</td><td>1</td><td>0.08841606</td><td>0.2087335</td><td>0.13337475</td><td>2.346538</td><td>0.0400</td></tr>\n",
       "</tbody>\n",
       "</table>\n"
      ],
      "text/latex": [
       "A data.frame: 2 × 7\n",
       "\\begin{tabular}{r|lllllll}\n",
       "  & variables & order & R2 & R2Cum & AdjR2Cum & F & pvalue\\\\\n",
       "  & <I<chr>> & <int> & <dbl> & <dbl> & <dbl> & <dbl> & <dbl>\\\\\n",
       "\\hline\n",
       "\t1 & DO                & 4 & 0.12031740 & 0.1203174 & 0.08033183 & 3.009020 & 0.0145\\\\\n",
       "\t2 & water\\_temperature & 1 & 0.08841606 & 0.2087335 & 0.13337475 & 2.346538 & 0.0400\\\\\n",
       "\\end{tabular}\n"
      ],
      "text/markdown": [
       "\n",
       "A data.frame: 2 × 7\n",
       "\n",
       "| <!--/--> | variables &lt;I&lt;chr&gt;&gt; | order &lt;int&gt; | R2 &lt;dbl&gt; | R2Cum &lt;dbl&gt; | AdjR2Cum &lt;dbl&gt; | F &lt;dbl&gt; | pvalue &lt;dbl&gt; |\n",
       "|---|---|---|---|---|---|---|---|\n",
       "| 1 | DO                | 4 | 0.12031740 | 0.1203174 | 0.08033183 | 3.009020 | 0.0145 |\n",
       "| 2 | water_temperature | 1 | 0.08841606 | 0.2087335 | 0.13337475 | 2.346538 | 0.0400 |\n",
       "\n"
      ],
      "text/plain": [
       "  variables         order R2         R2Cum     AdjR2Cum   F        pvalue\n",
       "1 DO                4     0.12031740 0.1203174 0.08033183 3.009020 0.0145\n",
       "2 water_temperature 1     0.08841606 0.2087335 0.13337475 2.346538 0.0400"
      ]
     },
     "metadata": {},
     "output_type": "display_data"
    }
   ],
   "source": [
    "## forward selection\n",
    "## together, DO and temperature explain 13.3% variation\n",
    "archaea_forward_sel <- forward.sel(Y = archaea_htf, X = btp_env_depth_std, nperm = 9999, verbose = FALSE)\n",
    "archaea_forward_sel"
   ]
  },
  {
   "cell_type": "code",
   "execution_count": 10,
   "id": "03aca63e-06b5-4112-9adf-3cff7a161fa5",
   "metadata": {},
   "outputs": [],
   "source": [
    "## hellinger-transformed bacterial counts\n",
    "bacteria_htf <- btp_fire_ps %>%\n",
    "  subset_taxa(., Kingdom == \"Bacteria\") %>%\n",
    "  transform_sample_counts(., function(x) sqrt(x / sum(x))) %>%\n",
    "  otu_table(.) %>%\n",
    "  data.frame"
   ]
  },
  {
   "cell_type": "code",
   "execution_count": 11,
   "id": "a3052f2e-6269-41b3-b550-485765e538b3",
   "metadata": {},
   "outputs": [
    {
     "data": {
      "text/html": [
       "<table class=\"dataframe\">\n",
       "<caption>A anova.cca: 2 × 4</caption>\n",
       "<thead>\n",
       "\t<tr><th></th><th scope=col>Df</th><th scope=col>Variance</th><th scope=col>F</th><th scope=col>Pr(&gt;F)</th></tr>\n",
       "\t<tr><th></th><th scope=col>&lt;dbl&gt;</th><th scope=col>&lt;dbl&gt;</th><th scope=col>&lt;dbl&gt;</th><th scope=col>&lt;dbl&gt;</th></tr>\n",
       "</thead>\n",
       "<tbody>\n",
       "\t<tr><th scope=row>Model</th><td> 4</td><td>0.1208650</td><td>1.465793</td><td>0.05</td></tr>\n",
       "\t<tr><th scope=row>Residual</th><td>19</td><td>0.3916712</td><td>      NA</td><td>  NA</td></tr>\n",
       "</tbody>\n",
       "</table>\n"
      ],
      "text/latex": [
       "A anova.cca: 2 × 4\n",
       "\\begin{tabular}{r|llll}\n",
       "  & Df & Variance & F & Pr(>F)\\\\\n",
       "  & <dbl> & <dbl> & <dbl> & <dbl>\\\\\n",
       "\\hline\n",
       "\tModel &  4 & 0.1208650 & 1.465793 & 0.05\\\\\n",
       "\tResidual & 19 & 0.3916712 &       NA &   NA\\\\\n",
       "\\end{tabular}\n"
      ],
      "text/markdown": [
       "\n",
       "A anova.cca: 2 × 4\n",
       "\n",
       "| <!--/--> | Df &lt;dbl&gt; | Variance &lt;dbl&gt; | F &lt;dbl&gt; | Pr(&gt;F) &lt;dbl&gt; |\n",
       "|---|---|---|---|---|\n",
       "| Model |  4 | 0.1208650 | 1.465793 | 0.05 |\n",
       "| Residual | 19 | 0.3916712 |       NA |   NA |\n",
       "\n"
      ],
      "text/plain": [
       "         Df Variance  F        Pr(>F)\n",
       "Model     4 0.1208650 1.465793 0.05  \n",
       "Residual 19 0.3916712       NA   NA  "
      ]
     },
     "metadata": {},
     "output_type": "display_data"
    }
   ],
   "source": [
    "## redundancy analysis\n",
    "## which peat water variables explain compositional variability?\n",
    "bacteria_htf_rda <- rda(bacteria_htf ~ ., btp_env_depth_std)\n",
    "anova(bacteria_htf_rda)\n",
    "bacteria_htf_rda_adjR2 <- RsquareAdj(bacteria_htf_rda)$adj.r.squared"
   ]
  },
  {
   "cell_type": "code",
   "execution_count": 12,
   "id": "9e27abac-8bff-47f6-9e29-de9552e3984d",
   "metadata": {},
   "outputs": [
    {
     "name": "stdout",
     "output_type": "stream",
     "text": [
      "Procedure stopped (alpha criteria): pvalue for variable 3 is 0.315500 (> 0.050000)\n"
     ]
    },
    {
     "data": {
      "text/html": [
       "<table class=\"dataframe\">\n",
       "<caption>A data.frame: 2 × 7</caption>\n",
       "<thead>\n",
       "\t<tr><th></th><th scope=col>variables</th><th scope=col>order</th><th scope=col>R2</th><th scope=col>R2Cum</th><th scope=col>AdjR2Cum</th><th scope=col>F</th><th scope=col>pvalue</th></tr>\n",
       "\t<tr><th></th><th scope=col>&lt;I&lt;chr&gt;&gt;</th><th scope=col>&lt;int&gt;</th><th scope=col>&lt;dbl&gt;</th><th scope=col>&lt;dbl&gt;</th><th scope=col>&lt;dbl&gt;</th><th scope=col>&lt;dbl&gt;</th><th scope=col>&lt;dbl&gt;</th></tr>\n",
       "</thead>\n",
       "<tbody>\n",
       "\t<tr><th scope=row>1</th><td>water_temperature</td><td>1</td><td>0.09189847</td><td>0.09189847</td><td>0.05062113</td><td>2.226366</td><td>0.0232</td></tr>\n",
       "\t<tr><th scope=row>2</th><td>DO               </td><td>4</td><td>0.07946169</td><td>0.17136017</td><td>0.09244209</td><td>2.013777</td><td>0.0408</td></tr>\n",
       "</tbody>\n",
       "</table>\n"
      ],
      "text/latex": [
       "A data.frame: 2 × 7\n",
       "\\begin{tabular}{r|lllllll}\n",
       "  & variables & order & R2 & R2Cum & AdjR2Cum & F & pvalue\\\\\n",
       "  & <I<chr>> & <int> & <dbl> & <dbl> & <dbl> & <dbl> & <dbl>\\\\\n",
       "\\hline\n",
       "\t1 & water\\_temperature & 1 & 0.09189847 & 0.09189847 & 0.05062113 & 2.226366 & 0.0232\\\\\n",
       "\t2 & DO                & 4 & 0.07946169 & 0.17136017 & 0.09244209 & 2.013777 & 0.0408\\\\\n",
       "\\end{tabular}\n"
      ],
      "text/markdown": [
       "\n",
       "A data.frame: 2 × 7\n",
       "\n",
       "| <!--/--> | variables &lt;I&lt;chr&gt;&gt; | order &lt;int&gt; | R2 &lt;dbl&gt; | R2Cum &lt;dbl&gt; | AdjR2Cum &lt;dbl&gt; | F &lt;dbl&gt; | pvalue &lt;dbl&gt; |\n",
       "|---|---|---|---|---|---|---|---|\n",
       "| 1 | water_temperature | 1 | 0.09189847 | 0.09189847 | 0.05062113 | 2.226366 | 0.0232 |\n",
       "| 2 | DO                | 4 | 0.07946169 | 0.17136017 | 0.09244209 | 2.013777 | 0.0408 |\n",
       "\n"
      ],
      "text/plain": [
       "  variables         order R2         R2Cum      AdjR2Cum   F        pvalue\n",
       "1 water_temperature 1     0.09189847 0.09189847 0.05062113 2.226366 0.0232\n",
       "2 DO                4     0.07946169 0.17136017 0.09244209 2.013777 0.0408"
      ]
     },
     "metadata": {},
     "output_type": "display_data"
    }
   ],
   "source": [
    "## forward selection\n",
    "## together, DO and temperature explain 9.2% variation\n",
    "## https://www.davidzeleny.net/anadat-r/doku.php/en:forward_sel_examples\n",
    "## https://r.qcbs.ca/workshop10/book-en/exploration.html#exploration\n",
    "bacteria_forward_sel <- forward.sel(Y = bacteria_htf, X = btp_env_depth_std, nperm = 9999, verbose = FALSE)\n",
    "bacteria_forward_sel"
   ]
  }
 ],
 "metadata": {
  "kernelspec": {
   "display_name": "R",
   "language": "R",
   "name": "ir"
  },
  "language_info": {
   "codemirror_mode": "r",
   "file_extension": ".r",
   "mimetype": "text/x-r-source",
   "name": "R",
   "pygments_lexer": "r",
   "version": "4.2.2"
  }
 },
 "nbformat": 4,
 "nbformat_minor": 5
}
